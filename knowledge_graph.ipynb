{
  "nbformat": 4,
  "nbformat_minor": 0,
  "metadata": {
    "colab": {
      "name": "knowledge_graph.ipynb",
      "provenance": [],
      "collapsed_sections": [
        "vOTZ_QH8tNUt",
        "sinY-Y7XtUcf"
      ],
      "authorship_tag": "ABX9TyNa5OgX43HcLFnXwHqRE1FO",
      "include_colab_link": true
    },
    "kernelspec": {
      "name": "python3",
      "display_name": "Python 3"
    },
    "language_info": {
      "name": "python"
    }
  },
  "cells": [
    {
      "cell_type": "markdown",
      "metadata": {
        "id": "view-in-github",
        "colab_type": "text"
      },
      "source": [
        "<a href=\"https://colab.research.google.com/github/techmoritzdee/HWR_Berlin/blob/main/knowledge_graph.ipynb\" target=\"_parent\"><img src=\"https://colab.research.google.com/assets/colab-badge.svg\" alt=\"Open In Colab\"/></a>"
      ]
    },
    {
      "cell_type": "markdown",
      "source": [
        "# Packages"
      ],
      "metadata": {
        "id": "Vj2AWevyOY4l"
      }
    },
    {
      "cell_type": "code",
      "execution_count": 2,
      "metadata": {
        "id": "RM4AYSEl0V1q"
      },
      "outputs": [],
      "source": [
        "## General\n",
        "import pandas as pd\n",
        "import numpy as np\n",
        "import bs4\n",
        "import requests\n",
        "\n",
        "## Text Seperation\n",
        "import re\n",
        "import spacy\n",
        "from spacy import displacy\n",
        "nlp = spacy.load('en_core_web_sm')\n",
        "import pickle\n",
        "\n",
        "from spacy.matcher import Matcher \n",
        "from spacy.tokens import Span \n",
        "\n",
        "## Visualization\n",
        "import networkx as nx\n",
        "\n",
        "import seaborn as sns\n",
        "import matplotlib.pyplot as plt\n",
        "from tqdm import tqdm\n",
        "\n",
        "pd.set_option('display.max_colwidth', 200)\n",
        "%matplotlib inline\n",
        "pd.set_option('display.max_columns', None)"
      ]
    },
    {
      "cell_type": "code",
      "source": [
        "from pyvis.network import Network\n",
        "import IPython"
      ],
      "metadata": {
        "id": "rAj2WFm5ojJl"
      },
      "execution_count": 5,
      "outputs": []
    },
    {
      "cell_type": "code",
      "source": [
        "!pip install pyvis"
      ],
      "metadata": {
        "id": "Th5-7F2Rolh4",
        "colab": {
          "base_uri": "https://localhost:8080/"
        },
        "outputId": "eef3f5b3-48d2-41e9-b70c-eefc50933780"
      },
      "execution_count": 4,
      "outputs": [
        {
          "output_type": "stream",
          "name": "stdout",
          "text": [
            "Looking in indexes: https://pypi.org/simple, https://us-python.pkg.dev/colab-wheels/public/simple/\n",
            "Collecting pyvis\n",
            "  Downloading pyvis-0.2.1.tar.gz (21 kB)\n",
            "Requirement already satisfied: jinja2>=2.9.6 in /usr/local/lib/python3.7/dist-packages (from pyvis) (2.11.3)\n",
            "Requirement already satisfied: networkx>=1.11 in /usr/local/lib/python3.7/dist-packages (from pyvis) (2.6.3)\n",
            "Requirement already satisfied: ipython>=5.3.0 in /usr/local/lib/python3.7/dist-packages (from pyvis) (5.5.0)\n",
            "Collecting jsonpickle>=1.4.1\n",
            "  Downloading jsonpickle-2.2.0-py2.py3-none-any.whl (39 kB)\n",
            "Requirement already satisfied: setuptools>=18.5 in /usr/local/lib/python3.7/dist-packages (from ipython>=5.3.0->pyvis) (57.4.0)\n",
            "Requirement already satisfied: pexpect in /usr/local/lib/python3.7/dist-packages (from ipython>=5.3.0->pyvis) (4.8.0)\n",
            "Requirement already satisfied: simplegeneric>0.8 in /usr/local/lib/python3.7/dist-packages (from ipython>=5.3.0->pyvis) (0.8.1)\n",
            "Requirement already satisfied: pygments in /usr/local/lib/python3.7/dist-packages (from ipython>=5.3.0->pyvis) (2.6.1)\n",
            "Requirement already satisfied: traitlets>=4.2 in /usr/local/lib/python3.7/dist-packages (from ipython>=5.3.0->pyvis) (5.1.1)\n",
            "Requirement already satisfied: decorator in /usr/local/lib/python3.7/dist-packages (from ipython>=5.3.0->pyvis) (4.4.2)\n",
            "Requirement already satisfied: pickleshare in /usr/local/lib/python3.7/dist-packages (from ipython>=5.3.0->pyvis) (0.7.5)\n",
            "Requirement already satisfied: prompt-toolkit<2.0.0,>=1.0.4 in /usr/local/lib/python3.7/dist-packages (from ipython>=5.3.0->pyvis) (1.0.18)\n",
            "Requirement already satisfied: MarkupSafe>=0.23 in /usr/local/lib/python3.7/dist-packages (from jinja2>=2.9.6->pyvis) (2.0.1)\n",
            "Requirement already satisfied: importlib-metadata in /usr/local/lib/python3.7/dist-packages (from jsonpickle>=1.4.1->pyvis) (4.11.4)\n",
            "Requirement already satisfied: six>=1.9.0 in /usr/local/lib/python3.7/dist-packages (from prompt-toolkit<2.0.0,>=1.0.4->ipython>=5.3.0->pyvis) (1.15.0)\n",
            "Requirement already satisfied: wcwidth in /usr/local/lib/python3.7/dist-packages (from prompt-toolkit<2.0.0,>=1.0.4->ipython>=5.3.0->pyvis) (0.2.5)\n",
            "Requirement already satisfied: zipp>=0.5 in /usr/local/lib/python3.7/dist-packages (from importlib-metadata->jsonpickle>=1.4.1->pyvis) (3.8.0)\n",
            "Requirement already satisfied: typing-extensions>=3.6.4 in /usr/local/lib/python3.7/dist-packages (from importlib-metadata->jsonpickle>=1.4.1->pyvis) (4.1.1)\n",
            "Requirement already satisfied: ptyprocess>=0.5 in /usr/local/lib/python3.7/dist-packages (from pexpect->ipython>=5.3.0->pyvis) (0.7.0)\n",
            "Building wheels for collected packages: pyvis\n",
            "  Building wheel for pyvis (setup.py) ... \u001b[?25l\u001b[?25hdone\n",
            "  Created wheel for pyvis: filename=pyvis-0.2.1-py3-none-any.whl size=23688 sha256=e0d590f3a5f834fd6e7125aed507ddc417f2121a31fe25be1f84e2e26d06b010\n",
            "  Stored in directory: /root/.cache/pip/wheels/2a/8f/04/6340d46afc74f59cc857a594ca1a2a14a1f4cbd4fd6c2e9306\n",
            "Successfully built pyvis\n",
            "Installing collected packages: jsonpickle, pyvis\n",
            "Successfully installed jsonpickle-2.2.0 pyvis-0.2.1\n"
          ]
        }
      ]
    },
    {
      "cell_type": "code",
      "source": [
        "from google.colab import drive\n",
        "drive.mount('/content/drive')"
      ],
      "metadata": {
        "colab": {
          "base_uri": "https://localhost:8080/"
        },
        "id": "WR58vRcg0v_0",
        "outputId": "f11dcc38-99a9-4976-8fb1-1b0b892c446d"
      },
      "execution_count": 6,
      "outputs": [
        {
          "output_type": "stream",
          "name": "stdout",
          "text": [
            "Mounted at /content/drive\n"
          ]
        }
      ]
    },
    {
      "cell_type": "markdown",
      "source": [
        "# Functions & Classes"
      ],
      "metadata": {
        "id": "dptMqMzoOmAF"
      }
    },
    {
      "cell_type": "markdown",
      "source": [
        "## Knowledge Graph"
      ],
      "metadata": {
        "id": "-Hc3VmHtRMDf"
      }
    },
    {
      "cell_type": "markdown",
      "source": [
        "### Classes"
      ],
      "metadata": {
        "id": "byQJdOk_QhKh"
      }
    },
    {
      "cell_type": "code",
      "source": [
        "class KB():\n",
        "    def __init__(self):\n",
        "        self.entities = {}\n",
        "        self.relations = []\n",
        "        #self.path = r\"/content/drive/MyDrive/twsm/isontology.csv\"\n",
        "        #self.df = pd.read_csv(self.path, index_col=0)\n",
        "        self.ent_heads = []\n",
        "        self.ent_tails = []\n",
        "\n",
        "    def are_relations_equal(self, r1, r2):\n",
        "        return all(r1[attr] == r2[attr] for attr in [\"head\", \"tail\"])\n",
        "\n",
        "    def exists_relation(self, r1):\n",
        "        return any(self.are_relations_equal(r1, r2) for r2 in self.relations)\n",
        "\n",
        "    def add_relation(self, r):\n",
        "        \n",
        "\n",
        "        if not self.exists_relation(r):\n",
        "            self.relations.append(r)\n",
        "        \n",
        "        candidate_entities = [r[\"head\"], r[\"tail\"]]\n",
        "\n",
        "        # manage new entities\n",
        "        for ent in candidate_entities:\n",
        "            self.add_entity_relation(ent)\n",
        "    \n",
        "\n",
        "    def add_entity_relation(self, e):\n",
        "        self.entities[e] = e\n",
        "      \n",
        "    def add_entity(self, e):\n",
        "        ent = self.entity_linking(e)\n",
        "        self.entities[ent] = ent\n",
        "\n",
        "\n",
        "    def print(self):\n",
        "        print(\"Relations:\")\n",
        "        for r in self.relations:\n",
        "          print(f\"  {r}\")"
      ],
      "metadata": {
        "id": "6ZbwBWWZQkS0"
      },
      "execution_count": 9,
      "outputs": []
    },
    {
      "cell_type": "markdown",
      "source": [
        "### Function"
      ],
      "metadata": {
        "id": "2lSTIvsoRTI0"
      }
    },
    {
      "cell_type": "code",
      "source": [
        "def get_relations(ent_id, lv1, lv2, lv3, lv4, lv5, lv6, lv7, lv8, lv9, lv10):\n",
        "  list_lv = [lv1, lv2, lv3, lv4, lv5, lv6, lv7, lv8, lv9, lv10]\n",
        "  if ent_id not in list_lv:\n",
        "    return None\n",
        "  elif not ent_id == lv1:  \n",
        "    ent2 = list_lv[list_lv.index(ent_id) -1]\n",
        "    x = {\"head\":ent2, \"type\":\"rel\", \"tail\":ent_id}\n",
        "    kb.add_relation(x)\n",
        "    return None\n",
        "  else:\n",
        "    x = {\"head\":ent_id, \"type\":\"rel\", \"tail\":ent_id}\n",
        "    kb.add_relation(x)\n",
        "    return None"
      ],
      "metadata": {
        "id": "RBGnY7M_RygW"
      },
      "execution_count": 10,
      "outputs": []
    },
    {
      "cell_type": "code",
      "source": [
        "def save_network_html(kb, filename=\"network.html\"):\n",
        "    # create network\n",
        "    net = Network(directed=True, width=\"700px\", height=\"700px\", bgcolor=\"#eeeeee\")\n",
        "\n",
        "    # nodes\n",
        "    color_entity = \"#FF0000\"\n",
        "    for e in kb.entities:\n",
        "        net.add_node(e, shape=\"circle\", color=color_entity)\n",
        "\n",
        "    # edges\n",
        "    for r in kb.relations:\n",
        "        net.add_edge(r[\"head\"], r[\"tail\"],\n",
        "                    title=r[\"type\"], label=r[\"type\"])\n",
        "        \n",
        "    # save network\n",
        "    net.repulsion(\n",
        "        node_distance=200,\n",
        "        central_gravity=0.2,\n",
        "        spring_length=200,\n",
        "        spring_strength=0.05,\n",
        "        damping=0.09\n",
        "    )\n",
        "    net.set_edge_smooth('dynamic')\n",
        "    net.show(filename)\n",
        "\n",
        "    return net"
      ],
      "metadata": {
        "id": "7MGMW8_6RXA7"
      },
      "execution_count": 90,
      "outputs": []
    },
    {
      "cell_type": "markdown",
      "source": [
        "## Exploration"
      ],
      "metadata": {
        "id": "C8GoUs6uRZ9K"
      }
    },
    {
      "cell_type": "markdown",
      "source": [
        "### Graphics"
      ],
      "metadata": {
        "id": "vOTZ_QH8tNUt"
      }
    },
    {
      "cell_type": "code",
      "source": [
        "def get_relation(sent):\n",
        "\n",
        "  doc = nlp(sent)\n",
        "\n",
        "  # Matcher class object \n",
        "  matcher = Matcher(nlp.vocab)\n",
        "\n",
        "  #define the pattern \n",
        "  pattern = [{'DEP':'ROOT'}, \n",
        "            {'DEP':'prep','OP':\"?\"},\n",
        "            {'DEP':'agent','OP':\"?\"},  \n",
        "            {'POS':'ADJ','OP':\"?\"}] \n",
        "\n",
        "  matcher.add(\"matching_1\", None, pattern) \n",
        "\n",
        "  matches = matcher(doc)\n",
        "  k = len(matches) - 1\n",
        "\n",
        "  span = doc[matches[k][1]:matches[k][2]] \n",
        "\n",
        "  return(span.text)"
      ],
      "metadata": {
        "id": "iFUBqSeI0gPr"
      },
      "execution_count": 12,
      "outputs": []
    },
    {
      "cell_type": "markdown",
      "source": [
        "### Plotting"
      ],
      "metadata": {
        "id": "sinY-Y7XtUcf"
      }
    },
    {
      "cell_type": "code",
      "source": [
        "def big_plotter(dataframe, column):\n",
        "  fig, ax1 = plt.subplots(figsize=(20,3))\n",
        "  graph = sns.countplot(ax=ax1,x=column, data=dataframe)\n",
        "  graph.set_xticklabels(graph.get_xticklabels(),rotation=90)\n",
        "  i=0\n",
        "  for p in graph.patches:\n",
        "      height = p.get_height()\n",
        "      graph.text(p.get_x()+p.get_width()/2., height + 0.1,\n",
        "          column.value_counts()[i],ha=\"center\")\n",
        "      i += 1"
      ],
      "metadata": {
        "id": "I_w___gEtWw1"
      },
      "execution_count": 13,
      "outputs": []
    },
    {
      "cell_type": "markdown",
      "source": [
        "# Data Imports"
      ],
      "metadata": {
        "id": "WYOhooA0OsEr"
      }
    },
    {
      "cell_type": "code",
      "source": [
        "papers = pd.read_csv(\"/content/drive/MyDrive/TWSM_Visual/papers.csv\")\n",
        "entities = pd.read_csv(\"/content/drive/MyDrive/TWSM_Visual/entities.csv\")"
      ],
      "metadata": {
        "colab": {
          "base_uri": "https://localhost:8080/"
        },
        "id": "uLFmc8fNtlfW",
        "outputId": "f122da67-14ec-4581-f95b-320434cbd070"
      },
      "execution_count": 14,
      "outputs": [
        {
          "output_type": "stream",
          "name": "stderr",
          "text": [
            "/usr/local/lib/python3.7/dist-packages/IPython/core/interactiveshell.py:2882: DtypeWarning: Columns (20,28) have mixed types.Specify dtype option on import or set low_memory=False.\n",
            "  exec(code_obj, self.user_global_ns, self.user_ns)\n"
          ]
        }
      ]
    },
    {
      "cell_type": "code",
      "source": [
        "papers_new = papers[['article_id','journal_akronym']]"
      ],
      "metadata": {
        "id": "yxwIwkvptzXG"
      },
      "execution_count": 15,
      "outputs": []
    },
    {
      "cell_type": "code",
      "source": [
        "sentences_path = r'/content/drive/MyDrive/2022_Analytics Lab Student Projects/Data/All Topics/Fulltext of Corpus/sentences.csv'"
      ],
      "metadata": {
        "id": "HgwkkUUEaXIv"
      },
      "execution_count": 16,
      "outputs": []
    },
    {
      "cell_type": "code",
      "source": [
        "dt = pd.read_csv(sentences_path)"
      ],
      "metadata": {
        "id": "rHs0E886aa9V"
      },
      "execution_count": 17,
      "outputs": []
    },
    {
      "cell_type": "code",
      "source": [
        "#dt.head(2)"
      ],
      "metadata": {
        "id": "pW_HC60uafxG"
      },
      "execution_count": 18,
      "outputs": []
    },
    {
      "cell_type": "code",
      "source": [
        "real_dt = dt.merge(entities, how='inner', on='sentence_id')"
      ],
      "metadata": {
        "id": "6GOFwUera2dW"
      },
      "execution_count": 19,
      "outputs": []
    },
    {
      "cell_type": "code",
      "source": [
        "ent_train = entities.head(100000)"
      ],
      "metadata": {
        "id": "MqBrCDo0eKs7"
      },
      "execution_count": 20,
      "outputs": []
    },
    {
      "cell_type": "code",
      "source": [
        "json_ont = pd.read_json('/content/drive/MyDrive/2022_Analytics Lab Student Projects/Data/All Topics/Ontology/isontology.json')"
      ],
      "metadata": {
        "id": "oPJG6ac5h928"
      },
      "execution_count": 21,
      "outputs": []
    },
    {
      "cell_type": "code",
      "source": [
        "json_ont.iloc[0]"
      ],
      "metadata": {
        "colab": {
          "base_uri": "https://localhost:8080/"
        },
        "id": "WCkoBGdGiI0O",
        "outputId": "c5665951-63eb-490d-e100-a6dd3a46df8e"
      },
      "execution_count": 22,
      "outputs": [
        {
          "output_type": "execute_result",
          "data": {
            "text/plain": [
              "root    {'IS topic': [{'IS sourcing': [{'outsourcing': ['offshoring', 'onshoring', 'nearshoring', {'business process outsourcing': ['knowledge process outsourcing', 'legal process outsourcing']}]}, 'insou...\n",
              "Name: 0, dtype: object"
            ]
          },
          "metadata": {},
          "execution_count": 22
        }
      ]
    },
    {
      "cell_type": "code",
      "source": [
        "with open('/content/drive/MyDrive/TWSM_Visual/ent_new.pickle', 'rb') as handle:\n",
        "    ent_new = pickle.load(handle)"
      ],
      "metadata": {
        "id": "BtnQ1NGc0zOl"
      },
      "execution_count": 23,
      "outputs": []
    },
    {
      "cell_type": "code",
      "source": [
        " with open('/content/drive/MyDrive/TWSM_Visual/df_final.pickle', 'rb') as handle:\n",
        "    df_final = pickle.load(handle)"
      ],
      "metadata": {
        "id": "MV3G0jCW1nwl"
      },
      "execution_count": 24,
      "outputs": []
    },
    {
      "cell_type": "code",
      "source": [
        "citings = pd.read_csv('/content/drive/MyDrive/TWSM_Visual/citations.csv')"
      ],
      "metadata": {
        "id": "sC8MTC-3mnVR"
      },
      "execution_count": 25,
      "outputs": []
    },
    {
      "cell_type": "code",
      "source": [
        "ent_art = entities[[\"article_id\",\"para_id\",\"sentence_id\",\"label\",\"ent_id\"]]"
      ],
      "metadata": {
        "id": "njymV1WsRgOm"
      },
      "execution_count": 26,
      "outputs": []
    },
    {
      "cell_type": "code",
      "source": [
        "ent_final = pd.concat([ent_art,ent_new],axis=1)\n",
        "ent_final = pd.merge(ent_final,papers_new,how='left',on='article_id')"
      ],
      "metadata": {
        "id": "67HIiTtiRYmR"
      },
      "execution_count": 27,
      "outputs": []
    },
    {
      "cell_type": "code",
      "source": [
        "ontology = pd.read_csv(\"/content/drive/MyDrive/TWSM_Visual/isontology.txt\",sep='\\t')\n",
        "ontology[\"entity\"] = ontology.entity.apply(lambda x: str(x).replace('├──',''))\n",
        "ontology[\"entity\"] = ontology.entity.apply(lambda x: str(x).replace('│',''))\n",
        "ontology[\"entity\"] = ontology.entity.apply(lambda x: str(x).replace('└── ',''))\n",
        "ontology[\"entity\"] = ontology.entity.apply(lambda x: str(x).strip())"
      ],
      "metadata": {
        "id": "lzTs4N_Kt4r5"
      },
      "execution_count": 28,
      "outputs": []
    },
    {
      "cell_type": "code",
      "source": [
        "ont = ontology[\"entity\"].tolist()"
      ],
      "metadata": {
        "id": "SyXcO7H2udN2"
      },
      "execution_count": 29,
      "outputs": []
    },
    {
      "cell_type": "code",
      "source": [
        "matrix = pd.read_parquet('/content/drive/MyDrive/TWSM_Visual/matrix_count.parquet')"
      ],
      "metadata": {
        "id": "gSMxFIaZtmJZ"
      },
      "execution_count": 30,
      "outputs": []
    },
    {
      "cell_type": "markdown",
      "source": [
        "# Knowledge Graph"
      ],
      "metadata": {
        "id": "4IZGGPABQ-Ov"
      }
    },
    {
      "cell_type": "code",
      "source": [
        "kb = KB()"
      ],
      "metadata": {
        "id": "-S_snOBYn4O0"
      },
      "execution_count": 31,
      "outputs": []
    },
    {
      "cell_type": "code",
      "source": [
        "dic = {\"a\": [1,2,3,4,5], \"b\":[1,2,3,4,5]}\n",
        "\n",
        "df_test = pd.DataFrame(dic)"
      ],
      "metadata": {
        "id": "P3LitV1ml0r7"
      },
      "execution_count": 32,
      "outputs": []
    },
    {
      "cell_type": "code",
      "source": [
        "df_test[\"neu\"] = df_test.apply(lambda x: x[\"a\"] + x[\"b\"], axis = 1)"
      ],
      "metadata": {
        "id": "phpaPRhWmFRc"
      },
      "execution_count": 33,
      "outputs": []
    },
    {
      "cell_type": "code",
      "source": [
        "ent_train[\"test123\"] = ent_train.apply(lambda x: get_relations(x[\"ent_id\"], x[\"level_1\"], x[\"level_2\"], x[\"level_3\"], x[\"level_4\"], x[\"level_5\"], x[\"level_6\"], x[\"level_7\"], x[\"level_8\"], x[\"level_9\"], x[\"level_10\"]), axis=1)"
      ],
      "metadata": {
        "colab": {
          "base_uri": "https://localhost:8080/"
        },
        "id": "Wq7cOf6Eknkw",
        "outputId": "2d72e1bc-731a-4f7c-974d-300261be3912"
      },
      "execution_count": 34,
      "outputs": [
        {
          "output_type": "stream",
          "name": "stderr",
          "text": [
            "/usr/local/lib/python3.7/dist-packages/ipykernel_launcher.py:1: SettingWithCopyWarning: \n",
            "A value is trying to be set on a copy of a slice from a DataFrame.\n",
            "Try using .loc[row_indexer,col_indexer] = value instead\n",
            "\n",
            "See the caveats in the documentation: https://pandas.pydata.org/pandas-docs/stable/user_guide/indexing.html#returning-a-view-versus-a-copy\n",
            "  \"\"\"Entry point for launching an IPython kernel.\n"
          ]
        }
      ]
    },
    {
      "cell_type": "code",
      "source": [
        "kb.entities"
      ],
      "metadata": {
        "colab": {
          "base_uri": "https://localhost:8080/"
        },
        "id": "48IZyMBxlryr",
        "outputId": "8a9ce5c2-919b-4228-8654-3210d618f421"
      },
      "execution_count": 35,
      "outputs": [
        {
          "output_type": "execute_result",
          "data": {
            "text/plain": [
              "{'knowledge management': 'knowledge management',\n",
              " 'knowledge repository': 'knowledge repository',\n",
              " 'digital business': 'digital business',\n",
              " 'digital platform': 'digital platform',\n",
              " 'ERP software package': 'ERP software package',\n",
              " 'Salesforce.com': 'Salesforce.com',\n",
              " 'human centered design': 'human centered design',\n",
              " 'participatory design': 'participatory design',\n",
              " 'participant': 'participant',\n",
              " 'group participant': 'group participant',\n",
              " 'social media': 'social media',\n",
              " 'blog': 'blog',\n",
              " 'online community': 'online community',\n",
              " 'social media site': 'social media site',\n",
              " 'Reddit': 'Reddit',\n",
              " 'model link': 'model link',\n",
              " 'research hypothesis': 'research hypothesis',\n",
              " 'economic theory': 'economic theory',\n",
              " 'social exchange theory': 'social exchange theory',\n",
              " 'individual participant': 'individual participant',\n",
              " 'conceptual method': 'conceptual method',\n",
              " 'literature study': 'literature study',\n",
              " 'software license': 'software license',\n",
              " 'open source': 'open source',\n",
              " 'conceptual modelling': 'conceptual modelling',\n",
              " 'knowledge type': 'knowledge type',\n",
              " 'explicit knowledge': 'explicit knowledge',\n",
              " 'knowledge sharing': 'knowledge sharing',\n",
              " 'knowledge acquisition': 'knowledge acquisition',\n",
              " 'numbered hypothesis': 'numbered hypothesis',\n",
              " 'online word of mouth': 'online word of mouth',\n",
              " 'online review': 'online review',\n",
              " 'research method': 'research method',\n",
              " 'data collection method': 'data collection method',\n",
              " 'organizational impact': 'organizational impact',\n",
              " 'competitive advantage': 'competitive advantage',\n",
              " 'empirical qualitative method': 'empirical qualitative method',\n",
              " 'qualitative interview': 'qualitative interview',\n",
              " 'IS evaluation criteria': 'IS evaluation criteria',\n",
              " 'productivity': 'productivity',\n",
              " 'quantitative analysis tool': 'quantitative analysis tool',\n",
              " 'SPSS': 'SPSS',\n",
              " 'variable': 'variable',\n",
              " 'independent variable': 'independent variable',\n",
              " 'dependent variable': 'dependent variable',\n",
              " 'measure of central tendency': 'measure of central tendency',\n",
              " 'mean value': 'mean value',\n",
              " 'control variable': 'control variable',\n",
              " 'boundary spanning': 'boundary spanning',\n",
              " 'time horizon of research': 'time horizon of research',\n",
              " 'longitudinal research': 'longitudinal research',\n",
              " 'quantitative analysis': 'quantitative analysis',\n",
              " 'statistical hypothesis test': 'statistical hypothesis test',\n",
              " 'model': 'model',\n",
              " 'framework': 'framework',\n",
              " 'study object': 'study object',\n",
              " 'quantitative confidence value': 'quantitative confidence value',\n",
              " 'p-value': 'p-value',\n",
              " 'descriptive statistic': 'descriptive statistic',\n",
              " 'statistical metric': 'statistical metric',\n",
              " 'standardized regression coefficient': 'standardized regression coefficient',\n",
              " 'NLP application': 'NLP application',\n",
              " 'document generation': 'document generation',\n",
              " 'research stage': 'research stage',\n",
              " 'future research': 'future research',\n",
              " 'programming language': 'programming language',\n",
              " 'source code': 'source code',\n",
              " 'business topic': 'business topic',\n",
              " 'business model': 'business model',\n",
              " 'knowledge creation': 'knowledge creation',\n",
              " 'digital product': 'digital product',\n",
              " 'model element': 'model element',\n",
              " 'research question': 'research question',\n",
              " 'enterprise information system': 'enterprise information system',\n",
              " 'analytical information system': 'analytical information system',\n",
              " 'domain specific entity': 'domain specific entity',\n",
              " 'IS technology': 'IS technology',\n",
              " 'knowledge management system': 'knowledge management system',\n",
              " 'user evaluation criteria': 'user evaluation criteria',\n",
              " 'information system use': 'information system use',\n",
              " 'hardware': 'hardware',\n",
              " 'computer system': 'computer system',\n",
              " 'decision support system': 'decision support system',\n",
              " 'executive information system': 'executive information system',\n",
              " 'information technology infrastructure': 'information technology infrastructure',\n",
              " 'communication service infrastructure': 'communication service infrastructure',\n",
              " 'systems development': 'systems development',\n",
              " 'systems design': 'systems design',\n",
              " 'test of association between categorical variables': 'test of association between categorical variables',\n",
              " \"Barnard's exact test\": \"Barnard's exact test\",\n",
              " 'management theory': 'management theory',\n",
              " 'theory of administrative behaviour': 'theory of administrative behaviour',\n",
              " 'information retrieval system': 'information retrieval system',\n",
              " 'information storage and retrieval system': 'information storage and retrieval system',\n",
              " 'theoretical entity': 'theoretical entity',\n",
              " 'theory': 'theory',\n",
              " 'business process modeling': 'business process modeling',\n",
              " 'taxonomy': 'taxonomy',\n",
              " 'organizational theory': 'organizational theory',\n",
              " 'organizational behavior theory': 'organizational behavior theory',\n",
              " 'micro level': 'micro level',\n",
              " 'group level': 'group level',\n",
              " 'meso level': 'meso level',\n",
              " 'firm level': 'firm level',\n",
              " 'societal context': 'societal context',\n",
              " 'organizational context': 'organizational context',\n",
              " 'IT service management': 'IT service management',\n",
              " 'system support': 'system support',\n",
              " 'construct': 'construct',\n",
              " 'research model': 'research model',\n",
              " 'theoretical framework': 'theoretical framework',\n",
              " 'IS topic': 'IS topic',\n",
              " 'computer data storage': 'computer data storage',\n",
              " 'IS impact': 'IS impact',\n",
              " 'IS success': 'IS success',\n",
              " 'ethnography': 'ethnography',\n",
              " 'participative method': 'participative method',\n",
              " 'design science': 'design science',\n",
              " 'design methodology': 'design methodology',\n",
              " 'system development method': 'system development method',\n",
              " 'soft systems methodology': 'soft systems methodology',\n",
              " 'digital innovation': 'digital innovation',\n",
              " 'empirical quantitative method': 'empirical quantitative method',\n",
              " 'experiment': 'experiment',\n",
              " 'agile software development': 'agile software development',\n",
              " 'IT project': 'IT project',\n",
              " 'experimental design': 'experimental design',\n",
              " 'software process improvement': 'software process improvement',\n",
              " 'capability maturity model': 'capability maturity model',\n",
              " 'capability maturity model integration': 'capability maturity model integration',\n",
              " 'requirements analysis': 'requirements analysis',\n",
              " 'requirements elicitation': 'requirements elicitation',\n",
              " 'IT project management': 'IT project management',\n",
              " 'systems analysis': 'systems analysis',\n",
              " 'IT development project': 'IT development project',\n",
              " 'business process management': 'business process management',\n",
              " 'business process innovation': 'business process innovation',\n",
              " 'pair programming': 'pair programming',\n",
              " 'ICT industry': 'ICT industry',\n",
              " 'software industry': 'software industry',\n",
              " 'implicit knowledge': 'implicit knowledge',\n",
              " 'design artifact': 'design artifact',\n",
              " 'design process': 'design process',\n",
              " 'qualitative analysis': 'qualitative analysis',\n",
              " 'synthesis': 'synthesis',\n",
              " 'cultural sector': 'cultural sector',\n",
              " 'theatre': 'theatre',\n",
              " 'simulation': 'simulation',\n",
              " 'Six Sigma': 'Six Sigma',\n",
              " 'desktop computer': 'desktop computer',\n",
              " 'video conference': 'video conference',\n",
              " 'online chat': 'online chat',\n",
              " 'business evaluation criteria': 'business evaluation criteria',\n",
              " 'idea generation': 'idea generation',\n",
              " 'group decision support system': 'group decision support system',\n",
              " 'electronic brainstorming': 'electronic brainstorming',\n",
              " 'enterprise architecture': 'enterprise architecture',\n",
              " 'Scrum': 'Scrum',\n",
              " 'individual academic participant': 'individual academic participant',\n",
              " 'survey': 'survey',\n",
              " 'QDA software': 'QDA software',\n",
              " 'TAMS Analyzer': 'TAMS Analyzer',\n",
              " 'big data': 'big data',\n",
              " 'telecommunications industry': 'telecommunications industry',\n",
              " 'telephone service provider': 'telephone service provider',\n",
              " 'network infrastructure': 'network infrastructure',\n",
              " 'information systems strategy': 'information systems strategy',\n",
              " 'data resource management': 'data resource management',\n",
              " 'ease of use': 'ease of use',\n",
              " 'usability': 'usability',\n",
              " 'digital media': 'digital media',\n",
              " 'service industry': 'service industry',\n",
              " 'intermediation': 'intermediation',\n",
              " 'privacy': 'privacy',\n",
              " 'pseudonymity': 'pseudonymity',\n",
              " 'wireless computer network': 'wireless computer network',\n",
              " 'broadband cellular network': 'broadband cellular network',\n",
              " 'case study': 'case study',\n",
              " 'theory development': 'theory development',\n",
              " 'data quality': 'data quality',\n",
              " 'unsupervised learning': 'unsupervised learning',\n",
              " 'cluster analysis': 'cluster analysis',\n",
              " 'field study': 'field study',\n",
              " 'economic sector': 'economic sector',\n",
              " 'media industry': 'media industry',\n",
              " 'mobile system': 'mobile system',\n",
              " 'mobile phone': 'mobile phone',\n",
              " 'smart card': 'smart card',\n",
              " 'SIM card': 'SIM card',\n",
              " 'company type': 'company type',\n",
              " 'small and mid-size enterprise': 'small and mid-size enterprise',\n",
              " 'qualitativ observational study': 'qualitativ observational study',\n",
              " 'participant observation': 'participant observation',\n",
              " 'archival research': 'archival research',\n",
              " 'company material': 'company material',\n",
              " 'methodological entity': 'methodological entity',\n",
              " 'data analysis method': 'data analysis method',\n",
              " 'qualitative content analysis': 'qualitative content analysis',\n",
              " 'narrative analysis': 'narrative analysis',\n",
              " 'organizational participant': 'organizational participant',\n",
              " 'advertising industry and opinion polling': 'advertising industry and opinion polling',\n",
              " 'advertising industry': 'advertising industry',\n",
              " 'internet technology': 'internet technology',\n",
              " 'online marketing': 'online marketing',\n",
              " 'online advertising': 'online advertising',\n",
              " 'website': 'website',\n",
              " 'web page': 'web page',\n",
              " 'media market': 'media market',\n",
              " 'database system': 'database system',\n",
              " 'relational database': 'relational database',\n",
              " 'office information system': 'office information system',\n",
              " 'spreadsheet': 'spreadsheet',\n",
              " 'telephone': 'telephone',\n",
              " 'world wide web': 'world wide web',\n",
              " 'IT workforce': 'IT workforce',\n",
              " 'IT skill': 'IT skill',\n",
              " 'information systems theory': 'information systems theory',\n",
              " 'representation theory': 'representation theory',\n",
              " 'data integration': 'data integration',\n",
              " 'IT personell turnover': 'IT personell turnover',\n",
              " 'machine learning': 'machine learning',\n",
              " 'information systems standardization': 'information systems standardization',\n",
              " 'communication theory': 'communication theory',\n",
              " 'semiotics': 'semiotics',\n",
              " 'health information system': 'health information system',\n",
              " 'healthcare data': 'healthcare data',\n",
              " 'digital ecosystem': 'digital ecosystem',\n",
              " 'data modeling': 'data modeling',\n",
              " 'experimental validity': 'experimental validity',\n",
              " 'external validity': 'external validity',\n",
              " 'electronic mail': 'electronic mail',\n",
              " 'mathematical model': 'mathematical model',\n",
              " 'sampling': 'sampling',\n",
              " 'anonymity': 'anonymity',\n",
              " 'realism': 'realism',\n",
              " 'critical realism': 'critical realism',\n",
              " 'mobile network operator': 'mobile network operator',\n",
              " 'research paradigm': 'research paradigm',\n",
              " 'sociological theory': 'sociological theory',\n",
              " 'structuration theory': 'structuration theory',\n",
              " 'actor network theory': 'actor network theory',\n",
              " 'sociomaterialism theory': 'sociomaterialism theory',\n",
              " 'ontological modelling': 'ontological modelling',\n",
              " 'qualitative coding': 'qualitative coding',\n",
              " 'triangulation': 'triangulation',\n",
              " 'operational information system': 'operational information system',\n",
              " 'Excel': 'Excel',\n",
              " 'digital observation': 'digital observation',\n",
              " 'digital trace data': 'digital trace data',\n",
              " 'human–computer interaction': 'human–computer interaction',\n",
              " 'user interface': 'user interface',\n",
              " 'alternative hypothesis': 'alternative hypothesis',\n",
              " 'IS evaluation': 'IS evaluation',\n",
              " 'evaluation criteria': 'evaluation criteria',\n",
              " 'single case study': 'single case study',\n",
              " 'insurance industry': 'insurance industry',\n",
              " 'wiki': 'wiki',\n",
              " 'Wikipedia': 'Wikipedia',\n",
              " 'healthcare industry': 'healthcare industry',\n",
              " 'electronic health record': 'electronic health record',\n",
              " 'design principle': 'design principle',\n",
              " 'government': 'government',\n",
              " 'systems implementation': 'systems implementation',\n",
              " 'design theory': 'design theory',\n",
              " 'network effect': 'network effect',\n",
              " 'enabling capability': 'enabling capability',\n",
              " 'information technology capability': 'information technology capability',\n",
              " 'interorganizational system': 'interorganizational system',\n",
              " 'information exchange': 'information exchange',\n",
              " 'electronic data interchange': 'electronic data interchange',\n",
              " 'industry specific information system': 'industry specific information system',\n",
              " 'legal context': 'legal context',\n",
              " 'modeling language': 'modeling language',\n",
              " 'unified modeling language': 'unified modeling language',\n",
              " 'pilot study': 'pilot study',\n",
              " 'chemical industry': 'chemical industry',\n",
              " 'pharmaceutical industry': 'pharmaceutical industry',\n",
              " 'information sharing protocol': 'information sharing protocol',\n",
              " 'extensible markup language': 'extensible markup language',\n",
              " 'network technology': 'network technology',\n",
              " 'IT work': 'IT work',\n",
              " 'computer supported cooperative work': 'computer supported cooperative work',\n",
              " 'private sector': 'private sector',\n",
              " 'electronic authentication': 'electronic authentication',\n",
              " 'biometric': 'biometric',\n",
              " 'government system': 'government system',\n",
              " 'digital divide': 'digital divide',\n",
              " 'information and communication technology for development': 'information and communication technology for development',\n",
              " 'action research': 'action research',\n",
              " 'organizational memory': 'organizational memory',\n",
              " 'organization learning': 'organization learning',\n",
              " 'organizational value': 'organizational value',\n",
              " 'personal computer': 'personal computer',\n",
              " 'financial sector': 'financial sector',\n",
              " 'banking industry': 'banking industry',\n",
              " 'artificial intelligence': 'artificial intelligence',\n",
              " 'knowledge representation': 'knowledge representation',\n",
              " 'non governmental organisation': 'non governmental organisation',\n",
              " 'open source software project': 'open source software project',\n",
              " 'electronic health': 'electronic health',\n",
              " 'intellectual property': 'intellectual property',\n",
              " 'types of work': 'types of work',\n",
              " 'anthropogenic hazard': 'anthropogenic hazard',\n",
              " 'power outage': 'power outage',\n",
              " 'technical IT security defense': 'technical IT security defense',\n",
              " 'backup': 'backup',\n",
              " 'IT security category': 'IT security category',\n",
              " 'data security': 'data security',\n",
              " 'disaster recovery': 'disaster recovery',\n",
              " 'wired network technology': 'wired network technology',\n",
              " 'local area network': 'local area network',\n",
              " 'data warehouse': 'data warehouse',\n",
              " 'information portal': 'information portal',\n",
              " 'IS education': 'IS education',\n",
              " 'digital literacy': 'digital literacy',\n",
              " 'macro level': 'macro level',\n",
              " 'country level': 'country level',\n",
              " 'IS sourcing': 'IS sourcing',\n",
              " 'outsourcing': 'outsourcing',\n",
              " 'system maintenance': 'system maintenance',\n",
              " 'business intelligence': 'business intelligence',\n",
              " 'bourses and securities trading': 'bourses and securities trading',\n",
              " 'rating agency': 'rating agency',\n",
              " 'kernel theory': 'kernel theory',\n",
              " 'machine learning method': 'machine learning method',\n",
              " 'semi supervised learning': 'semi supervised learning',\n",
              " 'supervised learning': 'supervised learning',\n",
              " 'classification method': 'classification method',\n",
              " 'confusion matrix based metric': 'confusion matrix based metric',\n",
              " 'classification accuracy': 'classification accuracy',\n",
              " 'regression analysis method': 'regression analysis method',\n",
              " 'logistic regression': 'logistic regression',\n",
              " 'artificial neural network': 'artificial neural network',\n",
              " 'discriminant analysis': 'discriminant analysis',\n",
              " 'decision tree classification': 'decision tree classification',\n",
              " 'probabilistic graphical model': 'probabilistic graphical model',\n",
              " 'Bayesian network': 'Bayesian network',\n",
              " 'support vector machine': 'support vector machine',\n",
              " 'manufacturing industry': 'manufacturing industry',\n",
              " 'bourse': 'bourse',\n",
              " 'design guideline': 'design guideline',\n",
              " 'machine learning process': 'machine learning process',\n",
              " 'organizational productivity': 'organizational productivity',\n",
              " 'financial performance': 'financial performance',\n",
              " 'f-measure': 'f-measure',\n",
              " 'precision and recall': 'precision and recall',\n",
              " 'statistical significance': 'statistical significance',\n",
              " 'significant difference': 'significant difference',\n",
              " 'false positive rate': 'false positive rate',\n",
              " 'false negative rate': 'false negative rate',\n",
              " 'financial archival database': 'financial archival database',\n",
              " 'Compustat': 'Compustat',\n",
              " 'reference modelling': 'reference modelling',\n",
              " 'Bayesian analysis': 'Bayesian analysis',\n",
              " 'naïve bayes': 'naïve bayes',\n",
              " 'bagging method': 'bagging method',\n",
              " 'random forest classification': 'random forest classification',\n",
              " 'probabilistic sampling': 'probabilistic sampling',\n",
              " 'cross validation': 'cross validation',\n",
              " 'area under the curve': 'area under the curve',\n",
              " 'ROC curve': 'ROC curve',\n",
              " \"Student's t-test\": \"Student's t-test\",\n",
              " 'paired t-test': 'paired t-test',\n",
              " 'statistical significance result': 'statistical significance result',\n",
              " 'no statistical significance': 'no statistical significance',\n",
              " 'goodness of fit index': 'goodness of fit index',\n",
              " 'coefficient of determination': 'coefficient of determination',\n",
              " 'confusion matrix': 'confusion matrix',\n",
              " 'post analysis': 'post analysis',\n",
              " 'sensitivity analysis': 'sensitivity analysis',\n",
              " 'individual impact': 'individual impact',\n",
              " 'trade sector': 'trade sector',\n",
              " 'standard score': 'standard score',\n",
              " 'k-nearest neighbor': 'k-nearest neighbor',\n",
              " 'electronic business': 'electronic business',\n",
              " 'electronic market': 'electronic market',\n",
              " 'co-citation analysis': 'co-citation analysis',\n",
              " 'IT supported collaboration': 'IT supported collaboration',\n",
              " 'group support system': 'group support system',\n",
              " 'online reputation system': 'online reputation system',\n",
              " 'online auction': 'online auction',\n",
              " 'internet fraud': 'internet fraud',\n",
              " 'web forum': 'web forum',\n",
              " 'access control': 'access control',\n",
              " 'recommender system': 'recommender system',\n",
              " 'collaborative filtering': 'collaborative filtering',\n",
              " 'graph analysis': 'graph analysis',\n",
              " 'social network analysis': 'social network analysis',\n",
              " 'part of speech tagging': 'part of speech tagging',\n",
              " 'portable computer': 'portable computer',\n",
              " 'laptop computer': 'laptop computer',\n",
              " 'dimensionality reduction': 'dimensionality reduction',\n",
              " 'principal component analysis': 'principal component analysis',\n",
              " 'stochastic model': 'stochastic model',\n",
              " 'Markov model': 'Markov model',\n",
              " 'statistical distance': 'statistical distance',\n",
              " 'cross entropy': 'cross entropy',\n",
              " 'numbered research question': 'numbered research question',\n",
              " 'web application': 'web application',\n",
              " 'individual level': 'individual level',\n",
              " 'frequency of use': 'frequency of use',\n",
              " 'machine translation': 'machine translation',\n",
              " 'validity': 'validity',\n",
              " 'existing ontologies': 'existing ontologies',\n",
              " 'WordNet': 'WordNet',\n",
              " 'random sampling': 'random sampling',\n",
              " 'IT security threat': 'IT security threat',\n",
              " 'phishing': 'phishing',\n",
              " 'phishing website': 'phishing website',\n",
              " 'hierarchical linear modeling': 'hierarchical linear modeling',\n",
              " 'field experiment': 'field experiment',\n",
              " 'IS evaluation method': 'IS evaluation method',\n",
              " 'cost benefit analysis': 'cost benefit analysis',\n",
              " 'IT job category': 'IT job category',\n",
              " 'IT manager': 'IT manager',\n",
              " 'organizational IT security defense': 'organizational IT security defense',\n",
              " 'security policy': 'security policy',\n",
              " 'IT security': 'IT security',\n",
              " 'information systems usefulness': 'information systems usefulness',\n",
              " 'perceived usefulness': 'perceived usefulness',\n",
              " 'email phishing': 'email phishing',\n",
              " 'electronic commerce': 'electronic commerce',\n",
              " 'information retrieval': 'information retrieval',\n",
              " 'search engine': 'search engine',\n",
              " 'search engine optimization': 'search engine optimization',\n",
              " 'Twitter': 'Twitter',\n",
              " 'computer crime': 'computer crime',\n",
              " 'identity theft': 'identity theft',\n",
              " 'malware': 'malware',\n",
              " 'technology acceptance theory': 'technology acceptance theory',\n",
              " 'technology acceptance model': 'technology acceptance model',\n",
              " 'motivation theory': 'motivation theory',\n",
              " 'protection motivation theory': 'protection motivation theory',\n",
              " 'perceived ease of use': 'perceived ease of use',\n",
              " 'IT investment': 'IT investment',\n",
              " 'business-to-business': 'business-to-business',\n",
              " 'technology adoption': 'technology adoption',\n",
              " 'binary classification': 'binary classification',\n",
              " 'laboratory experiment': 'laboratory experiment',\n",
              " 'business-to-consumer': 'business-to-consumer',\n",
              " 'survey design': 'survey design',\n",
              " 'mid-size enterprise': 'mid-size enterprise',\n",
              " 'longitudinal survey': 'longitudinal survey',\n",
              " 'two validities': 'two validities',\n",
              " 'factor analysis': 'factor analysis',\n",
              " 'exploratory factor analysis': 'exploratory factor analysis',\n",
              " 'internal consistency reliability': 'internal consistency reliability',\n",
              " \"Cronbach's alpha\": \"Cronbach's alpha\",\n",
              " 'recall score': 'recall score',\n",
              " 'IT productivity': 'IT productivity',\n",
              " 'longitudinal experiment': 'longitudinal experiment',\n",
              " 'experimental group': 'experimental group',\n",
              " 'pilot experiment': 'pilot experiment',\n",
              " 'chi squared test': 'chi squared test',\n",
              " 'Chi square metric': 'Chi square metric',\n",
              " 'multi divisional corporation': 'multi divisional corporation',\n",
              " 'Google+': 'Google+',\n",
              " 'customer satisfaction': 'customer satisfaction',\n",
              " 'vehicle industry': 'vehicle industry',\n",
              " 'automotive industry': 'automotive industry',\n",
              " 'sentiment analysis': 'sentiment analysis',\n",
              " 'regulatory agency': 'regulatory agency',\n",
              " 'design framework': 'design framework',\n",
              " 'crowdsourcing': 'crowdsourcing',\n",
              " 'social network': 'social network',\n",
              " 'usage intention': 'usage intention',\n",
              " 'natural hazard': 'natural hazard',\n",
              " 'hurricane': 'hurricane',\n",
              " 'between group comparison statistical test': 'between group comparison statistical test',\n",
              " 'ANOVA': 'ANOVA',\n",
              " 'model part': 'model part',\n",
              " 'structural model': 'structural model',\n",
              " 'web search engine': 'web search engine',\n",
              " 'Bing': 'Bing',\n",
              " 'spamming': 'spamming',\n",
              " 'email spam': 'email spam',\n",
              " 'odds ratio': 'odds ratio',\n",
              " 'mutual information': 'mutual information',\n",
              " 'hidden Markov model': 'hidden Markov model',\n",
              " 'association rule learning': 'association rule learning',\n",
              " 'time series analysis': 'time series analysis',\n",
              " 'statistical dispersion': 'statistical dispersion',\n",
              " 'standard deviation': 'standard deviation',\n",
              " 'correlation coefficient': 'correlation coefficient',\n",
              " 'Pearson correlation coefficient': 'Pearson correlation coefficient',\n",
              " 'biometric measurement': 'biometric measurement',\n",
              " 'blood pressure': 'blood pressure',\n",
              " 'application programming interface': 'application programming interface',\n",
              " 'factorial experiment': 'factorial experiment',\n",
              " 'rank correlation coefficient': 'rank correlation coefficient',\n",
              " 'Kendall rank correlation coefficient': 'Kendall rank correlation coefficient',\n",
              " 'degrees of freedom': 'degrees of freedom',\n",
              " 'academic journal list': 'academic journal list',\n",
              " 'top IS journal': 'top IS journal',\n",
              " 'positivism': 'positivism',\n",
              " 'data center': 'data center',\n",
              " 'extract transform load process': 'extract transform load process',\n",
              " 'software developer': 'software developer',\n",
              " 'database languages': 'database languages',\n",
              " 'structured query language': 'structured query language',\n",
              " 'collaborative authoring': 'collaborative authoring',\n",
              " 'information reporting system': 'information reporting system',\n",
              " 'digital dashboard': 'digital dashboard',\n",
              " 'expert system': 'expert system',\n",
              " 'IT governance': 'IT governance',\n",
              " 'database modeling': 'database modeling',\n",
              " 'IS effectiveness': 'IS effectiveness',\n",
              " 'retail trade': 'retail trade',\n",
              " 'machine learning application': 'machine learning application',\n",
              " 'natural language processing': 'natural language processing',\n",
              " 'distributed system': 'distributed system',\n",
              " 'distributed storage': 'distributed storage',\n",
              " 'nosql database': 'nosql database',\n",
              " 'Apache Hadoop': 'Apache Hadoop',\n",
              " 'cloud computing': 'cloud computing',\n",
              " 'infrastructure as a service': 'infrastructure as a service',\n",
              " 'platform as a service': 'platform as a service',\n",
              " 'tsunami': 'tsunami',\n",
              " 'data lake': 'data lake',\n",
              " 'stream processing': 'stream processing',\n",
              " 'complex event processing': 'complex event processing',\n",
              " 'data governance': 'data governance',\n",
              " 'social media analytics': 'social media analytics',\n",
              " 'smart device': 'smart device',\n",
              " 'internet of things': 'internet of things',\n",
              " 'geographic information system': 'geographic information system',\n",
              " 'information privacy concern': 'information privacy concern',\n",
              " 'Facebook': 'Facebook',\n",
              " 'insider threat': 'insider threat',\n",
              " 'Cross-Industry Standard Process for Data Mining': 'Cross-Industry Standard Process for Data Mining',\n",
              " 'systems development life cycle': 'systems development life cycle',\n",
              " 'computer science theory': 'computer science theory',\n",
              " 'information theory': 'information theory',\n",
              " 'mathematical theory': 'mathematical theory',\n",
              " 'statistical learning theory': 'statistical learning theory',\n",
              " 'literature database': 'literature database',\n",
              " 'Google scholar': 'Google scholar',\n",
              " 'deep learning': 'deep learning',\n",
              " 'level of analysis': 'level of analysis',\n",
              " 'deception detection': 'deception detection',\n",
              " 'domain ontology': 'domain ontology',\n",
              " 'business process redesign': 'business process redesign',\n",
              " 'business process improvement': 'business process improvement',\n",
              " 'action design research': 'action design research',\n",
              " 'design requirement': 'design requirement',\n",
              " 'lemon market theory': 'lemon market theory',\n",
              " 'test validity': 'test validity',\n",
              " 'construct validity': 'construct validity',\n",
              " 'web 2.0': 'web 2.0',\n",
              " 'open data': 'open data',\n",
              " 'video streaming provider': 'video streaming provider',\n",
              " 'Netflix': 'Netflix',\n",
              " 'social media marketing': 'social media marketing',\n",
              " 'econometric modeling': 'econometric modeling',\n",
              " 'cross sectional research': 'cross sectional research',\n",
              " 'strategic management theory': 'strategic management theory',\n",
              " 'resource based view of the firm': 'resource based view of the firm',\n",
              " 'behavioral economics': 'behavioral economics',\n",
              " 'cognitive fit theory': 'cognitive fit theory',\n",
              " 'chaos theory': 'chaos theory',\n",
              " 'business process automation': 'business process automation',\n",
              " 'electronic finance': 'electronic finance',\n",
              " 'electronic trading': 'electronic trading',\n",
              " 'effect size': 'effect size',\n",
              " 'linear regression estimation method': 'linear regression estimation method',\n",
              " 'ordinary least square': 'ordinary least square',\n",
              " 'grounded theory': 'grounded theory',\n",
              " 'enterprise resource planning': 'enterprise resource planning',\n",
              " 'individual productivity': 'individual productivity',\n",
              " 'data relevance': 'data relevance',\n",
              " 'private household': 'private household',\n",
              " 'computer virus protection': 'computer virus protection',\n",
              " 'search engine marketing': 'search engine marketing',\n",
              " 'website design': 'website design',\n",
              " 'investment bank': 'investment bank',\n",
              " 'MySpace': 'MySpace',\n",
              " 'LinkedIn': 'LinkedIn',\n",
              " 'client-server model': 'client-server model',\n",
              " 'password': 'password',\n",
              " 'data encryption': 'data encryption',\n",
              " 'denial of service attack': 'denial of service attack',\n",
              " 'design science evaluation': 'design science evaluation',\n",
              " 'design artifact testing': 'design artifact testing',\n",
              " 'commercial bank': 'commercial bank',\n",
              " 'transport sector': 'transport sector',\n",
              " 'shipping company': 'shipping company',\n",
              " 'IT career': 'IT career',\n",
              " 'hypertext': 'hypertext',\n",
              " 'psychological theory': 'psychological theory',\n",
              " 'learning theory': 'learning theory',\n",
              " 'optimization model': 'optimization model',\n",
              " 'non linear optimization': 'non linear optimization',\n",
              " 'network security attack': 'network security attack',\n",
              " 'spoofing': 'spoofing',\n",
              " 'usability testing': 'usability testing',\n",
              " 'nearshoring': 'nearshoring',\n",
              " 'offshoring': 'offshoring',\n",
              " 'multi national corporation': 'multi national corporation',\n",
              " 'remote work': 'remote work',\n",
              " 'virtual teamwork': 'virtual teamwork',\n",
              " 'globalization of IS': 'globalization of IS',\n",
              " 'hospitality industry': 'hospitality industry',\n",
              " 'hotel industry': 'hotel industry',\n",
              " 'new institutional economics': 'new institutional economics',\n",
              " 'transaction cost economics': 'transaction cost economics',\n",
              " 'exploratory study': 'exploratory study',\n",
              " 'social subjectivist paradigm': 'social subjectivist paradigm',\n",
              " 'interpretivism': 'interpretivism',\n",
              " 'airline': 'airline',\n",
              " 'personal interview': 'personal interview',\n",
              " 'organizational size': 'organizational size',\n",
              " 'onshoring': 'onshoring',\n",
              " 'general-purpose programming language': 'general-purpose programming language',\n",
              " 'Java': 'Java',\n",
              " 'IT job': 'IT job',\n",
              " 'IT service provider': 'IT service provider',\n",
              " 'system quality': 'system quality',\n",
              " 'IT planning': 'IT planning',\n",
              " 'IT policy': 'IT policy',\n",
              " 'project productivity': 'project productivity',\n",
              " 'societal level': 'societal level',\n",
              " 'global level': 'global level',\n",
              " 'business cooperation': 'business cooperation',\n",
              " 'joint venture': 'joint venture',\n",
              " 'constant comparative analysis': 'constant comparative analysis',\n",
              " 'non probabilistic sampling': 'non probabilistic sampling',\n",
              " 'theoretical sampling': 'theoretical sampling',\n",
              " 'ATLASti': 'ATLASti',\n",
              " 'business process outsourcing': 'business process outsourcing',\n",
              " 'boundary objects theory': 'boundary objects theory',\n",
              " 'dynamic capabilities theory': 'dynamic capabilities theory',\n",
              " 'longitudinal case study': 'longitudinal case study',\n",
              " 'system dynamics': 'system dynamics',\n",
              " 'Fortran': 'Fortran',\n",
              " 'user requirement': 'user requirement',\n",
              " 'theoretical link': 'theoretical link',\n",
              " 'causal link': 'causal link',\n",
              " 'systems evaluation': 'systems evaluation',\n",
              " 'system testing': 'system testing',\n",
              " 'research and development sector': 'research and development sector',\n",
              " 'research institute': 'research institute',\n",
              " 'structured literature research': 'structured literature research',\n",
              " 'literature sample': 'literature sample',\n",
              " 'sharing platform': 'sharing platform',\n",
              " 'peer-to-peer model': 'peer-to-peer model',\n",
              " 'streaming service': 'streaming service',\n",
              " 'video streaming service': 'video streaming service',\n",
              " 'leasing industry': 'leasing industry',\n",
              " 'car leasing industry': 'car leasing industry',\n",
              " 'real estate sharing platform': 'real estate sharing platform',\n",
              " 'Airbnb': 'Airbnb',\n",
              " 'mobile application': 'mobile application',\n",
              " 'systems operations': 'systems operations',\n",
              " 'ridesharing company': 'ridesharing company',\n",
              " 'Uber': 'Uber',\n",
              " 'information good': 'information good',\n",
              " 'ride sharing platform': 'ride sharing platform',\n",
              " \"Spearman's rank correlation coefficient\": \"Spearman's rank correlation coefficient\",\n",
              " 'social psychology theory': 'social psychology theory',\n",
              " 'theory of reasoned action': 'theory of reasoned action',\n",
              " 'theory of planned behavior': 'theory of planned behavior',\n",
              " 'unified theory of acceptance and use of technology': 'unified theory of acceptance and use of technology',\n",
              " 'innovation theory': 'innovation theory',\n",
              " 'diffusion of innovations theory': 'diffusion of innovations theory',\n",
              " 'social cognitive theory': 'social cognitive theory',\n",
              " 'task productivity': 'task productivity',\n",
              " 'user acceptance': 'user acceptance',\n",
              " 'post positivism': 'post positivism',\n",
              " 'workstation': 'workstation',\n",
              " 'systems documentation': 'systems documentation',\n",
              " 'theoretical saturation': 'theoretical saturation',\n",
              " 'qualitative data': 'qualitative data',\n",
              " 'memoing': 'memoing',\n",
              " 'facsimile transmission': 'facsimile transmission',\n",
              " 'IT alignment': 'IT alignment',\n",
              " 'armed conflict': 'armed conflict',\n",
              " 'cognitive dissonance theory': 'cognitive dissonance theory',\n",
              " 'technostress': 'technostress',\n",
              " 'information overload': 'information overload',\n",
              " 'smartphone': 'smartphone',\n",
              " 'operating system': 'operating system',\n",
              " 'online learning system': 'online learning system',\n",
              " 'theory of impression management': 'theory of impression management',\n",
              " 'consultancy sector': 'consultancy sector',\n",
              " 'IT consultancy': 'IT consultancy',\n",
              " 'IT leadership': 'IT leadership',\n",
              " 'service quality': 'service quality',\n",
              " 'business process re-engineering': 'business process re-engineering',\n",
              " 'enterprise resource planning implementation': 'enterprise resource planning implementation',\n",
              " 'Chief Information Officer': 'Chief Information Officer',\n",
              " 'top management support': 'top management support',\n",
              " 'service desk': 'service desk',\n",
              " 'business process design': 'business process design',\n",
              " 'business process ownership': 'business process ownership',\n",
              " 'business process change management': 'business process change management',\n",
              " 'co-located work': 'co-located work',\n",
              " 'co-located $NOUN|ADJ+ teams': 'co-located $NOUN|ADJ+ teams',\n",
              " 'multiple criteria decision making': 'multiple criteria decision making',\n",
              " 'analytic hierarchy process': 'analytic hierarchy process',\n",
              " 'extreme programming': 'extreme programming',\n",
              " 'IT project team': 'IT project team',\n",
              " 'multiple case study': 'multiple case study',\n",
              " 'adaptive structuration theory': 'adaptive structuration theory',\n",
              " 'IS agility': 'IS agility',\n",
              " 'digital entrepreneurship': 'digital entrepreneurship',\n",
              " 'Unix': 'Unix',\n",
              " 'Linux': 'Linux',\n",
              " 'industry 4.0': 'industry 4.0',\n",
              " '3D printing': '3D printing',\n",
              " 'wireless LAN': 'wireless LAN',\n",
              " 'Wi-Fi': 'Wi-Fi',\n",
              " 'Android phone': 'Android phone',\n",
              " 'Android': 'Android',\n",
              " 'IT risk management': 'IT risk management',\n",
              " 'digital service': 'digital service',\n",
              " 'Slack': 'Slack',\n",
              " 'emergency management': 'emergency management',\n",
              " 'electronic payment': 'electronic payment',\n",
              " 'mobile payment': 'mobile payment',\n",
              " 'social network theory': 'social network theory',\n",
              " 'digital economy': 'digital economy',\n",
              " 'socio technical theory': 'socio technical theory',\n",
              " 'digital transformation': 'digital transformation',\n",
              " 'restaurant industry': 'restaurant industry',\n",
              " 'critical theory': 'critical theory',\n",
              " 'IS problem': 'IS problem',\n",
              " 'political theory': 'political theory',\n",
              " 'spiral of silence theory': 'spiral of silence theory',\n",
              " 'pulp and paper industry': 'pulp and paper industry',\n",
              " 'printing industry': 'printing industry',\n",
              " 'job satisfaction': 'job satisfaction',\n",
              " 'meeting support system': 'meeting support system',\n",
              " 'energy industry': 'energy industry',\n",
              " 'anti positivism': 'anti positivism',\n",
              " 'general systems theory': 'general systems theory',\n",
              " 'feminism theory': 'feminism theory',\n",
              " 'cyberfeminism': 'cyberfeminism',\n",
              " 'organizational success': 'organizational success',\n",
              " 'Baan': 'Baan',\n",
              " 'PeopleSoft': 'PeopleSoft',\n",
              " 'software protection': 'software protection',\n",
              " 'data integrity': 'data integrity',\n",
              " 'system integration': 'system integration',\n",
              " 'NLP tool': 'NLP tool',\n",
              " 'Flair': 'Flair',\n",
              " 'construal level theory': 'construal level theory',\n",
              " 'pandemic': 'pandemic',\n",
              " 'food trade': 'food trade',\n",
              " 'food retailing': 'food retailing',\n",
              " 'crowdfunding': 'crowdfunding',\n",
              " 'experimental task': 'experimental task',\n",
              " 'moderating variable': 'moderating variable',\n",
              " 'item scale': 'item scale',\n",
              " 'Likert scale': 'Likert scale',\n",
              " 'confirmatory factor analysis': 'confirmatory factor analysis',\n",
              " 'convergent validity': 'convergent validity',\n",
              " 'discriminant validity': 'discriminant validity',\n",
              " 'significance level': 'significance level',\n",
              " 'user friendliness': 'user friendliness',\n",
              " 'voice user interfaces': 'voice user interfaces',\n",
              " 'manufacturing information system': 'manufacturing information system',\n",
              " 'LISP': 'LISP',\n",
              " 'question answering': 'question answering',\n",
              " 'semantic data model': 'semantic data model',\n",
              " 'entity relationship modeling': 'entity relationship modeling',\n",
              " 'computer aided software engineering': 'computer aided software engineering',\n",
              " 'quantitative observational study': 'quantitative observational study',\n",
              " 'quasi experiment': 'quasi experiment',\n",
              " 'path analysis': 'path analysis',\n",
              " 'latent variable model': 'latent variable model',\n",
              " 'confounding variable': 'confounding variable',\n",
              " 'personality theory': 'personality theory',\n",
              " 'big five model': 'big five model',\n",
              " 'social commerce': 'social commerce',\n",
              " 'video game': 'video game',\n",
              " 'video game console': 'video game console',\n",
              " 'tablet': 'tablet',\n",
              " 'econometric model': 'econometric model',\n",
              " 'survival function': 'survival function',\n",
              " 'proportional hazards model': 'proportional hazards model',\n",
              " 'NLP method': 'NLP method',\n",
              " 'latent dirichlet allocation': 'latent dirichlet allocation',\n",
              " 'Kullback–Leibler divergence': 'Kullback–Leibler divergence',\n",
              " 'survival analysis': 'survival analysis',\n",
              " 'null hypothesis': 'null hypothesis',\n",
              " 'confidence interval': 'confidence interval',\n",
              " 'multicollinearity': 'multicollinearity',\n",
              " 'Akaike information criterion': 'Akaike information criterion',\n",
              " 'Bayesian information criterion': 'Bayesian information criterion',\n",
              " 'non-parametric test': 'non-parametric test',\n",
              " 'Mann Whitney U test': 'Mann Whitney U test',\n",
              " 'trade-off analysis method': 'trade-off analysis method',\n",
              " 'conjoint analysis': 'conjoint analysis',\n",
              " 'propensity score method': 'propensity score method',\n",
              " 'propensity score matching': 'propensity score matching',\n",
              " 'accelerated failure time model': 'accelerated failure time model',\n",
              " 'prospect theory': 'prospect theory',\n",
              " 'causality analysis': 'causality analysis',\n",
              " 'difference in differences': 'difference in differences',\n",
              " 'causal model': 'causal model',\n",
              " 'LexisNexis': 'LexisNexis',\n",
              " 'Capital IQ': 'Capital IQ',\n",
              " 'dummy variable': 'dummy variable',\n",
              " 'recurrent neural network': 'recurrent neural network',\n",
              " 'task characteristic': 'task characteristic',\n",
              " 'task complexity': 'task complexity',\n",
              " 'IS failure': 'IS failure',\n",
              " 'activity theory': 'activity theory',\n",
              " 'reliability coefficient': 'reliability coefficient',\n",
              " 'inter-rater reliability': 'inter-rater reliability',\n",
              " 'task interdependence': 'task interdependence',\n",
              " 'film industry': 'film industry',\n",
              " 'film production': 'film production',\n",
              " 'Python': 'Python',\n",
              " 'competitive intelligence': 'competitive intelligence',\n",
              " 'music industry': 'music industry',\n",
              " 'music production': 'music production',\n",
              " 'nomological network': 'nomological network',\n",
              " 'publishing industry': 'publishing industry',\n",
              " 'machinery industry and plant construction': 'machinery industry and plant construction',\n",
              " 'mechanical engineering': 'mechanical engineering',\n",
              " 'iPad': 'iPad',\n",
              " 'Web of Science': 'Web of Science',\n",
              " 'team productivity': 'team productivity',\n",
              " 'team impact': 'team impact',\n",
              " 'media synchronicity theory': 'media synchronicity theory',\n",
              " 'debugging': 'debugging',\n",
              " 'affordance theory': 'affordance theory',\n",
              " 'diary study': 'diary study',\n",
              " 'optical storage device': 'optical storage device',\n",
              " 'CD-ROM': 'CD-ROM',\n",
              " 'mediating variable': 'mediating variable',\n",
              " 'retail outlet': 'retail outlet',\n",
              " 'meta analysis': 'meta analysis',\n",
              " 'JavaScript': 'JavaScript',\n",
              " 'structural equation modeling': 'structural equation modeling',\n",
              " 'SEM tool': 'SEM tool',\n",
              " 'measurement model': 'measurement model',\n",
              " 'adjusted goodness of fit index': 'adjusted goodness of fit index',\n",
              " 'comparative fit index': 'comparative fit index',\n",
              " 'root mean square error of approximation': 'root mean square error of approximation',\n",
              " 'analysis of covariance': 'analysis of covariance',\n",
              " 'multiple regression': 'multiple regression',\n",
              " 'face validity': 'face validity',\n",
              " 'elaboration likelihood model': 'elaboration likelihood model',\n",
              " 'marketing information system': 'marketing information system',\n",
              " 'factor loading': 'factor loading',\n",
              " 'asset specificity': 'asset specificity',\n",
              " 'computed tomography': 'computed tomography',\n",
              " 'ergonomics': 'ergonomics',\n",
              " 'critical success factor': 'critical success factor',\n",
              " 'group interview': 'group interview',\n",
              " 'task structure': 'task structure',\n",
              " 'pragmatism': 'pragmatism',\n",
              " 'within subject experiment': 'within subject experiment',\n",
              " 'system reliability': 'system reliability',\n",
              " 'root mean square error': 'root mean square error',\n",
              " 'YouTube': 'YouTube',\n",
              " 'test score reliability coefficient': 'test score reliability coefficient',\n",
              " 'test-retest reliability': 'test-retest reliability',\n",
              " \"Cohen's d\": \"Cohen's d\",\n",
              " 'post-hoc analysis': 'post-hoc analysis',\n",
              " 'descriptive statistic score': 'descriptive statistic score',\n",
              " 'statistical correlation': 'statistical correlation',\n",
              " 'linear regression analysis': 'linear regression analysis',\n",
              " 'simple linear regression': 'simple linear regression',\n",
              " 'decision theory': 'decision theory',\n",
              " 'Hulu': 'Hulu',\n",
              " 'behavioral theory': 'behavioral theory',\n",
              " 'music streaming service': 'music streaming service',\n",
              " 'digital piracy': 'digital piracy',\n",
              " 'repeated measures ANOVA': 'repeated measures ANOVA',\n",
              " 'Wilcoxon signed-rank test': 'Wilcoxon signed-rank test',\n",
              " 'generalized least square': 'generalized least square',\n",
              " 'latent variable': 'latent variable',\n",
              " 'Stata': 'Stata',\n",
              " 'music streaming provider': 'music streaming provider',\n",
              " 'Pandora': 'Pandora',\n",
              " 'Spotify': 'Spotify',\n",
              " 'digital rights management': 'digital rights management',\n",
              " 'DVD': 'DVD',\n",
              " 'statistical power analysis': 'statistical power analysis',\n",
              " 'vector autoregression': 'vector autoregression',\n",
              " 'macroeconomic theory': 'macroeconomic theory',\n",
              " 'knowledge base': 'knowledge base',\n",
              " 'Apple iPhone': 'Apple iPhone',\n",
              " 'hand held computer': 'hand held computer',\n",
              " 'personal digital assistant': 'personal digital assistant',\n",
              " 'non volatile memory': 'non volatile memory',\n",
              " 'hard disk drive': 'hard disk drive',\n",
              " 'autoregressive model': 'autoregressive model',\n",
              " 'point estimation performance score': 'point estimation performance score',\n",
              " 'mean squared error': 'mean squared error',\n",
              " 'Granger causality': 'Granger causality',\n",
              " 'autocorrelation analysis': 'autocorrelation analysis',\n",
              " 'autoregressive conditional heteroscedasticity model': 'autoregressive conditional heteroscedasticity model',\n",
              " 'sequential analysis': 'sequential analysis',\n",
              " 'cumulative sum control chart': 'cumulative sum control chart',\n",
              " 'Wald test': 'Wald test',\n",
              " 'digital entertainment': 'digital entertainment',\n",
              " 'autoregressive moving average model': 'autoregressive moving average model',\n",
              " 'mean absolute error': 'mean absolute error',\n",
              " 'terrorist incident': 'terrorist incident',\n",
              " 'auction theory': 'auction theory',\n",
              " 'procurement information system': 'procurement information system',\n",
              " 'software agent': 'software agent',\n",
              " 'discrete event simulation': 'discrete event simulation',\n",
              " 'tourism industry': 'tourism industry',\n",
              " 'data breach': 'data breach',\n",
              " 'information extraction': 'information extraction',\n",
              " 'wholesale trade': 'wholesale trade',\n",
              " 'postal and courier service': 'postal and courier service',\n",
              " 'universal service': 'universal service',\n",
              " 'linear optimization': 'linear optimization',\n",
              " 'multidimensional modeling': 'multidimensional modeling',\n",
              " 'online analytical processing': 'online analytical processing',\n",
              " 'movie theatre': 'movie theatre',\n",
              " 'fifth-generation programming language': 'fifth-generation programming language',\n",
              " 'declarative language': 'declarative language',\n",
              " 'oculometry': 'oculometry',\n",
              " 'instrumental variables estimation': 'instrumental variables estimation',\n",
              " 'food industry': 'food industry',\n",
              " 'food market': 'food market',\n",
              " 'Monte Carlo simulation': 'Monte Carlo simulation',\n",
              " 'Markov chain Monte Carlo': 'Markov chain Monte Carlo',\n",
              " 'sociometry': 'sociometry',\n",
              " 'Perl': 'Perl',\n",
              " 'accounting standard': 'accounting standard',\n",
              " 'variance inflation factor': 'variance inflation factor',\n",
              " 'bootstrap sampling': 'bootstrap sampling',\n",
              " 'investment fund': 'investment fund',\n",
              " 'internet service provider': 'internet service provider',\n",
              " 'criminality': 'criminality',\n",
              " 'financial services information system': 'financial services information system',\n",
              " 'home computer': 'home computer',\n",
              " 'correlation direction': 'correlation direction',\n",
              " 'positive correlation': 'positive correlation',\n",
              " 'shopping center': 'shopping center',\n",
              " 'community level': 'community level',\n",
              " 'probit regression': 'probit regression',\n",
              " 'image processing': 'image processing',\n",
              " 'average treatment effect': 'average treatment effect',\n",
              " 'self quantification': 'self quantification',\n",
              " 'mobile platform': 'mobile platform',\n",
              " 'critical rationalism': 'critical rationalism',\n",
              " 'social sciences theory': 'social sciences theory',\n",
              " 'environmental sustainability': 'environmental sustainability',\n",
              " 'climate change': 'climate change',\n",
              " 'user resistance': 'user resistance',\n",
              " 'social contagion theory': 'social contagion theory',\n",
              " 'personal health record': 'personal health record',\n",
              " 'game theory': 'game theory',\n",
              " 'graph theory': 'graph theory',\n",
              " 'mixed method': 'mixed method',\n",
              " 'chat room': 'chat room',\n",
              " 'online game': 'online game',\n",
              " 'massively multiplayer online game': 'massively multiplayer online game',\n",
              " 'psychometrics': 'psychometrics',\n",
              " 'partial least squares regression': 'partial least squares regression',\n",
              " 'self efficacy theory': 'self efficacy theory',\n",
              " 'attribution theory': 'attribution theory',\n",
              " 'self perception theory': 'self perception theory',\n",
              " 'path coefficient': 'path coefficient',\n",
              " 'common-method variance': 'common-method variance',\n",
              " 'virtual world': 'virtual world',\n",
              " 'information technology operation': 'information technology operation',\n",
              " 'user satisfaction': 'user satisfaction',\n",
              " 'mainframe': 'mainframe',\n",
              " 'high level language': 'high level language',\n",
              " 'object oriented programming language': 'object oriented programming language',\n",
              " 'supply chain management system': 'supply chain management system',\n",
              " 'inventory management system': 'inventory management system',\n",
              " 'user expectation': 'user expectation',\n",
              " 'biological theory': 'biological theory',\n",
              " 'radio frequency identification': 'radio frequency identification',\n",
              " 'theory of change': 'theory of change',\n",
              " 'work systems theory': 'work systems theory',\n",
              " 'criterion validity': 'criterion validity',\n",
              " 'predictive validity': 'predictive validity',\n",
              " 'textile and clothing industry': 'textile and clothing industry',\n",
              " 'footwear industry': 'footwear industry',\n",
              " 'content validity': 'content validity',\n",
              " 'root mean square residual': 'root mean square residual',\n",
              " 'social learning theory': 'social learning theory',\n",
              " 'PC DOS': 'PC DOS',\n",
              " 'command line interface': 'command line interface',\n",
              " 'IS satisfaction': 'IS satisfaction',\n",
              " 'resistance to change': 'resistance to change',\n",
              " 'accounting information system': 'accounting information system',\n",
              " 'financial information system': 'financial information system',\n",
              " 'business service sector': 'business service sector',\n",
              " 'systems development effort': 'systems development effort',\n",
              " 'data-flow diagram': 'data-flow diagram',\n",
              " \"Cohen's kappa coefficient\": \"Cohen's kappa coefficient\",\n",
              " 'two-way ANOVA': 'two-way ANOVA',\n",
              " 'sum of squares': 'sum of squares',\n",
              " 'location based service': 'location based service',\n",
              " 'global navigation satellite system': 'global navigation satellite system',\n",
              " 'contingency theory': 'contingency theory',\n",
              " 'iOS': 'iOS',\n",
              " ...}"
            ]
          },
          "metadata": {},
          "execution_count": 35
        }
      ]
    },
    {
      "cell_type": "code",
      "source": [
        "filename = \"network_test.html\"\n",
        "net = save_network_html(kb, filename=filename)\n",
        "IPython.display.HTML(filename=filename)"
      ],
      "metadata": {
        "colab": {
          "base_uri": "https://localhost:8080/",
          "height": 738
        },
        "id": "1rUIGBgPo8HC",
        "outputId": "1d34f04a-eb89-4651-e8a7-fd375311badc"
      },
      "execution_count": 91,
      "outputs": [
        {
          "output_type": "execute_result",
          "data": {
            "text/plain": [
              "<IPython.core.display.HTML object>"
            ],
            "text/html": [
              "<html>\n",
              "<head>\n",
              "<link rel=\"stylesheet\" href=\"https://cdn.jsdelivr.net/npm/vis-network@latest/styles/vis-network.css\" type=\"text/css\" />\n",
              "<script type=\"text/javascript\" src=\"https://cdn.jsdelivr.net/npm/vis-network@latest/dist/vis-network.min.js\"> </script>\n",
              "<center>\n",
              "<h1></h1>\n",
              "</center>\n",
              "\n",
              "<!-- <link rel=\"stylesheet\" href=\"../node_modules/vis/dist/vis.min.css\" type=\"text/css\" />\n",
              "<script type=\"text/javascript\" src=\"../node_modules/vis/dist/vis.js\"> </script>-->\n",
              "\n",
              "<style type=\"text/css\">\n",
              "\n",
              "        #mynetwork {\n",
              "            width: 700px;\n",
              "            height: 700px;\n",
              "            background-color: #eeeeee;\n",
              "            border: 1px solid lightgray;\n",
              "            position: relative;\n",
              "            float: left;\n",
              "        }\n",
              "\n",
              "        \n",
              "        #loadingBar {\n",
              "            position:absolute;\n",
              "            top:0px;\n",
              "            left:0px;\n",
              "            width: 700px;\n",
              "            height: 700px;\n",
              "            background-color:rgba(200,200,200,0.8);\n",
              "            -webkit-transition: all 0.5s ease;\n",
              "            -moz-transition: all 0.5s ease;\n",
              "            -ms-transition: all 0.5s ease;\n",
              "            -o-transition: all 0.5s ease;\n",
              "            transition: all 0.5s ease;\n",
              "            opacity:1;\n",
              "        }\n",
              "\n",
              "        #bar {\n",
              "            position:absolute;\n",
              "            top:0px;\n",
              "            left:0px;\n",
              "            width:20px;\n",
              "            height:20px;\n",
              "            margin:auto auto auto auto;\n",
              "            border-radius:11px;\n",
              "            border:2px solid rgba(30,30,30,0.05);\n",
              "            background: rgb(0, 173, 246); /* Old browsers */\n",
              "            box-shadow: 2px 0px 4px rgba(0,0,0,0.4);\n",
              "        }\n",
              "\n",
              "        #border {\n",
              "            position:absolute;\n",
              "            top:10px;\n",
              "            left:10px;\n",
              "            width:500px;\n",
              "            height:23px;\n",
              "            margin:auto auto auto auto;\n",
              "            box-shadow: 0px 0px 4px rgba(0,0,0,0.2);\n",
              "            border-radius:10px;\n",
              "        }\n",
              "\n",
              "        #text {\n",
              "            position:absolute;\n",
              "            top:8px;\n",
              "            left:530px;\n",
              "            width:30px;\n",
              "            height:50px;\n",
              "            margin:auto auto auto auto;\n",
              "            font-size:22px;\n",
              "            color: #000000;\n",
              "        }\n",
              "\n",
              "        div.outerBorder {\n",
              "            position:relative;\n",
              "            top:400px;\n",
              "            width:600px;\n",
              "            height:44px;\n",
              "            margin:auto auto auto auto;\n",
              "            border:8px solid rgba(0,0,0,0.1);\n",
              "            background: rgb(252,252,252); /* Old browsers */\n",
              "            background: -moz-linear-gradient(top,  rgba(252,252,252,1) 0%, rgba(237,237,237,1) 100%); /* FF3.6+ */\n",
              "            background: -webkit-gradient(linear, left top, left bottom, color-stop(0%,rgba(252,252,252,1)), color-stop(100%,rgba(237,237,237,1))); /* Chrome,Safari4+ */\n",
              "            background: -webkit-linear-gradient(top,  rgba(252,252,252,1) 0%,rgba(237,237,237,1) 100%); /* Chrome10+,Safari5.1+ */\n",
              "            background: -o-linear-gradient(top,  rgba(252,252,252,1) 0%,rgba(237,237,237,1) 100%); /* Opera 11.10+ */\n",
              "            background: -ms-linear-gradient(top,  rgba(252,252,252,1) 0%,rgba(237,237,237,1) 100%); /* IE10+ */\n",
              "            background: linear-gradient(to bottom,  rgba(252,252,252,1) 0%,rgba(237,237,237,1) 100%); /* W3C */\n",
              "            filter: progid:DXImageTransform.Microsoft.gradient( startColorstr='#fcfcfc', endColorstr='#ededed',GradientType=0 ); /* IE6-9 */\n",
              "            border-radius:72px;\n",
              "            box-shadow: 0px 0px 10px rgba(0,0,0,0.2);\n",
              "        }\n",
              "        \n",
              "\n",
              "        \n",
              "\n",
              "        \n",
              "</style>\n",
              "\n",
              "</head>\n",
              "\n",
              "<body>\n",
              "<div id = \"mynetwork\"></div>\n",
              "\n",
              "<div id=\"loadingBar\">\n",
              "    <div class=\"outerBorder\">\n",
              "        <div id=\"text\">0%</div>\n",
              "        <div id=\"border\">\n",
              "            <div id=\"bar\"></div>\n",
              "        </div>\n",
              "    </div>\n",
              "</div>\n",
              "\n",
              "\n",
              "<script type=\"text/javascript\">\n",
              "\n",
              "    // initialize global variables.\n",
              "    var edges;\n",
              "    var nodes;\n",
              "    var network; \n",
              "    var container;\n",
              "    var options, data;\n",
              "\n",
              "    \n",
              "    // This method is responsible for drawing the graph, returns the drawn network\n",
              "    function drawGraph() {\n",
              "        var container = document.getElementById('mynetwork');\n",
              "        \n",
              "        \n",
              "\n",
              "        // parsing and collecting nodes and edges from the python\n",
              "        nodes = new vis.DataSet([{\"color\": \"#FF0000\", \"id\": \"knowledge management\", \"label\": \"knowledge management\", \"shape\": \"circle\"}, {\"color\": \"#FF0000\", \"id\": \"knowledge repository\", \"label\": \"knowledge repository\", \"shape\": \"circle\"}, {\"color\": \"#FF0000\", \"id\": \"digital business\", \"label\": \"digital business\", \"shape\": \"circle\"}, {\"color\": \"#FF0000\", \"id\": \"digital platform\", \"label\": \"digital platform\", \"shape\": \"circle\"}, {\"color\": \"#FF0000\", \"id\": \"ERP software package\", \"label\": \"ERP software package\", \"shape\": \"circle\"}, {\"color\": \"#FF0000\", \"id\": \"Salesforce.com\", \"label\": \"Salesforce.com\", \"shape\": \"circle\"}, {\"color\": \"#FF0000\", \"id\": \"human centered design\", \"label\": \"human centered design\", \"shape\": \"circle\"}, {\"color\": \"#FF0000\", \"id\": \"participatory design\", \"label\": \"participatory design\", \"shape\": \"circle\"}, {\"color\": \"#FF0000\", \"id\": \"participant\", \"label\": \"participant\", \"shape\": \"circle\"}, {\"color\": \"#FF0000\", \"id\": \"group participant\", \"label\": \"group participant\", \"shape\": \"circle\"}, {\"color\": \"#FF0000\", \"id\": \"social media\", \"label\": \"social media\", \"shape\": \"circle\"}, {\"color\": \"#FF0000\", \"id\": \"blog\", \"label\": \"blog\", \"shape\": \"circle\"}, {\"color\": \"#FF0000\", \"id\": \"online community\", \"label\": \"online community\", \"shape\": \"circle\"}, {\"color\": \"#FF0000\", \"id\": \"social media site\", \"label\": \"social media site\", \"shape\": \"circle\"}, {\"color\": \"#FF0000\", \"id\": \"Reddit\", \"label\": \"Reddit\", \"shape\": \"circle\"}, {\"color\": \"#FF0000\", \"id\": \"model link\", \"label\": \"model link\", \"shape\": \"circle\"}, {\"color\": \"#FF0000\", \"id\": \"research hypothesis\", \"label\": \"research hypothesis\", \"shape\": \"circle\"}, {\"color\": \"#FF0000\", \"id\": \"economic theory\", \"label\": \"economic theory\", \"shape\": \"circle\"}, {\"color\": \"#FF0000\", \"id\": \"social exchange theory\", \"label\": \"social exchange theory\", \"shape\": \"circle\"}, {\"color\": \"#FF0000\", \"id\": \"individual participant\", \"label\": \"individual participant\", \"shape\": \"circle\"}, {\"color\": \"#FF0000\", \"id\": \"conceptual method\", \"label\": \"conceptual method\", \"shape\": \"circle\"}, {\"color\": \"#FF0000\", \"id\": \"literature study\", \"label\": \"literature study\", \"shape\": \"circle\"}, {\"color\": \"#FF0000\", \"id\": \"software license\", \"label\": \"software license\", \"shape\": \"circle\"}, {\"color\": \"#FF0000\", \"id\": \"open source\", \"label\": \"open source\", \"shape\": \"circle\"}, {\"color\": \"#FF0000\", \"id\": \"conceptual modelling\", \"label\": \"conceptual modelling\", \"shape\": \"circle\"}, {\"color\": \"#FF0000\", \"id\": \"knowledge type\", \"label\": \"knowledge type\", \"shape\": \"circle\"}, {\"color\": \"#FF0000\", \"id\": \"explicit knowledge\", \"label\": \"explicit knowledge\", \"shape\": \"circle\"}, {\"color\": \"#FF0000\", \"id\": \"knowledge sharing\", \"label\": \"knowledge sharing\", \"shape\": \"circle\"}, {\"color\": \"#FF0000\", \"id\": \"knowledge acquisition\", \"label\": \"knowledge acquisition\", \"shape\": \"circle\"}, {\"color\": \"#FF0000\", \"id\": \"numbered hypothesis\", \"label\": \"numbered hypothesis\", \"shape\": \"circle\"}, {\"color\": \"#FF0000\", \"id\": \"online word of mouth\", \"label\": \"online word of mouth\", \"shape\": \"circle\"}, {\"color\": \"#FF0000\", \"id\": \"online review\", \"label\": \"online review\", \"shape\": \"circle\"}, {\"color\": \"#FF0000\", \"id\": \"research method\", \"label\": \"research method\", \"shape\": \"circle\"}, {\"color\": \"#FF0000\", \"id\": \"data collection method\", \"label\": \"data collection method\", \"shape\": \"circle\"}, {\"color\": \"#FF0000\", \"id\": \"organizational impact\", \"label\": \"organizational impact\", \"shape\": \"circle\"}, {\"color\": \"#FF0000\", \"id\": \"competitive advantage\", \"label\": \"competitive advantage\", \"shape\": \"circle\"}, {\"color\": \"#FF0000\", \"id\": \"empirical qualitative method\", \"label\": \"empirical qualitative method\", \"shape\": \"circle\"}, {\"color\": \"#FF0000\", \"id\": \"qualitative interview\", \"label\": \"qualitative interview\", \"shape\": \"circle\"}, {\"color\": \"#FF0000\", \"id\": \"IS evaluation criteria\", \"label\": \"IS evaluation criteria\", \"shape\": \"circle\"}, {\"color\": \"#FF0000\", \"id\": \"productivity\", \"label\": \"productivity\", \"shape\": \"circle\"}, {\"color\": \"#FF0000\", \"id\": \"quantitative analysis tool\", \"label\": \"quantitative analysis tool\", \"shape\": \"circle\"}, {\"color\": \"#FF0000\", \"id\": \"SPSS\", \"label\": \"SPSS\", \"shape\": \"circle\"}, {\"color\": \"#FF0000\", \"id\": \"variable\", \"label\": \"variable\", \"shape\": \"circle\"}, {\"color\": \"#FF0000\", \"id\": \"independent variable\", \"label\": \"independent variable\", \"shape\": \"circle\"}, {\"color\": \"#FF0000\", \"id\": \"dependent variable\", \"label\": \"dependent variable\", \"shape\": \"circle\"}, {\"color\": \"#FF0000\", \"id\": \"measure of central tendency\", \"label\": \"measure of central tendency\", \"shape\": \"circle\"}, {\"color\": \"#FF0000\", \"id\": \"mean value\", \"label\": \"mean value\", \"shape\": \"circle\"}, {\"color\": \"#FF0000\", \"id\": \"control variable\", \"label\": \"control variable\", \"shape\": \"circle\"}, {\"color\": \"#FF0000\", \"id\": \"boundary spanning\", \"label\": \"boundary spanning\", \"shape\": \"circle\"}, {\"color\": \"#FF0000\", \"id\": \"time horizon of research\", \"label\": \"time horizon of research\", \"shape\": \"circle\"}, {\"color\": \"#FF0000\", \"id\": \"longitudinal research\", \"label\": \"longitudinal research\", \"shape\": \"circle\"}, {\"color\": \"#FF0000\", \"id\": \"quantitative analysis\", \"label\": \"quantitative analysis\", \"shape\": \"circle\"}, {\"color\": \"#FF0000\", \"id\": \"statistical hypothesis test\", \"label\": \"statistical hypothesis test\", \"shape\": \"circle\"}, {\"color\": \"#FF0000\", \"id\": \"model\", \"label\": \"model\", \"shape\": \"circle\"}, {\"color\": \"#FF0000\", \"id\": \"framework\", \"label\": \"framework\", \"shape\": \"circle\"}, {\"color\": \"#FF0000\", \"id\": \"study object\", \"label\": \"study object\", \"shape\": \"circle\"}, {\"color\": \"#FF0000\", \"id\": \"quantitative confidence value\", \"label\": \"quantitative confidence value\", \"shape\": \"circle\"}, {\"color\": \"#FF0000\", \"id\": \"p-value\", \"label\": \"p-value\", \"shape\": \"circle\"}, {\"color\": \"#FF0000\", \"id\": \"descriptive statistic\", \"label\": \"descriptive statistic\", \"shape\": \"circle\"}, {\"color\": \"#FF0000\", \"id\": \"statistical metric\", \"label\": \"statistical metric\", \"shape\": \"circle\"}, {\"color\": \"#FF0000\", \"id\": \"standardized regression coefficient\", \"label\": \"standardized regression coefficient\", \"shape\": \"circle\"}, {\"color\": \"#FF0000\", \"id\": \"NLP application\", \"label\": \"NLP application\", \"shape\": \"circle\"}, {\"color\": \"#FF0000\", \"id\": \"document generation\", \"label\": \"document generation\", \"shape\": \"circle\"}, {\"color\": \"#FF0000\", \"id\": \"research stage\", \"label\": \"research stage\", \"shape\": \"circle\"}, {\"color\": \"#FF0000\", \"id\": \"future research\", \"label\": \"future research\", \"shape\": \"circle\"}, {\"color\": \"#FF0000\", \"id\": \"programming language\", \"label\": \"programming language\", \"shape\": \"circle\"}, {\"color\": \"#FF0000\", \"id\": \"source code\", \"label\": \"source code\", \"shape\": \"circle\"}, {\"color\": \"#FF0000\", \"id\": \"business topic\", \"label\": \"business topic\", \"shape\": \"circle\"}, {\"color\": \"#FF0000\", \"id\": \"business model\", \"label\": \"business model\", \"shape\": \"circle\"}, {\"color\": \"#FF0000\", \"id\": \"knowledge creation\", \"label\": \"knowledge creation\", \"shape\": \"circle\"}, {\"color\": \"#FF0000\", \"id\": \"digital product\", \"label\": \"digital product\", \"shape\": \"circle\"}, {\"color\": \"#FF0000\", \"id\": \"model element\", \"label\": \"model element\", \"shape\": \"circle\"}, {\"color\": \"#FF0000\", \"id\": \"research question\", \"label\": \"research question\", \"shape\": \"circle\"}, {\"color\": \"#FF0000\", \"id\": \"enterprise information system\", \"label\": \"enterprise information system\", \"shape\": \"circle\"}, {\"color\": \"#FF0000\", \"id\": \"analytical information system\", \"label\": \"analytical information system\", \"shape\": \"circle\"}, {\"color\": \"#FF0000\", \"id\": \"domain specific entity\", \"label\": \"domain specific entity\", \"shape\": \"circle\"}, {\"color\": \"#FF0000\", \"id\": \"IS technology\", \"label\": \"IS technology\", \"shape\": \"circle\"}, {\"color\": \"#FF0000\", \"id\": \"knowledge management system\", \"label\": \"knowledge management system\", \"shape\": \"circle\"}, {\"color\": \"#FF0000\", \"id\": \"user evaluation criteria\", \"label\": \"user evaluation criteria\", \"shape\": \"circle\"}, {\"color\": \"#FF0000\", \"id\": \"information system use\", \"label\": \"information system use\", \"shape\": \"circle\"}, {\"color\": \"#FF0000\", \"id\": \"hardware\", \"label\": \"hardware\", \"shape\": \"circle\"}, {\"color\": \"#FF0000\", \"id\": \"computer system\", \"label\": \"computer system\", \"shape\": \"circle\"}, {\"color\": \"#FF0000\", \"id\": \"decision support system\", \"label\": \"decision support system\", \"shape\": \"circle\"}, {\"color\": \"#FF0000\", \"id\": \"executive information system\", \"label\": \"executive information system\", \"shape\": \"circle\"}, {\"color\": \"#FF0000\", \"id\": \"information technology infrastructure\", \"label\": \"information technology infrastructure\", \"shape\": \"circle\"}, {\"color\": \"#FF0000\", \"id\": \"communication service infrastructure\", \"label\": \"communication service infrastructure\", \"shape\": \"circle\"}, {\"color\": \"#FF0000\", \"id\": \"systems development\", \"label\": \"systems development\", \"shape\": \"circle\"}, {\"color\": \"#FF0000\", \"id\": \"systems design\", \"label\": \"systems design\", \"shape\": \"circle\"}, {\"color\": \"#FF0000\", \"id\": \"test of association between categorical variables\", \"label\": \"test of association between categorical variables\", \"shape\": \"circle\"}, {\"color\": \"#FF0000\", \"id\": \"Barnard\\u0027s exact test\", \"label\": \"Barnard\\u0027s exact test\", \"shape\": \"circle\"}, {\"color\": \"#FF0000\", \"id\": \"management theory\", \"label\": \"management theory\", \"shape\": \"circle\"}, {\"color\": \"#FF0000\", \"id\": \"theory of administrative behaviour\", \"label\": \"theory of administrative behaviour\", \"shape\": \"circle\"}, {\"color\": \"#FF0000\", \"id\": \"information retrieval system\", \"label\": \"information retrieval system\", \"shape\": \"circle\"}, {\"color\": \"#FF0000\", \"id\": \"information storage and retrieval system\", \"label\": \"information storage and retrieval system\", \"shape\": \"circle\"}, {\"color\": \"#FF0000\", \"id\": \"theoretical entity\", \"label\": \"theoretical entity\", \"shape\": \"circle\"}, {\"color\": \"#FF0000\", \"id\": \"theory\", \"label\": \"theory\", \"shape\": \"circle\"}, {\"color\": \"#FF0000\", \"id\": \"business process modeling\", \"label\": \"business process modeling\", \"shape\": \"circle\"}, {\"color\": \"#FF0000\", \"id\": \"taxonomy\", \"label\": \"taxonomy\", \"shape\": \"circle\"}, {\"color\": \"#FF0000\", \"id\": \"organizational theory\", \"label\": \"organizational theory\", \"shape\": \"circle\"}, {\"color\": \"#FF0000\", \"id\": \"organizational behavior theory\", \"label\": \"organizational behavior theory\", \"shape\": \"circle\"}, {\"color\": \"#FF0000\", \"id\": \"micro level\", \"label\": \"micro level\", \"shape\": \"circle\"}, {\"color\": \"#FF0000\", \"id\": \"group level\", \"label\": \"group level\", \"shape\": \"circle\"}, {\"color\": \"#FF0000\", \"id\": \"meso level\", \"label\": \"meso level\", \"shape\": \"circle\"}, {\"color\": \"#FF0000\", \"id\": \"firm level\", \"label\": \"firm level\", \"shape\": \"circle\"}, {\"color\": \"#FF0000\", \"id\": \"societal context\", \"label\": \"societal context\", \"shape\": \"circle\"}, {\"color\": \"#FF0000\", \"id\": \"organizational context\", \"label\": \"organizational context\", \"shape\": \"circle\"}, {\"color\": \"#FF0000\", \"id\": \"IT service management\", \"label\": \"IT service management\", \"shape\": \"circle\"}, {\"color\": \"#FF0000\", \"id\": \"system support\", \"label\": \"system support\", \"shape\": \"circle\"}, {\"color\": \"#FF0000\", \"id\": \"construct\", \"label\": \"construct\", \"shape\": \"circle\"}, {\"color\": \"#FF0000\", \"id\": \"research model\", \"label\": \"research model\", \"shape\": \"circle\"}, {\"color\": \"#FF0000\", \"id\": \"theoretical framework\", \"label\": \"theoretical framework\", \"shape\": \"circle\"}, {\"color\": \"#FF0000\", \"id\": \"IS topic\", \"label\": \"IS topic\", \"shape\": \"circle\"}, {\"color\": \"#FF0000\", \"id\": \"computer data storage\", \"label\": \"computer data storage\", \"shape\": \"circle\"}, {\"color\": \"#FF0000\", \"id\": \"IS impact\", \"label\": \"IS impact\", \"shape\": \"circle\"}, {\"color\": \"#FF0000\", \"id\": \"IS success\", \"label\": \"IS success\", \"shape\": \"circle\"}, {\"color\": \"#FF0000\", \"id\": \"ethnography\", \"label\": \"ethnography\", \"shape\": \"circle\"}, {\"color\": \"#FF0000\", \"id\": \"participative method\", \"label\": \"participative method\", \"shape\": \"circle\"}, {\"color\": \"#FF0000\", \"id\": \"design science\", \"label\": \"design science\", \"shape\": \"circle\"}, {\"color\": \"#FF0000\", \"id\": \"design methodology\", \"label\": \"design methodology\", \"shape\": \"circle\"}, {\"color\": \"#FF0000\", \"id\": \"system development method\", \"label\": \"system development method\", \"shape\": \"circle\"}, {\"color\": \"#FF0000\", \"id\": \"soft systems methodology\", \"label\": \"soft systems methodology\", \"shape\": \"circle\"}, {\"color\": \"#FF0000\", \"id\": \"digital innovation\", \"label\": \"digital innovation\", \"shape\": \"circle\"}, {\"color\": \"#FF0000\", \"id\": \"empirical quantitative method\", \"label\": \"empirical quantitative method\", \"shape\": \"circle\"}, {\"color\": \"#FF0000\", \"id\": \"experiment\", \"label\": \"experiment\", \"shape\": \"circle\"}, {\"color\": \"#FF0000\", \"id\": \"agile software development\", \"label\": \"agile software development\", \"shape\": \"circle\"}, {\"color\": \"#FF0000\", \"id\": \"IT project\", \"label\": \"IT project\", \"shape\": \"circle\"}, {\"color\": \"#FF0000\", \"id\": \"experimental design\", \"label\": \"experimental design\", \"shape\": \"circle\"}, {\"color\": \"#FF0000\", \"id\": \"software process improvement\", \"label\": \"software process improvement\", \"shape\": \"circle\"}, {\"color\": \"#FF0000\", \"id\": \"capability maturity model\", \"label\": \"capability maturity model\", \"shape\": \"circle\"}, {\"color\": \"#FF0000\", \"id\": \"capability maturity model integration\", \"label\": \"capability maturity model integration\", \"shape\": \"circle\"}, {\"color\": \"#FF0000\", \"id\": \"requirements analysis\", \"label\": \"requirements analysis\", \"shape\": \"circle\"}, {\"color\": \"#FF0000\", \"id\": \"requirements elicitation\", \"label\": \"requirements elicitation\", \"shape\": \"circle\"}, {\"color\": \"#FF0000\", \"id\": \"IT project management\", \"label\": \"IT project management\", \"shape\": \"circle\"}, {\"color\": \"#FF0000\", \"id\": \"systems analysis\", \"label\": \"systems analysis\", \"shape\": \"circle\"}, {\"color\": \"#FF0000\", \"id\": \"IT development project\", \"label\": \"IT development project\", \"shape\": \"circle\"}, {\"color\": \"#FF0000\", \"id\": \"business process management\", \"label\": \"business process management\", \"shape\": \"circle\"}, {\"color\": \"#FF0000\", \"id\": \"business process innovation\", \"label\": \"business process innovation\", \"shape\": \"circle\"}, {\"color\": \"#FF0000\", \"id\": \"pair programming\", \"label\": \"pair programming\", \"shape\": \"circle\"}, {\"color\": \"#FF0000\", \"id\": \"ICT industry\", \"label\": \"ICT industry\", \"shape\": \"circle\"}, {\"color\": \"#FF0000\", \"id\": \"software industry\", \"label\": \"software industry\", \"shape\": \"circle\"}, {\"color\": \"#FF0000\", \"id\": \"implicit knowledge\", \"label\": \"implicit knowledge\", \"shape\": \"circle\"}, {\"color\": \"#FF0000\", \"id\": \"design artifact\", \"label\": \"design artifact\", \"shape\": \"circle\"}, {\"color\": \"#FF0000\", \"id\": \"design process\", \"label\": \"design process\", \"shape\": \"circle\"}, {\"color\": \"#FF0000\", \"id\": \"qualitative analysis\", \"label\": \"qualitative analysis\", \"shape\": \"circle\"}, {\"color\": \"#FF0000\", \"id\": \"synthesis\", \"label\": \"synthesis\", \"shape\": \"circle\"}, {\"color\": \"#FF0000\", \"id\": \"cultural sector\", \"label\": \"cultural sector\", \"shape\": \"circle\"}, {\"color\": \"#FF0000\", \"id\": \"theatre\", \"label\": \"theatre\", \"shape\": \"circle\"}, {\"color\": \"#FF0000\", \"id\": \"simulation\", \"label\": \"simulation\", \"shape\": \"circle\"}, {\"color\": \"#FF0000\", \"id\": \"Six Sigma\", \"label\": \"Six Sigma\", \"shape\": \"circle\"}, {\"color\": \"#FF0000\", \"id\": \"desktop computer\", \"label\": \"desktop computer\", \"shape\": \"circle\"}, {\"color\": \"#FF0000\", \"id\": \"video conference\", \"label\": \"video conference\", \"shape\": \"circle\"}, {\"color\": \"#FF0000\", \"id\": \"online chat\", \"label\": \"online chat\", \"shape\": \"circle\"}, {\"color\": \"#FF0000\", \"id\": \"business evaluation criteria\", \"label\": \"business evaluation criteria\", \"shape\": \"circle\"}, {\"color\": \"#FF0000\", \"id\": \"idea generation\", \"label\": \"idea generation\", \"shape\": \"circle\"}, {\"color\": \"#FF0000\", \"id\": \"group decision support system\", \"label\": \"group decision support system\", \"shape\": \"circle\"}, {\"color\": \"#FF0000\", \"id\": \"electronic brainstorming\", \"label\": \"electronic brainstorming\", \"shape\": \"circle\"}, {\"color\": \"#FF0000\", \"id\": \"enterprise architecture\", \"label\": \"enterprise architecture\", \"shape\": \"circle\"}, {\"color\": \"#FF0000\", \"id\": \"Scrum\", \"label\": \"Scrum\", \"shape\": \"circle\"}, {\"color\": \"#FF0000\", \"id\": \"individual academic participant\", \"label\": \"individual academic participant\", \"shape\": \"circle\"}, {\"color\": \"#FF0000\", \"id\": \"survey\", \"label\": \"survey\", \"shape\": \"circle\"}, {\"color\": \"#FF0000\", \"id\": \"QDA software\", \"label\": \"QDA software\", \"shape\": \"circle\"}, {\"color\": \"#FF0000\", \"id\": \"TAMS Analyzer\", \"label\": \"TAMS Analyzer\", \"shape\": \"circle\"}, {\"color\": \"#FF0000\", \"id\": \"big data\", \"label\": \"big data\", \"shape\": \"circle\"}, {\"color\": \"#FF0000\", \"id\": \"telecommunications industry\", \"label\": \"telecommunications industry\", \"shape\": \"circle\"}, {\"color\": \"#FF0000\", \"id\": \"telephone service provider\", \"label\": \"telephone service provider\", \"shape\": \"circle\"}, {\"color\": \"#FF0000\", \"id\": \"network infrastructure\", \"label\": \"network infrastructure\", \"shape\": \"circle\"}, {\"color\": \"#FF0000\", \"id\": \"information systems strategy\", \"label\": \"information systems strategy\", \"shape\": \"circle\"}, {\"color\": \"#FF0000\", \"id\": \"data resource management\", \"label\": \"data resource management\", \"shape\": \"circle\"}, {\"color\": \"#FF0000\", \"id\": \"ease of use\", \"label\": \"ease of use\", \"shape\": \"circle\"}, {\"color\": \"#FF0000\", \"id\": \"usability\", \"label\": \"usability\", \"shape\": \"circle\"}, {\"color\": \"#FF0000\", \"id\": \"digital media\", \"label\": \"digital media\", \"shape\": \"circle\"}, {\"color\": \"#FF0000\", \"id\": \"service industry\", \"label\": \"service industry\", \"shape\": \"circle\"}, {\"color\": \"#FF0000\", \"id\": \"intermediation\", \"label\": \"intermediation\", \"shape\": \"circle\"}, {\"color\": \"#FF0000\", \"id\": \"privacy\", \"label\": \"privacy\", \"shape\": \"circle\"}, {\"color\": \"#FF0000\", \"id\": \"pseudonymity\", \"label\": \"pseudonymity\", \"shape\": \"circle\"}, {\"color\": \"#FF0000\", \"id\": \"wireless computer network\", \"label\": \"wireless computer network\", \"shape\": \"circle\"}, {\"color\": \"#FF0000\", \"id\": \"broadband cellular network\", \"label\": \"broadband cellular network\", \"shape\": \"circle\"}, {\"color\": \"#FF0000\", \"id\": \"case study\", \"label\": \"case study\", \"shape\": \"circle\"}, {\"color\": \"#FF0000\", \"id\": \"theory development\", \"label\": \"theory development\", \"shape\": \"circle\"}, {\"color\": \"#FF0000\", \"id\": \"data quality\", \"label\": \"data quality\", \"shape\": \"circle\"}, {\"color\": \"#FF0000\", \"id\": \"unsupervised learning\", \"label\": \"unsupervised learning\", \"shape\": \"circle\"}, {\"color\": \"#FF0000\", \"id\": \"cluster analysis\", \"label\": \"cluster analysis\", \"shape\": \"circle\"}, {\"color\": \"#FF0000\", \"id\": \"field study\", \"label\": \"field study\", \"shape\": \"circle\"}, {\"color\": \"#FF0000\", \"id\": \"economic sector\", \"label\": \"economic sector\", \"shape\": \"circle\"}, {\"color\": \"#FF0000\", \"id\": \"media industry\", \"label\": \"media industry\", \"shape\": \"circle\"}, {\"color\": \"#FF0000\", \"id\": \"mobile system\", \"label\": \"mobile system\", \"shape\": \"circle\"}, {\"color\": \"#FF0000\", \"id\": \"mobile phone\", \"label\": \"mobile phone\", \"shape\": \"circle\"}, {\"color\": \"#FF0000\", \"id\": \"smart card\", \"label\": \"smart card\", \"shape\": \"circle\"}, {\"color\": \"#FF0000\", \"id\": \"SIM card\", \"label\": \"SIM card\", \"shape\": \"circle\"}, {\"color\": \"#FF0000\", \"id\": \"company type\", \"label\": \"company type\", \"shape\": \"circle\"}, {\"color\": \"#FF0000\", \"id\": \"small and mid-size enterprise\", \"label\": \"small and mid-size enterprise\", \"shape\": \"circle\"}, {\"color\": \"#FF0000\", \"id\": \"qualitativ observational study\", \"label\": \"qualitativ observational study\", \"shape\": \"circle\"}, {\"color\": \"#FF0000\", \"id\": \"participant observation\", \"label\": \"participant observation\", \"shape\": \"circle\"}, {\"color\": \"#FF0000\", \"id\": \"archival research\", \"label\": \"archival research\", \"shape\": \"circle\"}, {\"color\": \"#FF0000\", \"id\": \"company material\", \"label\": \"company material\", \"shape\": \"circle\"}, {\"color\": \"#FF0000\", \"id\": \"methodological entity\", \"label\": \"methodological entity\", \"shape\": \"circle\"}, {\"color\": \"#FF0000\", \"id\": \"data analysis method\", \"label\": \"data analysis method\", \"shape\": \"circle\"}, {\"color\": \"#FF0000\", \"id\": \"qualitative content analysis\", \"label\": \"qualitative content analysis\", \"shape\": \"circle\"}, {\"color\": \"#FF0000\", \"id\": \"narrative analysis\", \"label\": \"narrative analysis\", \"shape\": \"circle\"}, {\"color\": \"#FF0000\", \"id\": \"organizational participant\", \"label\": \"organizational participant\", \"shape\": \"circle\"}, {\"color\": \"#FF0000\", \"id\": \"advertising industry and opinion polling\", \"label\": \"advertising industry and opinion polling\", \"shape\": \"circle\"}, {\"color\": \"#FF0000\", \"id\": \"advertising industry\", \"label\": \"advertising industry\", \"shape\": \"circle\"}, {\"color\": \"#FF0000\", \"id\": \"internet technology\", \"label\": \"internet technology\", \"shape\": \"circle\"}, {\"color\": \"#FF0000\", \"id\": \"online marketing\", \"label\": \"online marketing\", \"shape\": \"circle\"}, {\"color\": \"#FF0000\", \"id\": \"online advertising\", \"label\": \"online advertising\", \"shape\": \"circle\"}, {\"color\": \"#FF0000\", \"id\": \"website\", \"label\": \"website\", \"shape\": \"circle\"}, {\"color\": \"#FF0000\", \"id\": \"web page\", \"label\": \"web page\", \"shape\": \"circle\"}, {\"color\": \"#FF0000\", \"id\": \"media market\", \"label\": \"media market\", \"shape\": \"circle\"}, {\"color\": \"#FF0000\", \"id\": \"database system\", \"label\": \"database system\", \"shape\": \"circle\"}, {\"color\": \"#FF0000\", \"id\": \"relational database\", \"label\": \"relational database\", \"shape\": \"circle\"}, {\"color\": \"#FF0000\", \"id\": \"office information system\", \"label\": \"office information system\", \"shape\": \"circle\"}, {\"color\": \"#FF0000\", \"id\": \"spreadsheet\", \"label\": \"spreadsheet\", \"shape\": \"circle\"}, {\"color\": \"#FF0000\", \"id\": \"telephone\", \"label\": \"telephone\", \"shape\": \"circle\"}, {\"color\": \"#FF0000\", \"id\": \"world wide web\", \"label\": \"world wide web\", \"shape\": \"circle\"}, {\"color\": \"#FF0000\", \"id\": \"IT workforce\", \"label\": \"IT workforce\", \"shape\": \"circle\"}, {\"color\": \"#FF0000\", \"id\": \"IT skill\", \"label\": \"IT skill\", \"shape\": \"circle\"}, {\"color\": \"#FF0000\", \"id\": \"information systems theory\", \"label\": \"information systems theory\", \"shape\": \"circle\"}, {\"color\": \"#FF0000\", \"id\": \"representation theory\", \"label\": \"representation theory\", \"shape\": \"circle\"}, {\"color\": \"#FF0000\", \"id\": \"data integration\", \"label\": \"data integration\", \"shape\": \"circle\"}, {\"color\": \"#FF0000\", \"id\": \"IT personell turnover\", \"label\": \"IT personell turnover\", \"shape\": \"circle\"}, {\"color\": \"#FF0000\", \"id\": \"machine learning\", \"label\": \"machine learning\", \"shape\": \"circle\"}, {\"color\": \"#FF0000\", \"id\": \"information systems standardization\", \"label\": \"information systems standardization\", \"shape\": \"circle\"}, {\"color\": \"#FF0000\", \"id\": \"communication theory\", \"label\": \"communication theory\", \"shape\": \"circle\"}, {\"color\": \"#FF0000\", \"id\": \"semiotics\", \"label\": \"semiotics\", \"shape\": \"circle\"}, {\"color\": \"#FF0000\", \"id\": \"health information system\", \"label\": \"health information system\", \"shape\": \"circle\"}, {\"color\": \"#FF0000\", \"id\": \"healthcare data\", \"label\": \"healthcare data\", \"shape\": \"circle\"}, {\"color\": \"#FF0000\", \"id\": \"digital ecosystem\", \"label\": \"digital ecosystem\", \"shape\": \"circle\"}, {\"color\": \"#FF0000\", \"id\": \"data modeling\", \"label\": \"data modeling\", \"shape\": \"circle\"}, {\"color\": \"#FF0000\", \"id\": \"experimental validity\", \"label\": \"experimental validity\", \"shape\": \"circle\"}, {\"color\": \"#FF0000\", \"id\": \"external validity\", \"label\": \"external validity\", \"shape\": \"circle\"}, {\"color\": \"#FF0000\", \"id\": \"electronic mail\", \"label\": \"electronic mail\", \"shape\": \"circle\"}, {\"color\": \"#FF0000\", \"id\": \"mathematical model\", \"label\": \"mathematical model\", \"shape\": \"circle\"}, {\"color\": \"#FF0000\", \"id\": \"sampling\", \"label\": \"sampling\", \"shape\": \"circle\"}, {\"color\": \"#FF0000\", \"id\": \"anonymity\", \"label\": \"anonymity\", \"shape\": \"circle\"}, {\"color\": \"#FF0000\", \"id\": \"realism\", \"label\": \"realism\", \"shape\": \"circle\"}, {\"color\": \"#FF0000\", \"id\": \"critical realism\", \"label\": \"critical realism\", \"shape\": \"circle\"}, {\"color\": \"#FF0000\", \"id\": \"mobile network operator\", \"label\": \"mobile network operator\", \"shape\": \"circle\"}, {\"color\": \"#FF0000\", \"id\": \"research paradigm\", \"label\": \"research paradigm\", \"shape\": \"circle\"}, {\"color\": \"#FF0000\", \"id\": \"sociological theory\", \"label\": \"sociological theory\", \"shape\": \"circle\"}, {\"color\": \"#FF0000\", \"id\": \"structuration theory\", \"label\": \"structuration theory\", \"shape\": \"circle\"}, {\"color\": \"#FF0000\", \"id\": \"actor network theory\", \"label\": \"actor network theory\", \"shape\": \"circle\"}, {\"color\": \"#FF0000\", \"id\": \"sociomaterialism theory\", \"label\": \"sociomaterialism theory\", \"shape\": \"circle\"}, {\"color\": \"#FF0000\", \"id\": \"ontological modelling\", \"label\": \"ontological modelling\", \"shape\": \"circle\"}, {\"color\": \"#FF0000\", \"id\": \"qualitative coding\", \"label\": \"qualitative coding\", \"shape\": \"circle\"}, {\"color\": \"#FF0000\", \"id\": \"triangulation\", \"label\": \"triangulation\", \"shape\": \"circle\"}, {\"color\": \"#FF0000\", \"id\": \"operational information system\", \"label\": \"operational information system\", \"shape\": \"circle\"}, {\"color\": \"#FF0000\", \"id\": \"Excel\", \"label\": \"Excel\", \"shape\": \"circle\"}, {\"color\": \"#FF0000\", \"id\": \"digital observation\", \"label\": \"digital observation\", \"shape\": \"circle\"}, {\"color\": \"#FF0000\", \"id\": \"digital trace data\", \"label\": \"digital trace data\", \"shape\": \"circle\"}, {\"color\": \"#FF0000\", \"id\": \"human\\u2013computer interaction\", \"label\": \"human\\u2013computer interaction\", \"shape\": \"circle\"}, {\"color\": \"#FF0000\", \"id\": \"user interface\", \"label\": \"user interface\", \"shape\": \"circle\"}, {\"color\": \"#FF0000\", \"id\": \"alternative hypothesis\", \"label\": \"alternative hypothesis\", \"shape\": \"circle\"}, {\"color\": \"#FF0000\", \"id\": \"IS evaluation\", \"label\": \"IS evaluation\", \"shape\": \"circle\"}, {\"color\": \"#FF0000\", \"id\": \"evaluation criteria\", \"label\": \"evaluation criteria\", \"shape\": \"circle\"}, {\"color\": \"#FF0000\", \"id\": \"single case study\", \"label\": \"single case study\", \"shape\": \"circle\"}, {\"color\": \"#FF0000\", \"id\": \"insurance industry\", \"label\": \"insurance industry\", \"shape\": \"circle\"}, {\"color\": \"#FF0000\", \"id\": \"wiki\", \"label\": \"wiki\", \"shape\": \"circle\"}, {\"color\": \"#FF0000\", \"id\": \"Wikipedia\", \"label\": \"Wikipedia\", \"shape\": \"circle\"}, {\"color\": \"#FF0000\", \"id\": \"healthcare industry\", \"label\": \"healthcare industry\", \"shape\": \"circle\"}, {\"color\": \"#FF0000\", \"id\": \"electronic health record\", \"label\": \"electronic health record\", \"shape\": \"circle\"}, {\"color\": \"#FF0000\", \"id\": \"design principle\", \"label\": \"design principle\", \"shape\": \"circle\"}, {\"color\": \"#FF0000\", \"id\": \"government\", \"label\": \"government\", \"shape\": \"circle\"}, {\"color\": \"#FF0000\", \"id\": \"systems implementation\", \"label\": \"systems implementation\", \"shape\": \"circle\"}, {\"color\": \"#FF0000\", \"id\": \"design theory\", \"label\": \"design theory\", \"shape\": \"circle\"}, {\"color\": \"#FF0000\", \"id\": \"network effect\", \"label\": \"network effect\", \"shape\": \"circle\"}, {\"color\": \"#FF0000\", \"id\": \"enabling capability\", \"label\": \"enabling capability\", \"shape\": \"circle\"}, {\"color\": \"#FF0000\", \"id\": \"information technology capability\", \"label\": \"information technology capability\", \"shape\": \"circle\"}, {\"color\": \"#FF0000\", \"id\": \"interorganizational system\", \"label\": \"interorganizational system\", \"shape\": \"circle\"}, {\"color\": \"#FF0000\", \"id\": \"information exchange\", \"label\": \"information exchange\", \"shape\": \"circle\"}, {\"color\": \"#FF0000\", \"id\": \"electronic data interchange\", \"label\": \"electronic data interchange\", \"shape\": \"circle\"}, {\"color\": \"#FF0000\", \"id\": \"industry specific information system\", \"label\": \"industry specific information system\", \"shape\": \"circle\"}, {\"color\": \"#FF0000\", \"id\": \"legal context\", \"label\": \"legal context\", \"shape\": \"circle\"}, {\"color\": \"#FF0000\", \"id\": \"modeling language\", \"label\": \"modeling language\", \"shape\": \"circle\"}, {\"color\": \"#FF0000\", \"id\": \"unified modeling language\", \"label\": \"unified modeling language\", \"shape\": \"circle\"}, {\"color\": \"#FF0000\", \"id\": \"pilot study\", \"label\": \"pilot study\", \"shape\": \"circle\"}, {\"color\": \"#FF0000\", \"id\": \"chemical industry\", \"label\": \"chemical industry\", \"shape\": \"circle\"}, {\"color\": \"#FF0000\", \"id\": \"pharmaceutical industry\", \"label\": \"pharmaceutical industry\", \"shape\": \"circle\"}, {\"color\": \"#FF0000\", \"id\": \"information sharing protocol\", \"label\": \"information sharing protocol\", \"shape\": \"circle\"}, {\"color\": \"#FF0000\", \"id\": \"extensible markup language\", \"label\": \"extensible markup language\", \"shape\": \"circle\"}, {\"color\": \"#FF0000\", \"id\": \"network technology\", \"label\": \"network technology\", \"shape\": \"circle\"}, {\"color\": \"#FF0000\", \"id\": \"IT work\", \"label\": \"IT work\", \"shape\": \"circle\"}, {\"color\": \"#FF0000\", \"id\": \"computer supported cooperative work\", \"label\": \"computer supported cooperative work\", \"shape\": \"circle\"}, {\"color\": \"#FF0000\", \"id\": \"private sector\", \"label\": \"private sector\", \"shape\": \"circle\"}, {\"color\": \"#FF0000\", \"id\": \"electronic authentication\", \"label\": \"electronic authentication\", \"shape\": \"circle\"}, {\"color\": \"#FF0000\", \"id\": \"biometric\", \"label\": \"biometric\", \"shape\": \"circle\"}, {\"color\": \"#FF0000\", \"id\": \"government system\", \"label\": \"government system\", \"shape\": \"circle\"}, {\"color\": \"#FF0000\", \"id\": \"digital divide\", \"label\": \"digital divide\", \"shape\": \"circle\"}, {\"color\": \"#FF0000\", \"id\": \"information and communication technology for development\", \"label\": \"information and communication technology for development\", \"shape\": \"circle\"}, {\"color\": \"#FF0000\", \"id\": \"action research\", \"label\": \"action research\", \"shape\": \"circle\"}, {\"color\": \"#FF0000\", \"id\": \"organizational memory\", \"label\": \"organizational memory\", \"shape\": \"circle\"}, {\"color\": \"#FF0000\", \"id\": \"organization learning\", \"label\": \"organization learning\", \"shape\": \"circle\"}, {\"color\": \"#FF0000\", \"id\": \"organizational value\", \"label\": \"organizational value\", \"shape\": \"circle\"}, {\"color\": \"#FF0000\", \"id\": \"personal computer\", \"label\": \"personal computer\", \"shape\": \"circle\"}, {\"color\": \"#FF0000\", \"id\": \"financial sector\", \"label\": \"financial sector\", \"shape\": \"circle\"}, {\"color\": \"#FF0000\", \"id\": \"banking industry\", \"label\": \"banking industry\", \"shape\": \"circle\"}, {\"color\": \"#FF0000\", \"id\": \"artificial intelligence\", \"label\": \"artificial intelligence\", \"shape\": \"circle\"}, {\"color\": \"#FF0000\", \"id\": \"knowledge representation\", \"label\": \"knowledge representation\", \"shape\": \"circle\"}, {\"color\": \"#FF0000\", \"id\": \"non governmental organisation\", \"label\": \"non governmental organisation\", \"shape\": \"circle\"}, {\"color\": \"#FF0000\", \"id\": \"open source software project\", \"label\": \"open source software project\", \"shape\": \"circle\"}, {\"color\": \"#FF0000\", \"id\": \"electronic health\", \"label\": \"electronic health\", \"shape\": \"circle\"}, {\"color\": \"#FF0000\", \"id\": \"intellectual property\", \"label\": \"intellectual property\", \"shape\": \"circle\"}, {\"color\": \"#FF0000\", \"id\": \"types of work\", \"label\": \"types of work\", \"shape\": \"circle\"}, {\"color\": \"#FF0000\", \"id\": \"anthropogenic hazard\", \"label\": \"anthropogenic hazard\", \"shape\": \"circle\"}, {\"color\": \"#FF0000\", \"id\": \"power outage\", \"label\": \"power outage\", \"shape\": \"circle\"}, {\"color\": \"#FF0000\", \"id\": \"technical IT security defense\", \"label\": \"technical IT security defense\", \"shape\": \"circle\"}, {\"color\": \"#FF0000\", \"id\": \"backup\", \"label\": \"backup\", \"shape\": \"circle\"}, {\"color\": \"#FF0000\", \"id\": \"IT security category\", \"label\": \"IT security category\", \"shape\": \"circle\"}, {\"color\": \"#FF0000\", \"id\": \"data security\", \"label\": \"data security\", \"shape\": \"circle\"}, {\"color\": \"#FF0000\", \"id\": \"disaster recovery\", \"label\": \"disaster recovery\", \"shape\": \"circle\"}, {\"color\": \"#FF0000\", \"id\": \"wired network technology\", \"label\": \"wired network technology\", \"shape\": \"circle\"}, {\"color\": \"#FF0000\", \"id\": \"local area network\", \"label\": \"local area network\", \"shape\": \"circle\"}, {\"color\": \"#FF0000\", \"id\": \"data warehouse\", \"label\": \"data warehouse\", \"shape\": \"circle\"}, {\"color\": \"#FF0000\", \"id\": \"information portal\", \"label\": \"information portal\", \"shape\": \"circle\"}, {\"color\": \"#FF0000\", \"id\": \"IS education\", \"label\": \"IS education\", \"shape\": \"circle\"}, {\"color\": \"#FF0000\", \"id\": \"digital literacy\", \"label\": \"digital literacy\", \"shape\": \"circle\"}, {\"color\": \"#FF0000\", \"id\": \"macro level\", \"label\": \"macro level\", \"shape\": \"circle\"}, {\"color\": \"#FF0000\", \"id\": \"country level\", \"label\": \"country level\", \"shape\": \"circle\"}, {\"color\": \"#FF0000\", \"id\": \"IS sourcing\", \"label\": \"IS sourcing\", \"shape\": \"circle\"}, {\"color\": \"#FF0000\", \"id\": \"outsourcing\", \"label\": \"outsourcing\", \"shape\": \"circle\"}, {\"color\": \"#FF0000\", \"id\": \"system maintenance\", \"label\": \"system maintenance\", \"shape\": \"circle\"}, {\"color\": \"#FF0000\", \"id\": \"business intelligence\", \"label\": \"business intelligence\", \"shape\": \"circle\"}, {\"color\": \"#FF0000\", \"id\": \"bourses and securities trading\", \"label\": \"bourses and securities trading\", \"shape\": \"circle\"}, {\"color\": \"#FF0000\", \"id\": \"rating agency\", \"label\": \"rating agency\", \"shape\": \"circle\"}, {\"color\": \"#FF0000\", \"id\": \"kernel theory\", \"label\": \"kernel theory\", \"shape\": \"circle\"}, {\"color\": \"#FF0000\", \"id\": \"machine learning method\", \"label\": \"machine learning method\", \"shape\": \"circle\"}, {\"color\": \"#FF0000\", \"id\": \"semi supervised learning\", \"label\": \"semi supervised learning\", \"shape\": \"circle\"}, {\"color\": \"#FF0000\", \"id\": \"supervised learning\", \"label\": \"supervised learning\", \"shape\": \"circle\"}, {\"color\": \"#FF0000\", \"id\": \"classification method\", \"label\": \"classification method\", \"shape\": \"circle\"}, {\"color\": \"#FF0000\", \"id\": \"confusion matrix based metric\", \"label\": \"confusion matrix based metric\", \"shape\": \"circle\"}, {\"color\": \"#FF0000\", \"id\": \"classification accuracy\", \"label\": \"classification accuracy\", \"shape\": \"circle\"}, {\"color\": \"#FF0000\", \"id\": \"regression analysis method\", \"label\": \"regression analysis method\", \"shape\": \"circle\"}, {\"color\": \"#FF0000\", \"id\": \"logistic regression\", \"label\": \"logistic regression\", \"shape\": \"circle\"}, {\"color\": \"#FF0000\", \"id\": \"artificial neural network\", \"label\": \"artificial neural network\", \"shape\": \"circle\"}, {\"color\": \"#FF0000\", \"id\": \"discriminant analysis\", \"label\": \"discriminant analysis\", \"shape\": \"circle\"}, {\"color\": \"#FF0000\", \"id\": \"decision tree classification\", \"label\": \"decision tree classification\", \"shape\": \"circle\"}, {\"color\": \"#FF0000\", \"id\": \"probabilistic graphical model\", \"label\": \"probabilistic graphical model\", \"shape\": \"circle\"}, {\"color\": \"#FF0000\", \"id\": \"Bayesian network\", \"label\": \"Bayesian network\", \"shape\": \"circle\"}, {\"color\": \"#FF0000\", \"id\": \"support vector machine\", \"label\": \"support vector machine\", \"shape\": \"circle\"}, {\"color\": \"#FF0000\", \"id\": \"manufacturing industry\", \"label\": \"manufacturing industry\", \"shape\": \"circle\"}, {\"color\": \"#FF0000\", \"id\": \"bourse\", \"label\": \"bourse\", \"shape\": \"circle\"}, {\"color\": \"#FF0000\", \"id\": \"design guideline\", \"label\": \"design guideline\", \"shape\": \"circle\"}, {\"color\": \"#FF0000\", \"id\": \"machine learning process\", \"label\": \"machine learning process\", \"shape\": \"circle\"}, {\"color\": \"#FF0000\", \"id\": \"organizational productivity\", \"label\": \"organizational productivity\", \"shape\": \"circle\"}, {\"color\": \"#FF0000\", \"id\": \"financial performance\", \"label\": \"financial performance\", \"shape\": \"circle\"}, {\"color\": \"#FF0000\", \"id\": \"f-measure\", \"label\": \"f-measure\", \"shape\": \"circle\"}, {\"color\": \"#FF0000\", \"id\": \"precision and recall\", \"label\": \"precision and recall\", \"shape\": \"circle\"}, {\"color\": \"#FF0000\", \"id\": \"statistical significance\", \"label\": \"statistical significance\", \"shape\": \"circle\"}, {\"color\": \"#FF0000\", \"id\": \"significant difference\", \"label\": \"significant difference\", \"shape\": \"circle\"}, {\"color\": \"#FF0000\", \"id\": \"false positive rate\", \"label\": \"false positive rate\", \"shape\": \"circle\"}, {\"color\": \"#FF0000\", \"id\": \"false negative rate\", \"label\": \"false negative rate\", \"shape\": \"circle\"}, {\"color\": \"#FF0000\", \"id\": \"financial archival database\", \"label\": \"financial archival database\", \"shape\": \"circle\"}, {\"color\": \"#FF0000\", \"id\": \"Compustat\", \"label\": \"Compustat\", \"shape\": \"circle\"}, {\"color\": \"#FF0000\", \"id\": \"reference modelling\", \"label\": \"reference modelling\", \"shape\": \"circle\"}, {\"color\": \"#FF0000\", \"id\": \"Bayesian analysis\", \"label\": \"Bayesian analysis\", \"shape\": \"circle\"}, {\"color\": \"#FF0000\", \"id\": \"na\\u00efve bayes\", \"label\": \"na\\u00efve bayes\", \"shape\": \"circle\"}, {\"color\": \"#FF0000\", \"id\": \"bagging method\", \"label\": \"bagging method\", \"shape\": \"circle\"}, {\"color\": \"#FF0000\", \"id\": \"random forest classification\", \"label\": \"random forest classification\", \"shape\": \"circle\"}, {\"color\": \"#FF0000\", \"id\": \"probabilistic sampling\", \"label\": \"probabilistic sampling\", \"shape\": \"circle\"}, {\"color\": \"#FF0000\", \"id\": \"cross validation\", \"label\": \"cross validation\", \"shape\": \"circle\"}, {\"color\": \"#FF0000\", \"id\": \"area under the curve\", \"label\": \"area under the curve\", \"shape\": \"circle\"}, {\"color\": \"#FF0000\", \"id\": \"ROC curve\", \"label\": \"ROC curve\", \"shape\": \"circle\"}, {\"color\": \"#FF0000\", \"id\": \"Student\\u0027s t-test\", \"label\": \"Student\\u0027s t-test\", \"shape\": \"circle\"}, {\"color\": \"#FF0000\", \"id\": \"paired t-test\", \"label\": \"paired t-test\", \"shape\": \"circle\"}, {\"color\": \"#FF0000\", \"id\": \"statistical significance result\", \"label\": \"statistical significance result\", \"shape\": \"circle\"}, {\"color\": \"#FF0000\", \"id\": \"no statistical significance\", \"label\": \"no statistical significance\", \"shape\": \"circle\"}, {\"color\": \"#FF0000\", \"id\": \"goodness of fit index\", \"label\": \"goodness of fit index\", \"shape\": \"circle\"}, {\"color\": \"#FF0000\", \"id\": \"coefficient of determination\", \"label\": \"coefficient of determination\", \"shape\": \"circle\"}, {\"color\": \"#FF0000\", \"id\": \"confusion matrix\", \"label\": \"confusion matrix\", \"shape\": \"circle\"}, {\"color\": \"#FF0000\", \"id\": \"post analysis\", \"label\": \"post analysis\", \"shape\": \"circle\"}, {\"color\": \"#FF0000\", \"id\": \"sensitivity analysis\", \"label\": \"sensitivity analysis\", \"shape\": \"circle\"}, {\"color\": \"#FF0000\", \"id\": \"individual impact\", \"label\": \"individual impact\", \"shape\": \"circle\"}, {\"color\": \"#FF0000\", \"id\": \"trade sector\", \"label\": \"trade sector\", \"shape\": \"circle\"}, {\"color\": \"#FF0000\", \"id\": \"standard score\", \"label\": \"standard score\", \"shape\": \"circle\"}, {\"color\": \"#FF0000\", \"id\": \"k-nearest neighbor\", \"label\": \"k-nearest neighbor\", \"shape\": \"circle\"}, {\"color\": \"#FF0000\", \"id\": \"electronic business\", \"label\": \"electronic business\", \"shape\": \"circle\"}, {\"color\": \"#FF0000\", \"id\": \"electronic market\", \"label\": \"electronic market\", \"shape\": \"circle\"}, {\"color\": \"#FF0000\", \"id\": \"co-citation analysis\", \"label\": \"co-citation analysis\", \"shape\": \"circle\"}, {\"color\": \"#FF0000\", \"id\": \"IT supported collaboration\", \"label\": \"IT supported collaboration\", \"shape\": \"circle\"}, {\"color\": \"#FF0000\", \"id\": \"group support system\", \"label\": \"group support system\", \"shape\": \"circle\"}, {\"color\": \"#FF0000\", \"id\": \"online reputation system\", \"label\": \"online reputation system\", \"shape\": \"circle\"}, {\"color\": \"#FF0000\", \"id\": \"online auction\", \"label\": \"online auction\", \"shape\": \"circle\"}, {\"color\": \"#FF0000\", \"id\": \"internet fraud\", \"label\": \"internet fraud\", \"shape\": \"circle\"}, {\"color\": \"#FF0000\", \"id\": \"web forum\", \"label\": \"web forum\", \"shape\": \"circle\"}, {\"color\": \"#FF0000\", \"id\": \"access control\", \"label\": \"access control\", \"shape\": \"circle\"}, {\"color\": \"#FF0000\", \"id\": \"recommender system\", \"label\": \"recommender system\", \"shape\": \"circle\"}, {\"color\": \"#FF0000\", \"id\": \"collaborative filtering\", \"label\": \"collaborative filtering\", \"shape\": \"circle\"}, {\"color\": \"#FF0000\", \"id\": \"graph analysis\", \"label\": \"graph analysis\", \"shape\": \"circle\"}, {\"color\": \"#FF0000\", \"id\": \"social network analysis\", \"label\": \"social network analysis\", \"shape\": \"circle\"}, {\"color\": \"#FF0000\", \"id\": \"part of speech tagging\", \"label\": \"part of speech tagging\", \"shape\": \"circle\"}, {\"color\": \"#FF0000\", \"id\": \"portable computer\", \"label\": \"portable computer\", \"shape\": \"circle\"}, {\"color\": \"#FF0000\", \"id\": \"laptop computer\", \"label\": \"laptop computer\", \"shape\": \"circle\"}, {\"color\": \"#FF0000\", \"id\": \"dimensionality reduction\", \"label\": \"dimensionality reduction\", \"shape\": \"circle\"}, {\"color\": \"#FF0000\", \"id\": \"principal component analysis\", \"label\": \"principal component analysis\", \"shape\": \"circle\"}, {\"color\": \"#FF0000\", \"id\": \"stochastic model\", \"label\": \"stochastic model\", \"shape\": \"circle\"}, {\"color\": \"#FF0000\", \"id\": \"Markov model\", \"label\": \"Markov model\", \"shape\": \"circle\"}, {\"color\": \"#FF0000\", \"id\": \"statistical distance\", \"label\": \"statistical distance\", \"shape\": \"circle\"}, {\"color\": \"#FF0000\", \"id\": \"cross entropy\", \"label\": \"cross entropy\", \"shape\": \"circle\"}, {\"color\": \"#FF0000\", \"id\": \"numbered research question\", \"label\": \"numbered research question\", \"shape\": \"circle\"}, {\"color\": \"#FF0000\", \"id\": \"web application\", \"label\": \"web application\", \"shape\": \"circle\"}, {\"color\": \"#FF0000\", \"id\": \"individual level\", \"label\": \"individual level\", \"shape\": \"circle\"}, {\"color\": \"#FF0000\", \"id\": \"frequency of use\", \"label\": \"frequency of use\", \"shape\": \"circle\"}, {\"color\": \"#FF0000\", \"id\": \"machine translation\", \"label\": \"machine translation\", \"shape\": \"circle\"}, {\"color\": \"#FF0000\", \"id\": \"validity\", \"label\": \"validity\", \"shape\": \"circle\"}, {\"color\": \"#FF0000\", \"id\": \"existing ontologies\", \"label\": \"existing ontologies\", \"shape\": \"circle\"}, {\"color\": \"#FF0000\", \"id\": \"WordNet\", \"label\": \"WordNet\", \"shape\": \"circle\"}, {\"color\": \"#FF0000\", \"id\": \"random sampling\", \"label\": \"random sampling\", \"shape\": \"circle\"}, {\"color\": \"#FF0000\", \"id\": \"IT security threat\", \"label\": \"IT security threat\", \"shape\": \"circle\"}, {\"color\": \"#FF0000\", \"id\": \"phishing\", \"label\": \"phishing\", \"shape\": \"circle\"}, {\"color\": \"#FF0000\", \"id\": \"phishing website\", \"label\": \"phishing website\", \"shape\": \"circle\"}, {\"color\": \"#FF0000\", \"id\": \"hierarchical linear modeling\", \"label\": \"hierarchical linear modeling\", \"shape\": \"circle\"}, {\"color\": \"#FF0000\", \"id\": \"field experiment\", \"label\": \"field experiment\", \"shape\": \"circle\"}, {\"color\": \"#FF0000\", \"id\": \"IS evaluation method\", \"label\": \"IS evaluation method\", \"shape\": \"circle\"}, {\"color\": \"#FF0000\", \"id\": \"cost benefit analysis\", \"label\": \"cost benefit analysis\", \"shape\": \"circle\"}, {\"color\": \"#FF0000\", \"id\": \"IT job category\", \"label\": \"IT job category\", \"shape\": \"circle\"}, {\"color\": \"#FF0000\", \"id\": \"IT manager\", \"label\": \"IT manager\", \"shape\": \"circle\"}, {\"color\": \"#FF0000\", \"id\": \"organizational IT security defense\", \"label\": \"organizational IT security defense\", \"shape\": \"circle\"}, {\"color\": \"#FF0000\", \"id\": \"security policy\", \"label\": \"security policy\", \"shape\": \"circle\"}, {\"color\": \"#FF0000\", \"id\": \"IT security\", \"label\": \"IT security\", \"shape\": \"circle\"}, {\"color\": \"#FF0000\", \"id\": \"information systems usefulness\", \"label\": \"information systems usefulness\", \"shape\": \"circle\"}, {\"color\": \"#FF0000\", \"id\": \"perceived usefulness\", \"label\": \"perceived usefulness\", \"shape\": \"circle\"}, {\"color\": \"#FF0000\", \"id\": \"email phishing\", \"label\": \"email phishing\", \"shape\": \"circle\"}, {\"color\": \"#FF0000\", \"id\": \"electronic commerce\", \"label\": \"electronic commerce\", \"shape\": \"circle\"}, {\"color\": \"#FF0000\", \"id\": \"information retrieval\", \"label\": \"information retrieval\", \"shape\": \"circle\"}, {\"color\": \"#FF0000\", \"id\": \"search engine\", \"label\": \"search engine\", \"shape\": \"circle\"}, {\"color\": \"#FF0000\", \"id\": \"search engine optimization\", \"label\": \"search engine optimization\", \"shape\": \"circle\"}, {\"color\": \"#FF0000\", \"id\": \"Twitter\", \"label\": \"Twitter\", \"shape\": \"circle\"}, {\"color\": \"#FF0000\", \"id\": \"computer crime\", \"label\": \"computer crime\", \"shape\": \"circle\"}, {\"color\": \"#FF0000\", \"id\": \"identity theft\", \"label\": \"identity theft\", \"shape\": \"circle\"}, {\"color\": \"#FF0000\", \"id\": \"malware\", \"label\": \"malware\", \"shape\": \"circle\"}, {\"color\": \"#FF0000\", \"id\": \"technology acceptance theory\", \"label\": \"technology acceptance theory\", \"shape\": \"circle\"}, {\"color\": \"#FF0000\", \"id\": \"technology acceptance model\", \"label\": \"technology acceptance model\", \"shape\": \"circle\"}, {\"color\": \"#FF0000\", \"id\": \"motivation theory\", \"label\": \"motivation theory\", \"shape\": \"circle\"}, {\"color\": \"#FF0000\", \"id\": \"protection motivation theory\", \"label\": \"protection motivation theory\", \"shape\": \"circle\"}, {\"color\": \"#FF0000\", \"id\": \"perceived ease of use\", \"label\": \"perceived ease of use\", \"shape\": \"circle\"}, {\"color\": \"#FF0000\", \"id\": \"IT investment\", \"label\": \"IT investment\", \"shape\": \"circle\"}, {\"color\": \"#FF0000\", \"id\": \"business-to-business\", \"label\": \"business-to-business\", \"shape\": \"circle\"}, {\"color\": \"#FF0000\", \"id\": \"technology adoption\", \"label\": \"technology adoption\", \"shape\": \"circle\"}, {\"color\": \"#FF0000\", \"id\": \"binary classification\", \"label\": \"binary classification\", \"shape\": \"circle\"}, {\"color\": \"#FF0000\", \"id\": \"laboratory experiment\", \"label\": \"laboratory experiment\", \"shape\": \"circle\"}, {\"color\": \"#FF0000\", \"id\": \"business-to-consumer\", \"label\": \"business-to-consumer\", \"shape\": \"circle\"}, {\"color\": \"#FF0000\", \"id\": \"survey design\", \"label\": \"survey design\", \"shape\": \"circle\"}, {\"color\": \"#FF0000\", \"id\": \"mid-size enterprise\", \"label\": \"mid-size enterprise\", \"shape\": \"circle\"}, {\"color\": \"#FF0000\", \"id\": \"longitudinal survey\", \"label\": \"longitudinal survey\", \"shape\": \"circle\"}, {\"color\": \"#FF0000\", \"id\": \"two validities\", \"label\": \"two validities\", \"shape\": \"circle\"}, {\"color\": \"#FF0000\", \"id\": \"factor analysis\", \"label\": \"factor analysis\", \"shape\": \"circle\"}, {\"color\": \"#FF0000\", \"id\": \"exploratory factor analysis\", \"label\": \"exploratory factor analysis\", \"shape\": \"circle\"}, {\"color\": \"#FF0000\", \"id\": \"internal consistency reliability\", \"label\": \"internal consistency reliability\", \"shape\": \"circle\"}, {\"color\": \"#FF0000\", \"id\": \"Cronbach\\u0027s alpha\", \"label\": \"Cronbach\\u0027s alpha\", \"shape\": \"circle\"}, {\"color\": \"#FF0000\", \"id\": \"recall score\", \"label\": \"recall score\", \"shape\": \"circle\"}, {\"color\": \"#FF0000\", \"id\": \"IT productivity\", \"label\": \"IT productivity\", \"shape\": \"circle\"}, {\"color\": \"#FF0000\", \"id\": \"longitudinal experiment\", \"label\": \"longitudinal experiment\", \"shape\": \"circle\"}, {\"color\": \"#FF0000\", \"id\": \"experimental group\", \"label\": \"experimental group\", \"shape\": \"circle\"}, {\"color\": \"#FF0000\", \"id\": \"pilot experiment\", \"label\": \"pilot experiment\", \"shape\": \"circle\"}, {\"color\": \"#FF0000\", \"id\": \"chi squared test\", \"label\": \"chi squared test\", \"shape\": \"circle\"}, {\"color\": \"#FF0000\", \"id\": \"Chi square metric\", \"label\": \"Chi square metric\", \"shape\": \"circle\"}, {\"color\": \"#FF0000\", \"id\": \"multi divisional corporation\", \"label\": \"multi divisional corporation\", \"shape\": \"circle\"}, {\"color\": \"#FF0000\", \"id\": \"Google+\", \"label\": \"Google+\", \"shape\": \"circle\"}, {\"color\": \"#FF0000\", \"id\": \"customer satisfaction\", \"label\": \"customer satisfaction\", \"shape\": \"circle\"}, {\"color\": \"#FF0000\", \"id\": \"vehicle industry\", \"label\": \"vehicle industry\", \"shape\": \"circle\"}, {\"color\": \"#FF0000\", \"id\": \"automotive industry\", \"label\": \"automotive industry\", \"shape\": \"circle\"}, {\"color\": \"#FF0000\", \"id\": \"sentiment analysis\", \"label\": \"sentiment analysis\", \"shape\": \"circle\"}, {\"color\": \"#FF0000\", \"id\": \"regulatory agency\", \"label\": \"regulatory agency\", \"shape\": \"circle\"}, {\"color\": \"#FF0000\", \"id\": \"design framework\", \"label\": \"design framework\", \"shape\": \"circle\"}, {\"color\": \"#FF0000\", \"id\": \"crowdsourcing\", \"label\": \"crowdsourcing\", \"shape\": \"circle\"}, {\"color\": \"#FF0000\", \"id\": \"social network\", \"label\": \"social network\", \"shape\": \"circle\"}, {\"color\": \"#FF0000\", \"id\": \"usage intention\", \"label\": \"usage intention\", \"shape\": \"circle\"}, {\"color\": \"#FF0000\", \"id\": \"natural hazard\", \"label\": \"natural hazard\", \"shape\": \"circle\"}, {\"color\": \"#FF0000\", \"id\": \"hurricane\", \"label\": \"hurricane\", \"shape\": \"circle\"}, {\"color\": \"#FF0000\", \"id\": \"between group comparison statistical test\", \"label\": \"between group comparison statistical test\", \"shape\": \"circle\"}, {\"color\": \"#FF0000\", \"id\": \"ANOVA\", \"label\": \"ANOVA\", \"shape\": \"circle\"}, {\"color\": \"#FF0000\", \"id\": \"model part\", \"label\": \"model part\", \"shape\": \"circle\"}, {\"color\": \"#FF0000\", \"id\": \"structural model\", \"label\": \"structural model\", \"shape\": \"circle\"}, {\"color\": \"#FF0000\", \"id\": \"web search engine\", \"label\": \"web search engine\", \"shape\": \"circle\"}, {\"color\": \"#FF0000\", \"id\": \"Bing\", \"label\": \"Bing\", \"shape\": \"circle\"}, {\"color\": \"#FF0000\", \"id\": \"spamming\", \"label\": \"spamming\", \"shape\": \"circle\"}, {\"color\": \"#FF0000\", \"id\": \"email spam\", \"label\": \"email spam\", \"shape\": \"circle\"}, {\"color\": \"#FF0000\", \"id\": \"odds ratio\", \"label\": \"odds ratio\", \"shape\": \"circle\"}, {\"color\": \"#FF0000\", \"id\": \"mutual information\", \"label\": \"mutual information\", \"shape\": \"circle\"}, {\"color\": \"#FF0000\", \"id\": \"hidden Markov model\", \"label\": \"hidden Markov model\", \"shape\": \"circle\"}, {\"color\": \"#FF0000\", \"id\": \"association rule learning\", \"label\": \"association rule learning\", \"shape\": \"circle\"}, {\"color\": \"#FF0000\", \"id\": \"time series analysis\", \"label\": \"time series analysis\", \"shape\": \"circle\"}, {\"color\": \"#FF0000\", \"id\": \"statistical dispersion\", \"label\": \"statistical dispersion\", \"shape\": \"circle\"}, {\"color\": \"#FF0000\", \"id\": \"standard deviation\", \"label\": \"standard deviation\", \"shape\": \"circle\"}, {\"color\": \"#FF0000\", \"id\": \"correlation coefficient\", \"label\": \"correlation coefficient\", \"shape\": \"circle\"}, {\"color\": \"#FF0000\", \"id\": \"Pearson correlation coefficient\", \"label\": \"Pearson correlation coefficient\", \"shape\": \"circle\"}, {\"color\": \"#FF0000\", \"id\": \"biometric measurement\", \"label\": \"biometric measurement\", \"shape\": \"circle\"}, {\"color\": \"#FF0000\", \"id\": \"blood pressure\", \"label\": \"blood pressure\", \"shape\": \"circle\"}, {\"color\": \"#FF0000\", \"id\": \"application programming interface\", \"label\": \"application programming interface\", \"shape\": \"circle\"}, {\"color\": \"#FF0000\", \"id\": \"factorial experiment\", \"label\": \"factorial experiment\", \"shape\": \"circle\"}, {\"color\": \"#FF0000\", \"id\": \"rank correlation coefficient\", \"label\": \"rank correlation coefficient\", \"shape\": \"circle\"}, {\"color\": \"#FF0000\", \"id\": \"Kendall rank correlation coefficient\", \"label\": \"Kendall rank correlation coefficient\", \"shape\": \"circle\"}, {\"color\": \"#FF0000\", \"id\": \"degrees of freedom\", \"label\": \"degrees of freedom\", \"shape\": \"circle\"}, {\"color\": \"#FF0000\", \"id\": \"academic journal list\", \"label\": \"academic journal list\", \"shape\": \"circle\"}, {\"color\": \"#FF0000\", \"id\": \"top IS journal\", \"label\": \"top IS journal\", \"shape\": \"circle\"}, {\"color\": \"#FF0000\", \"id\": \"positivism\", \"label\": \"positivism\", \"shape\": \"circle\"}, {\"color\": \"#FF0000\", \"id\": \"data center\", \"label\": \"data center\", \"shape\": \"circle\"}, {\"color\": \"#FF0000\", \"id\": \"extract transform load process\", \"label\": \"extract transform load process\", \"shape\": \"circle\"}, {\"color\": \"#FF0000\", \"id\": \"software developer\", \"label\": \"software developer\", \"shape\": \"circle\"}, {\"color\": \"#FF0000\", \"id\": \"database languages\", \"label\": \"database languages\", \"shape\": \"circle\"}, {\"color\": \"#FF0000\", \"id\": \"structured query language\", \"label\": \"structured query language\", \"shape\": \"circle\"}, {\"color\": \"#FF0000\", \"id\": \"collaborative authoring\", \"label\": \"collaborative authoring\", \"shape\": \"circle\"}, {\"color\": \"#FF0000\", \"id\": \"information reporting system\", \"label\": \"information reporting system\", \"shape\": \"circle\"}, {\"color\": \"#FF0000\", \"id\": \"digital dashboard\", \"label\": \"digital dashboard\", \"shape\": \"circle\"}, {\"color\": \"#FF0000\", \"id\": \"expert system\", \"label\": \"expert system\", \"shape\": \"circle\"}, {\"color\": \"#FF0000\", \"id\": \"IT governance\", \"label\": \"IT governance\", \"shape\": \"circle\"}, {\"color\": \"#FF0000\", \"id\": \"database modeling\", \"label\": \"database modeling\", \"shape\": \"circle\"}, {\"color\": \"#FF0000\", \"id\": \"IS effectiveness\", \"label\": \"IS effectiveness\", \"shape\": \"circle\"}, {\"color\": \"#FF0000\", \"id\": \"retail trade\", \"label\": \"retail trade\", \"shape\": \"circle\"}, {\"color\": \"#FF0000\", \"id\": \"machine learning application\", \"label\": \"machine learning application\", \"shape\": \"circle\"}, {\"color\": \"#FF0000\", \"id\": \"natural language processing\", \"label\": \"natural language processing\", \"shape\": \"circle\"}, {\"color\": \"#FF0000\", \"id\": \"distributed system\", \"label\": \"distributed system\", \"shape\": \"circle\"}, {\"color\": \"#FF0000\", \"id\": \"distributed storage\", \"label\": \"distributed storage\", \"shape\": \"circle\"}, {\"color\": \"#FF0000\", \"id\": \"nosql database\", \"label\": \"nosql database\", \"shape\": \"circle\"}, {\"color\": \"#FF0000\", \"id\": \"Apache Hadoop\", \"label\": \"Apache Hadoop\", \"shape\": \"circle\"}, {\"color\": \"#FF0000\", \"id\": \"cloud computing\", \"label\": \"cloud computing\", \"shape\": \"circle\"}, {\"color\": \"#FF0000\", \"id\": \"infrastructure as a service\", \"label\": \"infrastructure as a service\", \"shape\": \"circle\"}, {\"color\": \"#FF0000\", \"id\": \"platform as a service\", \"label\": \"platform as a service\", \"shape\": \"circle\"}, {\"color\": \"#FF0000\", \"id\": \"tsunami\", \"label\": \"tsunami\", \"shape\": \"circle\"}, {\"color\": \"#FF0000\", \"id\": \"data lake\", \"label\": \"data lake\", \"shape\": \"circle\"}, {\"color\": \"#FF0000\", \"id\": \"stream processing\", \"label\": \"stream processing\", \"shape\": \"circle\"}, {\"color\": \"#FF0000\", \"id\": \"complex event processing\", \"label\": \"complex event processing\", \"shape\": \"circle\"}, {\"color\": \"#FF0000\", \"id\": \"data governance\", \"label\": \"data governance\", \"shape\": \"circle\"}, {\"color\": \"#FF0000\", \"id\": \"social media analytics\", \"label\": \"social media analytics\", \"shape\": \"circle\"}, {\"color\": \"#FF0000\", \"id\": \"smart device\", \"label\": \"smart device\", \"shape\": \"circle\"}, {\"color\": \"#FF0000\", \"id\": \"internet of things\", \"label\": \"internet of things\", \"shape\": \"circle\"}, {\"color\": \"#FF0000\", \"id\": \"geographic information system\", \"label\": \"geographic information system\", \"shape\": \"circle\"}, {\"color\": \"#FF0000\", \"id\": \"information privacy concern\", \"label\": \"information privacy concern\", \"shape\": \"circle\"}, {\"color\": \"#FF0000\", \"id\": \"Facebook\", \"label\": \"Facebook\", \"shape\": \"circle\"}, {\"color\": \"#FF0000\", \"id\": \"insider threat\", \"label\": \"insider threat\", \"shape\": \"circle\"}, {\"color\": \"#FF0000\", \"id\": \"Cross-Industry Standard Process for Data Mining\", \"label\": \"Cross-Industry Standard Process for Data Mining\", \"shape\": \"circle\"}, {\"color\": \"#FF0000\", \"id\": \"systems development life cycle\", \"label\": \"systems development life cycle\", \"shape\": \"circle\"}, {\"color\": \"#FF0000\", \"id\": \"computer science theory\", \"label\": \"computer science theory\", \"shape\": \"circle\"}, {\"color\": \"#FF0000\", \"id\": \"information theory\", \"label\": \"information theory\", \"shape\": \"circle\"}, {\"color\": \"#FF0000\", \"id\": \"mathematical theory\", \"label\": \"mathematical theory\", \"shape\": \"circle\"}, {\"color\": \"#FF0000\", \"id\": \"statistical learning theory\", \"label\": \"statistical learning theory\", \"shape\": \"circle\"}, {\"color\": \"#FF0000\", \"id\": \"literature database\", \"label\": \"literature database\", \"shape\": \"circle\"}, {\"color\": \"#FF0000\", \"id\": \"Google scholar\", \"label\": \"Google scholar\", \"shape\": \"circle\"}, {\"color\": \"#FF0000\", \"id\": \"deep learning\", \"label\": \"deep learning\", \"shape\": \"circle\"}, {\"color\": \"#FF0000\", \"id\": \"level of analysis\", \"label\": \"level of analysis\", \"shape\": \"circle\"}, {\"color\": \"#FF0000\", \"id\": \"deception detection\", \"label\": \"deception detection\", \"shape\": \"circle\"}, {\"color\": \"#FF0000\", \"id\": \"domain ontology\", \"label\": \"domain ontology\", \"shape\": \"circle\"}, {\"color\": \"#FF0000\", \"id\": \"business process redesign\", \"label\": \"business process redesign\", \"shape\": \"circle\"}, {\"color\": \"#FF0000\", \"id\": \"business process improvement\", \"label\": \"business process improvement\", \"shape\": \"circle\"}, {\"color\": \"#FF0000\", \"id\": \"action design research\", \"label\": \"action design research\", \"shape\": \"circle\"}, {\"color\": \"#FF0000\", \"id\": \"design requirement\", \"label\": \"design requirement\", \"shape\": \"circle\"}, {\"color\": \"#FF0000\", \"id\": \"lemon market theory\", \"label\": \"lemon market theory\", \"shape\": \"circle\"}, {\"color\": \"#FF0000\", \"id\": \"test validity\", \"label\": \"test validity\", \"shape\": \"circle\"}, {\"color\": \"#FF0000\", \"id\": \"construct validity\", \"label\": \"construct validity\", \"shape\": \"circle\"}, {\"color\": \"#FF0000\", \"id\": \"web 2.0\", \"label\": \"web 2.0\", \"shape\": \"circle\"}, {\"color\": \"#FF0000\", \"id\": \"open data\", \"label\": \"open data\", \"shape\": \"circle\"}, {\"color\": \"#FF0000\", \"id\": \"video streaming provider\", \"label\": \"video streaming provider\", \"shape\": \"circle\"}, {\"color\": \"#FF0000\", \"id\": \"Netflix\", \"label\": \"Netflix\", \"shape\": \"circle\"}, {\"color\": \"#FF0000\", \"id\": \"social media marketing\", \"label\": \"social media marketing\", \"shape\": \"circle\"}, {\"color\": \"#FF0000\", \"id\": \"econometric modeling\", \"label\": \"econometric modeling\", \"shape\": \"circle\"}, {\"color\": \"#FF0000\", \"id\": \"cross sectional research\", \"label\": \"cross sectional research\", \"shape\": \"circle\"}, {\"color\": \"#FF0000\", \"id\": \"strategic management theory\", \"label\": \"strategic management theory\", \"shape\": \"circle\"}, {\"color\": \"#FF0000\", \"id\": \"resource based view of the firm\", \"label\": \"resource based view of the firm\", \"shape\": \"circle\"}, {\"color\": \"#FF0000\", \"id\": \"behavioral economics\", \"label\": \"behavioral economics\", \"shape\": \"circle\"}, {\"color\": \"#FF0000\", \"id\": \"cognitive fit theory\", \"label\": \"cognitive fit theory\", \"shape\": \"circle\"}, {\"color\": \"#FF0000\", \"id\": \"chaos theory\", \"label\": \"chaos theory\", \"shape\": \"circle\"}, {\"color\": \"#FF0000\", \"id\": \"business process automation\", \"label\": \"business process automation\", \"shape\": \"circle\"}, {\"color\": \"#FF0000\", \"id\": \"electronic finance\", \"label\": \"electronic finance\", \"shape\": \"circle\"}, {\"color\": \"#FF0000\", \"id\": \"electronic trading\", \"label\": \"electronic trading\", \"shape\": \"circle\"}, {\"color\": \"#FF0000\", \"id\": \"effect size\", \"label\": \"effect size\", \"shape\": \"circle\"}, {\"color\": \"#FF0000\", \"id\": \"linear regression estimation method\", \"label\": \"linear regression estimation method\", \"shape\": \"circle\"}, {\"color\": \"#FF0000\", \"id\": \"ordinary least square\", \"label\": \"ordinary least square\", \"shape\": \"circle\"}, {\"color\": \"#FF0000\", \"id\": \"grounded theory\", \"label\": \"grounded theory\", \"shape\": \"circle\"}, {\"color\": \"#FF0000\", \"id\": \"enterprise resource planning\", \"label\": \"enterprise resource planning\", \"shape\": \"circle\"}, {\"color\": \"#FF0000\", \"id\": \"individual productivity\", \"label\": \"individual productivity\", \"shape\": \"circle\"}, {\"color\": \"#FF0000\", \"id\": \"data relevance\", \"label\": \"data relevance\", \"shape\": \"circle\"}, {\"color\": \"#FF0000\", \"id\": \"private household\", \"label\": \"private household\", \"shape\": \"circle\"}, {\"color\": \"#FF0000\", \"id\": \"computer virus protection\", \"label\": \"computer virus protection\", \"shape\": \"circle\"}, {\"color\": \"#FF0000\", \"id\": \"search engine marketing\", \"label\": \"search engine marketing\", \"shape\": \"circle\"}, {\"color\": \"#FF0000\", \"id\": \"website design\", \"label\": \"website design\", \"shape\": \"circle\"}, {\"color\": \"#FF0000\", \"id\": \"investment bank\", \"label\": \"investment bank\", \"shape\": \"circle\"}, {\"color\": \"#FF0000\", \"id\": \"MySpace\", \"label\": \"MySpace\", \"shape\": \"circle\"}, {\"color\": \"#FF0000\", \"id\": \"LinkedIn\", \"label\": \"LinkedIn\", \"shape\": \"circle\"}, {\"color\": \"#FF0000\", \"id\": \"client-server model\", \"label\": \"client-server model\", \"shape\": \"circle\"}, {\"color\": \"#FF0000\", \"id\": \"password\", \"label\": \"password\", \"shape\": \"circle\"}, {\"color\": \"#FF0000\", \"id\": \"data encryption\", \"label\": \"data encryption\", \"shape\": \"circle\"}, {\"color\": \"#FF0000\", \"id\": \"denial of service attack\", \"label\": \"denial of service attack\", \"shape\": \"circle\"}, {\"color\": \"#FF0000\", \"id\": \"design science evaluation\", \"label\": \"design science evaluation\", \"shape\": \"circle\"}, {\"color\": \"#FF0000\", \"id\": \"design artifact testing\", \"label\": \"design artifact testing\", \"shape\": \"circle\"}, {\"color\": \"#FF0000\", \"id\": \"commercial bank\", \"label\": \"commercial bank\", \"shape\": \"circle\"}, {\"color\": \"#FF0000\", \"id\": \"transport sector\", \"label\": \"transport sector\", \"shape\": \"circle\"}, {\"color\": \"#FF0000\", \"id\": \"shipping company\", \"label\": \"shipping company\", \"shape\": \"circle\"}, {\"color\": \"#FF0000\", \"id\": \"IT career\", \"label\": \"IT career\", \"shape\": \"circle\"}, {\"color\": \"#FF0000\", \"id\": \"hypertext\", \"label\": \"hypertext\", \"shape\": \"circle\"}, {\"color\": \"#FF0000\", \"id\": \"psychological theory\", \"label\": \"psychological theory\", \"shape\": \"circle\"}, {\"color\": \"#FF0000\", \"id\": \"learning theory\", \"label\": \"learning theory\", \"shape\": \"circle\"}, {\"color\": \"#FF0000\", \"id\": \"optimization model\", \"label\": \"optimization model\", \"shape\": \"circle\"}, {\"color\": \"#FF0000\", \"id\": \"non linear optimization\", \"label\": \"non linear optimization\", \"shape\": \"circle\"}, {\"color\": \"#FF0000\", \"id\": \"network security attack\", \"label\": \"network security attack\", \"shape\": \"circle\"}, {\"color\": \"#FF0000\", \"id\": \"spoofing\", \"label\": \"spoofing\", \"shape\": \"circle\"}, {\"color\": \"#FF0000\", \"id\": \"usability testing\", \"label\": \"usability testing\", \"shape\": \"circle\"}, {\"color\": \"#FF0000\", \"id\": \"nearshoring\", \"label\": \"nearshoring\", \"shape\": \"circle\"}, {\"color\": \"#FF0000\", \"id\": \"offshoring\", \"label\": \"offshoring\", \"shape\": \"circle\"}, {\"color\": \"#FF0000\", \"id\": \"multi national corporation\", \"label\": \"multi national corporation\", \"shape\": \"circle\"}, {\"color\": \"#FF0000\", \"id\": \"remote work\", \"label\": \"remote work\", \"shape\": \"circle\"}, {\"color\": \"#FF0000\", \"id\": \"virtual teamwork\", \"label\": \"virtual teamwork\", \"shape\": \"circle\"}, {\"color\": \"#FF0000\", \"id\": \"globalization of IS\", \"label\": \"globalization of IS\", \"shape\": \"circle\"}, {\"color\": \"#FF0000\", \"id\": \"hospitality industry\", \"label\": \"hospitality industry\", \"shape\": \"circle\"}, {\"color\": \"#FF0000\", \"id\": \"hotel industry\", \"label\": \"hotel industry\", \"shape\": \"circle\"}, {\"color\": \"#FF0000\", \"id\": \"new institutional economics\", \"label\": \"new institutional economics\", \"shape\": \"circle\"}, {\"color\": \"#FF0000\", \"id\": \"transaction cost economics\", \"label\": \"transaction cost economics\", \"shape\": \"circle\"}, {\"color\": \"#FF0000\", \"id\": \"exploratory study\", \"label\": \"exploratory study\", \"shape\": \"circle\"}, {\"color\": \"#FF0000\", \"id\": \"social subjectivist paradigm\", \"label\": \"social subjectivist paradigm\", \"shape\": \"circle\"}, {\"color\": \"#FF0000\", \"id\": \"interpretivism\", \"label\": \"interpretivism\", \"shape\": \"circle\"}, {\"color\": \"#FF0000\", \"id\": \"airline\", \"label\": \"airline\", \"shape\": \"circle\"}, {\"color\": \"#FF0000\", \"id\": \"personal interview\", \"label\": \"personal interview\", \"shape\": \"circle\"}, {\"color\": \"#FF0000\", \"id\": \"organizational size\", \"label\": \"organizational size\", \"shape\": \"circle\"}, {\"color\": \"#FF0000\", \"id\": \"onshoring\", \"label\": \"onshoring\", \"shape\": \"circle\"}, {\"color\": \"#FF0000\", \"id\": \"general-purpose programming language\", \"label\": \"general-purpose programming language\", \"shape\": \"circle\"}, {\"color\": \"#FF0000\", \"id\": \"Java\", \"label\": \"Java\", \"shape\": \"circle\"}, {\"color\": \"#FF0000\", \"id\": \"IT job\", \"label\": \"IT job\", \"shape\": \"circle\"}, {\"color\": \"#FF0000\", \"id\": \"IT service provider\", \"label\": \"IT service provider\", \"shape\": \"circle\"}, {\"color\": \"#FF0000\", \"id\": \"system quality\", \"label\": \"system quality\", \"shape\": \"circle\"}, {\"color\": \"#FF0000\", \"id\": \"IT planning\", \"label\": \"IT planning\", \"shape\": \"circle\"}, {\"color\": \"#FF0000\", \"id\": \"IT policy\", \"label\": \"IT policy\", \"shape\": \"circle\"}, {\"color\": \"#FF0000\", \"id\": \"project productivity\", \"label\": \"project productivity\", \"shape\": \"circle\"}, {\"color\": \"#FF0000\", \"id\": \"societal level\", \"label\": \"societal level\", \"shape\": \"circle\"}, {\"color\": \"#FF0000\", \"id\": \"global level\", \"label\": \"global level\", \"shape\": \"circle\"}, {\"color\": \"#FF0000\", \"id\": \"business cooperation\", \"label\": \"business cooperation\", \"shape\": \"circle\"}, {\"color\": \"#FF0000\", \"id\": \"joint venture\", \"label\": \"joint venture\", \"shape\": \"circle\"}, {\"color\": \"#FF0000\", \"id\": \"constant comparative analysis\", \"label\": \"constant comparative analysis\", \"shape\": \"circle\"}, {\"color\": \"#FF0000\", \"id\": \"non probabilistic sampling\", \"label\": \"non probabilistic sampling\", \"shape\": \"circle\"}, {\"color\": \"#FF0000\", \"id\": \"theoretical sampling\", \"label\": \"theoretical sampling\", \"shape\": \"circle\"}, {\"color\": \"#FF0000\", \"id\": \"ATLASti\", \"label\": \"ATLASti\", \"shape\": \"circle\"}, {\"color\": \"#FF0000\", \"id\": \"business process outsourcing\", \"label\": \"business process outsourcing\", \"shape\": \"circle\"}, {\"color\": \"#FF0000\", \"id\": \"boundary objects theory\", \"label\": \"boundary objects theory\", \"shape\": \"circle\"}, {\"color\": \"#FF0000\", \"id\": \"dynamic capabilities theory\", \"label\": \"dynamic capabilities theory\", \"shape\": \"circle\"}, {\"color\": \"#FF0000\", \"id\": \"longitudinal case study\", \"label\": \"longitudinal case study\", \"shape\": \"circle\"}, {\"color\": \"#FF0000\", \"id\": \"system dynamics\", \"label\": \"system dynamics\", \"shape\": \"circle\"}, {\"color\": \"#FF0000\", \"id\": \"Fortran\", \"label\": \"Fortran\", \"shape\": \"circle\"}, {\"color\": \"#FF0000\", \"id\": \"user requirement\", \"label\": \"user requirement\", \"shape\": \"circle\"}, {\"color\": \"#FF0000\", \"id\": \"theoretical link\", \"label\": \"theoretical link\", \"shape\": \"circle\"}, {\"color\": \"#FF0000\", \"id\": \"causal link\", \"label\": \"causal link\", \"shape\": \"circle\"}, {\"color\": \"#FF0000\", \"id\": \"systems evaluation\", \"label\": \"systems evaluation\", \"shape\": \"circle\"}, {\"color\": \"#FF0000\", \"id\": \"system testing\", \"label\": \"system testing\", \"shape\": \"circle\"}, {\"color\": \"#FF0000\", \"id\": \"research and development sector\", \"label\": \"research and development sector\", \"shape\": \"circle\"}, {\"color\": \"#FF0000\", \"id\": \"research institute\", \"label\": \"research institute\", \"shape\": \"circle\"}, {\"color\": \"#FF0000\", \"id\": \"structured literature research\", \"label\": \"structured literature research\", \"shape\": \"circle\"}, {\"color\": \"#FF0000\", \"id\": \"literature sample\", \"label\": \"literature sample\", \"shape\": \"circle\"}, {\"color\": \"#FF0000\", \"id\": \"sharing platform\", \"label\": \"sharing platform\", \"shape\": \"circle\"}, {\"color\": \"#FF0000\", \"id\": \"peer-to-peer model\", \"label\": \"peer-to-peer model\", \"shape\": \"circle\"}, {\"color\": \"#FF0000\", \"id\": \"streaming service\", \"label\": \"streaming service\", \"shape\": \"circle\"}, {\"color\": \"#FF0000\", \"id\": \"video streaming service\", \"label\": \"video streaming service\", \"shape\": \"circle\"}, {\"color\": \"#FF0000\", \"id\": \"leasing industry\", \"label\": \"leasing industry\", \"shape\": \"circle\"}, {\"color\": \"#FF0000\", \"id\": \"car leasing industry\", \"label\": \"car leasing industry\", \"shape\": \"circle\"}, {\"color\": \"#FF0000\", \"id\": \"real estate sharing platform\", \"label\": \"real estate sharing platform\", \"shape\": \"circle\"}, {\"color\": \"#FF0000\", \"id\": \"Airbnb\", \"label\": \"Airbnb\", \"shape\": \"circle\"}, {\"color\": \"#FF0000\", \"id\": \"mobile application\", \"label\": \"mobile application\", \"shape\": \"circle\"}, {\"color\": \"#FF0000\", \"id\": \"systems operations\", \"label\": \"systems operations\", \"shape\": \"circle\"}, {\"color\": \"#FF0000\", \"id\": \"ridesharing company\", \"label\": \"ridesharing company\", \"shape\": \"circle\"}, {\"color\": \"#FF0000\", \"id\": \"Uber\", \"label\": \"Uber\", \"shape\": \"circle\"}, {\"color\": \"#FF0000\", \"id\": \"information good\", \"label\": \"information good\", \"shape\": \"circle\"}, {\"color\": \"#FF0000\", \"id\": \"ride sharing platform\", \"label\": \"ride sharing platform\", \"shape\": \"circle\"}, {\"color\": \"#FF0000\", \"id\": \"Spearman\\u0027s rank correlation coefficient\", \"label\": \"Spearman\\u0027s rank correlation coefficient\", \"shape\": \"circle\"}, {\"color\": \"#FF0000\", \"id\": \"social psychology theory\", \"label\": \"social psychology theory\", \"shape\": \"circle\"}, {\"color\": \"#FF0000\", \"id\": \"theory of reasoned action\", \"label\": \"theory of reasoned action\", \"shape\": \"circle\"}, {\"color\": \"#FF0000\", \"id\": \"theory of planned behavior\", \"label\": \"theory of planned behavior\", \"shape\": \"circle\"}, {\"color\": \"#FF0000\", \"id\": \"unified theory of acceptance and use of technology\", \"label\": \"unified theory of acceptance and use of technology\", \"shape\": \"circle\"}, {\"color\": \"#FF0000\", \"id\": \"innovation theory\", \"label\": \"innovation theory\", \"shape\": \"circle\"}, {\"color\": \"#FF0000\", \"id\": \"diffusion of innovations theory\", \"label\": \"diffusion of innovations theory\", \"shape\": \"circle\"}, {\"color\": \"#FF0000\", \"id\": \"social cognitive theory\", \"label\": \"social cognitive theory\", \"shape\": \"circle\"}, {\"color\": \"#FF0000\", \"id\": \"task productivity\", \"label\": \"task productivity\", \"shape\": \"circle\"}, {\"color\": \"#FF0000\", \"id\": \"user acceptance\", \"label\": \"user acceptance\", \"shape\": \"circle\"}, {\"color\": \"#FF0000\", \"id\": \"post positivism\", \"label\": \"post positivism\", \"shape\": \"circle\"}, {\"color\": \"#FF0000\", \"id\": \"workstation\", \"label\": \"workstation\", \"shape\": \"circle\"}, {\"color\": \"#FF0000\", \"id\": \"systems documentation\", \"label\": \"systems documentation\", \"shape\": \"circle\"}, {\"color\": \"#FF0000\", \"id\": \"theoretical saturation\", \"label\": \"theoretical saturation\", \"shape\": \"circle\"}, {\"color\": \"#FF0000\", \"id\": \"qualitative data\", \"label\": \"qualitative data\", \"shape\": \"circle\"}, {\"color\": \"#FF0000\", \"id\": \"memoing\", \"label\": \"memoing\", \"shape\": \"circle\"}, {\"color\": \"#FF0000\", \"id\": \"facsimile transmission\", \"label\": \"facsimile transmission\", \"shape\": \"circle\"}, {\"color\": \"#FF0000\", \"id\": \"IT alignment\", \"label\": \"IT alignment\", \"shape\": \"circle\"}, {\"color\": \"#FF0000\", \"id\": \"armed conflict\", \"label\": \"armed conflict\", \"shape\": \"circle\"}, {\"color\": \"#FF0000\", \"id\": \"cognitive dissonance theory\", \"label\": \"cognitive dissonance theory\", \"shape\": \"circle\"}, {\"color\": \"#FF0000\", \"id\": \"technostress\", \"label\": \"technostress\", \"shape\": \"circle\"}, {\"color\": \"#FF0000\", \"id\": \"information overload\", \"label\": \"information overload\", \"shape\": \"circle\"}, {\"color\": \"#FF0000\", \"id\": \"smartphone\", \"label\": \"smartphone\", \"shape\": \"circle\"}, {\"color\": \"#FF0000\", \"id\": \"operating system\", \"label\": \"operating system\", \"shape\": \"circle\"}, {\"color\": \"#FF0000\", \"id\": \"online learning system\", \"label\": \"online learning system\", \"shape\": \"circle\"}, {\"color\": \"#FF0000\", \"id\": \"theory of impression management\", \"label\": \"theory of impression management\", \"shape\": \"circle\"}, {\"color\": \"#FF0000\", \"id\": \"consultancy sector\", \"label\": \"consultancy sector\", \"shape\": \"circle\"}, {\"color\": \"#FF0000\", \"id\": \"IT consultancy\", \"label\": \"IT consultancy\", \"shape\": \"circle\"}, {\"color\": \"#FF0000\", \"id\": \"IT leadership\", \"label\": \"IT leadership\", \"shape\": \"circle\"}, {\"color\": \"#FF0000\", \"id\": \"service quality\", \"label\": \"service quality\", \"shape\": \"circle\"}, {\"color\": \"#FF0000\", \"id\": \"business process re-engineering\", \"label\": \"business process re-engineering\", \"shape\": \"circle\"}, {\"color\": \"#FF0000\", \"id\": \"enterprise resource planning implementation\", \"label\": \"enterprise resource planning implementation\", \"shape\": \"circle\"}, {\"color\": \"#FF0000\", \"id\": \"Chief Information Officer\", \"label\": \"Chief Information Officer\", \"shape\": \"circle\"}, {\"color\": \"#FF0000\", \"id\": \"top management support\", \"label\": \"top management support\", \"shape\": \"circle\"}, {\"color\": \"#FF0000\", \"id\": \"service desk\", \"label\": \"service desk\", \"shape\": \"circle\"}, {\"color\": \"#FF0000\", \"id\": \"business process design\", \"label\": \"business process design\", \"shape\": \"circle\"}, {\"color\": \"#FF0000\", \"id\": \"business process ownership\", \"label\": \"business process ownership\", \"shape\": \"circle\"}, {\"color\": \"#FF0000\", \"id\": \"business process change management\", \"label\": \"business process change management\", \"shape\": \"circle\"}, {\"color\": \"#FF0000\", \"id\": \"co-located work\", \"label\": \"co-located work\", \"shape\": \"circle\"}, {\"color\": \"#FF0000\", \"id\": \"co-located $NOUN|ADJ+ teams\", \"label\": \"co-located $NOUN|ADJ+ teams\", \"shape\": \"circle\"}, {\"color\": \"#FF0000\", \"id\": \"multiple criteria decision making\", \"label\": \"multiple criteria decision making\", \"shape\": \"circle\"}, {\"color\": \"#FF0000\", \"id\": \"analytic hierarchy process\", \"label\": \"analytic hierarchy process\", \"shape\": \"circle\"}, {\"color\": \"#FF0000\", \"id\": \"extreme programming\", \"label\": \"extreme programming\", \"shape\": \"circle\"}, {\"color\": \"#FF0000\", \"id\": \"IT project team\", \"label\": \"IT project team\", \"shape\": \"circle\"}, {\"color\": \"#FF0000\", \"id\": \"multiple case study\", \"label\": \"multiple case study\", \"shape\": \"circle\"}, {\"color\": \"#FF0000\", \"id\": \"adaptive structuration theory\", \"label\": \"adaptive structuration theory\", \"shape\": \"circle\"}, {\"color\": \"#FF0000\", \"id\": \"IS agility\", \"label\": \"IS agility\", \"shape\": \"circle\"}, {\"color\": \"#FF0000\", \"id\": \"digital entrepreneurship\", \"label\": \"digital entrepreneurship\", \"shape\": \"circle\"}, {\"color\": \"#FF0000\", \"id\": \"Unix\", \"label\": \"Unix\", \"shape\": \"circle\"}, {\"color\": \"#FF0000\", \"id\": \"Linux\", \"label\": \"Linux\", \"shape\": \"circle\"}, {\"color\": \"#FF0000\", \"id\": \"industry 4.0\", \"label\": \"industry 4.0\", \"shape\": \"circle\"}, {\"color\": \"#FF0000\", \"id\": \"3D printing\", \"label\": \"3D printing\", \"shape\": \"circle\"}, {\"color\": \"#FF0000\", \"id\": \"wireless LAN\", \"label\": \"wireless LAN\", \"shape\": \"circle\"}, {\"color\": \"#FF0000\", \"id\": \"Wi-Fi\", \"label\": \"Wi-Fi\", \"shape\": \"circle\"}, {\"color\": \"#FF0000\", \"id\": \"Android phone\", \"label\": \"Android phone\", \"shape\": \"circle\"}, {\"color\": \"#FF0000\", \"id\": \"Android\", \"label\": \"Android\", \"shape\": \"circle\"}, {\"color\": \"#FF0000\", \"id\": \"IT risk management\", \"label\": \"IT risk management\", \"shape\": \"circle\"}, {\"color\": \"#FF0000\", \"id\": \"digital service\", \"label\": \"digital service\", \"shape\": \"circle\"}, {\"color\": \"#FF0000\", \"id\": \"Slack\", \"label\": \"Slack\", \"shape\": \"circle\"}, {\"color\": \"#FF0000\", \"id\": \"emergency management\", \"label\": \"emergency management\", \"shape\": \"circle\"}, {\"color\": \"#FF0000\", \"id\": \"electronic payment\", \"label\": \"electronic payment\", \"shape\": \"circle\"}, {\"color\": \"#FF0000\", \"id\": \"mobile payment\", \"label\": \"mobile payment\", \"shape\": \"circle\"}, {\"color\": \"#FF0000\", \"id\": \"social network theory\", \"label\": \"social network theory\", \"shape\": \"circle\"}, {\"color\": \"#FF0000\", \"id\": \"digital economy\", \"label\": \"digital economy\", \"shape\": \"circle\"}, {\"color\": \"#FF0000\", \"id\": \"socio technical theory\", \"label\": \"socio technical theory\", \"shape\": \"circle\"}, {\"color\": \"#FF0000\", \"id\": \"digital transformation\", \"label\": \"digital transformation\", \"shape\": \"circle\"}, {\"color\": \"#FF0000\", \"id\": \"restaurant industry\", \"label\": \"restaurant industry\", \"shape\": \"circle\"}, {\"color\": \"#FF0000\", \"id\": \"critical theory\", \"label\": \"critical theory\", \"shape\": \"circle\"}, {\"color\": \"#FF0000\", \"id\": \"IS problem\", \"label\": \"IS problem\", \"shape\": \"circle\"}, {\"color\": \"#FF0000\", \"id\": \"political theory\", \"label\": \"political theory\", \"shape\": \"circle\"}, {\"color\": \"#FF0000\", \"id\": \"spiral of silence theory\", \"label\": \"spiral of silence theory\", \"shape\": \"circle\"}, {\"color\": \"#FF0000\", \"id\": \"pulp and paper industry\", \"label\": \"pulp and paper industry\", \"shape\": \"circle\"}, {\"color\": \"#FF0000\", \"id\": \"printing industry\", \"label\": \"printing industry\", \"shape\": \"circle\"}, {\"color\": \"#FF0000\", \"id\": \"job satisfaction\", \"label\": \"job satisfaction\", \"shape\": \"circle\"}, {\"color\": \"#FF0000\", \"id\": \"meeting support system\", \"label\": \"meeting support system\", \"shape\": \"circle\"}, {\"color\": \"#FF0000\", \"id\": \"energy industry\", \"label\": \"energy industry\", \"shape\": \"circle\"}, {\"color\": \"#FF0000\", \"id\": \"anti positivism\", \"label\": \"anti positivism\", \"shape\": \"circle\"}, {\"color\": \"#FF0000\", \"id\": \"general systems theory\", \"label\": \"general systems theory\", \"shape\": \"circle\"}, {\"color\": \"#FF0000\", \"id\": \"feminism theory\", \"label\": \"feminism theory\", \"shape\": \"circle\"}, {\"color\": \"#FF0000\", \"id\": \"cyberfeminism\", \"label\": \"cyberfeminism\", \"shape\": \"circle\"}, {\"color\": \"#FF0000\", \"id\": \"organizational success\", \"label\": \"organizational success\", \"shape\": \"circle\"}, {\"color\": \"#FF0000\", \"id\": \"Baan\", \"label\": \"Baan\", \"shape\": \"circle\"}, {\"color\": \"#FF0000\", \"id\": \"PeopleSoft\", \"label\": \"PeopleSoft\", \"shape\": \"circle\"}, {\"color\": \"#FF0000\", \"id\": \"software protection\", \"label\": \"software protection\", \"shape\": \"circle\"}, {\"color\": \"#FF0000\", \"id\": \"data integrity\", \"label\": \"data integrity\", \"shape\": \"circle\"}, {\"color\": \"#FF0000\", \"id\": \"system integration\", \"label\": \"system integration\", \"shape\": \"circle\"}, {\"color\": \"#FF0000\", \"id\": \"NLP tool\", \"label\": \"NLP tool\", \"shape\": \"circle\"}, {\"color\": \"#FF0000\", \"id\": \"Flair\", \"label\": \"Flair\", \"shape\": \"circle\"}, {\"color\": \"#FF0000\", \"id\": \"construal level theory\", \"label\": \"construal level theory\", \"shape\": \"circle\"}, {\"color\": \"#FF0000\", \"id\": \"pandemic\", \"label\": \"pandemic\", \"shape\": \"circle\"}, {\"color\": \"#FF0000\", \"id\": \"food trade\", \"label\": \"food trade\", \"shape\": \"circle\"}, {\"color\": \"#FF0000\", \"id\": \"food retailing\", \"label\": \"food retailing\", \"shape\": \"circle\"}, {\"color\": \"#FF0000\", \"id\": \"crowdfunding\", \"label\": \"crowdfunding\", \"shape\": \"circle\"}, {\"color\": \"#FF0000\", \"id\": \"experimental task\", \"label\": \"experimental task\", \"shape\": \"circle\"}, {\"color\": \"#FF0000\", \"id\": \"moderating variable\", \"label\": \"moderating variable\", \"shape\": \"circle\"}, {\"color\": \"#FF0000\", \"id\": \"item scale\", \"label\": \"item scale\", \"shape\": \"circle\"}, {\"color\": \"#FF0000\", \"id\": \"Likert scale\", \"label\": \"Likert scale\", \"shape\": \"circle\"}, {\"color\": \"#FF0000\", \"id\": \"confirmatory factor analysis\", \"label\": \"confirmatory factor analysis\", \"shape\": \"circle\"}, {\"color\": \"#FF0000\", \"id\": \"convergent validity\", \"label\": \"convergent validity\", \"shape\": \"circle\"}, {\"color\": \"#FF0000\", \"id\": \"discriminant validity\", \"label\": \"discriminant validity\", \"shape\": \"circle\"}, {\"color\": \"#FF0000\", \"id\": \"significance level\", \"label\": \"significance level\", \"shape\": \"circle\"}, {\"color\": \"#FF0000\", \"id\": \"user friendliness\", \"label\": \"user friendliness\", \"shape\": \"circle\"}, {\"color\": \"#FF0000\", \"id\": \"voice user interfaces\", \"label\": \"voice user interfaces\", \"shape\": \"circle\"}, {\"color\": \"#FF0000\", \"id\": \"manufacturing information system\", \"label\": \"manufacturing information system\", \"shape\": \"circle\"}, {\"color\": \"#FF0000\", \"id\": \"LISP\", \"label\": \"LISP\", \"shape\": \"circle\"}, {\"color\": \"#FF0000\", \"id\": \"question answering\", \"label\": \"question answering\", \"shape\": \"circle\"}, {\"color\": \"#FF0000\", \"id\": \"semantic data model\", \"label\": \"semantic data model\", \"shape\": \"circle\"}, {\"color\": \"#FF0000\", \"id\": \"entity relationship modeling\", \"label\": \"entity relationship modeling\", \"shape\": \"circle\"}, {\"color\": \"#FF0000\", \"id\": \"computer aided software engineering\", \"label\": \"computer aided software engineering\", \"shape\": \"circle\"}, {\"color\": \"#FF0000\", \"id\": \"quantitative observational study\", \"label\": \"quantitative observational study\", \"shape\": \"circle\"}, {\"color\": \"#FF0000\", \"id\": \"quasi experiment\", \"label\": \"quasi experiment\", \"shape\": \"circle\"}, {\"color\": \"#FF0000\", \"id\": \"path analysis\", \"label\": \"path analysis\", \"shape\": \"circle\"}, {\"color\": \"#FF0000\", \"id\": \"latent variable model\", \"label\": \"latent variable model\", \"shape\": \"circle\"}, {\"color\": \"#FF0000\", \"id\": \"confounding variable\", \"label\": \"confounding variable\", \"shape\": \"circle\"}, {\"color\": \"#FF0000\", \"id\": \"personality theory\", \"label\": \"personality theory\", \"shape\": \"circle\"}, {\"color\": \"#FF0000\", \"id\": \"big five model\", \"label\": \"big five model\", \"shape\": \"circle\"}, {\"color\": \"#FF0000\", \"id\": \"social commerce\", \"label\": \"social commerce\", \"shape\": \"circle\"}, {\"color\": \"#FF0000\", \"id\": \"video game\", \"label\": \"video game\", \"shape\": \"circle\"}, {\"color\": \"#FF0000\", \"id\": \"video game console\", \"label\": \"video game console\", \"shape\": \"circle\"}, {\"color\": \"#FF0000\", \"id\": \"tablet\", \"label\": \"tablet\", \"shape\": \"circle\"}, {\"color\": \"#FF0000\", \"id\": \"econometric model\", \"label\": \"econometric model\", \"shape\": \"circle\"}, {\"color\": \"#FF0000\", \"id\": \"survival function\", \"label\": \"survival function\", \"shape\": \"circle\"}, {\"color\": \"#FF0000\", \"id\": \"proportional hazards model\", \"label\": \"proportional hazards model\", \"shape\": \"circle\"}, {\"color\": \"#FF0000\", \"id\": \"NLP method\", \"label\": \"NLP method\", \"shape\": \"circle\"}, {\"color\": \"#FF0000\", \"id\": \"latent dirichlet allocation\", \"label\": \"latent dirichlet allocation\", \"shape\": \"circle\"}, {\"color\": \"#FF0000\", \"id\": \"Kullback\\u2013Leibler divergence\", \"label\": \"Kullback\\u2013Leibler divergence\", \"shape\": \"circle\"}, {\"color\": \"#FF0000\", \"id\": \"survival analysis\", \"label\": \"survival analysis\", \"shape\": \"circle\"}, {\"color\": \"#FF0000\", \"id\": \"null hypothesis\", \"label\": \"null hypothesis\", \"shape\": \"circle\"}, {\"color\": \"#FF0000\", \"id\": \"confidence interval\", \"label\": \"confidence interval\", \"shape\": \"circle\"}, {\"color\": \"#FF0000\", \"id\": \"multicollinearity\", \"label\": \"multicollinearity\", \"shape\": \"circle\"}, {\"color\": \"#FF0000\", \"id\": \"Akaike information criterion\", \"label\": \"Akaike information criterion\", \"shape\": \"circle\"}, {\"color\": \"#FF0000\", \"id\": \"Bayesian information criterion\", \"label\": \"Bayesian information criterion\", \"shape\": \"circle\"}, {\"color\": \"#FF0000\", \"id\": \"non-parametric test\", \"label\": \"non-parametric test\", \"shape\": \"circle\"}, {\"color\": \"#FF0000\", \"id\": \"Mann Whitney U test\", \"label\": \"Mann Whitney U test\", \"shape\": \"circle\"}, {\"color\": \"#FF0000\", \"id\": \"trade-off analysis method\", \"label\": \"trade-off analysis method\", \"shape\": \"circle\"}, {\"color\": \"#FF0000\", \"id\": \"conjoint analysis\", \"label\": \"conjoint analysis\", \"shape\": \"circle\"}, {\"color\": \"#FF0000\", \"id\": \"propensity score method\", \"label\": \"propensity score method\", \"shape\": \"circle\"}, {\"color\": \"#FF0000\", \"id\": \"propensity score matching\", \"label\": \"propensity score matching\", \"shape\": \"circle\"}, {\"color\": \"#FF0000\", \"id\": \"accelerated failure time model\", \"label\": \"accelerated failure time model\", \"shape\": \"circle\"}, {\"color\": \"#FF0000\", \"id\": \"prospect theory\", \"label\": \"prospect theory\", \"shape\": \"circle\"}, {\"color\": \"#FF0000\", \"id\": \"causality analysis\", \"label\": \"causality analysis\", \"shape\": \"circle\"}, {\"color\": \"#FF0000\", \"id\": \"difference in differences\", \"label\": \"difference in differences\", \"shape\": \"circle\"}, {\"color\": \"#FF0000\", \"id\": \"causal model\", \"label\": \"causal model\", \"shape\": \"circle\"}, {\"color\": \"#FF0000\", \"id\": \"LexisNexis\", \"label\": \"LexisNexis\", \"shape\": \"circle\"}, {\"color\": \"#FF0000\", \"id\": \"Capital IQ\", \"label\": \"Capital IQ\", \"shape\": \"circle\"}, {\"color\": \"#FF0000\", \"id\": \"dummy variable\", \"label\": \"dummy variable\", \"shape\": \"circle\"}, {\"color\": \"#FF0000\", \"id\": \"recurrent neural network\", \"label\": \"recurrent neural network\", \"shape\": \"circle\"}, {\"color\": \"#FF0000\", \"id\": \"task characteristic\", \"label\": \"task characteristic\", \"shape\": \"circle\"}, {\"color\": \"#FF0000\", \"id\": \"task complexity\", \"label\": \"task complexity\", \"shape\": \"circle\"}, {\"color\": \"#FF0000\", \"id\": \"IS failure\", \"label\": \"IS failure\", \"shape\": \"circle\"}, {\"color\": \"#FF0000\", \"id\": \"activity theory\", \"label\": \"activity theory\", \"shape\": \"circle\"}, {\"color\": \"#FF0000\", \"id\": \"reliability coefficient\", \"label\": \"reliability coefficient\", \"shape\": \"circle\"}, {\"color\": \"#FF0000\", \"id\": \"inter-rater reliability\", \"label\": \"inter-rater reliability\", \"shape\": \"circle\"}, {\"color\": \"#FF0000\", \"id\": \"task interdependence\", \"label\": \"task interdependence\", \"shape\": \"circle\"}, {\"color\": \"#FF0000\", \"id\": \"film industry\", \"label\": \"film industry\", \"shape\": \"circle\"}, {\"color\": \"#FF0000\", \"id\": \"film production\", \"label\": \"film production\", \"shape\": \"circle\"}, {\"color\": \"#FF0000\", \"id\": \"Python\", \"label\": \"Python\", \"shape\": \"circle\"}, {\"color\": \"#FF0000\", \"id\": \"competitive intelligence\", \"label\": \"competitive intelligence\", \"shape\": \"circle\"}, {\"color\": \"#FF0000\", \"id\": \"music industry\", \"label\": \"music industry\", \"shape\": \"circle\"}, {\"color\": \"#FF0000\", \"id\": \"music production\", \"label\": \"music production\", \"shape\": \"circle\"}, {\"color\": \"#FF0000\", \"id\": \"nomological network\", \"label\": \"nomological network\", \"shape\": \"circle\"}, {\"color\": \"#FF0000\", \"id\": \"publishing industry\", \"label\": \"publishing industry\", \"shape\": \"circle\"}, {\"color\": \"#FF0000\", \"id\": \"machinery industry and plant construction\", \"label\": \"machinery industry and plant construction\", \"shape\": \"circle\"}, {\"color\": \"#FF0000\", \"id\": \"mechanical engineering\", \"label\": \"mechanical engineering\", \"shape\": \"circle\"}, {\"color\": \"#FF0000\", \"id\": \"iPad\", \"label\": \"iPad\", \"shape\": \"circle\"}, {\"color\": \"#FF0000\", \"id\": \"Web of Science\", \"label\": \"Web of Science\", \"shape\": \"circle\"}, {\"color\": \"#FF0000\", \"id\": \"team productivity\", \"label\": \"team productivity\", \"shape\": \"circle\"}, {\"color\": \"#FF0000\", \"id\": \"team impact\", \"label\": \"team impact\", \"shape\": \"circle\"}, {\"color\": \"#FF0000\", \"id\": \"media synchronicity theory\", \"label\": \"media synchronicity theory\", \"shape\": \"circle\"}, {\"color\": \"#FF0000\", \"id\": \"debugging\", \"label\": \"debugging\", \"shape\": \"circle\"}, {\"color\": \"#FF0000\", \"id\": \"affordance theory\", \"label\": \"affordance theory\", \"shape\": \"circle\"}, {\"color\": \"#FF0000\", \"id\": \"diary study\", \"label\": \"diary study\", \"shape\": \"circle\"}, {\"color\": \"#FF0000\", \"id\": \"optical storage device\", \"label\": \"optical storage device\", \"shape\": \"circle\"}, {\"color\": \"#FF0000\", \"id\": \"CD-ROM\", \"label\": \"CD-ROM\", \"shape\": \"circle\"}, {\"color\": \"#FF0000\", \"id\": \"mediating variable\", \"label\": \"mediating variable\", \"shape\": \"circle\"}, {\"color\": \"#FF0000\", \"id\": \"retail outlet\", \"label\": \"retail outlet\", \"shape\": \"circle\"}, {\"color\": \"#FF0000\", \"id\": \"meta analysis\", \"label\": \"meta analysis\", \"shape\": \"circle\"}, {\"color\": \"#FF0000\", \"id\": \"JavaScript\", \"label\": \"JavaScript\", \"shape\": \"circle\"}, {\"color\": \"#FF0000\", \"id\": \"structural equation modeling\", \"label\": \"structural equation modeling\", \"shape\": \"circle\"}, {\"color\": \"#FF0000\", \"id\": \"SEM tool\", \"label\": \"SEM tool\", \"shape\": \"circle\"}, {\"color\": \"#FF0000\", \"id\": \"measurement model\", \"label\": \"measurement model\", \"shape\": \"circle\"}, {\"color\": \"#FF0000\", \"id\": \"adjusted goodness of fit index\", \"label\": \"adjusted goodness of fit index\", \"shape\": \"circle\"}, {\"color\": \"#FF0000\", \"id\": \"comparative fit index\", \"label\": \"comparative fit index\", \"shape\": \"circle\"}, {\"color\": \"#FF0000\", \"id\": \"root mean square error of approximation\", \"label\": \"root mean square error of approximation\", \"shape\": \"circle\"}, {\"color\": \"#FF0000\", \"id\": \"analysis of covariance\", \"label\": \"analysis of covariance\", \"shape\": \"circle\"}, {\"color\": \"#FF0000\", \"id\": \"multiple regression\", \"label\": \"multiple regression\", \"shape\": \"circle\"}, {\"color\": \"#FF0000\", \"id\": \"face validity\", \"label\": \"face validity\", \"shape\": \"circle\"}, {\"color\": \"#FF0000\", \"id\": \"elaboration likelihood model\", \"label\": \"elaboration likelihood model\", \"shape\": \"circle\"}, {\"color\": \"#FF0000\", \"id\": \"marketing information system\", \"label\": \"marketing information system\", \"shape\": \"circle\"}, {\"color\": \"#FF0000\", \"id\": \"factor loading\", \"label\": \"factor loading\", \"shape\": \"circle\"}, {\"color\": \"#FF0000\", \"id\": \"asset specificity\", \"label\": \"asset specificity\", \"shape\": \"circle\"}, {\"color\": \"#FF0000\", \"id\": \"computed tomography\", \"label\": \"computed tomography\", \"shape\": \"circle\"}, {\"color\": \"#FF0000\", \"id\": \"ergonomics\", \"label\": \"ergonomics\", \"shape\": \"circle\"}, {\"color\": \"#FF0000\", \"id\": \"critical success factor\", \"label\": \"critical success factor\", \"shape\": \"circle\"}, {\"color\": \"#FF0000\", \"id\": \"group interview\", \"label\": \"group interview\", \"shape\": \"circle\"}, {\"color\": \"#FF0000\", \"id\": \"task structure\", \"label\": \"task structure\", \"shape\": \"circle\"}, {\"color\": \"#FF0000\", \"id\": \"pragmatism\", \"label\": \"pragmatism\", \"shape\": \"circle\"}, {\"color\": \"#FF0000\", \"id\": \"within subject experiment\", \"label\": \"within subject experiment\", \"shape\": \"circle\"}, {\"color\": \"#FF0000\", \"id\": \"system reliability\", \"label\": \"system reliability\", \"shape\": \"circle\"}, {\"color\": \"#FF0000\", \"id\": \"root mean square error\", \"label\": \"root mean square error\", \"shape\": \"circle\"}, {\"color\": \"#FF0000\", \"id\": \"YouTube\", \"label\": \"YouTube\", \"shape\": \"circle\"}, {\"color\": \"#FF0000\", \"id\": \"test score reliability coefficient\", \"label\": \"test score reliability coefficient\", \"shape\": \"circle\"}, {\"color\": \"#FF0000\", \"id\": \"test-retest reliability\", \"label\": \"test-retest reliability\", \"shape\": \"circle\"}, {\"color\": \"#FF0000\", \"id\": \"Cohen\\u0027s d\", \"label\": \"Cohen\\u0027s d\", \"shape\": \"circle\"}, {\"color\": \"#FF0000\", \"id\": \"post-hoc analysis\", \"label\": \"post-hoc analysis\", \"shape\": \"circle\"}, {\"color\": \"#FF0000\", \"id\": \"descriptive statistic score\", \"label\": \"descriptive statistic score\", \"shape\": \"circle\"}, {\"color\": \"#FF0000\", \"id\": \"statistical correlation\", \"label\": \"statistical correlation\", \"shape\": \"circle\"}, {\"color\": \"#FF0000\", \"id\": \"linear regression analysis\", \"label\": \"linear regression analysis\", \"shape\": \"circle\"}, {\"color\": \"#FF0000\", \"id\": \"simple linear regression\", \"label\": \"simple linear regression\", \"shape\": \"circle\"}, {\"color\": \"#FF0000\", \"id\": \"decision theory\", \"label\": \"decision theory\", \"shape\": \"circle\"}, {\"color\": \"#FF0000\", \"id\": \"Hulu\", \"label\": \"Hulu\", \"shape\": \"circle\"}, {\"color\": \"#FF0000\", \"id\": \"behavioral theory\", \"label\": \"behavioral theory\", \"shape\": \"circle\"}, {\"color\": \"#FF0000\", \"id\": \"music streaming service\", \"label\": \"music streaming service\", \"shape\": \"circle\"}, {\"color\": \"#FF0000\", \"id\": \"digital piracy\", \"label\": \"digital piracy\", \"shape\": \"circle\"}, {\"color\": \"#FF0000\", \"id\": \"repeated measures ANOVA\", \"label\": \"repeated measures ANOVA\", \"shape\": \"circle\"}, {\"color\": \"#FF0000\", \"id\": \"Wilcoxon signed-rank test\", \"label\": \"Wilcoxon signed-rank test\", \"shape\": \"circle\"}, {\"color\": \"#FF0000\", \"id\": \"generalized least square\", \"label\": \"generalized least square\", \"shape\": \"circle\"}, {\"color\": \"#FF0000\", \"id\": \"latent variable\", \"label\": \"latent variable\", \"shape\": \"circle\"}, {\"color\": \"#FF0000\", \"id\": \"Stata\", \"label\": \"Stata\", \"shape\": \"circle\"}, {\"color\": \"#FF0000\", \"id\": \"music streaming provider\", \"label\": \"music streaming provider\", \"shape\": \"circle\"}, {\"color\": \"#FF0000\", \"id\": \"Pandora\", \"label\": \"Pandora\", \"shape\": \"circle\"}, {\"color\": \"#FF0000\", \"id\": \"Spotify\", \"label\": \"Spotify\", \"shape\": \"circle\"}, {\"color\": \"#FF0000\", \"id\": \"digital rights management\", \"label\": \"digital rights management\", \"shape\": \"circle\"}, {\"color\": \"#FF0000\", \"id\": \"DVD\", \"label\": \"DVD\", \"shape\": \"circle\"}, {\"color\": \"#FF0000\", \"id\": \"statistical power analysis\", \"label\": \"statistical power analysis\", \"shape\": \"circle\"}, {\"color\": \"#FF0000\", \"id\": \"vector autoregression\", \"label\": \"vector autoregression\", \"shape\": \"circle\"}, {\"color\": \"#FF0000\", \"id\": \"macroeconomic theory\", \"label\": \"macroeconomic theory\", \"shape\": \"circle\"}, {\"color\": \"#FF0000\", \"id\": \"knowledge base\", \"label\": \"knowledge base\", \"shape\": \"circle\"}, {\"color\": \"#FF0000\", \"id\": \"Apple iPhone\", \"label\": \"Apple iPhone\", \"shape\": \"circle\"}, {\"color\": \"#FF0000\", \"id\": \"hand held computer\", \"label\": \"hand held computer\", \"shape\": \"circle\"}, {\"color\": \"#FF0000\", \"id\": \"personal digital assistant\", \"label\": \"personal digital assistant\", \"shape\": \"circle\"}, {\"color\": \"#FF0000\", \"id\": \"non volatile memory\", \"label\": \"non volatile memory\", \"shape\": \"circle\"}, {\"color\": \"#FF0000\", \"id\": \"hard disk drive\", \"label\": \"hard disk drive\", \"shape\": \"circle\"}, {\"color\": \"#FF0000\", \"id\": \"autoregressive model\", \"label\": \"autoregressive model\", \"shape\": \"circle\"}, {\"color\": \"#FF0000\", \"id\": \"point estimation performance score\", \"label\": \"point estimation performance score\", \"shape\": \"circle\"}, {\"color\": \"#FF0000\", \"id\": \"mean squared error\", \"label\": \"mean squared error\", \"shape\": \"circle\"}, {\"color\": \"#FF0000\", \"id\": \"Granger causality\", \"label\": \"Granger causality\", \"shape\": \"circle\"}, {\"color\": \"#FF0000\", \"id\": \"autocorrelation analysis\", \"label\": \"autocorrelation analysis\", \"shape\": \"circle\"}, {\"color\": \"#FF0000\", \"id\": \"autoregressive conditional heteroscedasticity model\", \"label\": \"autoregressive conditional heteroscedasticity model\", \"shape\": \"circle\"}, {\"color\": \"#FF0000\", \"id\": \"sequential analysis\", \"label\": \"sequential analysis\", \"shape\": \"circle\"}, {\"color\": \"#FF0000\", \"id\": \"cumulative sum control chart\", \"label\": \"cumulative sum control chart\", \"shape\": \"circle\"}, {\"color\": \"#FF0000\", \"id\": \"Wald test\", \"label\": \"Wald test\", \"shape\": \"circle\"}, {\"color\": \"#FF0000\", \"id\": \"digital entertainment\", \"label\": \"digital entertainment\", \"shape\": \"circle\"}, {\"color\": \"#FF0000\", \"id\": \"autoregressive moving average model\", \"label\": \"autoregressive moving average model\", \"shape\": \"circle\"}, {\"color\": \"#FF0000\", \"id\": \"mean absolute error\", \"label\": \"mean absolute error\", \"shape\": \"circle\"}, {\"color\": \"#FF0000\", \"id\": \"terrorist incident\", \"label\": \"terrorist incident\", \"shape\": \"circle\"}, {\"color\": \"#FF0000\", \"id\": \"auction theory\", \"label\": \"auction theory\", \"shape\": \"circle\"}, {\"color\": \"#FF0000\", \"id\": \"procurement information system\", \"label\": \"procurement information system\", \"shape\": \"circle\"}, {\"color\": \"#FF0000\", \"id\": \"software agent\", \"label\": \"software agent\", \"shape\": \"circle\"}, {\"color\": \"#FF0000\", \"id\": \"discrete event simulation\", \"label\": \"discrete event simulation\", \"shape\": \"circle\"}, {\"color\": \"#FF0000\", \"id\": \"tourism industry\", \"label\": \"tourism industry\", \"shape\": \"circle\"}, {\"color\": \"#FF0000\", \"id\": \"data breach\", \"label\": \"data breach\", \"shape\": \"circle\"}, {\"color\": \"#FF0000\", \"id\": \"information extraction\", \"label\": \"information extraction\", \"shape\": \"circle\"}, {\"color\": \"#FF0000\", \"id\": \"wholesale trade\", \"label\": \"wholesale trade\", \"shape\": \"circle\"}, {\"color\": \"#FF0000\", \"id\": \"postal and courier service\", \"label\": \"postal and courier service\", \"shape\": \"circle\"}, {\"color\": \"#FF0000\", \"id\": \"universal service\", \"label\": \"universal service\", \"shape\": \"circle\"}, {\"color\": \"#FF0000\", \"id\": \"linear optimization\", \"label\": \"linear optimization\", \"shape\": \"circle\"}, {\"color\": \"#FF0000\", \"id\": \"multidimensional modeling\", \"label\": \"multidimensional modeling\", \"shape\": \"circle\"}, {\"color\": \"#FF0000\", \"id\": \"online analytical processing\", \"label\": \"online analytical processing\", \"shape\": \"circle\"}, {\"color\": \"#FF0000\", \"id\": \"movie theatre\", \"label\": \"movie theatre\", \"shape\": \"circle\"}, {\"color\": \"#FF0000\", \"id\": \"fifth-generation programming language\", \"label\": \"fifth-generation programming language\", \"shape\": \"circle\"}, {\"color\": \"#FF0000\", \"id\": \"declarative language\", \"label\": \"declarative language\", \"shape\": \"circle\"}, {\"color\": \"#FF0000\", \"id\": \"oculometry\", \"label\": \"oculometry\", \"shape\": \"circle\"}, {\"color\": \"#FF0000\", \"id\": \"instrumental variables estimation\", \"label\": \"instrumental variables estimation\", \"shape\": \"circle\"}, {\"color\": \"#FF0000\", \"id\": \"food industry\", \"label\": \"food industry\", \"shape\": \"circle\"}, {\"color\": \"#FF0000\", \"id\": \"food market\", \"label\": \"food market\", \"shape\": \"circle\"}, {\"color\": \"#FF0000\", \"id\": \"Monte Carlo simulation\", \"label\": \"Monte Carlo simulation\", \"shape\": \"circle\"}, {\"color\": \"#FF0000\", \"id\": \"Markov chain Monte Carlo\", \"label\": \"Markov chain Monte Carlo\", \"shape\": \"circle\"}, {\"color\": \"#FF0000\", \"id\": \"sociometry\", \"label\": \"sociometry\", \"shape\": \"circle\"}, {\"color\": \"#FF0000\", \"id\": \"Perl\", \"label\": \"Perl\", \"shape\": \"circle\"}, {\"color\": \"#FF0000\", \"id\": \"accounting standard\", \"label\": \"accounting standard\", \"shape\": \"circle\"}, {\"color\": \"#FF0000\", \"id\": \"variance inflation factor\", \"label\": \"variance inflation factor\", \"shape\": \"circle\"}, {\"color\": \"#FF0000\", \"id\": \"bootstrap sampling\", \"label\": \"bootstrap sampling\", \"shape\": \"circle\"}, {\"color\": \"#FF0000\", \"id\": \"investment fund\", \"label\": \"investment fund\", \"shape\": \"circle\"}, {\"color\": \"#FF0000\", \"id\": \"internet service provider\", \"label\": \"internet service provider\", \"shape\": \"circle\"}, {\"color\": \"#FF0000\", \"id\": \"criminality\", \"label\": \"criminality\", \"shape\": \"circle\"}, {\"color\": \"#FF0000\", \"id\": \"financial services information system\", \"label\": \"financial services information system\", \"shape\": \"circle\"}, {\"color\": \"#FF0000\", \"id\": \"home computer\", \"label\": \"home computer\", \"shape\": \"circle\"}, {\"color\": \"#FF0000\", \"id\": \"correlation direction\", \"label\": \"correlation direction\", \"shape\": \"circle\"}, {\"color\": \"#FF0000\", \"id\": \"positive correlation\", \"label\": \"positive correlation\", \"shape\": \"circle\"}, {\"color\": \"#FF0000\", \"id\": \"shopping center\", \"label\": \"shopping center\", \"shape\": \"circle\"}, {\"color\": \"#FF0000\", \"id\": \"community level\", \"label\": \"community level\", \"shape\": \"circle\"}, {\"color\": \"#FF0000\", \"id\": \"probit regression\", \"label\": \"probit regression\", \"shape\": \"circle\"}, {\"color\": \"#FF0000\", \"id\": \"image processing\", \"label\": \"image processing\", \"shape\": \"circle\"}, {\"color\": \"#FF0000\", \"id\": \"average treatment effect\", \"label\": \"average treatment effect\", \"shape\": \"circle\"}, {\"color\": \"#FF0000\", \"id\": \"self quantification\", \"label\": \"self quantification\", \"shape\": \"circle\"}, {\"color\": \"#FF0000\", \"id\": \"mobile platform\", \"label\": \"mobile platform\", \"shape\": \"circle\"}, {\"color\": \"#FF0000\", \"id\": \"critical rationalism\", \"label\": \"critical rationalism\", \"shape\": \"circle\"}, {\"color\": \"#FF0000\", \"id\": \"social sciences theory\", \"label\": \"social sciences theory\", \"shape\": \"circle\"}, {\"color\": \"#FF0000\", \"id\": \"environmental sustainability\", \"label\": \"environmental sustainability\", \"shape\": \"circle\"}, {\"color\": \"#FF0000\", \"id\": \"climate change\", \"label\": \"climate change\", \"shape\": \"circle\"}, {\"color\": \"#FF0000\", \"id\": \"user resistance\", \"label\": \"user resistance\", \"shape\": \"circle\"}, {\"color\": \"#FF0000\", \"id\": \"social contagion theory\", \"label\": \"social contagion theory\", \"shape\": \"circle\"}, {\"color\": \"#FF0000\", \"id\": \"personal health record\", \"label\": \"personal health record\", \"shape\": \"circle\"}, {\"color\": \"#FF0000\", \"id\": \"game theory\", \"label\": \"game theory\", \"shape\": \"circle\"}, {\"color\": \"#FF0000\", \"id\": \"graph theory\", \"label\": \"graph theory\", \"shape\": \"circle\"}, {\"color\": \"#FF0000\", \"id\": \"mixed method\", \"label\": \"mixed method\", \"shape\": \"circle\"}, {\"color\": \"#FF0000\", \"id\": \"chat room\", \"label\": \"chat room\", \"shape\": \"circle\"}, {\"color\": \"#FF0000\", \"id\": \"online game\", \"label\": \"online game\", \"shape\": \"circle\"}, {\"color\": \"#FF0000\", \"id\": \"massively multiplayer online game\", \"label\": \"massively multiplayer online game\", \"shape\": \"circle\"}, {\"color\": \"#FF0000\", \"id\": \"psychometrics\", \"label\": \"psychometrics\", \"shape\": \"circle\"}, {\"color\": \"#FF0000\", \"id\": \"partial least squares regression\", \"label\": \"partial least squares regression\", \"shape\": \"circle\"}, {\"color\": \"#FF0000\", \"id\": \"self efficacy theory\", \"label\": \"self efficacy theory\", \"shape\": \"circle\"}, {\"color\": \"#FF0000\", \"id\": \"attribution theory\", \"label\": \"attribution theory\", \"shape\": \"circle\"}, {\"color\": \"#FF0000\", \"id\": \"self perception theory\", \"label\": \"self perception theory\", \"shape\": \"circle\"}, {\"color\": \"#FF0000\", \"id\": \"path coefficient\", \"label\": \"path coefficient\", \"shape\": \"circle\"}, {\"color\": \"#FF0000\", \"id\": \"common-method variance\", \"label\": \"common-method variance\", \"shape\": \"circle\"}, {\"color\": \"#FF0000\", \"id\": \"virtual world\", \"label\": \"virtual world\", \"shape\": \"circle\"}, {\"color\": \"#FF0000\", \"id\": \"information technology operation\", \"label\": \"information technology operation\", \"shape\": \"circle\"}, {\"color\": \"#FF0000\", \"id\": \"user satisfaction\", \"label\": \"user satisfaction\", \"shape\": \"circle\"}, {\"color\": \"#FF0000\", \"id\": \"mainframe\", \"label\": \"mainframe\", \"shape\": \"circle\"}, {\"color\": \"#FF0000\", \"id\": \"high level language\", \"label\": \"high level language\", \"shape\": \"circle\"}, {\"color\": \"#FF0000\", \"id\": \"object oriented programming language\", \"label\": \"object oriented programming language\", \"shape\": \"circle\"}, {\"color\": \"#FF0000\", \"id\": \"supply chain management system\", \"label\": \"supply chain management system\", \"shape\": \"circle\"}, {\"color\": \"#FF0000\", \"id\": \"inventory management system\", \"label\": \"inventory management system\", \"shape\": \"circle\"}, {\"color\": \"#FF0000\", \"id\": \"user expectation\", \"label\": \"user expectation\", \"shape\": \"circle\"}, {\"color\": \"#FF0000\", \"id\": \"biological theory\", \"label\": \"biological theory\", \"shape\": \"circle\"}, {\"color\": \"#FF0000\", \"id\": \"radio frequency identification\", \"label\": \"radio frequency identification\", \"shape\": \"circle\"}, {\"color\": \"#FF0000\", \"id\": \"theory of change\", \"label\": \"theory of change\", \"shape\": \"circle\"}, {\"color\": \"#FF0000\", \"id\": \"work systems theory\", \"label\": \"work systems theory\", \"shape\": \"circle\"}, {\"color\": \"#FF0000\", \"id\": \"criterion validity\", \"label\": \"criterion validity\", \"shape\": \"circle\"}, {\"color\": \"#FF0000\", \"id\": \"predictive validity\", \"label\": \"predictive validity\", \"shape\": \"circle\"}, {\"color\": \"#FF0000\", \"id\": \"textile and clothing industry\", \"label\": \"textile and clothing industry\", \"shape\": \"circle\"}, {\"color\": \"#FF0000\", \"id\": \"footwear industry\", \"label\": \"footwear industry\", \"shape\": \"circle\"}, {\"color\": \"#FF0000\", \"id\": \"content validity\", \"label\": \"content validity\", \"shape\": \"circle\"}, {\"color\": \"#FF0000\", \"id\": \"root mean square residual\", \"label\": \"root mean square residual\", \"shape\": \"circle\"}, {\"color\": \"#FF0000\", \"id\": \"social learning theory\", \"label\": \"social learning theory\", \"shape\": \"circle\"}, {\"color\": \"#FF0000\", \"id\": \"PC DOS\", \"label\": \"PC DOS\", \"shape\": \"circle\"}, {\"color\": \"#FF0000\", \"id\": \"command line interface\", \"label\": \"command line interface\", \"shape\": \"circle\"}, {\"color\": \"#FF0000\", \"id\": \"IS satisfaction\", \"label\": \"IS satisfaction\", \"shape\": \"circle\"}, {\"color\": \"#FF0000\", \"id\": \"resistance to change\", \"label\": \"resistance to change\", \"shape\": \"circle\"}, {\"color\": \"#FF0000\", \"id\": \"accounting information system\", \"label\": \"accounting information system\", \"shape\": \"circle\"}, {\"color\": \"#FF0000\", \"id\": \"financial information system\", \"label\": \"financial information system\", \"shape\": \"circle\"}, {\"color\": \"#FF0000\", \"id\": \"business service sector\", \"label\": \"business service sector\", \"shape\": \"circle\"}, {\"color\": \"#FF0000\", \"id\": \"systems development effort\", \"label\": \"systems development effort\", \"shape\": \"circle\"}, {\"color\": \"#FF0000\", \"id\": \"data-flow diagram\", \"label\": \"data-flow diagram\", \"shape\": \"circle\"}, {\"color\": \"#FF0000\", \"id\": \"Cohen\\u0027s kappa coefficient\", \"label\": \"Cohen\\u0027s kappa coefficient\", \"shape\": \"circle\"}, {\"color\": \"#FF0000\", \"id\": \"two-way ANOVA\", \"label\": \"two-way ANOVA\", \"shape\": \"circle\"}, {\"color\": \"#FF0000\", \"id\": \"sum of squares\", \"label\": \"sum of squares\", \"shape\": \"circle\"}, {\"color\": \"#FF0000\", \"id\": \"location based service\", \"label\": \"location based service\", \"shape\": \"circle\"}, {\"color\": \"#FF0000\", \"id\": \"global navigation satellite system\", \"label\": \"global navigation satellite system\", \"shape\": \"circle\"}, {\"color\": \"#FF0000\", \"id\": \"contingency theory\", \"label\": \"contingency theory\", \"shape\": \"circle\"}, {\"color\": \"#FF0000\", \"id\": \"iOS\", \"label\": \"iOS\", \"shape\": \"circle\"}, {\"color\": \"#FF0000\", \"id\": \"real option\", \"label\": \"real option\", \"shape\": \"circle\"}, {\"color\": \"#FF0000\", \"id\": \"banking sytem\", \"label\": \"banking sytem\", \"shape\": \"circle\"}, {\"color\": \"#FF0000\", \"id\": \"cognitive walkthrough\", \"label\": \"cognitive walkthrough\", \"shape\": \"circle\"}, {\"color\": \"#FF0000\", \"id\": \"IS value\", \"label\": \"IS value\", \"shape\": \"circle\"}, {\"color\": \"#FF0000\", \"id\": \"neurophysiology\", \"label\": \"neurophysiology\", \"shape\": \"circle\"}, {\"color\": \"#FF0000\", \"id\": \"IT centralization-decentralization\", \"label\": \"IT centralization-decentralization\", \"shape\": \"circle\"}, {\"color\": \"#FF0000\", \"id\": \"IT decentralization\", \"label\": \"IT decentralization\", \"shape\": \"circle\"}, {\"color\": \"#FF0000\", \"id\": \"internal validity\", \"label\": \"internal validity\", \"shape\": \"circle\"}, {\"color\": \"#FF0000\", \"id\": \"social capital theory\", \"label\": \"social capital theory\", \"shape\": \"circle\"}, {\"color\": \"#FF0000\", \"id\": \"real options theory\", \"label\": \"real options theory\", \"shape\": \"circle\"}, {\"color\": \"#FF0000\", \"id\": \"enterprise application integration\", \"label\": \"enterprise application integration\", \"shape\": \"circle\"}, {\"color\": \"#FF0000\", \"id\": \"service oriented architecture\", \"label\": \"service oriented architecture\", \"shape\": \"circle\"}, {\"color\": \"#FF0000\", \"id\": \"Web of Science Core Collection\", \"label\": \"Web of Science Core Collection\", \"shape\": \"circle\"}, {\"color\": \"#FF0000\", \"id\": \"startup\", \"label\": \"startup\", \"shape\": \"circle\"}, {\"color\": \"#FF0000\", \"id\": \"signaling theory\", \"label\": \"signaling theory\", \"shape\": \"circle\"}, {\"color\": \"#FF0000\", \"id\": \"stratified sampling\", \"label\": \"stratified sampling\", \"shape\": \"circle\"}, {\"color\": \"#FF0000\", \"id\": \"weighted least square\", \"label\": \"weighted least square\", \"shape\": \"circle\"}, {\"color\": \"#FF0000\", \"id\": \"partial correlation\", \"label\": \"partial correlation\", \"shape\": \"circle\"}, {\"color\": \"#FF0000\", \"id\": \"specification error test\", \"label\": \"specification error test\", \"shape\": \"circle\"}, {\"color\": \"#FF0000\", \"id\": \"Ramsey RESET test\", \"label\": \"Ramsey RESET test\", \"shape\": \"circle\"}, {\"color\": \"#FF0000\", \"id\": \"Microsoft Dynamics\", \"label\": \"Microsoft Dynamics\", \"shape\": \"circle\"}, {\"color\": \"#FF0000\", \"id\": \"open access\", \"label\": \"open access\", \"shape\": \"circle\"}, {\"color\": \"#FF0000\", \"id\": \"customer relationship management system\", \"label\": \"customer relationship management system\", \"shape\": \"circle\"}, {\"color\": \"#FF0000\", \"id\": \"software as a service\", \"label\": \"software as a service\", \"shape\": \"circle\"}, {\"color\": \"#FF0000\", \"id\": \"user success\", \"label\": \"user success\", \"shape\": \"circle\"}, {\"color\": \"#FF0000\", \"id\": \"card sorting\", \"label\": \"card sorting\", \"shape\": \"circle\"}, {\"color\": \"#FF0000\", \"id\": \"split-half reliability\", \"label\": \"split-half reliability\", \"shape\": \"circle\"}, {\"color\": \"#FF0000\", \"id\": \"spyware\", \"label\": \"spyware\", \"shape\": \"circle\"}, {\"color\": \"#FF0000\", \"id\": \"automated reasoning\", \"label\": \"automated reasoning\", \"shape\": \"circle\"}, {\"color\": \"#FF0000\", \"id\": \"analogical reasoning\", \"label\": \"analogical reasoning\", \"shape\": \"circle\"}, {\"color\": \"#FF0000\", \"id\": \"expert panel\", \"label\": \"expert panel\", \"shape\": \"circle\"}, {\"color\": \"#FF0000\", \"id\": \"hazard function\", \"label\": \"hazard function\", \"shape\": \"circle\"}, {\"color\": \"#FF0000\", \"id\": \"earthquake\", \"label\": \"earthquake\", \"shape\": \"circle\"}, {\"color\": \"#FF0000\", \"id\": \"data transformation\", \"label\": \"data transformation\", \"shape\": \"circle\"}, {\"color\": \"#FF0000\", \"id\": \"t-distributed stochastic neighbor embedding\", \"label\": \"t-distributed stochastic neighbor embedding\", \"shape\": \"circle\"}, {\"color\": \"#FF0000\", \"id\": \"technophobia\", \"label\": \"technophobia\", \"shape\": \"circle\"}, {\"color\": \"#FF0000\", \"id\": \"construct definition\", \"label\": \"construct definition\", \"shape\": \"circle\"}, {\"color\": \"#FF0000\", \"id\": \"information technology addiction\", \"label\": \"information technology addiction\", \"shape\": \"circle\"}, {\"color\": \"#FF0000\", \"id\": \"electrocardiography\", \"label\": \"electrocardiography\", \"shape\": \"circle\"}, {\"color\": \"#FF0000\", \"id\": \"role theory\", \"label\": \"role theory\", \"shape\": \"circle\"}, {\"color\": \"#FF0000\", \"id\": \"endocrinology\", \"label\": \"endocrinology\", \"shape\": \"circle\"}, {\"color\": \"#FF0000\", \"id\": \"cross sectional survey\", \"label\": \"cross sectional survey\", \"shape\": \"circle\"}, {\"color\": \"#FF0000\", \"id\": \"crowdsourcing of participant\", \"label\": \"crowdsourcing of participant\", \"shape\": \"circle\"}, {\"color\": \"#FF0000\", \"id\": \"Amazon Mechanical Turk\", \"label\": \"Amazon Mechanical Turk\", \"shape\": \"circle\"}, {\"color\": \"#FF0000\", \"id\": \"standardized root mean square residual\", \"label\": \"standardized root mean square residual\", \"shape\": \"circle\"}, {\"color\": \"#FF0000\", \"id\": \"formative construct\", \"label\": \"formative construct\", \"shape\": \"circle\"}, {\"color\": \"#FF0000\", \"id\": \"reflective construct\", \"label\": \"reflective construct\", \"shape\": \"circle\"}, {\"color\": \"#FF0000\", \"id\": \"multivariate analysis of variance\", \"label\": \"multivariate analysis of variance\", \"shape\": \"circle\"}, {\"color\": \"#FF0000\", \"id\": \"internet addiction\", \"label\": \"internet addiction\", \"shape\": \"circle\"}, {\"color\": \"#FF0000\", \"id\": \"graphical user interface\", \"label\": \"graphical user interface\", \"shape\": \"circle\"}, {\"color\": \"#FF0000\", \"id\": \"user training\", \"label\": \"user training\", \"shape\": \"circle\"}, {\"color\": \"#FF0000\", \"id\": \"natural experiment\", \"label\": \"natural experiment\", \"shape\": \"circle\"}, {\"color\": \"#FF0000\", \"id\": \"Blu-ray disc\", \"label\": \"Blu-ray disc\", \"shape\": \"circle\"}, {\"color\": \"#FF0000\", \"id\": \"ebook\", \"label\": \"ebook\", \"shape\": \"circle\"}, {\"color\": \"#FF0000\", \"id\": \"news archival database\", \"label\": \"news archival database\", \"shape\": \"circle\"}, {\"color\": \"#FF0000\", \"id\": \"Google news\", \"label\": \"Google news\", \"shape\": \"circle\"}, {\"color\": \"#FF0000\", \"id\": \"discrete choice experiment\", \"label\": \"discrete choice experiment\", \"shape\": \"circle\"}, {\"color\": \"#FF0000\", \"id\": \"copy protection\", \"label\": \"copy protection\", \"shape\": \"circle\"}, {\"color\": \"#FF0000\", \"id\": \"stochastic simulation\", \"label\": \"stochastic simulation\", \"shape\": \"circle\"}, {\"color\": \"#FF0000\", \"id\": \"partial least squares path modeling\", \"label\": \"partial least squares path modeling\", \"shape\": \"circle\"}, {\"color\": \"#FF0000\", \"id\": \"PLS tool\", \"label\": \"PLS tool\", \"shape\": \"circle\"}, {\"color\": \"#FF0000\", \"id\": \"SAS\", \"label\": \"SAS\", \"shape\": \"circle\"}, {\"color\": \"#FF0000\", \"id\": \"no correlation\", \"label\": \"no correlation\", \"shape\": \"circle\"}, {\"color\": \"#FF0000\", \"id\": \"variance explained\", \"label\": \"variance explained\", \"shape\": \"circle\"}, {\"color\": \"#FF0000\", \"id\": \"R project\", \"label\": \"R project\", \"shape\": \"circle\"}, {\"color\": \"#FF0000\", \"id\": \"ResearchGate\", \"label\": \"ResearchGate\", \"shape\": \"circle\"}, {\"color\": \"#FF0000\", \"id\": \"indicator loading\", \"label\": \"indicator loading\", \"shape\": \"circle\"}, {\"color\": \"#FF0000\", \"id\": \"end user computing\", \"label\": \"end user computing\", \"shape\": \"circle\"}, {\"color\": \"#FF0000\", \"id\": \"goodness of fit statistical test\", \"label\": \"goodness of fit statistical test\", \"shape\": \"circle\"}, {\"color\": \"#FF0000\", \"id\": \"multivariate analysis of covariance\", \"label\": \"multivariate analysis of covariance\", \"shape\": \"circle\"}, {\"color\": \"#FF0000\", \"id\": \"defence industry\", \"label\": \"defence industry\", \"shape\": \"circle\"}, {\"color\": \"#FF0000\", \"id\": \"functional neuroimaging\", \"label\": \"functional neuroimaging\", \"shape\": \"circle\"}, {\"color\": \"#FF0000\", \"id\": \"electrodermal activity\", \"label\": \"electrodermal activity\", \"shape\": \"circle\"}, {\"color\": \"#FF0000\", \"id\": \"magnetic resonance imaging\", \"label\": \"magnetic resonance imaging\", \"shape\": \"circle\"}, {\"color\": \"#FF0000\", \"id\": \"functional magnetic resonance imaging\", \"label\": \"functional magnetic resonance imaging\", \"shape\": \"circle\"}, {\"color\": \"#FF0000\", \"id\": \"electroencephalography\", \"label\": \"electroencephalography\", \"shape\": \"circle\"}, {\"color\": \"#FF0000\", \"id\": \"eye tracking tool\", \"label\": \"eye tracking tool\", \"shape\": \"circle\"}, {\"color\": \"#FF0000\", \"id\": \"negative correlation\", \"label\": \"negative correlation\", \"shape\": \"circle\"}, {\"color\": \"#FF0000\", \"id\": \"Poisson regression\", \"label\": \"Poisson regression\", \"shape\": \"circle\"}, {\"color\": \"#FF0000\", \"id\": \"between subject experiment\", \"label\": \"between subject experiment\", \"shape\": \"circle\"}, {\"color\": \"#FF0000\", \"id\": \"fuzzy logic\", \"label\": \"fuzzy logic\", \"shape\": \"circle\"}, {\"color\": \"#FF0000\", \"id\": \"national health service\", \"label\": \"national health service\", \"shape\": \"circle\"}, {\"color\": \"#FF0000\", \"id\": \"delphi study\", \"label\": \"delphi study\", \"shape\": \"circle\"}, {\"color\": \"#FF0000\", \"id\": \"mobile business\", \"label\": \"mobile business\", \"shape\": \"circle\"}, {\"color\": \"#FF0000\", \"id\": \"voice mail\", \"label\": \"voice mail\", \"shape\": \"circle\"}, {\"color\": \"#FF0000\", \"id\": \"parallel computing\", \"label\": \"parallel computing\", \"shape\": \"circle\"}, {\"color\": \"#FF0000\", \"id\": \"distributed computing\", \"label\": \"distributed computing\", \"shape\": \"circle\"}, {\"color\": \"#FF0000\", \"id\": \"focus group\", \"label\": \"focus group\", \"shape\": \"circle\"}, {\"color\": \"#FF0000\", \"id\": \"data imputation\", \"label\": \"data imputation\", \"shape\": \"circle\"}, {\"color\": \"#FF0000\", \"id\": \"organizational commitment\", \"label\": \"organizational commitment\", \"shape\": \"circle\"}, {\"color\": \"#FF0000\", \"id\": \"construction industry\", \"label\": \"construction industry\", \"shape\": \"circle\"}, {\"color\": \"#FF0000\", \"id\": \"press publisher\", \"label\": \"press publisher\", \"shape\": \"circle\"}, {\"color\": \"#FF0000\", \"id\": \"commercial broadcasting\", \"label\": \"commercial broadcasting\", \"shape\": \"circle\"}, {\"color\": \"#FF0000\", \"id\": \"commercial television\", \"label\": \"commercial television\", \"shape\": \"circle\"}, {\"color\": \"#FF0000\", \"id\": \"information privacy law\", \"label\": \"information privacy law\", \"shape\": \"circle\"}, {\"color\": \"#FF0000\", \"id\": \"likelihood-ratio test\", \"label\": \"likelihood-ratio test\", \"shape\": \"circle\"}, {\"color\": \"#FF0000\", \"id\": \"institutional theory\", \"label\": \"institutional theory\", \"shape\": \"circle\"}, {\"color\": \"#FF0000\", \"id\": \"enterprise architecture framework\", \"label\": \"enterprise architecture framework\", \"shape\": \"circle\"}, {\"color\": \"#FF0000\", \"id\": \"TOGAF\", \"label\": \"TOGAF\", \"shape\": \"circle\"}, {\"color\": \"#FF0000\", \"id\": \"survey design problem\", \"label\": \"survey design problem\", \"shape\": \"circle\"}, {\"color\": \"#FF0000\", \"id\": \"leading question\", \"label\": \"leading question\", \"shape\": \"circle\"}, {\"color\": \"#FF0000\", \"id\": \"QSR NVivo\", \"label\": \"QSR NVivo\", \"shape\": \"circle\"}, {\"color\": \"#FF0000\", \"id\": \"dominant logic\", \"label\": \"dominant logic\", \"shape\": \"circle\"}, {\"color\": \"#FF0000\", \"id\": \"metamodel\", \"label\": \"metamodel\", \"shape\": \"circle\"}, {\"color\": \"#FF0000\", \"id\": \"hermeneutics\", \"label\": \"hermeneutics\", \"shape\": \"circle\"}, {\"color\": \"#FF0000\", \"id\": \"IS maturity\", \"label\": \"IS maturity\", \"shape\": \"circle\"}, {\"color\": \"#FF0000\", \"id\": \"maturity model\", \"label\": \"maturity model\", \"shape\": \"circle\"}, {\"color\": \"#FF0000\", \"id\": \"structured systems analysis and design method\", \"label\": \"structured systems analysis and design method\", \"shape\": \"circle\"}, {\"color\": \"#FF0000\", \"id\": \"Rational Unified Process\", \"label\": \"Rational Unified Process\", \"shape\": \"circle\"}, {\"color\": \"#FF0000\", \"id\": \"ITSM standard\", \"label\": \"ITSM standard\", \"shape\": \"circle\"}, {\"color\": \"#FF0000\", \"id\": \"ITIL\", \"label\": \"ITIL\", \"shape\": \"circle\"}, {\"color\": \"#FF0000\", \"id\": \"COBIT\", \"label\": \"COBIT\", \"shape\": \"circle\"}, {\"color\": \"#FF0000\", \"id\": \"behavioral theory of the firm\", \"label\": \"behavioral theory of the firm\", \"shape\": \"circle\"}, {\"color\": \"#FF0000\", \"id\": \"total quality management\", \"label\": \"total quality management\", \"shape\": \"circle\"}, {\"color\": \"#FF0000\", \"id\": \"illusion of control\", \"label\": \"illusion of control\", \"shape\": \"circle\"}, {\"color\": \"#FF0000\", \"id\": \"ProQuest\", \"label\": \"ProQuest\", \"shape\": \"circle\"}, {\"color\": \"#FF0000\", \"id\": \"ISO 9000\", \"label\": \"ISO 9000\", \"shape\": \"circle\"}, {\"color\": \"#FF0000\", \"id\": \"management fashion theory\", \"label\": \"management fashion theory\", \"shape\": \"circle\"}, {\"color\": \"#FF0000\", \"id\": \"media richness theory\", \"label\": \"media richness theory\", \"shape\": \"circle\"}, {\"color\": \"#FF0000\", \"id\": \"task uncertainty\", \"label\": \"task uncertainty\", \"shape\": \"circle\"}, {\"color\": \"#FF0000\", \"id\": \"economic model\", \"label\": \"economic model\", \"shape\": \"circle\"}, {\"color\": \"#FF0000\", \"id\": \"physical electronic authorization device\", \"label\": \"physical electronic authorization device\", \"shape\": \"circle\"}, {\"color\": \"#FF0000\", \"id\": \"knowledge based theory of the firm\", \"label\": \"knowledge based theory of the firm\", \"shape\": \"circle\"}, {\"color\": \"#FF0000\", \"id\": \"AIS senior scholars\\u0027 basket of journals\", \"label\": \"AIS senior scholars\\u0027 basket of journals\", \"shape\": \"circle\"}, {\"color\": \"#FF0000\", \"id\": \"latent semantic analysis\", \"label\": \"latent semantic analysis\", \"shape\": \"circle\"}, {\"color\": \"#FF0000\", \"id\": \"theory of task technology fit\", \"label\": \"theory of task technology fit\", \"shape\": \"circle\"}, {\"color\": \"#FF0000\", \"id\": \"noncooperative game theory\", \"label\": \"noncooperative game theory\", \"shape\": \"circle\"}, {\"color\": \"#FF0000\", \"id\": \"prisoner\\u0027s dilemma\", \"label\": \"prisoner\\u0027s dilemma\", \"shape\": \"circle\"}, {\"color\": \"#FF0000\", \"id\": \"office automation\", \"label\": \"office automation\", \"shape\": \"circle\"}, {\"color\": \"#FF0000\", \"id\": \"MySQL\", \"label\": \"MySQL\", \"shape\": \"circle\"}, {\"color\": \"#FF0000\", \"id\": \"content management system\", \"label\": \"content management system\", \"shape\": \"circle\"}, {\"color\": \"#FF0000\", \"id\": \"digital asset management\", \"label\": \"digital asset management\", \"shape\": \"circle\"}, {\"color\": \"#FF0000\", \"id\": \"soft systems theory\", \"label\": \"soft systems theory\", \"shape\": \"circle\"}, {\"color\": \"#FF0000\", \"id\": \"legal information system\", \"label\": \"legal information system\", \"shape\": \"circle\"}, {\"color\": \"#FF0000\", \"id\": \"software patent\", \"label\": \"software patent\", \"shape\": \"circle\"}, {\"color\": \"#FF0000\", \"id\": \"game theoretical model\", \"label\": \"game theoretical model\", \"shape\": \"circle\"}, {\"color\": \"#FF0000\", \"id\": \"financial advisor\", \"label\": \"financial advisor\", \"shape\": \"circle\"}, {\"color\": \"#FF0000\", \"id\": \"Science Direct\", \"label\": \"Science Direct\", \"shape\": \"circle\"}, {\"color\": \"#FF0000\", \"id\": \"EBSCO\", \"label\": \"EBSCO\", \"shape\": \"circle\"}, {\"color\": \"#FF0000\", \"id\": \"JSTOR\", \"label\": \"JSTOR\", \"shape\": \"circle\"}, {\"color\": \"#FF0000\", \"id\": \"ACM digital library\", \"label\": \"ACM digital library\", \"shape\": \"circle\"}, {\"color\": \"#FF0000\", \"id\": \"core competency theory\", \"label\": \"core competency theory\", \"shape\": \"circle\"}, {\"color\": \"#FF0000\", \"id\": \"SAP R/3\", \"label\": \"SAP R/3\", \"shape\": \"circle\"}, {\"color\": \"#FF0000\", \"id\": \"speech act theory\", \"label\": \"speech act theory\", \"shape\": \"circle\"}, {\"color\": \"#FF0000\", \"id\": \"uncertainty reduction theory\", \"label\": \"uncertainty reduction theory\", \"shape\": \"circle\"}, {\"color\": \"#FF0000\", \"id\": \"decision quality\", \"label\": \"decision quality\", \"shape\": \"circle\"}, {\"color\": \"#FF0000\", \"id\": \"floppy disk\", \"label\": \"floppy disk\", \"shape\": \"circle\"}, {\"color\": \"#FF0000\", \"id\": \"mediation analysis\", \"label\": \"mediation analysis\", \"shape\": \"circle\"}, {\"color\": \"#FF0000\", \"id\": \"conversational agent\", \"label\": \"conversational agent\", \"shape\": \"circle\"}, {\"color\": \"#FF0000\", \"id\": \"rational choice theory\", \"label\": \"rational choice theory\", \"shape\": \"circle\"}, {\"color\": \"#FF0000\", \"id\": \"IT security theory\", \"label\": \"IT security theory\", \"shape\": \"circle\"}, {\"color\": \"#FF0000\", \"id\": \"privacy calculus theory\", \"label\": \"privacy calculus theory\", \"shape\": \"circle\"}, {\"color\": \"#FF0000\", \"id\": \"moderation analysis\", \"label\": \"moderation analysis\", \"shape\": \"circle\"}, {\"color\": \"#FF0000\", \"id\": \"mobile application market\", \"label\": \"mobile application market\", \"shape\": \"circle\"}, {\"color\": \"#FF0000\", \"id\": \"agency theory\", \"label\": \"agency theory\", \"shape\": \"circle\"}, {\"color\": \"#FF0000\", \"id\": \"symmetric-key encryption\", \"label\": \"symmetric-key encryption\", \"shape\": \"circle\"}, {\"color\": \"#FF0000\", \"id\": \"Advanced Encryption Standard\", \"label\": \"Advanced Encryption Standard\", \"shape\": \"circle\"}, {\"color\": \"#FF0000\", \"id\": \"ecological validity\", \"label\": \"ecological validity\", \"shape\": \"circle\"}, {\"color\": \"#FF0000\", \"id\": \"Qualtrics\", \"label\": \"Qualtrics\", \"shape\": \"circle\"}, {\"color\": \"#FF0000\", \"id\": \"mobile health\", \"label\": \"mobile health\", \"shape\": \"circle\"}, {\"color\": \"#FF0000\", \"id\": \"data protection\", \"label\": \"data protection\", \"shape\": \"circle\"}, {\"color\": \"#FF0000\", \"id\": \"smart wearable device\", \"label\": \"smart wearable device\", \"shape\": \"circle\"}, {\"color\": \"#FF0000\", \"id\": \"fitness tracker\", \"label\": \"fitness tracker\", \"shape\": \"circle\"}, {\"color\": \"#FF0000\", \"id\": \"chatbot\", \"label\": \"chatbot\", \"shape\": \"circle\"}, {\"color\": \"#FF0000\", \"id\": \"smart speaker\", \"label\": \"smart speaker\", \"shape\": \"circle\"}, {\"color\": \"#FF0000\", \"id\": \"Amazon Echo\", \"label\": \"Amazon Echo\", \"shape\": \"circle\"}, {\"color\": \"#FF0000\", \"id\": \"information processing theory\", \"label\": \"information processing theory\", \"shape\": \"circle\"}, {\"color\": \"#FF0000\", \"id\": \"web technology\", \"label\": \"web technology\", \"shape\": \"circle\"}, {\"color\": \"#FF0000\", \"id\": \"online banking\", \"label\": \"online banking\", \"shape\": \"circle\"}, {\"color\": \"#FF0000\", \"id\": \"ambiguous question\", \"label\": \"ambiguous question\", \"shape\": \"circle\"}, {\"color\": \"#FF0000\", \"id\": \"convenience sampling\", \"label\": \"convenience sampling\", \"shape\": \"circle\"}, {\"color\": \"#FF0000\", \"id\": \"Instagram\", \"label\": \"Instagram\", \"shape\": \"circle\"}, {\"color\": \"#FF0000\", \"id\": \"Facebook Messenger\", \"label\": \"Facebook Messenger\", \"shape\": \"circle\"}, {\"color\": \"#FF0000\", \"id\": \"blockchain\", \"label\": \"blockchain\", \"shape\": \"circle\"}, {\"color\": \"#FF0000\", \"id\": \"cryptocurrency\", \"label\": \"cryptocurrency\", \"shape\": \"circle\"}, {\"color\": \"#FF0000\", \"id\": \"travel agency\", \"label\": \"travel agency\", \"shape\": \"circle\"}, {\"color\": \"#FF0000\", \"id\": \"banner advertising\", \"label\": \"banner advertising\", \"shape\": \"circle\"}, {\"color\": \"#FF0000\", \"id\": \"WeChat\", \"label\": \"WeChat\", \"shape\": \"circle\"}, {\"color\": \"#FF0000\", \"id\": \"optical character recognition\", \"label\": \"optical character recognition\", \"shape\": \"circle\"}, {\"color\": \"#FF0000\", \"id\": \"IT affordance\", \"label\": \"IT affordance\", \"shape\": \"circle\"}, {\"color\": \"#FF0000\", \"id\": \"museum\", \"label\": \"museum\", \"shape\": \"circle\"}, {\"color\": \"#FF0000\", \"id\": \"self determination theory\", \"label\": \"self determination theory\", \"shape\": \"circle\"}, {\"color\": \"#FF0000\", \"id\": \"communities of practice\", \"label\": \"communities of practice\", \"shape\": \"circle\"}, {\"color\": \"#FF0000\", \"id\": \"snowball sampling\", \"label\": \"snowball sampling\", \"shape\": \"circle\"}, {\"color\": \"#FF0000\", \"id\": \"social bookmark\", \"label\": \"social bookmark\", \"shape\": \"circle\"}, {\"color\": \"#FF0000\", \"id\": \"one-way ANOVA\", \"label\": \"one-way ANOVA\", \"shape\": \"circle\"}, {\"color\": \"#FF0000\", \"id\": \"broadcasting industry\", \"label\": \"broadcasting industry\", \"shape\": \"circle\"}, {\"color\": \"#FF0000\", \"id\": \"word processing\", \"label\": \"word processing\", \"shape\": \"circle\"}, {\"color\": \"#FF0000\", \"id\": \"robotic\", \"label\": \"robotic\", \"shape\": \"circle\"}, {\"color\": \"#FF0000\", \"id\": \"logic programming language\", \"label\": \"logic programming language\", \"shape\": \"circle\"}, {\"color\": \"#FF0000\", \"id\": \"Prolog\", \"label\": \"Prolog\", \"shape\": \"circle\"}, {\"color\": \"#FF0000\", \"id\": \"knowledge work\", \"label\": \"knowledge work\", \"shape\": \"circle\"}, {\"color\": \"#FF0000\", \"id\": \"supercomputer\", \"label\": \"supercomputer\", \"shape\": \"circle\"}, {\"color\": \"#FF0000\", \"id\": \"semantic network\", \"label\": \"semantic network\", \"shape\": \"circle\"}, {\"color\": \"#FF0000\", \"id\": \"vehicular automation\", \"label\": \"vehicular automation\", \"shape\": \"circle\"}, {\"color\": \"#FF0000\", \"id\": \"autonomous driving system\", \"label\": \"autonomous driving system\", \"shape\": \"circle\"}, {\"color\": \"#FF0000\", \"id\": \"IT productivity paradox\", \"label\": \"IT productivity paradox\", \"shape\": \"circle\"}, {\"color\": \"#FF0000\", \"id\": \"interpretative method\", \"label\": \"interpretative method\", \"shape\": \"circle\"}, {\"color\": \"#FF0000\", \"id\": \"rapid application development\", \"label\": \"rapid application development\", \"shape\": \"circle\"}, {\"color\": \"#FF0000\", \"id\": \"participatory action research\", \"label\": \"participatory action research\", \"shape\": \"circle\"}, {\"color\": \"#FF0000\", \"id\": \"document management system\", \"label\": \"document management system\", \"shape\": \"circle\"}, {\"color\": \"#FF0000\", \"id\": \"technology threat avoidance theory\", \"label\": \"technology threat avoidance theory\", \"shape\": \"circle\"}, {\"color\": \"#FF0000\", \"id\": \"information security risk\", \"label\": \"information security risk\", \"shape\": \"circle\"}, {\"color\": \"#FF0000\", \"id\": \"eta squared\", \"label\": \"eta squared\", \"shape\": \"circle\"}, {\"color\": \"#FF0000\", \"id\": \"information security management\", \"label\": \"information security management\", \"shape\": \"circle\"}, {\"color\": \"#FF0000\", \"id\": \"gamification\", \"label\": \"gamification\", \"shape\": \"circle\"}, {\"color\": \"#FF0000\", \"id\": \"enterprise social network\", \"label\": \"enterprise social network\", \"shape\": \"circle\"}, {\"color\": \"#FF0000\", \"id\": \"podcast\", \"label\": \"podcast\", \"shape\": \"circle\"}, {\"color\": \"#FF0000\", \"id\": \"three validities\", \"label\": \"three validities\", \"shape\": \"circle\"}, {\"color\": \"#FF0000\", \"id\": \"EU data protection law\", \"label\": \"EU data protection law\", \"shape\": \"circle\"}, {\"color\": \"#FF0000\", \"id\": \"Data Protection Directive\", \"label\": \"Data Protection Directive\", \"shape\": \"circle\"}, {\"color\": \"#FF0000\", \"id\": \"IT security defense\", \"label\": \"IT security defense\", \"shape\": \"circle\"}, {\"color\": \"#FF0000\", \"id\": \"digital signature\", \"label\": \"digital signature\", \"shape\": \"circle\"}, {\"color\": \"#FF0000\", \"id\": \"public key encryption\", \"label\": \"public key encryption\", \"shape\": \"circle\"}, {\"color\": \"#FF0000\", \"id\": \"large-scale computer\", \"label\": \"large-scale computer\", \"shape\": \"circle\"}, {\"color\": \"#FF0000\", \"id\": \"business systems planning\", \"label\": \"business systems planning\", \"shape\": \"circle\"}, {\"color\": \"#FF0000\", \"id\": \"pricing information system\", \"label\": \"pricing information system\", \"shape\": \"circle\"}, {\"color\": \"#FF0000\", \"id\": \"authorization\", \"label\": \"authorization\", \"shape\": \"circle\"}, {\"color\": \"#FF0000\", \"id\": \"September 11 attack\", \"label\": \"September 11 attack\", \"shape\": \"circle\"}, {\"color\": \"#FF0000\", \"id\": \"purposive sampling\", \"label\": \"purposive sampling\", \"shape\": \"circle\"}, {\"color\": \"#FF0000\", \"id\": \"information intermediary\", \"label\": \"information intermediary\", \"shape\": \"circle\"}, {\"color\": \"#FF0000\", \"id\": \"event industry\", \"label\": \"event industry\", \"shape\": \"circle\"}, {\"color\": \"#FF0000\", \"id\": \"sport event\", \"label\": \"sport event\", \"shape\": \"circle\"}, {\"color\": \"#FF0000\", \"id\": \"trojan horse\", \"label\": \"trojan horse\", \"shape\": \"circle\"}, {\"color\": \"#FF0000\", \"id\": \"MetaCrawler\", \"label\": \"MetaCrawler\", \"shape\": \"circle\"}, {\"color\": \"#FF0000\", \"id\": \"consumer electronics industry\", \"label\": \"consumer electronics industry\", \"shape\": \"circle\"}, {\"color\": \"#FF0000\", \"id\": \"video game industry\", \"label\": \"video game industry\", \"shape\": \"circle\"}, {\"color\": \"#FF0000\", \"id\": \"technological frames of reference\", \"label\": \"technological frames of reference\", \"shape\": \"circle\"}, {\"color\": \"#FF0000\", \"id\": \"social shaping of technology\", \"label\": \"social shaping of technology\", \"shape\": \"circle\"}, {\"color\": \"#FF0000\", \"id\": \"Microsoft Windows\", \"label\": \"Microsoft Windows\", \"shape\": \"circle\"}, {\"color\": \"#FF0000\", \"id\": \"electronics industry\", \"label\": \"electronics industry\", \"shape\": \"circle\"}, {\"color\": \"#FF0000\", \"id\": \"computer graphic\", \"label\": \"computer graphic\", \"shape\": \"circle\"}, {\"color\": \"#FF0000\", \"id\": \"agent based simulation\", \"label\": \"agent based simulation\", \"shape\": \"circle\"}, {\"color\": \"#FF0000\", \"id\": \"fishing industry\", \"label\": \"fishing industry\", \"shape\": \"circle\"}, {\"color\": \"#FF0000\", \"id\": \"IT enabled teamwork\", \"label\": \"IT enabled teamwork\", \"shape\": \"circle\"}, {\"color\": \"#FF0000\", \"id\": \"social impact theory\", \"label\": \"social impact theory\", \"shape\": \"circle\"}, {\"color\": \"#FF0000\", \"id\": \"criterion sampling\", \"label\": \"criterion sampling\", \"shape\": \"circle\"}, {\"color\": \"#FF0000\", \"id\": \"PHP\", \"label\": \"PHP\", \"shape\": \"circle\"}, {\"color\": \"#FF0000\", \"id\": \"computer industry\", \"label\": \"computer industry\", \"shape\": \"circle\"}, {\"color\": \"#FF0000\", \"id\": \"department store\", \"label\": \"department store\", \"shape\": \"circle\"}, {\"color\": \"#FF0000\", \"id\": \"ubiquitous computing\", \"label\": \"ubiquitous computing\", \"shape\": \"circle\"}, {\"color\": \"#FF0000\", \"id\": \"dynamic pricing\", \"label\": \"dynamic pricing\", \"shape\": \"circle\"}, {\"color\": \"#FF0000\", \"id\": \"Wolfram Research\", \"label\": \"Wolfram Research\", \"shape\": \"circle\"}, {\"color\": \"#FF0000\", \"id\": \"Mathematica\", \"label\": \"Mathematica\", \"shape\": \"circle\"}, {\"color\": \"#FF0000\", \"id\": \"heteroscedasticity\", \"label\": \"heteroscedasticity\", \"shape\": \"circle\"}, {\"color\": \"#FF0000\", \"id\": \"3-D graphic\", \"label\": \"3-D graphic\", \"shape\": \"circle\"}, {\"color\": \"#FF0000\", \"id\": \"software copyright\", \"label\": \"software copyright\", \"shape\": \"circle\"}, {\"color\": \"#FF0000\", \"id\": \"firewall\", \"label\": \"firewall\", \"shape\": \"circle\"}, {\"color\": \"#FF0000\", \"id\": \"domain-specific language\", \"label\": \"domain-specific language\", \"shape\": \"circle\"}, {\"color\": \"#FF0000\", \"id\": \"data accuracy\", \"label\": \"data accuracy\", \"shape\": \"circle\"}, {\"color\": \"#FF0000\", \"id\": \"information business\", \"label\": \"information business\", \"shape\": \"circle\"}, {\"color\": \"#FF0000\", \"id\": \"computer aided design\", \"label\": \"computer aided design\", \"shape\": \"circle\"}, {\"color\": \"#FF0000\", \"id\": \"microeconomic theory\", \"label\": \"microeconomic theory\", \"shape\": \"circle\"}, {\"color\": \"#FF0000\", \"id\": \"information systems success model\", \"label\": \"information systems success model\", \"shape\": \"circle\"}, {\"color\": \"#FF0000\", \"id\": \"use case modeling\", \"label\": \"use case modeling\", \"shape\": \"circle\"}, {\"color\": \"#FF0000\", \"id\": \"SERVQUAL\", \"label\": \"SERVQUAL\", \"shape\": \"circle\"}, {\"color\": \"#FF0000\", \"id\": \"class diagram\", \"label\": \"class diagram\", \"shape\": \"circle\"}, {\"color\": \"#FF0000\", \"id\": \"sociotechnical systems theory\", \"label\": \"sociotechnical systems theory\", \"shape\": \"circle\"}, {\"color\": \"#FF0000\", \"id\": \"organizational routines theory\", \"label\": \"organizational routines theory\", \"shape\": \"circle\"}, {\"color\": \"#FF0000\", \"id\": \"business process modeling language\", \"label\": \"business process modeling language\", \"shape\": \"circle\"}, {\"color\": \"#FF0000\", \"id\": \"business process model and notation\", \"label\": \"business process model and notation\", \"shape\": \"circle\"}, {\"color\": \"#FF0000\", \"id\": \"activity diagram\", \"label\": \"activity diagram\", \"shape\": \"circle\"}, {\"color\": \"#FF0000\", \"id\": \"theory of workarounds\", \"label\": \"theory of workarounds\", \"shape\": \"circle\"}, {\"color\": \"#FF0000\", \"id\": \"practice theory\", \"label\": \"practice theory\", \"shape\": \"circle\"}, {\"color\": \"#FF0000\", \"id\": \"evolutionary theory\", \"label\": \"evolutionary theory\", \"shape\": \"circle\"}, {\"color\": \"#FF0000\", \"id\": \"design thinking\", \"label\": \"design thinking\", \"shape\": \"circle\"}, {\"color\": \"#FF0000\", \"id\": \"process mining\", \"label\": \"process mining\", \"shape\": \"circle\"}, {\"color\": \"#FF0000\", \"id\": \"design pattern\", \"label\": \"design pattern\", \"shape\": \"circle\"}, {\"color\": \"#FF0000\", \"id\": \"business process management system\", \"label\": \"business process management system\", \"shape\": \"circle\"}, {\"color\": \"#FF0000\", \"id\": \"airline information system\", \"label\": \"airline information system\", \"shape\": \"circle\"}, {\"color\": \"#FF0000\", \"id\": \"airline reservation system\", \"label\": \"airline reservation system\", \"shape\": \"circle\"}, {\"color\": \"#FF0000\", \"id\": \"service-dominant logic\", \"label\": \"service-dominant logic\", \"shape\": \"circle\"}, {\"color\": \"#FF0000\", \"id\": \"Apple Siri\", \"label\": \"Apple Siri\", \"shape\": \"circle\"}, {\"color\": \"#FF0000\", \"id\": \"beverage industry\", \"label\": \"beverage industry\", \"shape\": \"circle\"}, {\"color\": \"#FF0000\", \"id\": \"brewery\", \"label\": \"brewery\", \"shape\": \"circle\"}, {\"color\": \"#FF0000\", \"id\": \"sales information system\", \"label\": \"sales information system\", \"shape\": \"circle\"}, {\"color\": \"#FF0000\", \"id\": \"TAM3\", \"label\": \"TAM3\", \"shape\": \"circle\"}, {\"color\": \"#FF0000\", \"id\": \"disruptive innovation theory\", \"label\": \"disruptive innovation theory\", \"shape\": \"circle\"}, {\"color\": \"#FF0000\", \"id\": \"Pascal\", \"label\": \"Pascal\", \"shape\": \"circle\"}, {\"color\": \"#FF0000\", \"id\": \"electronic human resource management\", \"label\": \"electronic human resource management\", \"shape\": \"circle\"}, {\"color\": \"#FF0000\", \"id\": \"real estate industry\", \"label\": \"real estate industry\", \"shape\": \"circle\"}, {\"color\": \"#FF0000\", \"id\": \"F-test\", \"label\": \"F-test\", \"shape\": \"circle\"}, {\"color\": \"#FF0000\", \"id\": \"agriculture\", \"label\": \"agriculture\", \"shape\": \"circle\"}, {\"color\": \"#FF0000\", \"id\": \"extended reality\", \"label\": \"extended reality\", \"shape\": \"circle\"}, {\"color\": \"#FF0000\", \"id\": \"virtual reality\", \"label\": \"virtual reality\", \"shape\": \"circle\"}, {\"color\": \"#FF0000\", \"id\": \"ICQ\", \"label\": \"ICQ\", \"shape\": \"circle\"}, {\"color\": \"#FF0000\", \"id\": \"filter bubble\", \"label\": \"filter bubble\", \"shape\": \"circle\"}, {\"color\": \"#FF0000\", \"id\": \"reinforcement learning\", \"label\": \"reinforcement learning\", \"shape\": \"circle\"}, {\"color\": \"#FF0000\", \"id\": \"regional bank\", \"label\": \"regional bank\", \"shape\": \"circle\"}, {\"color\": \"#FF0000\", \"id\": \"IS downsizing\", \"label\": \"IS downsizing\", \"shape\": \"circle\"}, {\"color\": \"#FF0000\", \"id\": \"aerospace industry\", \"label\": \"aerospace industry\", \"shape\": \"circle\"}, {\"color\": \"#FF0000\", \"id\": \"clothing industry\", \"label\": \"clothing industry\", \"shape\": \"circle\"}, {\"color\": \"#FF0000\", \"id\": \"electronics and computer industry\", \"label\": \"electronics and computer industry\", \"shape\": \"circle\"}, {\"color\": \"#FF0000\", \"id\": \"software metric\", \"label\": \"software metric\", \"shape\": \"circle\"}, {\"color\": \"#FF0000\", \"id\": \"ease of learning\", \"label\": \"ease of learning\", \"shape\": \"circle\"}, {\"color\": \"#FF0000\", \"id\": \"Orkut\", \"label\": \"Orkut\", \"shape\": \"circle\"}, {\"color\": \"#FF0000\", \"id\": \"Flickr\", \"label\": \"Flickr\", \"shape\": \"circle\"}, {\"color\": \"#FF0000\", \"id\": \"news agency\", \"label\": \"news agency\", \"shape\": \"circle\"}, {\"color\": \"#FF0000\", \"id\": \"digital subscriber line\", \"label\": \"digital subscriber line\", \"shape\": \"circle\"}, {\"color\": \"#FF0000\", \"id\": \"asymmetric digital subscriber line\", \"label\": \"asymmetric digital subscriber line\", \"shape\": \"circle\"}, {\"color\": \"#FF0000\", \"id\": \"social comparison theory\", \"label\": \"social comparison theory\", \"shape\": \"circle\"}, {\"color\": \"#FF0000\", \"id\": \"regression discontinuity design\", \"label\": \"regression discontinuity design\", \"shape\": \"circle\"}, {\"color\": \"#FF0000\", \"id\": \"control theory\", \"label\": \"control theory\", \"shape\": \"circle\"}, {\"color\": \"#FF0000\", \"id\": \"data envelopment analysis\", \"label\": \"data envelopment analysis\", \"shape\": \"circle\"}, {\"color\": \"#FF0000\", \"id\": \"theory of work design\", \"label\": \"theory of work design\", \"shape\": \"circle\"}, {\"color\": \"#FF0000\", \"id\": \"job characteristics theory\", \"label\": \"job characteristics theory\", \"shape\": \"circle\"}, {\"color\": \"#FF0000\", \"id\": \"repertory grid technique\", \"label\": \"repertory grid technique\", \"shape\": \"circle\"}, {\"color\": \"#FF0000\", \"id\": \"spatial analysis\", \"label\": \"spatial analysis\", \"shape\": \"circle\"}, {\"color\": \"#FF0000\", \"id\": \"social identity theory\", \"label\": \"social identity theory\", \"shape\": \"circle\"}, {\"color\": \"#FF0000\", \"id\": \"protocol analysis\", \"label\": \"protocol analysis\", \"shape\": \"circle\"}, {\"color\": \"#FF0000\", \"id\": \"goal theory\", \"label\": \"goal theory\", \"shape\": \"circle\"}, {\"color\": \"#FF0000\", \"id\": \"goal setting theory\", \"label\": \"goal setting theory\", \"shape\": \"circle\"}, {\"color\": \"#FF0000\", \"id\": \"wide area network\", \"label\": \"wide area network\", \"shape\": \"circle\"}, {\"color\": \"#FF0000\", \"id\": \"Bitcoin\", \"label\": \"Bitcoin\", \"shape\": \"circle\"}, {\"color\": \"#FF0000\", \"id\": \"distributed ledger technology\", \"label\": \"distributed ledger technology\", \"shape\": \"circle\"}, {\"color\": \"#FF0000\", \"id\": \"Hyperledger\", \"label\": \"Hyperledger\", \"shape\": \"circle\"}, {\"color\": \"#FF0000\", \"id\": \"topic model\", \"label\": \"topic model\", \"shape\": \"circle\"}, {\"color\": \"#FF0000\", \"id\": \"practice level\", \"label\": \"practice level\", \"shape\": \"circle\"}, {\"color\": \"#FF0000\", \"id\": \"smart contract\", \"label\": \"smart contract\", \"shape\": \"circle\"}, {\"color\": \"#FF0000\", \"id\": \"minicomputer\", \"label\": \"minicomputer\", \"shape\": \"circle\"}, {\"color\": \"#FF0000\", \"id\": \"videotex\", \"label\": \"videotex\", \"shape\": \"circle\"}, {\"color\": \"#FF0000\", \"id\": \"postal sector\", \"label\": \"postal sector\", \"shape\": \"circle\"}, {\"color\": \"#FF0000\", \"id\": \"process automation system\", \"label\": \"process automation system\", \"shape\": \"circle\"}, {\"color\": \"#FF0000\", \"id\": \"language action perspective\", \"label\": \"language action perspective\", \"shape\": \"circle\"}, {\"color\": \"#FF0000\", \"id\": \"analysis of conditional distribution\", \"label\": \"analysis of conditional distribution\", \"shape\": \"circle\"}, {\"color\": \"#FF0000\", \"id\": \"correlation analysis\", \"label\": \"correlation analysis\", \"shape\": \"circle\"}, {\"color\": \"#FF0000\", \"id\": \"NeuroIS\", \"label\": \"NeuroIS\", \"shape\": \"circle\"}, {\"color\": \"#FF0000\", \"id\": \"cybersecurity behavior\", \"label\": \"cybersecurity behavior\", \"shape\": \"circle\"}, {\"color\": \"#FF0000\", \"id\": \"information security policy compliance\", \"label\": \"information security policy compliance\", \"shape\": \"circle\"}, {\"color\": \"#FF0000\", \"id\": \"information security policy violation\", \"label\": \"information security policy violation\", \"shape\": \"circle\"}, {\"color\": \"#FF0000\", \"id\": \"facial electromyography\", \"label\": \"facial electromyography\", \"shape\": \"circle\"}, {\"color\": \"#FF0000\", \"id\": \"functional near infrared spectroscopy\", \"label\": \"functional near infrared spectroscopy\", \"shape\": \"circle\"}, {\"color\": \"#FF0000\", \"id\": \"latent growth curve modeling\", \"label\": \"latent growth curve modeling\", \"shape\": \"circle\"}, {\"color\": \"#FF0000\", \"id\": \"positron emission tomography\", \"label\": \"positron emission tomography\", \"shape\": \"circle\"}, {\"color\": \"#FF0000\", \"id\": \"magnetoencephalography\", \"label\": \"magnetoencephalography\", \"shape\": \"circle\"}, {\"color\": \"#FF0000\", \"id\": \"brain stimulation\", \"label\": \"brain stimulation\", \"shape\": \"circle\"}, {\"color\": \"#FF0000\", \"id\": \"transcranial magnetic stimulation\", \"label\": \"transcranial magnetic stimulation\", \"shape\": \"circle\"}, {\"color\": \"#FF0000\", \"id\": \"dual process theory\", \"label\": \"dual process theory\", \"shape\": \"circle\"}, {\"color\": \"#FF0000\", \"id\": \"general multivariate regression model\", \"label\": \"general multivariate regression model\", \"shape\": \"circle\"}, {\"color\": \"#FF0000\", \"id\": \"HIV/AIDS\", \"label\": \"HIV/AIDS\", \"shape\": \"circle\"}, {\"color\": \"#FF0000\", \"id\": \"expectancy theory of motivation\", \"label\": \"expectancy theory of motivation\", \"shape\": \"circle\"}, {\"color\": \"#FF0000\", \"id\": \"privacy behavior\", \"label\": \"privacy behavior\", \"shape\": \"circle\"}, {\"color\": \"#FF0000\", \"id\": \"health insurance portability and accountability act\", \"label\": \"health insurance portability and accountability act\", \"shape\": \"circle\"}, {\"color\": \"#FF0000\", \"id\": \"ransomware\", \"label\": \"ransomware\", \"shape\": \"circle\"}, {\"color\": \"#FF0000\", \"id\": \"general deterrence theory\", \"label\": \"general deterrence theory\", \"shape\": \"circle\"}, {\"color\": \"#FF0000\", \"id\": \"computer virus\", \"label\": \"computer virus\", \"shape\": \"circle\"}, {\"color\": \"#FF0000\", \"id\": \"knowledge spillover\", \"label\": \"knowledge spillover\", \"shape\": \"circle\"}, {\"color\": \"#FF0000\", \"id\": \"SDC Platinum\", \"label\": \"SDC Platinum\", \"shape\": \"circle\"}, {\"color\": \"#FF0000\", \"id\": \"normalization data transformation\", \"label\": \"normalization data transformation\", \"shape\": \"circle\"}, {\"color\": \"#FF0000\", \"id\": \"logarithmic transformation\", \"label\": \"logarithmic transformation\", \"shape\": \"circle\"}, {\"color\": \"#FF0000\", \"id\": \"resource dependency theory\", \"label\": \"resource dependency theory\", \"shape\": \"circle\"}, {\"color\": \"#FF0000\", \"id\": \"discounters\", \"label\": \"discounters\", \"shape\": \"circle\"}, {\"color\": \"#FF0000\", \"id\": \"radio industry\", \"label\": \"radio industry\", \"shape\": \"circle\"}, {\"color\": \"#FF0000\", \"id\": \"augmented reality\", \"label\": \"augmented reality\", \"shape\": \"circle\"}, {\"color\": \"#FF0000\", \"id\": \"WhatsApp\", \"label\": \"WhatsApp\", \"shape\": \"circle\"}, {\"color\": \"#FF0000\", \"id\": \"Pinterest\", \"label\": \"Pinterest\", \"shape\": \"circle\"}, {\"color\": \"#FF0000\", \"id\": \"Ruby\", \"label\": \"Ruby\", \"shape\": \"circle\"}, {\"color\": \"#FF0000\", \"id\": \"electromyography\", \"label\": \"electromyography\", \"shape\": \"circle\"}, {\"color\": \"#FF0000\", \"id\": \"phenomenological method\", \"label\": \"phenomenological method\", \"shape\": \"circle\"}, {\"color\": \"#FF0000\", \"id\": \"savings bank\", \"label\": \"savings bank\", \"shape\": \"circle\"}, {\"color\": \"#FF0000\", \"id\": \"courier service\", \"label\": \"courier service\", \"shape\": \"circle\"}, {\"color\": \"#FF0000\", \"id\": \"insourcing\", \"label\": \"insourcing\", \"shape\": \"circle\"}, {\"color\": \"#FF0000\", \"id\": \"information superhighway\", \"label\": \"information superhighway\", \"shape\": \"circle\"}, {\"color\": \"#FF0000\", \"id\": \"collaborative work\", \"label\": \"collaborative work\", \"shape\": \"circle\"}, {\"color\": \"#FF0000\", \"id\": \"stockbroker\", \"label\": \"stockbroker\", \"shape\": \"circle\"}, {\"color\": \"#FF0000\", \"id\": \"waterfall model\", \"label\": \"waterfall model\", \"shape\": \"circle\"}, {\"color\": \"#FF0000\", \"id\": \"two sample t-test with equal variance\", \"label\": \"two sample t-test with equal variance\", \"shape\": \"circle\"}, {\"color\": \"#FF0000\", \"id\": \"IT strategic planning\", \"label\": \"IT strategic planning\", \"shape\": \"circle\"}, {\"color\": \"#FF0000\", \"id\": \"insurance intermediation\", \"label\": \"insurance intermediation\", \"shape\": \"circle\"}, {\"color\": \"#FF0000\", \"id\": \"production method\", \"label\": \"production method\", \"shape\": \"circle\"}, {\"color\": \"#FF0000\", \"id\": \"World of Warcraft\", \"label\": \"World of Warcraft\", \"shape\": \"circle\"}, {\"color\": \"#FF0000\", \"id\": \"tornado\", \"label\": \"tornado\", \"shape\": \"circle\"}, {\"color\": \"#FF0000\", \"id\": \"spatial econometric\", \"label\": \"spatial econometric\", \"shape\": \"circle\"}, {\"color\": \"#FF0000\", \"id\": \"Xing\", \"label\": \"Xing\", \"shape\": \"circle\"}, {\"color\": \"#FF0000\", \"id\": \"Friendster\", \"label\": \"Friendster\", \"shape\": \"circle\"}, {\"color\": \"#FF0000\", \"id\": \"partitional clustering\", \"label\": \"partitional clustering\", \"shape\": \"circle\"}, {\"color\": \"#FF0000\", \"id\": \"k-means clustering\", \"label\": \"k-means clustering\", \"shape\": \"circle\"}, {\"color\": \"#FF0000\", \"id\": \"regulatory focus theory\", \"label\": \"regulatory focus theory\", \"shape\": \"circle\"}, {\"color\": \"#FF0000\", \"id\": \"cognitive theory\", \"label\": \"cognitive theory\", \"shape\": \"circle\"}, {\"color\": \"#FF0000\", \"id\": \"meta design\", \"label\": \"meta design\", \"shape\": \"circle\"}, {\"color\": \"#FF0000\", \"id\": \"multidimensional scaling\", \"label\": \"multidimensional scaling\", \"shape\": \"circle\"}, {\"color\": \"#FF0000\", \"id\": \"NLTK\", \"label\": \"NLTK\", \"shape\": \"circle\"}, {\"color\": \"#FF0000\", \"id\": \"Disney+\", \"label\": \"Disney+\", \"shape\": \"circle\"}, {\"color\": \"#FF0000\", \"id\": \"smart glass\", \"label\": \"smart glass\", \"shape\": \"circle\"}, {\"color\": \"#FF0000\", \"id\": \"IT centralization\", \"label\": \"IT centralization\", \"shape\": \"circle\"}, {\"color\": \"#FF0000\", \"id\": \"enterprise social media\", \"label\": \"enterprise social media\", \"shape\": \"circle\"}, {\"color\": \"#FF0000\", \"id\": \"business unit level\", \"label\": \"business unit level\", \"shape\": \"circle\"}, {\"color\": \"#FF0000\", \"id\": \"canonical correlation analysis\", \"label\": \"canonical correlation analysis\", \"shape\": \"circle\"}, {\"color\": \"#FF0000\", \"id\": \"fourth-generation programming language\", \"label\": \"fourth-generation programming language\", \"shape\": \"circle\"}, {\"color\": \"#FF0000\", \"id\": \"object-oriented database\", \"label\": \"object-oriented database\", \"shape\": \"circle\"}, {\"color\": \"#FF0000\", \"id\": \"bibliometric analysis\", \"label\": \"bibliometric analysis\", \"shape\": \"circle\"}, {\"color\": \"#FF0000\", \"id\": \"absorptive capacity theory\", \"label\": \"absorptive capacity theory\", \"shape\": \"circle\"}, {\"color\": \"#FF0000\", \"id\": \"strategy performance management\", \"label\": \"strategy performance management\", \"shape\": \"circle\"}, {\"color\": \"#FF0000\", \"id\": \"balanced scorecard\", \"label\": \"balanced scorecard\", \"shape\": \"circle\"}, {\"color\": \"#FF0000\", \"id\": \"Guttman scale\", \"label\": \"Guttman scale\", \"shape\": \"circle\"}, {\"color\": \"#FF0000\", \"id\": \"contingency table\", \"label\": \"contingency table\", \"shape\": \"circle\"}, {\"color\": \"#FF0000\", \"id\": \"literature filtering\", \"label\": \"literature filtering\", \"shape\": \"circle\"}, {\"color\": \"#FF0000\", \"id\": \"emergent knowledge processes design theory\", \"label\": \"emergent knowledge processes design theory\", \"shape\": \"circle\"}, {\"color\": \"#FF0000\", \"id\": \"non participant observation\", \"label\": \"non participant observation\", \"shape\": \"circle\"}, {\"color\": \"#FF0000\", \"id\": \"homoskedasticity test\", \"label\": \"homoskedasticity test\", \"shape\": \"circle\"}, {\"color\": \"#FF0000\", \"id\": \"Breusch-Pagan test\", \"label\": \"Breusch-Pagan test\", \"shape\": \"circle\"}, {\"color\": \"#FF0000\", \"id\": \"Z-test\", \"label\": \"Z-test\", \"shape\": \"circle\"}, {\"color\": \"#FF0000\", \"id\": \"dynamic programming\", \"label\": \"dynamic programming\", \"shape\": \"circle\"}, {\"color\": \"#FF0000\", \"id\": \"forest industry\", \"label\": \"forest industry\", \"shape\": \"circle\"}, {\"color\": \"#FF0000\", \"id\": \"lean manufacturing\", \"label\": \"lean manufacturing\", \"shape\": \"circle\"}, {\"color\": \"#FF0000\", \"id\": \"organizational discontinuity theory\", \"label\": \"organizational discontinuity theory\", \"shape\": \"circle\"}, {\"color\": \"#FF0000\", \"id\": \"co-located \\u00a7teams\", \"label\": \"co-located \\u00a7teams\", \"shape\": \"circle\"}, {\"color\": \"#FF0000\", \"id\": \"microenterprise\", \"label\": \"microenterprise\", \"shape\": \"circle\"}, {\"color\": \"#FF0000\", \"id\": \"point of sale system\", \"label\": \"point of sale system\", \"shape\": \"circle\"}, {\"color\": \"#FF0000\", \"id\": \"consumer products distribution\", \"label\": \"consumer products distribution\", \"shape\": \"circle\"}, {\"color\": \"#FF0000\", \"id\": \"book trade\", \"label\": \"book trade\", \"shape\": \"circle\"}, {\"color\": \"#FF0000\", \"id\": \"economic utility theory\", \"label\": \"economic utility theory\", \"shape\": \"circle\"}, {\"color\": \"#FF0000\", \"id\": \"expected utility theory\", \"label\": \"expected utility theory\", \"shape\": \"circle\"}, {\"color\": \"#FF0000\", \"id\": \"loss aversion\", \"label\": \"loss aversion\", \"shape\": \"circle\"}, {\"color\": \"#FF0000\", \"id\": \"flow theory\", \"label\": \"flow theory\", \"shape\": \"circle\"}, {\"color\": \"#FF0000\", \"id\": \"digital distribution\", \"label\": \"digital distribution\", \"shape\": \"circle\"}, {\"color\": \"#FF0000\", \"id\": \"Erlang\", \"label\": \"Erlang\", \"shape\": \"circle\"}, {\"color\": \"#FF0000\", \"id\": \"financial intermediation\", \"label\": \"financial intermediation\", \"shape\": \"circle\"}, {\"color\": \"#FF0000\", \"id\": \"societal challenge\", \"label\": \"societal challenge\", \"shape\": \"circle\"}, {\"color\": \"#FF0000\", \"id\": \"soft skill\", \"label\": \"soft skill\", \"shape\": \"circle\"}, {\"color\": \"#FF0000\", \"id\": \"building society\", \"label\": \"building society\", \"shape\": \"circle\"}, {\"color\": \"#FF0000\", \"id\": \"structural engineering\", \"label\": \"structural engineering\", \"shape\": \"circle\"}, {\"color\": \"#FF0000\", \"id\": \"use case diagram\", \"label\": \"use case diagram\", \"shape\": \"circle\"}, {\"color\": \"#FF0000\", \"id\": \"electronic bill payment\", \"label\": \"electronic bill payment\", \"shape\": \"circle\"}, {\"color\": \"#FF0000\", \"id\": \"minimum mean square error\", \"label\": \"minimum mean square error\", \"shape\": \"circle\"}, {\"color\": \"#FF0000\", \"id\": \"Simple Object Access Protocol\", \"label\": \"Simple Object Access Protocol\", \"shape\": \"circle\"}, {\"color\": \"#FF0000\", \"id\": \"web services description language\", \"label\": \"web services description language\", \"shape\": \"circle\"}, {\"color\": \"#FF0000\", \"id\": \"semiconductor industry\", \"label\": \"semiconductor industry\", \"shape\": \"circle\"}, {\"color\": \"#FF0000\", \"id\": \"Social Science \\u0026 Humanities\", \"label\": \"Social Science \\u0026 Humanities\", \"shape\": \"circle\"}, {\"color\": \"#FF0000\", \"id\": \"ambidexterity theory\", \"label\": \"ambidexterity theory\", \"shape\": \"circle\"}, {\"color\": \"#FF0000\", \"id\": \"computer architecture\", \"label\": \"computer architecture\", \"shape\": \"circle\"}, {\"color\": \"#FF0000\", \"id\": \"systematic sampling\", \"label\": \"systematic sampling\", \"shape\": \"circle\"}, {\"color\": \"#FF0000\", \"id\": \"SAP Business ByDesign\", \"label\": \"SAP Business ByDesign\", \"shape\": \"circle\"}, {\"color\": \"#FF0000\", \"id\": \"SQL injection\", \"label\": \"SQL injection\", \"shape\": \"circle\"}, {\"color\": \"#FF0000\", \"id\": \"computer worm\", \"label\": \"computer worm\", \"shape\": \"circle\"}, {\"color\": \"#FF0000\", \"id\": \"SAP Business One\", \"label\": \"SAP Business One\", \"shape\": \"circle\"}, {\"color\": \"#FF0000\", \"id\": \"Oracle database\", \"label\": \"Oracle database\", \"shape\": \"circle\"}, {\"color\": \"#FF0000\", \"id\": \"PostgreSQL\", \"label\": \"PostgreSQL\", \"shape\": \"circle\"}, {\"color\": \"#FF0000\", \"id\": \"intrusion detection system\", \"label\": \"intrusion detection system\", \"shape\": \"circle\"}, {\"color\": \"#FF0000\", \"id\": \"information security practice\", \"label\": \"information security practice\", \"shape\": \"circle\"}, {\"color\": \"#FF0000\", \"id\": \"spiral development model\", \"label\": \"spiral development model\", \"shape\": \"circle\"}, {\"color\": \"#FF0000\", \"id\": \"nonlinear regression analysis\", \"label\": \"nonlinear regression analysis\", \"shape\": \"circle\"}, {\"color\": \"#FF0000\", \"id\": \"polynomial regression\", \"label\": \"polynomial regression\", \"shape\": \"circle\"}, {\"color\": \"#FF0000\", \"id\": \"digital business model\", \"label\": \"digital business model\", \"shape\": \"circle\"}, {\"color\": \"#FF0000\", \"id\": \"action theory\", \"label\": \"action theory\", \"shape\": \"circle\"}, {\"color\": \"#FF0000\", \"id\": \"sports industry\", \"label\": \"sports industry\", \"shape\": \"circle\"}, {\"color\": \"#FF0000\", \"id\": \"sports competition\", \"label\": \"sports competition\", \"shape\": \"circle\"}, {\"color\": \"#FF0000\", \"id\": \"television industry\", \"label\": \"television industry\", \"shape\": \"circle\"}, {\"color\": \"#FF0000\", \"id\": \"read-only memory\", \"label\": \"read-only memory\", \"shape\": \"circle\"}, {\"color\": \"#FF0000\", \"id\": \"theorem proofing\", \"label\": \"theorem proofing\", \"shape\": \"circle\"}, {\"color\": \"#FF0000\", \"id\": \"furniture industry\", \"label\": \"furniture industry\", \"shape\": \"circle\"}, {\"color\": \"#FF0000\", \"id\": \"constructivism\", \"label\": \"constructivism\", \"shape\": \"circle\"}, {\"color\": \"#FF0000\", \"id\": \"postmodernism\", \"label\": \"postmodernism\", \"shape\": \"circle\"}, {\"color\": \"#FF0000\", \"id\": \"organizational knowledge creation\", \"label\": \"organizational knowledge creation\", \"shape\": \"circle\"}, {\"color\": \"#FF0000\", \"id\": \"theory of collective action\", \"label\": \"theory of collective action\", \"shape\": \"circle\"}, {\"color\": \"#FF0000\", \"id\": \"shipbuilding industry\", \"label\": \"shipbuilding industry\", \"shape\": \"circle\"}, {\"color\": \"#FF0000\", \"id\": \"drugs economy\", \"label\": \"drugs economy\", \"shape\": \"circle\"}, {\"color\": \"#FF0000\", \"id\": \"theory of communicative action\", \"label\": \"theory of communicative action\", \"shape\": \"circle\"}, {\"color\": \"#FF0000\", \"id\": \"retail chain\", \"label\": \"retail chain\", \"shape\": \"circle\"}, {\"color\": \"#FF0000\", \"id\": \"automotive service industry\", \"label\": \"automotive service industry\", \"shape\": \"circle\"}, {\"color\": \"#FF0000\", \"id\": \"stakeholder theory\", \"label\": \"stakeholder theory\", \"shape\": \"circle\"}, {\"color\": \"#FF0000\", \"id\": \"function point analysis\", \"label\": \"function point analysis\", \"shape\": \"circle\"}, {\"color\": \"#FF0000\", \"id\": \"historical review\", \"label\": \"historical review\", \"shape\": \"circle\"}, {\"color\": \"#FF0000\", \"id\": \"Second Life\", \"label\": \"Second Life\", \"shape\": \"circle\"}, {\"color\": \"#FF0000\", \"id\": \"IT recruiting\", \"label\": \"IT recruiting\", \"shape\": \"circle\"}, {\"color\": \"#FF0000\", \"id\": \"user centered design\", \"label\": \"user centered design\", \"shape\": \"circle\"}, {\"color\": \"#FF0000\", \"id\": \"grid computing\", \"label\": \"grid computing\", \"shape\": \"circle\"}, {\"color\": \"#FF0000\", \"id\": \"pilot survey\", \"label\": \"pilot survey\", \"shape\": \"circle\"}, {\"color\": \"#FF0000\", \"id\": \"green IS\", \"label\": \"green IS\", \"shape\": \"circle\"}, {\"color\": \"#FF0000\", \"id\": \"building construction\", \"label\": \"building construction\", \"shape\": \"circle\"}, {\"color\": \"#FF0000\", \"id\": \"laboratory information management system\", \"label\": \"laboratory information management system\", \"shape\": \"circle\"}, {\"color\": \"#FF0000\", \"id\": \"anomaly detection\", \"label\": \"anomaly detection\", \"shape\": \"circle\"}, {\"color\": \"#FF0000\", \"id\": \"healthcare analytics\", \"label\": \"healthcare analytics\", \"shape\": \"circle\"}, {\"color\": \"#FF0000\", \"id\": \"interquartile range\", \"label\": \"interquartile range\", \"shape\": \"circle\"}, {\"color\": \"#FF0000\", \"id\": \"logistics information system\", \"label\": \"logistics information system\", \"shape\": \"circle\"}, {\"color\": \"#FF0000\", \"id\": \"product lifecycle management\", \"label\": \"product lifecycle management\", \"shape\": \"circle\"}, {\"color\": \"#FF0000\", \"id\": \"biographical database\", \"label\": \"biographical database\", \"shape\": \"circle\"}, {\"color\": \"#FF0000\", \"id\": \"Marquis Who\\u0027s Who\", \"label\": \"Marquis Who\\u0027s Who\", \"shape\": \"circle\"}, {\"color\": \"#FF0000\", \"id\": \"online booking system\", \"label\": \"online booking system\", \"shape\": \"circle\"}, {\"color\": \"#FF0000\", \"id\": \"structural break test\", \"label\": \"structural break test\", \"shape\": \"circle\"}, {\"color\": \"#FF0000\", \"id\": \"Chow test\", \"label\": \"Chow test\", \"shape\": \"circle\"}, {\"color\": \"#FF0000\", \"id\": \"process trace data\", \"label\": \"process trace data\", \"shape\": \"circle\"}, {\"color\": \"#FF0000\", \"id\": \"event log\", \"label\": \"event log\", \"shape\": \"circle\"}, {\"color\": \"#FF0000\", \"id\": \"vehicle technology\", \"label\": \"vehicle technology\", \"shape\": \"circle\"}, {\"color\": \"#FF0000\", \"id\": \"framework for evaluation in design science\", \"label\": \"framework for evaluation in design science\", \"shape\": \"circle\"}, {\"color\": \"#FF0000\", \"id\": \"platform work\", \"label\": \"platform work\", \"shape\": \"circle\"}, {\"color\": \"#FF0000\", \"id\": \"platform worker\", \"label\": \"platform worker\", \"shape\": \"circle\"}, {\"color\": \"#FF0000\", \"id\": \"Lyft\", \"label\": \"Lyft\", \"shape\": \"circle\"}, {\"color\": \"#FF0000\", \"id\": \"Sarbanes\\u2013Oxley Act\", \"label\": \"Sarbanes\\u2013Oxley Act\", \"shape\": \"circle\"}, {\"color\": \"#FF0000\", \"id\": \"business continuity planning\", \"label\": \"business continuity planning\", \"shape\": \"circle\"}, {\"color\": \"#FF0000\", \"id\": \"covid-19\", \"label\": \"covid-19\", \"shape\": \"circle\"}, {\"color\": \"#FF0000\", \"id\": \"H1N1 flu\", \"label\": \"H1N1 flu\", \"shape\": \"circle\"}, {\"color\": \"#FF0000\", \"id\": \"plant construction\", \"label\": \"plant construction\", \"shape\": \"circle\"}, {\"color\": \"#FF0000\", \"id\": \"Scopus database\", \"label\": \"Scopus database\", \"shape\": \"circle\"}, {\"color\": \"#FF0000\", \"id\": \"scaled agile framework\", \"label\": \"scaled agile framework\", \"shape\": \"circle\"}, {\"color\": \"#FF0000\", \"id\": \"IS development agility\", \"label\": \"IS development agility\", \"shape\": \"circle\"}, {\"color\": \"#FF0000\", \"id\": \"unit testing\", \"label\": \"unit testing\", \"shape\": \"circle\"}, {\"color\": \"#FF0000\", \"id\": \"test-driven development\", \"label\": \"test-driven development\", \"shape\": \"circle\"}, {\"color\": \"#FF0000\", \"id\": \"event-driven process chain\", \"label\": \"event-driven process chain\", \"shape\": \"circle\"}, {\"color\": \"#FF0000\", \"id\": \"business process execution language\", \"label\": \"business process execution language\", \"shape\": \"circle\"}, {\"color\": \"#FF0000\", \"id\": \"transformer model\", \"label\": \"transformer model\", \"shape\": \"circle\"}, {\"color\": \"#FF0000\", \"id\": \"BERT\", \"label\": \"BERT\", \"shape\": \"circle\"}, {\"color\": \"#FF0000\", \"id\": \"Markov decision process\", \"label\": \"Markov decision process\", \"shape\": \"circle\"}, {\"color\": \"#FF0000\", \"id\": \"Markov chain\", \"label\": \"Markov chain\", \"shape\": \"circle\"}, {\"color\": \"#FF0000\", \"id\": \"organizational learning theory\", \"label\": \"organizational learning theory\", \"shape\": \"circle\"}, {\"color\": \"#FF0000\", \"id\": \"digital business strategy\", \"label\": \"digital business strategy\", \"shape\": \"circle\"}, {\"color\": \"#FF0000\", \"id\": \"intelligent maintenance system\", \"label\": \"intelligent maintenance system\", \"shape\": \"circle\"}, {\"color\": \"#FF0000\", \"id\": \"predictive maintenance\", \"label\": \"predictive maintenance\", \"shape\": \"circle\"}, {\"color\": \"#FF0000\", \"id\": \"digital disruption\", \"label\": \"digital disruption\", \"shape\": \"circle\"}, {\"color\": \"#FF0000\", \"id\": \"IS service quality\", \"label\": \"IS service quality\", \"shape\": \"circle\"}, {\"color\": \"#FF0000\", \"id\": \"system efficiency\", \"label\": \"system efficiency\", \"shape\": \"circle\"}, {\"color\": \"#FF0000\", \"id\": \"replication study\", \"label\": \"replication study\", \"shape\": \"circle\"}, {\"color\": \"#FF0000\", \"id\": \"statistical test assumption\", \"label\": \"statistical test assumption\", \"shape\": \"circle\"}, {\"color\": \"#FF0000\", \"id\": \"nonparametric test\", \"label\": \"nonparametric test\", \"shape\": \"circle\"}, {\"color\": \"#FF0000\", \"id\": \"expectation confirmation theory\", \"label\": \"expectation confirmation theory\", \"shape\": \"circle\"}, {\"color\": \"#FF0000\", \"id\": \"one validity\", \"label\": \"one validity\", \"shape\": \"circle\"}, {\"color\": \"#FF0000\", \"id\": \"design validity\", \"label\": \"design validity\", \"shape\": \"circle\"}, {\"color\": \"#FF0000\", \"id\": \"Oracle E-Business\", \"label\": \"Oracle E-Business\", \"shape\": \"circle\"}, {\"color\": \"#FF0000\", \"id\": \"biotechnology industry\", \"label\": \"biotechnology industry\", \"shape\": \"circle\"}, {\"color\": \"#FF0000\", \"id\": \"single sign on\", \"label\": \"single sign on\", \"shape\": \"circle\"}, {\"color\": \"#FF0000\", \"id\": \"SAP ERP\", \"label\": \"SAP ERP\", \"shape\": \"circle\"}, {\"color\": \"#FF0000\", \"id\": \"genetic optimization\", \"label\": \"genetic optimization\", \"shape\": \"circle\"}, {\"color\": \"#FF0000\", \"id\": \"BASIC\", \"label\": \"BASIC\", \"shape\": \"circle\"}, {\"color\": \"#FF0000\", \"id\": \"Visual Basic\", \"label\": \"Visual Basic\", \"shape\": \"circle\"}, {\"color\": \"#FF0000\", \"id\": \"mortgage bank\", \"label\": \"mortgage bank\", \"shape\": \"circle\"}, {\"color\": \"#FF0000\", \"id\": \"hierarchical clustering\", \"label\": \"hierarchical clustering\", \"shape\": \"circle\"}, {\"color\": \"#FF0000\", \"id\": \"Journal Citation Reports\", \"label\": \"Journal Citation Reports\", \"shape\": \"circle\"}, {\"color\": \"#FF0000\", \"id\": \"government statistic\", \"label\": \"government statistic\", \"shape\": \"circle\"}, {\"color\": \"#FF0000\", \"id\": \"distributed database\", \"label\": \"distributed database\", \"shape\": \"circle\"}, {\"color\": \"#FF0000\", \"id\": \"energy information system\", \"label\": \"energy information system\", \"shape\": \"circle\"}, {\"color\": \"#FF0000\", \"id\": \"pilot case study\", \"label\": \"pilot case study\", \"shape\": \"circle\"}, {\"color\": \"#FF0000\", \"id\": \"enterprise modelling\", \"label\": \"enterprise modelling\", \"shape\": \"circle\"}, {\"color\": \"#FF0000\", \"id\": \"search engine results page\", \"label\": \"search engine results page\", \"shape\": \"circle\"}, {\"color\": \"#FF0000\", \"id\": \"product data management\", \"label\": \"product data management\", \"shape\": \"circle\"}]);\n",
              "        edges = new vis.DataSet([{\"arrows\": \"to\", \"from\": \"knowledge management\", \"label\": \"rel\", \"title\": \"rel\", \"to\": \"knowledge repository\"}, {\"arrows\": \"to\", \"from\": \"digital business\", \"label\": \"rel\", \"title\": \"rel\", \"to\": \"digital platform\"}, {\"arrows\": \"to\", \"from\": \"ERP software package\", \"label\": \"rel\", \"title\": \"rel\", \"to\": \"Salesforce.com\"}, {\"arrows\": \"to\", \"from\": \"human centered design\", \"label\": \"rel\", \"title\": \"rel\", \"to\": \"participatory design\"}, {\"arrows\": \"to\", \"from\": \"participant\", \"label\": \"rel\", \"title\": \"rel\", \"to\": \"group participant\"}, {\"arrows\": \"to\", \"from\": \"social media\", \"label\": \"rel\", \"title\": \"rel\", \"to\": \"blog\"}, {\"arrows\": \"to\", \"from\": \"social media\", \"label\": \"rel\", \"title\": \"rel\", \"to\": \"online community\"}, {\"arrows\": \"to\", \"from\": \"social media site\", \"label\": \"rel\", \"title\": \"rel\", \"to\": \"Reddit\"}, {\"arrows\": \"to\", \"from\": \"model link\", \"label\": \"rel\", \"title\": \"rel\", \"to\": \"research hypothesis\"}, {\"arrows\": \"to\", \"from\": \"economic theory\", \"label\": \"rel\", \"title\": \"rel\", \"to\": \"social exchange theory\"}, {\"arrows\": \"to\", \"from\": \"participant\", \"label\": \"rel\", \"title\": \"rel\", \"to\": \"individual participant\"}, {\"arrows\": \"to\", \"from\": \"conceptual method\", \"label\": \"rel\", \"title\": \"rel\", \"to\": \"literature study\"}, {\"arrows\": \"to\", \"from\": \"software license\", \"label\": \"rel\", \"title\": \"rel\", \"to\": \"open source\"}, {\"arrows\": \"to\", \"from\": \"conceptual method\", \"label\": \"rel\", \"title\": \"rel\", \"to\": \"conceptual modelling\"}, {\"arrows\": \"to\", \"from\": \"knowledge type\", \"label\": \"rel\", \"title\": \"rel\", \"to\": \"explicit knowledge\"}, {\"arrows\": \"to\", \"from\": \"knowledge management\", \"label\": \"rel\", \"title\": \"rel\", \"to\": \"knowledge sharing\"}, {\"arrows\": \"to\", \"from\": \"knowledge management\", \"label\": \"rel\", \"title\": \"rel\", \"to\": \"knowledge acquisition\"}, {\"arrows\": \"to\", \"from\": \"research hypothesis\", \"label\": \"rel\", \"title\": \"rel\", \"to\": \"numbered hypothesis\"}, {\"arrows\": \"to\", \"from\": \"online word of mouth\", \"label\": \"rel\", \"title\": \"rel\", \"to\": \"online review\"}, {\"arrows\": \"to\", \"from\": \"research method\", \"label\": \"rel\", \"title\": \"rel\", \"to\": \"data collection method\"}, {\"arrows\": \"to\", \"from\": \"organizational impact\", \"label\": \"rel\", \"title\": \"rel\", \"to\": \"competitive advantage\"}, {\"arrows\": \"to\", \"from\": \"empirical qualitative method\", \"label\": \"rel\", \"title\": \"rel\", \"to\": \"qualitative interview\"}, {\"arrows\": \"to\", \"from\": \"IS evaluation criteria\", \"label\": \"rel\", \"title\": \"rel\", \"to\": \"productivity\"}, {\"arrows\": \"to\", \"from\": \"quantitative analysis tool\", \"label\": \"rel\", \"title\": \"rel\", \"to\": \"SPSS\"}, {\"arrows\": \"to\", \"from\": \"variable\", \"label\": \"rel\", \"title\": \"rel\", \"to\": \"independent variable\"}, {\"arrows\": \"to\", \"from\": \"variable\", \"label\": \"rel\", \"title\": \"rel\", \"to\": \"dependent variable\"}, {\"arrows\": \"to\", \"from\": \"measure of central tendency\", \"label\": \"rel\", \"title\": \"rel\", \"to\": \"mean value\"}, {\"arrows\": \"to\", \"from\": \"variable\", \"label\": \"rel\", \"title\": \"rel\", \"to\": \"control variable\"}, {\"arrows\": \"to\", \"from\": \"knowledge management\", \"label\": \"rel\", \"title\": \"rel\", \"to\": \"boundary spanning\"}, {\"arrows\": \"to\", \"from\": \"time horizon of research\", \"label\": \"rel\", \"title\": \"rel\", \"to\": \"longitudinal research\"}, {\"arrows\": \"to\", \"from\": \"quantitative analysis\", \"label\": \"rel\", \"title\": \"rel\", \"to\": \"statistical hypothesis test\"}, {\"arrows\": \"to\", \"from\": \"model\", \"label\": \"rel\", \"title\": \"rel\", \"to\": \"framework\"}, {\"arrows\": \"to\", \"from\": \"study object\", \"label\": \"rel\", \"title\": \"rel\", \"to\": \"participant\"}, {\"arrows\": \"to\", \"from\": \"quantitative confidence value\", \"label\": \"rel\", \"title\": \"rel\", \"to\": \"p-value\"}, {\"arrows\": \"to\", \"from\": \"quantitative analysis\", \"label\": \"rel\", \"title\": \"rel\", \"to\": \"descriptive statistic\"}, {\"arrows\": \"to\", \"from\": \"statistical metric\", \"label\": \"rel\", \"title\": \"rel\", \"to\": \"standardized regression coefficient\"}, {\"arrows\": \"to\", \"from\": \"NLP application\", \"label\": \"rel\", \"title\": \"rel\", \"to\": \"document generation\"}, {\"arrows\": \"to\", \"from\": \"research stage\", \"label\": \"rel\", \"title\": \"rel\", \"to\": \"future research\"}, {\"arrows\": \"to\", \"from\": \"programming language\", \"label\": \"rel\", \"title\": \"rel\", \"to\": \"source code\"}, {\"arrows\": \"to\", \"from\": \"business topic\", \"label\": \"rel\", \"title\": \"rel\", \"to\": \"business model\"}, {\"arrows\": \"to\", \"from\": \"knowledge management\", \"label\": \"rel\", \"title\": \"rel\", \"to\": \"knowledge creation\"}, {\"arrows\": \"to\", \"from\": \"digital business\", \"label\": \"rel\", \"title\": \"rel\", \"to\": \"digital product\"}, {\"arrows\": \"to\", \"from\": \"model element\", \"label\": \"rel\", \"title\": \"rel\", \"to\": \"research question\"}, {\"arrows\": \"to\", \"from\": \"enterprise information system\", \"label\": \"rel\", \"title\": \"rel\", \"to\": \"analytical information system\"}, {\"arrows\": \"to\", \"from\": \"domain specific entity\", \"label\": \"rel\", \"title\": \"rel\", \"to\": \"IS technology\"}, {\"arrows\": \"to\", \"from\": \"enterprise information system\", \"label\": \"rel\", \"title\": \"rel\", \"to\": \"knowledge management system\"}, {\"arrows\": \"to\", \"from\": \"user evaluation criteria\", \"label\": \"rel\", \"title\": \"rel\", \"to\": \"information system use\"}, {\"arrows\": \"to\", \"from\": \"hardware\", \"label\": \"rel\", \"title\": \"rel\", \"to\": \"computer system\"}, {\"arrows\": \"to\", \"from\": \"analytical information system\", \"label\": \"rel\", \"title\": \"rel\", \"to\": \"decision support system\"}, {\"arrows\": \"to\", \"from\": \"analytical information system\", \"label\": \"rel\", \"title\": \"rel\", \"to\": \"executive information system\"}, {\"arrows\": \"to\", \"from\": \"information technology infrastructure\", \"label\": \"rel\", \"title\": \"rel\", \"to\": \"communication service infrastructure\"}, {\"arrows\": \"to\", \"from\": \"systems development\", \"label\": \"rel\", \"title\": \"rel\", \"to\": \"systems design\"}, {\"arrows\": \"to\", \"from\": \"test of association between categorical variables\", \"label\": \"rel\", \"title\": \"rel\", \"to\": \"Barnard\\u0027s exact test\"}, {\"arrows\": \"to\", \"from\": \"management theory\", \"label\": \"rel\", \"title\": \"rel\", \"to\": \"theory of administrative behaviour\"}, {\"arrows\": \"to\", \"from\": \"information retrieval system\", \"label\": \"rel\", \"title\": \"rel\", \"to\": \"information storage and retrieval system\"}, {\"arrows\": \"to\", \"from\": \"theoretical entity\", \"label\": \"rel\", \"title\": \"rel\", \"to\": \"theory\"}, {\"arrows\": \"to\", \"from\": \"conceptual modelling\", \"label\": \"rel\", \"title\": \"rel\", \"to\": \"business process modeling\"}, {\"arrows\": \"to\", \"from\": \"model\", \"label\": \"rel\", \"title\": \"rel\", \"to\": \"taxonomy\"}, {\"arrows\": \"to\", \"from\": \"organizational theory\", \"label\": \"rel\", \"title\": \"rel\", \"to\": \"organizational behavior theory\"}, {\"arrows\": \"to\", \"from\": \"micro level\", \"label\": \"rel\", \"title\": \"rel\", \"to\": \"group level\"}, {\"arrows\": \"to\", \"from\": \"meso level\", \"label\": \"rel\", \"title\": \"rel\", \"to\": \"firm level\"}, {\"arrows\": \"to\", \"from\": \"societal context\", \"label\": \"rel\", \"title\": \"rel\", \"to\": \"organizational context\"}, {\"arrows\": \"to\", \"from\": \"IT service management\", \"label\": \"rel\", \"title\": \"rel\", \"to\": \"system support\"}, {\"arrows\": \"to\", \"from\": \"model element\", \"label\": \"rel\", \"title\": \"rel\", \"to\": \"construct\"}, {\"arrows\": \"to\", \"from\": \"research model\", \"label\": \"rel\", \"title\": \"rel\", \"to\": \"theoretical framework\"}, {\"arrows\": \"to\", \"from\": \"IS topic\", \"label\": \"rel\", \"title\": \"rel\", \"to\": \"systems development\"}, {\"arrows\": \"to\", \"from\": \"hardware\", \"label\": \"rel\", \"title\": \"rel\", \"to\": \"computer data storage\"}, {\"arrows\": \"to\", \"from\": \"IS impact\", \"label\": \"rel\", \"title\": \"rel\", \"to\": \"IS success\"}, {\"arrows\": \"to\", \"from\": \"ethnography\", \"label\": \"rel\", \"title\": \"rel\", \"to\": \"participative method\"}, {\"arrows\": \"to\", \"from\": \"design science\", \"label\": \"rel\", \"title\": \"rel\", \"to\": \"design methodology\"}, {\"arrows\": \"to\", \"from\": \"system development method\", \"label\": \"rel\", \"title\": \"rel\", \"to\": \"soft systems methodology\"}, {\"arrows\": \"to\", \"from\": \"digital business\", \"label\": \"rel\", \"title\": \"rel\", \"to\": \"digital innovation\"}, {\"arrows\": \"to\", \"from\": \"empirical quantitative method\", \"label\": \"rel\", \"title\": \"rel\", \"to\": \"experiment\"}, {\"arrows\": \"to\", \"from\": \"system development method\", \"label\": \"rel\", \"title\": \"rel\", \"to\": \"agile software development\"}, {\"arrows\": \"to\", \"from\": \"IS topic\", \"label\": \"rel\", \"title\": \"rel\", \"to\": \"IT project\"}, {\"arrows\": \"to\", \"from\": \"experiment\", \"label\": \"rel\", \"title\": \"rel\", \"to\": \"experimental design\"}, {\"arrows\": \"to\", \"from\": \"conceptual method\", \"label\": \"rel\", \"title\": \"rel\", \"to\": \"design science\"}, {\"arrows\": \"to\", \"from\": \"system development method\", \"label\": \"rel\", \"title\": \"rel\", \"to\": \"software process improvement\"}, {\"arrows\": \"to\", \"from\": \"capability maturity model\", \"label\": \"rel\", \"title\": \"rel\", \"to\": \"capability maturity model integration\"}, {\"arrows\": \"to\", \"from\": \"requirements analysis\", \"label\": \"rel\", \"title\": \"rel\", \"to\": \"requirements elicitation\"}, {\"arrows\": \"to\", \"from\": \"IT project\", \"label\": \"rel\", \"title\": \"rel\", \"to\": \"IT project management\"}, {\"arrows\": \"to\", \"from\": \"systems analysis\", \"label\": \"rel\", \"title\": \"rel\", \"to\": \"requirements analysis\"}, {\"arrows\": \"to\", \"from\": \"IT project\", \"label\": \"rel\", \"title\": \"rel\", \"to\": \"IT development project\"}, {\"arrows\": \"to\", \"from\": \"business process management\", \"label\": \"rel\", \"title\": \"rel\", \"to\": \"business process innovation\"}, {\"arrows\": \"to\", \"from\": \"agile software development\", \"label\": \"rel\", \"title\": \"rel\", \"to\": \"pair programming\"}, {\"arrows\": \"to\", \"from\": \"ICT industry\", \"label\": \"rel\", \"title\": \"rel\", \"to\": \"software industry\"}, {\"arrows\": \"to\", \"from\": \"systems development\", \"label\": \"rel\", \"title\": \"rel\", \"to\": \"system development method\"}, {\"arrows\": \"to\", \"from\": \"knowledge type\", \"label\": \"rel\", \"title\": \"rel\", \"to\": \"implicit knowledge\"}, {\"arrows\": \"to\", \"from\": \"design science\", \"label\": \"rel\", \"title\": \"rel\", \"to\": \"design artifact\"}, {\"arrows\": \"to\", \"from\": \"design methodology\", \"label\": \"rel\", \"title\": \"rel\", \"to\": \"design process\"}, {\"arrows\": \"to\", \"from\": \"qualitative analysis\", \"label\": \"rel\", \"title\": \"rel\", \"to\": \"synthesis\"}, {\"arrows\": \"to\", \"from\": \"cultural sector\", \"label\": \"rel\", \"title\": \"rel\", \"to\": \"theatre\"}, {\"arrows\": \"to\", \"from\": \"conceptual method\", \"label\": \"rel\", \"title\": \"rel\", \"to\": \"simulation\"}, {\"arrows\": \"to\", \"from\": \"business topic\", \"label\": \"rel\", \"title\": \"rel\", \"to\": \"Six Sigma\"}, {\"arrows\": \"to\", \"from\": \"computer system\", \"label\": \"rel\", \"title\": \"rel\", \"to\": \"desktop computer\"}, {\"arrows\": \"to\", \"from\": \"communication service infrastructure\", \"label\": \"rel\", \"title\": \"rel\", \"to\": \"video conference\"}, {\"arrows\": \"to\", \"from\": \"communication service infrastructure\", \"label\": \"rel\", \"title\": \"rel\", \"to\": \"online chat\"}, {\"arrows\": \"to\", \"from\": \"business evaluation criteria\", \"label\": \"rel\", \"title\": \"rel\", \"to\": \"idea generation\"}, {\"arrows\": \"to\", \"from\": \"group decision support system\", \"label\": \"rel\", \"title\": \"rel\", \"to\": \"electronic brainstorming\"}, {\"arrows\": \"to\", \"from\": \"IS topic\", \"label\": \"rel\", \"title\": \"rel\", \"to\": \"enterprise architecture\"}, {\"arrows\": \"to\", \"from\": \"agile software development\", \"label\": \"rel\", \"title\": \"rel\", \"to\": \"Scrum\"}, {\"arrows\": \"to\", \"from\": \"individual participant\", \"label\": \"rel\", \"title\": \"rel\", \"to\": \"individual academic participant\"}, {\"arrows\": \"to\", \"from\": \"empirical quantitative method\", \"label\": \"rel\", \"title\": \"rel\", \"to\": \"survey\"}, {\"arrows\": \"to\", \"from\": \"QDA software\", \"label\": \"rel\", \"title\": \"rel\", \"to\": \"TAMS Analyzer\"}, {\"arrows\": \"to\", \"from\": \"analytical information system\", \"label\": \"rel\", \"title\": \"rel\", \"to\": \"big data\"}, {\"arrows\": \"to\", \"from\": \"telecommunications industry\", \"label\": \"rel\", \"title\": \"rel\", \"to\": \"telephone service provider\"}, {\"arrows\": \"to\", \"from\": \"information technology infrastructure\", \"label\": \"rel\", \"title\": \"rel\", \"to\": \"network infrastructure\"}, {\"arrows\": \"to\", \"from\": \"information systems strategy\", \"label\": \"rel\", \"title\": \"rel\", \"to\": \"data resource management\"}, {\"arrows\": \"to\", \"from\": \"ease of use\", \"label\": \"rel\", \"title\": \"rel\", \"to\": \"usability\"}, {\"arrows\": \"to\", \"from\": \"digital media\", \"label\": \"rel\", \"title\": \"rel\", \"to\": \"social media\"}, {\"arrows\": \"to\", \"from\": \"service industry\", \"label\": \"rel\", \"title\": \"rel\", \"to\": \"intermediation\"}, {\"arrows\": \"to\", \"from\": \"privacy\", \"label\": \"rel\", \"title\": \"rel\", \"to\": \"pseudonymity\"}, {\"arrows\": \"to\", \"from\": \"wireless computer network\", \"label\": \"rel\", \"title\": \"rel\", \"to\": \"broadband cellular network\"}, {\"arrows\": \"to\", \"from\": \"empirical qualitative method\", \"label\": \"rel\", \"title\": \"rel\", \"to\": \"case study\"}, {\"arrows\": \"to\", \"from\": \"conceptual method\", \"label\": \"rel\", \"title\": \"rel\", \"to\": \"theory development\"}, {\"arrows\": \"to\", \"from\": \"IS evaluation criteria\", \"label\": \"rel\", \"title\": \"rel\", \"to\": \"data quality\"}, {\"arrows\": \"to\", \"from\": \"unsupervised learning\", \"label\": \"rel\", \"title\": \"rel\", \"to\": \"cluster analysis\"}, {\"arrows\": \"to\", \"from\": \"ethnography\", \"label\": \"rel\", \"title\": \"rel\", \"to\": \"field study\"}, {\"arrows\": \"to\", \"from\": \"ICT industry\", \"label\": \"rel\", \"title\": \"rel\", \"to\": \"telecommunications industry\"}, {\"arrows\": \"to\", \"from\": \"economic sector\", \"label\": \"rel\", \"title\": \"rel\", \"to\": \"media industry\"}, {\"arrows\": \"to\", \"from\": \"mobile system\", \"label\": \"rel\", \"title\": \"rel\", \"to\": \"mobile phone\"}, {\"arrows\": \"to\", \"from\": \"smart card\", \"label\": \"rel\", \"title\": \"rel\", \"to\": \"SIM card\"}, {\"arrows\": \"to\", \"from\": \"company type\", \"label\": \"rel\", \"title\": \"rel\", \"to\": \"small and mid-size enterprise\"}, {\"arrows\": \"to\", \"from\": \"qualitativ observational study\", \"label\": \"rel\", \"title\": \"rel\", \"to\": \"participant observation\"}, {\"arrows\": \"to\", \"from\": \"archival research\", \"label\": \"rel\", \"title\": \"rel\", \"to\": \"company material\"}, {\"arrows\": \"to\", \"from\": \"methodological entity\", \"label\": \"rel\", \"title\": \"rel\", \"to\": \"data analysis method\"}, {\"arrows\": \"to\", \"from\": \"empirical qualitative method\", \"label\": \"rel\", \"title\": \"rel\", \"to\": \"qualitativ observational study\"}, {\"arrows\": \"to\", \"from\": \"qualitative content analysis\", \"label\": \"rel\", \"title\": \"rel\", \"to\": \"narrative analysis\"}, {\"arrows\": \"to\", \"from\": \"participant\", \"label\": \"rel\", \"title\": \"rel\", \"to\": \"organizational participant\"}, {\"arrows\": \"to\", \"from\": \"advertising industry and opinion polling\", \"label\": \"rel\", \"title\": \"rel\", \"to\": \"advertising industry\"}, {\"arrows\": \"to\", \"from\": \"communication service infrastructure\", \"label\": \"rel\", \"title\": \"rel\", \"to\": \"internet technology\"}, {\"arrows\": \"to\", \"from\": \"online marketing\", \"label\": \"rel\", \"title\": \"rel\", \"to\": \"online advertising\"}, {\"arrows\": \"to\", \"from\": \"website\", \"label\": \"rel\", \"title\": \"rel\", \"to\": \"web page\"}, {\"arrows\": \"to\", \"from\": \"media industry\", \"label\": \"rel\", \"title\": \"rel\", \"to\": \"media market\"}, {\"arrows\": \"to\", \"from\": \"database system\", \"label\": \"rel\", \"title\": \"rel\", \"to\": \"relational database\"}, {\"arrows\": \"to\", \"from\": \"office information system\", \"label\": \"rel\", \"title\": \"rel\", \"to\": \"spreadsheet\"}, {\"arrows\": \"to\", \"from\": \"communication service infrastructure\", \"label\": \"rel\", \"title\": \"rel\", \"to\": \"telephone\"}, {\"arrows\": \"to\", \"from\": \"world wide web\", \"label\": \"rel\", \"title\": \"rel\", \"to\": \"website\"}, {\"arrows\": \"to\", \"from\": \"IT workforce\", \"label\": \"rel\", \"title\": \"rel\", \"to\": \"IT skill\"}, {\"arrows\": \"to\", \"from\": \"information systems theory\", \"label\": \"rel\", \"title\": \"rel\", \"to\": \"representation theory\"}, {\"arrows\": \"to\", \"from\": \"analytical information system\", \"label\": \"rel\", \"title\": \"rel\", \"to\": \"data integration\"}, {\"arrows\": \"to\", \"from\": \"IT workforce\", \"label\": \"rel\", \"title\": \"rel\", \"to\": \"IT personell turnover\"}, {\"arrows\": \"to\", \"from\": \"quantitative analysis\", \"label\": \"rel\", \"title\": \"rel\", \"to\": \"machine learning\"}, {\"arrows\": \"to\", \"from\": \"IS topic\", \"label\": \"rel\", \"title\": \"rel\", \"to\": \"information systems standardization\"}, {\"arrows\": \"to\", \"from\": \"communication theory\", \"label\": \"rel\", \"title\": \"rel\", \"to\": \"semiotics\"}, {\"arrows\": \"to\", \"from\": \"health information system\", \"label\": \"rel\", \"title\": \"rel\", \"to\": \"healthcare data\"}, {\"arrows\": \"to\", \"from\": \"digital platform\", \"label\": \"rel\", \"title\": \"rel\", \"to\": \"digital ecosystem\"}, {\"arrows\": \"to\", \"from\": \"conceptual modelling\", \"label\": \"rel\", \"title\": \"rel\", \"to\": \"data modeling\"}, {\"arrows\": \"to\", \"from\": \"experimental validity\", \"label\": \"rel\", \"title\": \"rel\", \"to\": \"external validity\"}, {\"arrows\": \"to\", \"from\": \"theory\", \"label\": \"rel\", \"title\": \"rel\", \"to\": \"management theory\"}, {\"arrows\": \"to\", \"from\": \"communication service infrastructure\", \"label\": \"rel\", \"title\": \"rel\", \"to\": \"electronic mail\"}, {\"arrows\": \"to\", \"from\": \"conceptual method\", \"label\": \"rel\", \"title\": \"rel\", \"to\": \"mathematical model\"}, {\"arrows\": \"to\", \"from\": \"methodological entity\", \"label\": \"rel\", \"title\": \"rel\", \"to\": \"sampling\"}, {\"arrows\": \"to\", \"from\": \"privacy\", \"label\": \"rel\", \"title\": \"rel\", \"to\": \"anonymity\"}, {\"arrows\": \"to\", \"from\": \"empirical qualitative method\", \"label\": \"rel\", \"title\": \"rel\", \"to\": \"archival research\"}, {\"arrows\": \"to\", \"from\": \"realism\", \"label\": \"rel\", \"title\": \"rel\", \"to\": \"critical realism\"}, {\"arrows\": \"to\", \"from\": \"IS technology\", \"label\": \"rel\", \"title\": \"rel\", \"to\": \"information technology infrastructure\"}, {\"arrows\": \"to\", \"from\": \"telecommunications industry\", \"label\": \"rel\", \"title\": \"rel\", \"to\": \"mobile network operator\"}, {\"arrows\": \"to\", \"from\": \"theoretical entity\", \"label\": \"rel\", \"title\": \"rel\", \"to\": \"research paradigm\"}, {\"arrows\": \"to\", \"from\": \"research paradigm\", \"label\": \"rel\", \"title\": \"rel\", \"to\": \"realism\"}, {\"arrows\": \"to\", \"from\": \"sociological theory\", \"label\": \"rel\", \"title\": \"rel\", \"to\": \"structuration theory\"}, {\"arrows\": \"to\", \"from\": \"sociological theory\", \"label\": \"rel\", \"title\": \"rel\", \"to\": \"actor network theory\"}, {\"arrows\": \"to\", \"from\": \"information systems theory\", \"label\": \"rel\", \"title\": \"rel\", \"to\": \"sociomaterialism theory\"}, {\"arrows\": \"to\", \"from\": \"conceptual modelling\", \"label\": \"rel\", \"title\": \"rel\", \"to\": \"ontological modelling\"}, {\"arrows\": \"to\", \"from\": \"qualitative analysis\", \"label\": \"rel\", \"title\": \"rel\", \"to\": \"qualitative coding\"}, {\"arrows\": \"to\", \"from\": \"qualitative analysis\", \"label\": \"rel\", \"title\": \"rel\", \"to\": \"triangulation\"}, {\"arrows\": \"to\", \"from\": \"IS topic\", \"label\": \"rel\", \"title\": \"rel\", \"to\": \"business process management\"}, {\"arrows\": \"to\", \"from\": \"operational information system\", \"label\": \"rel\", \"title\": \"rel\", \"to\": \"office information system\"}, {\"arrows\": \"to\", \"from\": \"quantitative analysis tool\", \"label\": \"rel\", \"title\": \"rel\", \"to\": \"Excel\"}, {\"arrows\": \"to\", \"from\": \"digital observation\", \"label\": \"rel\", \"title\": \"rel\", \"to\": \"digital trace data\"}, {\"arrows\": \"to\", \"from\": \"human\\u2013computer interaction\", \"label\": \"rel\", \"title\": \"rel\", \"to\": \"user interface\"}, {\"arrows\": \"to\", \"from\": \"research hypothesis\", \"label\": \"rel\", \"title\": \"rel\", \"to\": \"alternative hypothesis\"}, {\"arrows\": \"to\", \"from\": \"IS evaluation\", \"label\": \"rel\", \"title\": \"rel\", \"to\": \"evaluation criteria\"}, {\"arrows\": \"to\", \"from\": \"case study\", \"label\": \"rel\", \"title\": \"rel\", \"to\": \"single case study\"}, {\"arrows\": \"to\", \"from\": \"economic sector\", \"label\": \"rel\", \"title\": \"rel\", \"to\": \"insurance industry\"}, {\"arrows\": \"to\", \"from\": \"systems development\", \"label\": \"rel\", \"title\": \"rel\", \"to\": \"systems analysis\"}, {\"arrows\": \"to\", \"from\": \"wiki\", \"label\": \"rel\", \"title\": \"rel\", \"to\": \"Wikipedia\"}, {\"arrows\": \"to\", \"from\": \"service industry\", \"label\": \"rel\", \"title\": \"rel\", \"to\": \"healthcare industry\"}, {\"arrows\": \"to\", \"from\": \"healthcare data\", \"label\": \"rel\", \"title\": \"rel\", \"to\": \"electronic health record\"}, {\"arrows\": \"to\", \"from\": \"design science\", \"label\": \"rel\", \"title\": \"rel\", \"to\": \"design principle\"}, {\"arrows\": \"to\", \"from\": \"economic sector\", \"label\": \"rel\", \"title\": \"rel\", \"to\": \"government\"}, {\"arrows\": \"to\", \"from\": \"systems development\", \"label\": \"rel\", \"title\": \"rel\", \"to\": \"systems implementation\"}, {\"arrows\": \"to\", \"from\": \"design science\", \"label\": \"rel\", \"title\": \"rel\", \"to\": \"design theory\"}, {\"arrows\": \"to\", \"from\": \"digital platform\", \"label\": \"rel\", \"title\": \"rel\", \"to\": \"network effect\"}, {\"arrows\": \"to\", \"from\": \"enabling capability\", \"label\": \"rel\", \"title\": \"rel\", \"to\": \"information technology capability\"}, {\"arrows\": \"to\", \"from\": \"operational information system\", \"label\": \"rel\", \"title\": \"rel\", \"to\": \"interorganizational system\"}, {\"arrows\": \"to\", \"from\": \"information exchange\", \"label\": \"rel\", \"title\": \"rel\", \"to\": \"electronic data interchange\"}, {\"arrows\": \"to\", \"from\": \"industry specific information system\", \"label\": \"rel\", \"title\": \"rel\", \"to\": \"health information system\"}, {\"arrows\": \"to\", \"from\": \"societal context\", \"label\": \"rel\", \"title\": \"rel\", \"to\": \"legal context\"}, {\"arrows\": \"to\", \"from\": \"information technology infrastructure\", \"label\": \"rel\", \"title\": \"rel\", \"to\": \"information exchange\"}, {\"arrows\": \"to\", \"from\": \"IS topic\", \"label\": \"rel\", \"title\": \"rel\", \"to\": \"information systems strategy\"}, {\"arrows\": \"to\", \"from\": \"modeling language\", \"label\": \"rel\", \"title\": \"rel\", \"to\": \"unified modeling language\"}, {\"arrows\": \"to\", \"from\": \"research stage\", \"label\": \"rel\", \"title\": \"rel\", \"to\": \"pilot study\"}, {\"arrows\": \"to\", \"from\": \"chemical industry\", \"label\": \"rel\", \"title\": \"rel\", \"to\": \"pharmaceutical industry\"}, {\"arrows\": \"to\", \"from\": \"information sharing protocol\", \"label\": \"rel\", \"title\": \"rel\", \"to\": \"extensible markup language\"}, {\"arrows\": \"to\", \"from\": \"communication service infrastructure\", \"label\": \"rel\", \"title\": \"rel\", \"to\": \"network technology\"}, {\"arrows\": \"to\", \"from\": \"IT workforce\", \"label\": \"rel\", \"title\": \"rel\", \"to\": \"IT work\"}, {\"arrows\": \"to\", \"from\": \"qualitativ observational study\", \"label\": \"rel\", \"title\": \"rel\", \"to\": \"ethnography\"}, {\"arrows\": \"to\", \"from\": \"enterprise information system\", \"label\": \"rel\", \"title\": \"rel\", \"to\": \"computer supported cooperative work\"}, {\"arrows\": \"to\", \"from\": \"IS evaluation criteria\", \"label\": \"rel\", \"title\": \"rel\", \"to\": \"IS impact\"}, {\"arrows\": \"to\", \"from\": \"economic sector\", \"label\": \"rel\", \"title\": \"rel\", \"to\": \"private sector\"}, {\"arrows\": \"to\", \"from\": \"electronic authentication\", \"label\": \"rel\", \"title\": \"rel\", \"to\": \"biometric\"}, {\"arrows\": \"to\", \"from\": \"industry specific information system\", \"label\": \"rel\", \"title\": \"rel\", \"to\": \"government system\"}, {\"arrows\": \"to\", \"from\": \"digital divide\", \"label\": \"rel\", \"title\": \"rel\", \"to\": \"information and communication technology for development\"}, {\"arrows\": \"to\", \"from\": \"empirical qualitative method\", \"label\": \"rel\", \"title\": \"rel\", \"to\": \"action research\"}, {\"arrows\": \"to\", \"from\": \"organizational memory\", \"label\": \"rel\", \"title\": \"rel\", \"to\": \"organization learning\"}, {\"arrows\": \"to\", \"from\": \"organizational impact\", \"label\": \"rel\", \"title\": \"rel\", \"to\": \"organizational value\"}, {\"arrows\": \"to\", \"from\": \"computer system\", \"label\": \"rel\", \"title\": \"rel\", \"to\": \"personal computer\"}, {\"arrows\": \"to\", \"from\": \"financial sector\", \"label\": \"rel\", \"title\": \"rel\", \"to\": \"banking industry\"}, {\"arrows\": \"to\", \"from\": \"artificial intelligence\", \"label\": \"rel\", \"title\": \"rel\", \"to\": \"knowledge representation\"}, {\"arrows\": \"to\", \"from\": \"economic sector\", \"label\": \"rel\", \"title\": \"rel\", \"to\": \"non governmental organisation\"}, {\"arrows\": \"to\", \"from\": \"IT development project\", \"label\": \"rel\", \"title\": \"rel\", \"to\": \"open source software project\"}, {\"arrows\": \"to\", \"from\": \"health information system\", \"label\": \"rel\", \"title\": \"rel\", \"to\": \"electronic health\"}, {\"arrows\": \"to\", \"from\": \"information technology infrastructure\", \"label\": \"rel\", \"title\": \"rel\", \"to\": \"hardware\"}, {\"arrows\": \"to\", \"from\": \"IS topic\", \"label\": \"rel\", \"title\": \"rel\", \"to\": \"intellectual property\"}, {\"arrows\": \"to\", \"from\": \"organizational context\", \"label\": \"rel\", \"title\": \"rel\", \"to\": \"types of work\"}, {\"arrows\": \"to\", \"from\": \"anthropogenic hazard\", \"label\": \"rel\", \"title\": \"rel\", \"to\": \"power outage\"}, {\"arrows\": \"to\", \"from\": \"technical IT security defense\", \"label\": \"rel\", \"title\": \"rel\", \"to\": \"backup\"}, {\"arrows\": \"to\", \"from\": \"IT security category\", \"label\": \"rel\", \"title\": \"rel\", \"to\": \"data security\"}, {\"arrows\": \"to\", \"from\": \"technical IT security defense\", \"label\": \"rel\", \"title\": \"rel\", \"to\": \"disaster recovery\"}, {\"arrows\": \"to\", \"from\": \"wired network technology\", \"label\": \"rel\", \"title\": \"rel\", \"to\": \"local area network\"}, {\"arrows\": \"to\", \"from\": \"analytical information system\", \"label\": \"rel\", \"title\": \"rel\", \"to\": \"data warehouse\"}, {\"arrows\": \"to\", \"from\": \"communication service infrastructure\", \"label\": \"rel\", \"title\": \"rel\", \"to\": \"information portal\"}, {\"arrows\": \"to\", \"from\": \"IS education\", \"label\": \"rel\", \"title\": \"rel\", \"to\": \"digital literacy\"}, {\"arrows\": \"to\", \"from\": \"macro level\", \"label\": \"rel\", \"title\": \"rel\", \"to\": \"country level\"}, {\"arrows\": \"to\", \"from\": \"IS sourcing\", \"label\": \"rel\", \"title\": \"rel\", \"to\": \"outsourcing\"}, {\"arrows\": \"to\", \"from\": \"IT service management\", \"label\": \"rel\", \"title\": \"rel\", \"to\": \"system maintenance\"}, {\"arrows\": \"to\", \"from\": \"analytical information system\", \"label\": \"rel\", \"title\": \"rel\", \"to\": \"business intelligence\"}, {\"arrows\": \"to\", \"from\": \"bourses and securities trading\", \"label\": \"rel\", \"title\": \"rel\", \"to\": \"rating agency\"}, {\"arrows\": \"to\", \"from\": \"design science\", \"label\": \"rel\", \"title\": \"rel\", \"to\": \"kernel theory\"}, {\"arrows\": \"to\", \"from\": \"machine learning method\", \"label\": \"rel\", \"title\": \"rel\", \"to\": \"semi supervised learning\"}, {\"arrows\": \"to\", \"from\": \"supervised learning\", \"label\": \"rel\", \"title\": \"rel\", \"to\": \"classification method\"}, {\"arrows\": \"to\", \"from\": \"confusion matrix based metric\", \"label\": \"rel\", \"title\": \"rel\", \"to\": \"classification accuracy\"}, {\"arrows\": \"to\", \"from\": \"regression analysis method\", \"label\": \"rel\", \"title\": \"rel\", \"to\": \"logistic regression\"}, {\"arrows\": \"to\", \"from\": \"classification method\", \"label\": \"rel\", \"title\": \"rel\", \"to\": \"artificial neural network\"}, {\"arrows\": \"to\", \"from\": \"quantitative analysis\", \"label\": \"rel\", \"title\": \"rel\", \"to\": \"discriminant analysis\"}, {\"arrows\": \"to\", \"from\": \"classification method\", \"label\": \"rel\", \"title\": \"rel\", \"to\": \"decision tree classification\"}, {\"arrows\": \"to\", \"from\": \"probabilistic graphical model\", \"label\": \"rel\", \"title\": \"rel\", \"to\": \"Bayesian network\"}, {\"arrows\": \"to\", \"from\": \"classification method\", \"label\": \"rel\", \"title\": \"rel\", \"to\": \"support vector machine\"}, {\"arrows\": \"to\", \"from\": \"economic sector\", \"label\": \"rel\", \"title\": \"rel\", \"to\": \"manufacturing industry\"}, {\"arrows\": \"to\", \"from\": \"bourses and securities trading\", \"label\": \"rel\", \"title\": \"rel\", \"to\": \"bourse\"}, {\"arrows\": \"to\", \"from\": \"design science\", \"label\": \"rel\", \"title\": \"rel\", \"to\": \"design guideline\"}, {\"arrows\": \"to\", \"from\": \"machine learning\", \"label\": \"rel\", \"title\": \"rel\", \"to\": \"machine learning process\"}, {\"arrows\": \"to\", \"from\": \"organizational productivity\", \"label\": \"rel\", \"title\": \"rel\", \"to\": \"financial performance\"}, {\"arrows\": \"to\", \"from\": \"economic sector\", \"label\": \"rel\", \"title\": \"rel\", \"to\": \"financial sector\"}, {\"arrows\": \"to\", \"from\": \"confusion matrix based metric\", \"label\": \"rel\", \"title\": \"rel\", \"to\": \"f-measure\"}, {\"arrows\": \"to\", \"from\": \"confusion matrix based metric\", \"label\": \"rel\", \"title\": \"rel\", \"to\": \"precision and recall\"}, {\"arrows\": \"to\", \"from\": \"statistical significance\", \"label\": \"rel\", \"title\": \"rel\", \"to\": \"significant difference\"}, {\"arrows\": \"to\", \"from\": \"confusion matrix based metric\", \"label\": \"rel\", \"title\": \"rel\", \"to\": \"false positive rate\"}, {\"arrows\": \"to\", \"from\": \"confusion matrix based metric\", \"label\": \"rel\", \"title\": \"rel\", \"to\": \"false negative rate\"}, {\"arrows\": \"to\", \"from\": \"financial archival database\", \"label\": \"rel\", \"title\": \"rel\", \"to\": \"Compustat\"}, {\"arrows\": \"to\", \"from\": \"conceptual modelling\", \"label\": \"rel\", \"title\": \"rel\", \"to\": \"reference modelling\"}, {\"arrows\": \"to\", \"from\": \"machine learning method\", \"label\": \"rel\", \"title\": \"rel\", \"to\": \"supervised learning\"}, {\"arrows\": \"to\", \"from\": \"quantitative analysis\", \"label\": \"rel\", \"title\": \"rel\", \"to\": \"Bayesian analysis\"}, {\"arrows\": \"to\", \"from\": \"classification method\", \"label\": \"rel\", \"title\": \"rel\", \"to\": \"na\\u00efve bayes\"}, {\"arrows\": \"to\", \"from\": \"bagging method\", \"label\": \"rel\", \"title\": \"rel\", \"to\": \"random forest classification\"}, {\"arrows\": \"to\", \"from\": \"probabilistic sampling\", \"label\": \"rel\", \"title\": \"rel\", \"to\": \"cross validation\"}, {\"arrows\": \"to\", \"from\": \"confusion matrix based metric\", \"label\": \"rel\", \"title\": \"rel\", \"to\": \"area under the curve\"}, {\"arrows\": \"to\", \"from\": \"confusion matrix based metric\", \"label\": \"rel\", \"title\": \"rel\", \"to\": \"ROC curve\"}, {\"arrows\": \"to\", \"from\": \"Student\\u0027s t-test\", \"label\": \"rel\", \"title\": \"rel\", \"to\": \"paired t-test\"}, {\"arrows\": \"to\", \"from\": \"statistical hypothesis test\", \"label\": \"rel\", \"title\": \"rel\", \"to\": \"Student\\u0027s t-test\"}, {\"arrows\": \"to\", \"from\": \"statistical significance result\", \"label\": \"rel\", \"title\": \"rel\", \"to\": \"no statistical significance\"}, {\"arrows\": \"to\", \"from\": \"goodness of fit index\", \"label\": \"rel\", \"title\": \"rel\", \"to\": \"coefficient of determination\"}, {\"arrows\": \"to\", \"from\": \"statistical metric\", \"label\": \"rel\", \"title\": \"rel\", \"to\": \"confusion matrix\"}, {\"arrows\": \"to\", \"from\": \"post analysis\", \"label\": \"rel\", \"title\": \"rel\", \"to\": \"sensitivity analysis\"}, {\"arrows\": \"to\", \"from\": \"IS impact\", \"label\": \"rel\", \"title\": \"rel\", \"to\": \"individual impact\"}, {\"arrows\": \"to\", \"from\": \"economic sector\", \"label\": \"rel\", \"title\": \"rel\", \"to\": \"trade sector\"}, {\"arrows\": \"to\", \"from\": \"statistical metric\", \"label\": \"rel\", \"title\": \"rel\", \"to\": \"standard score\"}, {\"arrows\": \"to\", \"from\": \"classification method\", \"label\": \"rel\", \"title\": \"rel\", \"to\": \"k-nearest neighbor\"}, {\"arrows\": \"to\", \"from\": \"electronic business\", \"label\": \"rel\", \"title\": \"rel\", \"to\": \"electronic market\"}, {\"arrows\": \"to\", \"from\": \"literature study\", \"label\": \"rel\", \"title\": \"rel\", \"to\": \"co-citation analysis\"}, {\"arrows\": \"to\", \"from\": \"IS topic\", \"label\": \"rel\", \"title\": \"rel\", \"to\": \"knowledge management\"}, {\"arrows\": \"to\", \"from\": \"IT supported collaboration\", \"label\": \"rel\", \"title\": \"rel\", \"to\": \"group support system\"}, {\"arrows\": \"to\", \"from\": \"online word of mouth\", \"label\": \"rel\", \"title\": \"rel\", \"to\": \"online reputation system\"}, {\"arrows\": \"to\", \"from\": \"electronic business\", \"label\": \"rel\", \"title\": \"rel\", \"to\": \"online auction\"}, {\"arrows\": \"to\", \"from\": \"IT security category\", \"label\": \"rel\", \"title\": \"rel\", \"to\": \"internet fraud\"}, {\"arrows\": \"to\", \"from\": \"social media\", \"label\": \"rel\", \"title\": \"rel\", \"to\": \"web forum\"}, {\"arrows\": \"to\", \"from\": \"technical IT security defense\", \"label\": \"rel\", \"title\": \"rel\", \"to\": \"access control\"}, {\"arrows\": \"to\", \"from\": \"access control\", \"label\": \"rel\", \"title\": \"rel\", \"to\": \"electronic authentication\"}, {\"arrows\": \"to\", \"from\": \"analytical information system\", \"label\": \"rel\", \"title\": \"rel\", \"to\": \"recommender system\"}, {\"arrows\": \"to\", \"from\": \"recommender system\", \"label\": \"rel\", \"title\": \"rel\", \"to\": \"collaborative filtering\"}, {\"arrows\": \"to\", \"from\": \"graph analysis\", \"label\": \"rel\", \"title\": \"rel\", \"to\": \"social network analysis\"}, {\"arrows\": \"to\", \"from\": \"data analysis method\", \"label\": \"rel\", \"title\": \"rel\", \"to\": \"quantitative analysis\"}, {\"arrows\": \"to\", \"from\": \"NLP application\", \"label\": \"rel\", \"title\": \"rel\", \"to\": \"part of speech tagging\"}, {\"arrows\": \"to\", \"from\": \"portable computer\", \"label\": \"rel\", \"title\": \"rel\", \"to\": \"laptop computer\"}, {\"arrows\": \"to\", \"from\": \"dimensionality reduction\", \"label\": \"rel\", \"title\": \"rel\", \"to\": \"principal component analysis\"}, {\"arrows\": \"to\", \"from\": \"stochastic model\", \"label\": \"rel\", \"title\": \"rel\", \"to\": \"Markov model\"}, {\"arrows\": \"to\", \"from\": \"statistical distance\", \"label\": \"rel\", \"title\": \"rel\", \"to\": \"cross entropy\"}, {\"arrows\": \"to\", \"from\": \"qualitative analysis\", \"label\": \"rel\", \"title\": \"rel\", \"to\": \"qualitative content analysis\"}, {\"arrows\": \"to\", \"from\": \"research question\", \"label\": \"rel\", \"title\": \"rel\", \"to\": \"numbered research question\"}, {\"arrows\": \"to\", \"from\": \"information technology infrastructure\", \"label\": \"rel\", \"title\": \"rel\", \"to\": \"web application\"}, {\"arrows\": \"to\", \"from\": \"micro level\", \"label\": \"rel\", \"title\": \"rel\", \"to\": \"individual level\"}, {\"arrows\": \"to\", \"from\": \"information system use\", \"label\": \"rel\", \"title\": \"rel\", \"to\": \"frequency of use\"}, {\"arrows\": \"to\", \"from\": \"NLP application\", \"label\": \"rel\", \"title\": \"rel\", \"to\": \"machine translation\"}, {\"arrows\": \"to\", \"from\": \"statistical significance result\", \"label\": \"rel\", \"title\": \"rel\", \"to\": \"statistical significance\"}, {\"arrows\": \"to\", \"from\": \"methodological entity\", \"label\": \"rel\", \"title\": \"rel\", \"to\": \"validity\"}, {\"arrows\": \"to\", \"from\": \"existing ontologies\", \"label\": \"rel\", \"title\": \"rel\", \"to\": \"WordNet\"}, {\"arrows\": \"to\", \"from\": \"probabilistic sampling\", \"label\": \"rel\", \"title\": \"rel\", \"to\": \"random sampling\"}, {\"arrows\": \"to\", \"from\": \"IT security threat\", \"label\": \"rel\", \"title\": \"rel\", \"to\": \"phishing\"}, {\"arrows\": \"to\", \"from\": \"phishing\", \"label\": \"rel\", \"title\": \"rel\", \"to\": \"phishing website\"}, {\"arrows\": \"to\", \"from\": \"quantitative analysis\", \"label\": \"rel\", \"title\": \"rel\", \"to\": \"hierarchical linear modeling\"}, {\"arrows\": \"to\", \"from\": \"experiment\", \"label\": \"rel\", \"title\": \"rel\", \"to\": \"field experiment\"}, {\"arrows\": \"to\", \"from\": \"IS evaluation method\", \"label\": \"rel\", \"title\": \"rel\", \"to\": \"cost benefit analysis\"}, {\"arrows\": \"to\", \"from\": \"IT job category\", \"label\": \"rel\", \"title\": \"rel\", \"to\": \"IT manager\"}, {\"arrows\": \"to\", \"from\": \"organizational IT security defense\", \"label\": \"rel\", \"title\": \"rel\", \"to\": \"security policy\"}, {\"arrows\": \"to\", \"from\": \"IS topic\", \"label\": \"rel\", \"title\": \"rel\", \"to\": \"IT security\"}, {\"arrows\": \"to\", \"from\": \"information systems usefulness\", \"label\": \"rel\", \"title\": \"rel\", \"to\": \"perceived usefulness\"}, {\"arrows\": \"to\", \"from\": \"phishing\", \"label\": \"rel\", \"title\": \"rel\", \"to\": \"email phishing\"}, {\"arrows\": \"to\", \"from\": \"electronic business\", \"label\": \"rel\", \"title\": \"rel\", \"to\": \"electronic commerce\"}, {\"arrows\": \"to\", \"from\": \"information retrieval\", \"label\": \"rel\", \"title\": \"rel\", \"to\": \"search engine\"}, {\"arrows\": \"to\", \"from\": \"online marketing\", \"label\": \"rel\", \"title\": \"rel\", \"to\": \"search engine optimization\"}, {\"arrows\": \"to\", \"from\": \"social media site\", \"label\": \"rel\", \"title\": \"rel\", \"to\": \"Twitter\"}, {\"arrows\": \"to\", \"from\": \"computer crime\", \"label\": \"rel\", \"title\": \"rel\", \"to\": \"identity theft\"}, {\"arrows\": \"to\", \"from\": \"IT security threat\", \"label\": \"rel\", \"title\": \"rel\", \"to\": \"malware\"}, {\"arrows\": \"to\", \"from\": \"technology acceptance theory\", \"label\": \"rel\", \"title\": \"rel\", \"to\": \"technology acceptance model\"}, {\"arrows\": \"to\", \"from\": \"motivation theory\", \"label\": \"rel\", \"title\": \"rel\", \"to\": \"protection motivation theory\"}, {\"arrows\": \"to\", \"from\": \"user evaluation criteria\", \"label\": \"rel\", \"title\": \"rel\", \"to\": \"ease of use\"}, {\"arrows\": \"to\", \"from\": \"user evaluation criteria\", \"label\": \"rel\", \"title\": \"rel\", \"to\": \"information systems usefulness\"}, {\"arrows\": \"to\", \"from\": \"ease of use\", \"label\": \"rel\", \"title\": \"rel\", \"to\": \"perceived ease of use\"}, {\"arrows\": \"to\", \"from\": \"information systems strategy\", \"label\": \"rel\", \"title\": \"rel\", \"to\": \"IT investment\"}, {\"arrows\": \"to\", \"from\": \"IT security\", \"label\": \"rel\", \"title\": \"rel\", \"to\": \"IT security threat\"}, {\"arrows\": \"to\", \"from\": \"electronic commerce\", \"label\": \"rel\", \"title\": \"rel\", \"to\": \"business-to-business\"}, {\"arrows\": \"to\", \"from\": \"IS topic\", \"label\": \"rel\", \"title\": \"rel\", \"to\": \"human\\u2013computer interaction\"}, {\"arrows\": \"to\", \"from\": \"information system use\", \"label\": \"rel\", \"title\": \"rel\", \"to\": \"technology adoption\"}, {\"arrows\": \"to\", \"from\": \"classification method\", \"label\": \"rel\", \"title\": \"rel\", \"to\": \"binary classification\"}, {\"arrows\": \"to\", \"from\": \"quantitative analysis\", \"label\": \"rel\", \"title\": \"rel\", \"to\": \"regression analysis method\"}, {\"arrows\": \"to\", \"from\": \"machine learning\", \"label\": \"rel\", \"title\": \"rel\", \"to\": \"machine learning method\"}, {\"arrows\": \"to\", \"from\": \"experiment\", \"label\": \"rel\", \"title\": \"rel\", \"to\": \"laboratory experiment\"}, {\"arrows\": \"to\", \"from\": \"electronic commerce\", \"label\": \"rel\", \"title\": \"rel\", \"to\": \"business-to-consumer\"}, {\"arrows\": \"to\", \"from\": \"survey\", \"label\": \"rel\", \"title\": \"rel\", \"to\": \"survey design\"}, {\"arrows\": \"to\", \"from\": \"small and mid-size enterprise\", \"label\": \"rel\", \"title\": \"rel\", \"to\": \"mid-size enterprise\"}, {\"arrows\": \"to\", \"from\": \"survey\", \"label\": \"rel\", \"title\": \"rel\", \"to\": \"longitudinal survey\"}, {\"arrows\": \"to\", \"from\": \"validity\", \"label\": \"rel\", \"title\": \"rel\", \"to\": \"two validities\"}, {\"arrows\": \"to\", \"from\": \"factor analysis\", \"label\": \"rel\", \"title\": \"rel\", \"to\": \"exploratory factor analysis\"}, {\"arrows\": \"to\", \"from\": \"internal consistency reliability\", \"label\": \"rel\", \"title\": \"rel\", \"to\": \"Cronbach\\u0027s alpha\"}, {\"arrows\": \"to\", \"from\": \"precision and recall\", \"label\": \"rel\", \"title\": \"rel\", \"to\": \"recall score\"}, {\"arrows\": \"to\", \"from\": \"productivity\", \"label\": \"rel\", \"title\": \"rel\", \"to\": \"IT productivity\"}, {\"arrows\": \"to\", \"from\": \"experiment\", \"label\": \"rel\", \"title\": \"rel\", \"to\": \"longitudinal experiment\"}, {\"arrows\": \"to\", \"from\": \"experimental design\", \"label\": \"rel\", \"title\": \"rel\", \"to\": \"experimental group\"}, {\"arrows\": \"to\", \"from\": \"experiment\", \"label\": \"rel\", \"title\": \"rel\", \"to\": \"pilot experiment\"}, {\"arrows\": \"to\", \"from\": \"statistical hypothesis test\", \"label\": \"rel\", \"title\": \"rel\", \"to\": \"chi squared test\"}, {\"arrows\": \"to\", \"from\": \"statistical metric\", \"label\": \"rel\", \"title\": \"rel\", \"to\": \"Chi square metric\"}, {\"arrows\": \"to\", \"from\": \"company type\", \"label\": \"rel\", \"title\": \"rel\", \"to\": \"multi divisional corporation\"}, {\"arrows\": \"to\", \"from\": \"study object\", \"label\": \"rel\", \"title\": \"rel\", \"to\": \"company type\"}, {\"arrows\": \"to\", \"from\": \"social media site\", \"label\": \"rel\", \"title\": \"rel\", \"to\": \"Google+\"}, {\"arrows\": \"to\", \"from\": \"business evaluation criteria\", \"label\": \"rel\", \"title\": \"rel\", \"to\": \"customer satisfaction\"}, {\"arrows\": \"to\", \"from\": \"vehicle industry\", \"label\": \"rel\", \"title\": \"rel\", \"to\": \"automotive industry\"}, {\"arrows\": \"to\", \"from\": \"NLP application\", \"label\": \"rel\", \"title\": \"rel\", \"to\": \"sentiment analysis\"}, {\"arrows\": \"to\", \"from\": \"government\", \"label\": \"rel\", \"title\": \"rel\", \"to\": \"regulatory agency\"}, {\"arrows\": \"to\", \"from\": \"design science\", \"label\": \"rel\", \"title\": \"rel\", \"to\": \"design framework\"}, {\"arrows\": \"to\", \"from\": \"IS sourcing\", \"label\": \"rel\", \"title\": \"rel\", \"to\": \"crowdsourcing\"}, {\"arrows\": \"to\", \"from\": \"social media\", \"label\": \"rel\", \"title\": \"rel\", \"to\": \"social network\"}, {\"arrows\": \"to\", \"from\": \"information system use\", \"label\": \"rel\", \"title\": \"rel\", \"to\": \"usage intention\"}, {\"arrows\": \"to\", \"from\": \"natural hazard\", \"label\": \"rel\", \"title\": \"rel\", \"to\": \"hurricane\"}, {\"arrows\": \"to\", \"from\": \"between group comparison statistical test\", \"label\": \"rel\", \"title\": \"rel\", \"to\": \"ANOVA\"}, {\"arrows\": \"to\", \"from\": \"model part\", \"label\": \"rel\", \"title\": \"rel\", \"to\": \"structural model\"}, {\"arrows\": \"to\", \"from\": \"web search engine\", \"label\": \"rel\", \"title\": \"rel\", \"to\": \"Bing\"}, {\"arrows\": \"to\", \"from\": \"spamming\", \"label\": \"rel\", \"title\": \"rel\", \"to\": \"email spam\"}, {\"arrows\": \"to\", \"from\": \"statistical metric\", \"label\": \"rel\", \"title\": \"rel\", \"to\": \"odds ratio\"}, {\"arrows\": \"to\", \"from\": \"statistical distance\", \"label\": \"rel\", \"title\": \"rel\", \"to\": \"mutual information\"}, {\"arrows\": \"to\", \"from\": \"Markov model\", \"label\": \"rel\", \"title\": \"rel\", \"to\": \"hidden Markov model\"}, {\"arrows\": \"to\", \"from\": \"unsupervised learning\", \"label\": \"rel\", \"title\": \"rel\", \"to\": \"association rule learning\"}, {\"arrows\": \"to\", \"from\": \"quantitative analysis\", \"label\": \"rel\", \"title\": \"rel\", \"to\": \"time series analysis\"}, {\"arrows\": \"to\", \"from\": \"statistical dispersion\", \"label\": \"rel\", \"title\": \"rel\", \"to\": \"standard deviation\"}, {\"arrows\": \"to\", \"from\": \"correlation coefficient\", \"label\": \"rel\", \"title\": \"rel\", \"to\": \"Pearson correlation coefficient\"}, {\"arrows\": \"to\", \"from\": \"biometric measurement\", \"label\": \"rel\", \"title\": \"rel\", \"to\": \"blood pressure\"}, {\"arrows\": \"to\", \"from\": \"information exchange\", \"label\": \"rel\", \"title\": \"rel\", \"to\": \"application programming interface\"}, {\"arrows\": \"to\", \"from\": \"experimental design\", \"label\": \"rel\", \"title\": \"rel\", \"to\": \"factorial experiment\"}, {\"arrows\": \"to\", \"from\": \"rank correlation coefficient\", \"label\": \"rel\", \"title\": \"rel\", \"to\": \"Kendall rank correlation coefficient\"}, {\"arrows\": \"to\", \"from\": \"statistical metric\", \"label\": \"rel\", \"title\": \"rel\", \"to\": \"degrees of freedom\"}, {\"arrows\": \"to\", \"from\": \"IT security\", \"label\": \"rel\", \"title\": \"rel\", \"to\": \"privacy\"}, {\"arrows\": \"to\", \"from\": \"academic journal list\", \"label\": \"rel\", \"title\": \"rel\", \"to\": \"top IS journal\"}, {\"arrows\": \"to\", \"from\": \"research paradigm\", \"label\": \"rel\", \"title\": \"rel\", \"to\": \"positivism\"}, {\"arrows\": \"to\", \"from\": \"information technology infrastructure\", \"label\": \"rel\", \"title\": \"rel\", \"to\": \"data center\"}, {\"arrows\": \"to\", \"from\": \"data integration\", \"label\": \"rel\", \"title\": \"rel\", \"to\": \"extract transform load process\"}, {\"arrows\": \"to\", \"from\": \"IT job category\", \"label\": \"rel\", \"title\": \"rel\", \"to\": \"software developer\"}, {\"arrows\": \"to\", \"from\": \"database languages\", \"label\": \"rel\", \"title\": \"rel\", \"to\": \"structured query language\"}, {\"arrows\": \"to\", \"from\": \"collaborative authoring\", \"label\": \"rel\", \"title\": \"rel\", \"to\": \"wiki\"}, {\"arrows\": \"to\", \"from\": \"information reporting system\", \"label\": \"rel\", \"title\": \"rel\", \"to\": \"digital dashboard\"}, {\"arrows\": \"to\", \"from\": \"artificial intelligence\", \"label\": \"rel\", \"title\": \"rel\", \"to\": \"expert system\"}, {\"arrows\": \"to\", \"from\": \"computer supported cooperative work\", \"label\": \"rel\", \"title\": \"rel\", \"to\": \"IT supported collaboration\"}, {\"arrows\": \"to\", \"from\": \"information systems strategy\", \"label\": \"rel\", \"title\": \"rel\", \"to\": \"IT governance\"}, {\"arrows\": \"to\", \"from\": \"data modeling\", \"label\": \"rel\", \"title\": \"rel\", \"to\": \"database modeling\"}, {\"arrows\": \"to\", \"from\": \"IS impact\", \"label\": \"rel\", \"title\": \"rel\", \"to\": \"IS effectiveness\"}, {\"arrows\": \"to\", \"from\": \"trade sector\", \"label\": \"rel\", \"title\": \"rel\", \"to\": \"retail trade\"}, {\"arrows\": \"to\", \"from\": \"internet technology\", \"label\": \"rel\", \"title\": \"rel\", \"to\": \"world wide web\"}, {\"arrows\": \"to\", \"from\": \"machine learning application\", \"label\": \"rel\", \"title\": \"rel\", \"to\": \"natural language processing\"}, {\"arrows\": \"to\", \"from\": \"distributed system\", \"label\": \"rel\", \"title\": \"rel\", \"to\": \"distributed storage\"}, {\"arrows\": \"to\", \"from\": \"database system\", \"label\": \"rel\", \"title\": \"rel\", \"to\": \"nosql database\"}, {\"arrows\": \"to\", \"from\": \"big data\", \"label\": \"rel\", \"title\": \"rel\", \"to\": \"Apache Hadoop\"}, {\"arrows\": \"to\", \"from\": \"cloud computing\", \"label\": \"rel\", \"title\": \"rel\", \"to\": \"infrastructure as a service\"}, {\"arrows\": \"to\", \"from\": \"cloud computing\", \"label\": \"rel\", \"title\": \"rel\", \"to\": \"platform as a service\"}, {\"arrows\": \"to\", \"from\": \"information technology infrastructure\", \"label\": \"rel\", \"title\": \"rel\", \"to\": \"cloud computing\"}, {\"arrows\": \"to\", \"from\": \"natural hazard\", \"label\": \"rel\", \"title\": \"rel\", \"to\": \"tsunami\"}, {\"arrows\": \"to\", \"from\": \"big data\", \"label\": \"rel\", \"title\": \"rel\", \"to\": \"data lake\"}, {\"arrows\": \"to\", \"from\": \"stream processing\", \"label\": \"rel\", \"title\": \"rel\", \"to\": \"complex event processing\"}, {\"arrows\": \"to\", \"from\": \"IT governance\", \"label\": \"rel\", \"title\": \"rel\", \"to\": \"data governance\"}, {\"arrows\": \"to\", \"from\": \"analytical information system\", \"label\": \"rel\", \"title\": \"rel\", \"to\": \"social media analytics\"}, {\"arrows\": \"to\", \"from\": \"smart device\", \"label\": \"rel\", \"title\": \"rel\", \"to\": \"internet of things\"}, {\"arrows\": \"to\", \"from\": \"analytical information system\", \"label\": \"rel\", \"title\": \"rel\", \"to\": \"geographic information system\"}, {\"arrows\": \"to\", \"from\": \"model\", \"label\": \"rel\", \"title\": \"rel\", \"to\": \"research model\"}, {\"arrows\": \"to\", \"from\": \"privacy\", \"label\": \"rel\", \"title\": \"rel\", \"to\": \"information privacy concern\"}, {\"arrows\": \"to\", \"from\": \"social media site\", \"label\": \"rel\", \"title\": \"rel\", \"to\": \"Facebook\"}, {\"arrows\": \"to\", \"from\": \"IT security category\", \"label\": \"rel\", \"title\": \"rel\", \"to\": \"insider threat\"}, {\"arrows\": \"to\", \"from\": \"machine learning process\", \"label\": \"rel\", \"title\": \"rel\", \"to\": \"Cross-Industry Standard Process for Data Mining\"}, {\"arrows\": \"to\", \"from\": \"systems development\", \"label\": \"rel\", \"title\": \"rel\", \"to\": \"systems development life cycle\"}, {\"arrows\": \"to\", \"from\": \"computer science theory\", \"label\": \"rel\", \"title\": \"rel\", \"to\": \"information theory\"}, {\"arrows\": \"to\", \"from\": \"mathematical theory\", \"label\": \"rel\", \"title\": \"rel\", \"to\": \"statistical learning theory\"}, {\"arrows\": \"to\", \"from\": \"literature database\", \"label\": \"rel\", \"title\": \"rel\", \"to\": \"Google scholar\"}, {\"arrows\": \"to\", \"from\": \"machine learning method\", \"label\": \"rel\", \"title\": \"rel\", \"to\": \"deep learning\"}, {\"arrows\": \"to\", \"from\": \"level of analysis\", \"label\": \"rel\", \"title\": \"rel\", \"to\": \"micro level\"}, {\"arrows\": \"to\", \"from\": \"level of analysis\", \"label\": \"rel\", \"title\": \"rel\", \"to\": \"macro level\"}, {\"arrows\": \"to\", \"from\": \"technical IT security defense\", \"label\": \"rel\", \"title\": \"rel\", \"to\": \"deception detection\"}, {\"arrows\": \"to\", \"from\": \"ontological modelling\", \"label\": \"rel\", \"title\": \"rel\", \"to\": \"existing ontologies\"}, {\"arrows\": \"to\", \"from\": \"ontological modelling\", \"label\": \"rel\", \"title\": \"rel\", \"to\": \"domain ontology\"}, {\"arrows\": \"to\", \"from\": \"business process redesign\", \"label\": \"rel\", \"title\": \"rel\", \"to\": \"business process improvement\"}, {\"arrows\": \"to\", \"from\": \"analytical information system\", \"label\": \"rel\", \"title\": \"rel\", \"to\": \"artificial intelligence\"}, {\"arrows\": \"to\", \"from\": \"action research\", \"label\": \"rel\", \"title\": \"rel\", \"to\": \"action design research\"}, {\"arrows\": \"to\", \"from\": \"design science\", \"label\": \"rel\", \"title\": \"rel\", \"to\": \"design requirement\"}, {\"arrows\": \"to\", \"from\": \"economic theory\", \"label\": \"rel\", \"title\": \"rel\", \"to\": \"lemon market theory\"}, {\"arrows\": \"to\", \"from\": \"test validity\", \"label\": \"rel\", \"title\": \"rel\", \"to\": \"construct validity\"}, {\"arrows\": \"to\", \"from\": \"social media\", \"label\": \"rel\", \"title\": \"rel\", \"to\": \"web 2.0\"}, {\"arrows\": \"to\", \"from\": \"intellectual property\", \"label\": \"rel\", \"title\": \"rel\", \"to\": \"open data\"}, {\"arrows\": \"to\", \"from\": \"video streaming provider\", \"label\": \"rel\", \"title\": \"rel\", \"to\": \"Netflix\"}, {\"arrows\": \"to\", \"from\": \"online advertising\", \"label\": \"rel\", \"title\": \"rel\", \"to\": \"social media marketing\"}, {\"arrows\": \"to\", \"from\": \"quantitative analysis\", \"label\": \"rel\", \"title\": \"rel\", \"to\": \"econometric modeling\"}, {\"arrows\": \"to\", \"from\": \"IS impact\", \"label\": \"rel\", \"title\": \"rel\", \"to\": \"organizational impact\"}, {\"arrows\": \"to\", \"from\": \"time horizon of research\", \"label\": \"rel\", \"title\": \"rel\", \"to\": \"cross sectional research\"}, {\"arrows\": \"to\", \"from\": \"strategic management theory\", \"label\": \"rel\", \"title\": \"rel\", \"to\": \"resource based view of the firm\"}, {\"arrows\": \"to\", \"from\": \"productivity\", \"label\": \"rel\", \"title\": \"rel\", \"to\": \"organizational productivity\"}, {\"arrows\": \"to\", \"from\": \"economic theory\", \"label\": \"rel\", \"title\": \"rel\", \"to\": \"behavioral economics\"}, {\"arrows\": \"to\", \"from\": \"information systems theory\", \"label\": \"rel\", \"title\": \"rel\", \"to\": \"cognitive fit theory\"}, {\"arrows\": \"to\", \"from\": \"mathematical theory\", \"label\": \"rel\", \"title\": \"rel\", \"to\": \"chaos theory\"}, {\"arrows\": \"to\", \"from\": \"business process management\", \"label\": \"rel\", \"title\": \"rel\", \"to\": \"business process automation\"}, {\"arrows\": \"to\", \"from\": \"electronic finance\", \"label\": \"rel\", \"title\": \"rel\", \"to\": \"electronic trading\"}, {\"arrows\": \"to\", \"from\": \"theory\", \"label\": \"rel\", \"title\": \"rel\", \"to\": \"information systems theory\"}, {\"arrows\": \"to\", \"from\": \"statistical metric\", \"label\": \"rel\", \"title\": \"rel\", \"to\": \"effect size\"}, {\"arrows\": \"to\", \"from\": \"linear regression estimation method\", \"label\": \"rel\", \"title\": \"rel\", \"to\": \"ordinary least square\"}, {\"arrows\": \"to\", \"from\": \"empirical qualitative method\", \"label\": \"rel\", \"title\": \"rel\", \"to\": \"grounded theory\"}, {\"arrows\": \"to\", \"from\": \"IS technology\", \"label\": \"rel\", \"title\": \"rel\", \"to\": \"enterprise information system\"}, {\"arrows\": \"to\", \"from\": \"IS technology\", \"label\": \"rel\", \"title\": \"rel\", \"to\": \"electronic business\"}, {\"arrows\": \"to\", \"from\": \"operational information system\", \"label\": \"rel\", \"title\": \"rel\", \"to\": \"enterprise resource planning\"}, {\"arrows\": \"to\", \"from\": \"online marketing\", \"label\": \"rel\", \"title\": \"rel\", \"to\": \"online word of mouth\"}, {\"arrows\": \"to\", \"from\": \"productivity\", \"label\": \"rel\", \"title\": \"rel\", \"to\": \"individual productivity\"}, {\"arrows\": \"to\", \"from\": \"data quality\", \"label\": \"rel\", \"title\": \"rel\", \"to\": \"data relevance\"}, {\"arrows\": \"to\", \"from\": \"IT supported collaboration\", \"label\": \"rel\", \"title\": \"rel\", \"to\": \"group decision support system\"}, {\"arrows\": \"to\", \"from\": \"economic sector\", \"label\": \"rel\", \"title\": \"rel\", \"to\": \"private household\"}, {\"arrows\": \"to\", \"from\": \"technical IT security defense\", \"label\": \"rel\", \"title\": \"rel\", \"to\": \"computer virus protection\"}, {\"arrows\": \"to\", \"from\": \"online advertising\", \"label\": \"rel\", \"title\": \"rel\", \"to\": \"search engine marketing\"}, {\"arrows\": \"to\", \"from\": \"website\", \"label\": \"rel\", \"title\": \"rel\", \"to\": \"website design\"}, {\"arrows\": \"to\", \"from\": \"banking industry\", \"label\": \"rel\", \"title\": \"rel\", \"to\": \"investment bank\"}, {\"arrows\": \"to\", \"from\": \"social media site\", \"label\": \"rel\", \"title\": \"rel\", \"to\": \"MySpace\"}, {\"arrows\": \"to\", \"from\": \"social media site\", \"label\": \"rel\", \"title\": \"rel\", \"to\": \"LinkedIn\"}, {\"arrows\": \"to\", \"from\": \"distributed system\", \"label\": \"rel\", \"title\": \"rel\", \"to\": \"client-server model\"}, {\"arrows\": \"to\", \"from\": \"electronic authentication\", \"label\": \"rel\", \"title\": \"rel\", \"to\": \"password\"}, {\"arrows\": \"to\", \"from\": \"technical IT security defense\", \"label\": \"rel\", \"title\": \"rel\", \"to\": \"data encryption\"}, {\"arrows\": \"to\", \"from\": \"IT security threat\", \"label\": \"rel\", \"title\": \"rel\", \"to\": \"denial of service attack\"}, {\"arrows\": \"to\", \"from\": \"design science evaluation\", \"label\": \"rel\", \"title\": \"rel\", \"to\": \"design artifact testing\"}, {\"arrows\": \"to\", \"from\": \"banking industry\", \"label\": \"rel\", \"title\": \"rel\", \"to\": \"commercial bank\"}, {\"arrows\": \"to\", \"from\": \"transport sector\", \"label\": \"rel\", \"title\": \"rel\", \"to\": \"shipping company\"}, {\"arrows\": \"to\", \"from\": \"IT workforce\", \"label\": \"rel\", \"title\": \"rel\", \"to\": \"IT career\"}, {\"arrows\": \"to\", \"from\": \"web page\", \"label\": \"rel\", \"title\": \"rel\", \"to\": \"hypertext\"}, {\"arrows\": \"to\", \"from\": \"psychological theory\", \"label\": \"rel\", \"title\": \"rel\", \"to\": \"learning theory\"}, {\"arrows\": \"to\", \"from\": \"optimization model\", \"label\": \"rel\", \"title\": \"rel\", \"to\": \"non linear optimization\"}, {\"arrows\": \"to\", \"from\": \"mathematical model\", \"label\": \"rel\", \"title\": \"rel\", \"to\": \"optimization model\"}, {\"arrows\": \"to\", \"from\": \"network security attack\", \"label\": \"rel\", \"title\": \"rel\", \"to\": \"spoofing\"}, {\"arrows\": \"to\", \"from\": \"design science evaluation\", \"label\": \"rel\", \"title\": \"rel\", \"to\": \"usability testing\"}, {\"arrows\": \"to\", \"from\": \"outsourcing\", \"label\": \"rel\", \"title\": \"rel\", \"to\": \"nearshoring\"}, {\"arrows\": \"to\", \"from\": \"outsourcing\", \"label\": \"rel\", \"title\": \"rel\", \"to\": \"offshoring\"}, {\"arrows\": \"to\", \"from\": \"company type\", \"label\": \"rel\", \"title\": \"rel\", \"to\": \"multi national corporation\"}, {\"arrows\": \"to\", \"from\": \"remote work\", \"label\": \"rel\", \"title\": \"rel\", \"to\": \"virtual teamwork\"}, {\"arrows\": \"to\", \"from\": \"IS sourcing\", \"label\": \"rel\", \"title\": \"rel\", \"to\": \"globalization of IS\"}, {\"arrows\": \"to\", \"from\": \"hospitality industry\", \"label\": \"rel\", \"title\": \"rel\", \"to\": \"hotel industry\"}, {\"arrows\": \"to\", \"from\": \"new institutional economics\", \"label\": \"rel\", \"title\": \"rel\", \"to\": \"transaction cost economics\"}, {\"arrows\": \"to\", \"from\": \"theoretical entity\", \"label\": \"rel\", \"title\": \"rel\", \"to\": \"level of analysis\"}, {\"arrows\": \"to\", \"from\": \"research stage\", \"label\": \"rel\", \"title\": \"rel\", \"to\": \"exploratory study\"}, {\"arrows\": \"to\", \"from\": \"social subjectivist paradigm\", \"label\": \"rel\", \"title\": \"rel\", \"to\": \"interpretivism\"}, {\"arrows\": \"to\", \"from\": \"transport sector\", \"label\": \"rel\", \"title\": \"rel\", \"to\": \"airline\"}, {\"arrows\": \"to\", \"from\": \"qualitative interview\", \"label\": \"rel\", \"title\": \"rel\", \"to\": \"personal interview\"}, {\"arrows\": \"to\", \"from\": \"organizational participant\", \"label\": \"rel\", \"title\": \"rel\", \"to\": \"organizational size\"}, {\"arrows\": \"to\", \"from\": \"outsourcing\", \"label\": \"rel\", \"title\": \"rel\", \"to\": \"onshoring\"}, {\"arrows\": \"to\", \"from\": \"general-purpose programming language\", \"label\": \"rel\", \"title\": \"rel\", \"to\": \"Java\"}, {\"arrows\": \"to\", \"from\": \"IT workforce\", \"label\": \"rel\", \"title\": \"rel\", \"to\": \"IT job\"}, {\"arrows\": \"to\", \"from\": \"economic sector\", \"label\": \"rel\", \"title\": \"rel\", \"to\": \"hospitality industry\"}, {\"arrows\": \"to\", \"from\": \"ICT industry\", \"label\": \"rel\", \"title\": \"rel\", \"to\": \"IT service provider\"}, {\"arrows\": \"to\", \"from\": \"IS evaluation criteria\", \"label\": \"rel\", \"title\": \"rel\", \"to\": \"system quality\"}, {\"arrows\": \"to\", \"from\": \"IT planning\", \"label\": \"rel\", \"title\": \"rel\", \"to\": \"IT policy\"}, {\"arrows\": \"to\", \"from\": \"productivity\", \"label\": \"rel\", \"title\": \"rel\", \"to\": \"project productivity\"}, {\"arrows\": \"to\", \"from\": \"societal level\", \"label\": \"rel\", \"title\": \"rel\", \"to\": \"global level\"}, {\"arrows\": \"to\", \"from\": \"business cooperation\", \"label\": \"rel\", \"title\": \"rel\", \"to\": \"joint venture\"}, {\"arrows\": \"to\", \"from\": \"knowledge type\", \"label\": \"rel\", \"title\": \"rel\", \"to\": \"organizational memory\"}, {\"arrows\": \"to\", \"from\": \"IS topic\", \"label\": \"rel\", \"title\": \"rel\", \"to\": \"IT workforce\"}, {\"arrows\": \"to\", \"from\": \"qualitative analysis\", \"label\": \"rel\", \"title\": \"rel\", \"to\": \"constant comparative analysis\"}, {\"arrows\": \"to\", \"from\": \"non probabilistic sampling\", \"label\": \"rel\", \"title\": \"rel\", \"to\": \"theoretical sampling\"}, {\"arrows\": \"to\", \"from\": \"data collection method\", \"label\": \"rel\", \"title\": \"rel\", \"to\": \"empirical qualitative method\"}, {\"arrows\": \"to\", \"from\": \"QDA software\", \"label\": \"rel\", \"title\": \"rel\", \"to\": \"ATLASti\"}, {\"arrows\": \"to\", \"from\": \"outsourcing\", \"label\": \"rel\", \"title\": \"rel\", \"to\": \"business process outsourcing\"}, {\"arrows\": \"to\", \"from\": \"sociological theory\", \"label\": \"rel\", \"title\": \"rel\", \"to\": \"boundary objects theory\"}, {\"arrows\": \"to\", \"from\": \"organizational theory\", \"label\": \"rel\", \"title\": \"rel\", \"to\": \"dynamic capabilities theory\"}, {\"arrows\": \"to\", \"from\": \"economic sector\", \"label\": \"rel\", \"title\": \"rel\", \"to\": \"service industry\"}, {\"arrows\": \"to\", \"from\": \"case study\", \"label\": \"rel\", \"title\": \"rel\", \"to\": \"longitudinal case study\"}, {\"arrows\": \"to\", \"from\": \"simulation\", \"label\": \"rel\", \"title\": \"rel\", \"to\": \"system dynamics\"}, {\"arrows\": \"to\", \"from\": \"information technology infrastructure\", \"label\": \"rel\", \"title\": \"rel\", \"to\": \"programming language\"}, {\"arrows\": \"to\", \"from\": \"general-purpose programming language\", \"label\": \"rel\", \"title\": \"rel\", \"to\": \"Fortran\"}, {\"arrows\": \"to\", \"from\": \"requirements analysis\", \"label\": \"rel\", \"title\": \"rel\", \"to\": \"user requirement\"}, {\"arrows\": \"to\", \"from\": \"theoretical link\", \"label\": \"rel\", \"title\": \"rel\", \"to\": \"causal link\"}, {\"arrows\": \"to\", \"from\": \"systems evaluation\", \"label\": \"rel\", \"title\": \"rel\", \"to\": \"system testing\"}, {\"arrows\": \"to\", \"from\": \"research and development sector\", \"label\": \"rel\", \"title\": \"rel\", \"to\": \"research institute\"}, {\"arrows\": \"to\", \"from\": \"structured literature research\", \"label\": \"rel\", \"title\": \"rel\", \"to\": \"literature sample\"}, {\"arrows\": \"to\", \"from\": \"digital platform\", \"label\": \"rel\", \"title\": \"rel\", \"to\": \"sharing platform\"}, {\"arrows\": \"to\", \"from\": \"distributed system\", \"label\": \"rel\", \"title\": \"rel\", \"to\": \"peer-to-peer model\"}, {\"arrows\": \"to\", \"from\": \"streaming service\", \"label\": \"rel\", \"title\": \"rel\", \"to\": \"video streaming service\"}, {\"arrows\": \"to\", \"from\": \"leasing industry\", \"label\": \"rel\", \"title\": \"rel\", \"to\": \"car leasing industry\"}, {\"arrows\": \"to\", \"from\": \"real estate sharing platform\", \"label\": \"rel\", \"title\": \"rel\", \"to\": \"Airbnb\"}, {\"arrows\": \"to\", \"from\": \"mobile system\", \"label\": \"rel\", \"title\": \"rel\", \"to\": \"mobile application\"}, {\"arrows\": \"to\", \"from\": \"systems development\", \"label\": \"rel\", \"title\": \"rel\", \"to\": \"systems operations\"}, {\"arrows\": \"to\", \"from\": \"ridesharing company\", \"label\": \"rel\", \"title\": \"rel\", \"to\": \"Uber\"}, {\"arrows\": \"to\", \"from\": \"digital product\", \"label\": \"rel\", \"title\": \"rel\", \"to\": \"information good\"}, {\"arrows\": \"to\", \"from\": \"sharing platform\", \"label\": \"rel\", \"title\": \"rel\", \"to\": \"ride sharing platform\"}, {\"arrows\": \"to\", \"from\": \"rank correlation coefficient\", \"label\": \"rel\", \"title\": \"rel\", \"to\": \"Spearman\\u0027s rank correlation coefficient\"}, {\"arrows\": \"to\", \"from\": \"social psychology theory\", \"label\": \"rel\", \"title\": \"rel\", \"to\": \"theory of reasoned action\"}, {\"arrows\": \"to\", \"from\": \"social psychology theory\", \"label\": \"rel\", \"title\": \"rel\", \"to\": \"theory of planned behavior\"}, {\"arrows\": \"to\", \"from\": \"technology acceptance theory\", \"label\": \"rel\", \"title\": \"rel\", \"to\": \"unified theory of acceptance and use of technology\"}, {\"arrows\": \"to\", \"from\": \"innovation theory\", \"label\": \"rel\", \"title\": \"rel\", \"to\": \"diffusion of innovations theory\"}, {\"arrows\": \"to\", \"from\": \"social psychology theory\", \"label\": \"rel\", \"title\": \"rel\", \"to\": \"social cognitive theory\"}, {\"arrows\": \"to\", \"from\": \"productivity\", \"label\": \"rel\", \"title\": \"rel\", \"to\": \"task productivity\"}, {\"arrows\": \"to\", \"from\": \"technology adoption\", \"label\": \"rel\", \"title\": \"rel\", \"to\": \"user acceptance\"}, {\"arrows\": \"to\", \"from\": \"research paradigm\", \"label\": \"rel\", \"title\": \"rel\", \"to\": \"post positivism\"}, {\"arrows\": \"to\", \"from\": \"computer system\", \"label\": \"rel\", \"title\": \"rel\", \"to\": \"workstation\"}, {\"arrows\": \"to\", \"from\": \"systems development\", \"label\": \"rel\", \"title\": \"rel\", \"to\": \"systems documentation\"}, {\"arrows\": \"to\", \"from\": \"non probabilistic sampling\", \"label\": \"rel\", \"title\": \"rel\", \"to\": \"theoretical saturation\"}, {\"arrows\": \"to\", \"from\": \"empirical qualitative method\", \"label\": \"rel\", \"title\": \"rel\", \"to\": \"qualitative data\"}, {\"arrows\": \"to\", \"from\": \"qualitative analysis\", \"label\": \"rel\", \"title\": \"rel\", \"to\": \"memoing\"}, {\"arrows\": \"to\", \"from\": \"communication service infrastructure\", \"label\": \"rel\", \"title\": \"rel\", \"to\": \"facsimile transmission\"}, {\"arrows\": \"to\", \"from\": \"information systems strategy\", \"label\": \"rel\", \"title\": \"rel\", \"to\": \"IT alignment\"}, {\"arrows\": \"to\", \"from\": \"types of work\", \"label\": \"rel\", \"title\": \"rel\", \"to\": \"remote work\"}, {\"arrows\": \"to\", \"from\": \"anthropogenic hazard\", \"label\": \"rel\", \"title\": \"rel\", \"to\": \"armed conflict\"}, {\"arrows\": \"to\", \"from\": \"psychological theory\", \"label\": \"rel\", \"title\": \"rel\", \"to\": \"cognitive dissonance theory\"}, {\"arrows\": \"to\", \"from\": \"technostress\", \"label\": \"rel\", \"title\": \"rel\", \"to\": \"information overload\"}, {\"arrows\": \"to\", \"from\": \"mobile phone\", \"label\": \"rel\", \"title\": \"rel\", \"to\": \"smartphone\"}, {\"arrows\": \"to\", \"from\": \"information technology infrastructure\", \"label\": \"rel\", \"title\": \"rel\", \"to\": \"operating system\"}, {\"arrows\": \"to\", \"from\": \"digital media\", \"label\": \"rel\", \"title\": \"rel\", \"to\": \"online learning system\"}, {\"arrows\": \"to\", \"from\": \"psychological theory\", \"label\": \"rel\", \"title\": \"rel\", \"to\": \"theory of impression management\"}, {\"arrows\": \"to\", \"from\": \"consultancy sector\", \"label\": \"rel\", \"title\": \"rel\", \"to\": \"IT consultancy\"}, {\"arrows\": \"to\", \"from\": \"IT workforce\", \"label\": \"rel\", \"title\": \"rel\", \"to\": \"IT leadership\"}, {\"arrows\": \"to\", \"from\": \"business evaluation criteria\", \"label\": \"rel\", \"title\": \"rel\", \"to\": \"service quality\"}, {\"arrows\": \"to\", \"from\": \"business process redesign\", \"label\": \"rel\", \"title\": \"rel\", \"to\": \"business process re-engineering\"}, {\"arrows\": \"to\", \"from\": \"systems implementation\", \"label\": \"rel\", \"title\": \"rel\", \"to\": \"enterprise resource planning implementation\"}, {\"arrows\": \"to\", \"from\": \"IT manager\", \"label\": \"rel\", \"title\": \"rel\", \"to\": \"Chief Information Officer\"}, {\"arrows\": \"to\", \"from\": \"information technology infrastructure\", \"label\": \"rel\", \"title\": \"rel\", \"to\": \"information retrieval\"}, {\"arrows\": \"to\", \"from\": \"business process management\", \"label\": \"rel\", \"title\": \"rel\", \"to\": \"business process redesign\"}, {\"arrows\": \"to\", \"from\": \"enabling capability\", \"label\": \"rel\", \"title\": \"rel\", \"to\": \"top management support\"}, {\"arrows\": \"to\", \"from\": \"system support\", \"label\": \"rel\", \"title\": \"rel\", \"to\": \"service desk\"}, {\"arrows\": \"to\", \"from\": \"business process management\", \"label\": \"rel\", \"title\": \"rel\", \"to\": \"business process design\"}, {\"arrows\": \"to\", \"from\": \"business process management\", \"label\": \"rel\", \"title\": \"rel\", \"to\": \"business process ownership\"}, {\"arrows\": \"to\", \"from\": \"business process management\", \"label\": \"rel\", \"title\": \"rel\", \"to\": \"business process change management\"}, {\"arrows\": \"to\", \"from\": \"information systems strategy\", \"label\": \"rel\", \"title\": \"rel\", \"to\": \"IT planning\"}, {\"arrows\": \"to\", \"from\": \"co-located work\", \"label\": \"rel\", \"title\": \"rel\", \"to\": \"co-located $NOUN|ADJ+ teams\"}, {\"arrows\": \"to\", \"from\": \"literature study\", \"label\": \"rel\", \"title\": \"rel\", \"to\": \"structured literature research\"}, {\"arrows\": \"to\", \"from\": \"multiple criteria decision making\", \"label\": \"rel\", \"title\": \"rel\", \"to\": \"analytic hierarchy process\"}, {\"arrows\": \"to\", \"from\": \"agile software development\", \"label\": \"rel\", \"title\": \"rel\", \"to\": \"extreme programming\"}, {\"arrows\": \"to\", \"from\": \"IT project\", \"label\": \"rel\", \"title\": \"rel\", \"to\": \"IT project team\"}, {\"arrows\": \"to\", \"from\": \"case study\", \"label\": \"rel\", \"title\": \"rel\", \"to\": \"multiple case study\"}, {\"arrows\": \"to\", \"from\": \"information systems theory\", \"label\": \"rel\", \"title\": \"rel\", \"to\": \"adaptive structuration theory\"}, {\"arrows\": \"to\", \"from\": \"IS evaluation criteria\", \"label\": \"rel\", \"title\": \"rel\", \"to\": \"IS agility\"}, {\"arrows\": \"to\", \"from\": \"digital business\", \"label\": \"rel\", \"title\": \"rel\", \"to\": \"digital entrepreneurship\"}, {\"arrows\": \"to\", \"from\": \"IS topic\", \"label\": \"rel\", \"title\": \"rel\", \"to\": \"societal context\"}, {\"arrows\": \"to\", \"from\": \"Unix\", \"label\": \"rel\", \"title\": \"rel\", \"to\": \"Linux\"}, {\"arrows\": \"to\", \"from\": \"IS technology\", \"label\": \"rel\", \"title\": \"rel\", \"to\": \"mobile system\"}, {\"arrows\": \"to\", \"from\": \"industry 4.0\", \"label\": \"rel\", \"title\": \"rel\", \"to\": \"3D printing\"}, {\"arrows\": \"to\", \"from\": \"data analysis method\", \"label\": \"rel\", \"title\": \"rel\", \"to\": \"qualitative analysis\"}, {\"arrows\": \"to\", \"from\": \"wireless LAN\", \"label\": \"rel\", \"title\": \"rel\", \"to\": \"Wi-Fi\"}, {\"arrows\": \"to\", \"from\": \"machine learning\", \"label\": \"rel\", \"title\": \"rel\", \"to\": \"machine learning application\"}, {\"arrows\": \"to\", \"from\": \"Android phone\", \"label\": \"rel\", \"title\": \"rel\", \"to\": \"Android\"}, {\"arrows\": \"to\", \"from\": \"IT security\", \"label\": \"rel\", \"title\": \"rel\", \"to\": \"IT risk management\"}, {\"arrows\": \"to\", \"from\": \"digital business\", \"label\": \"rel\", \"title\": \"rel\", \"to\": \"digital service\"}, {\"arrows\": \"to\", \"from\": \"online chat\", \"label\": \"rel\", \"title\": \"rel\", \"to\": \"Slack\"}, {\"arrows\": \"to\", \"from\": \"emergency management\", \"label\": \"rel\", \"title\": \"rel\", \"to\": \"natural hazard\"}, {\"arrows\": \"to\", \"from\": \"electronic payment\", \"label\": \"rel\", \"title\": \"rel\", \"to\": \"mobile payment\"}, {\"arrows\": \"to\", \"from\": \"social psychology theory\", \"label\": \"rel\", \"title\": \"rel\", \"to\": \"social network theory\"}, {\"arrows\": \"to\", \"from\": \"digital economy\", \"label\": \"rel\", \"title\": \"rel\", \"to\": \"digital divide\"}, {\"arrows\": \"to\", \"from\": \"sociological theory\", \"label\": \"rel\", \"title\": \"rel\", \"to\": \"socio technical theory\"}, {\"arrows\": \"to\", \"from\": \"model link\", \"label\": \"rel\", \"title\": \"rel\", \"to\": \"theoretical link\"}, {\"arrows\": \"to\", \"from\": \"IS topic\", \"label\": \"rel\", \"title\": \"rel\", \"to\": \"IS education\"}, {\"arrows\": \"to\", \"from\": \"digital business\", \"label\": \"rel\", \"title\": \"rel\", \"to\": \"digital transformation\"}, {\"arrows\": \"to\", \"from\": \"hospitality industry\", \"label\": \"rel\", \"title\": \"rel\", \"to\": \"restaurant industry\"}, {\"arrows\": \"to\", \"from\": \"research paradigm\", \"label\": \"rel\", \"title\": \"rel\", \"to\": \"critical theory\"}, {\"arrows\": \"to\", \"from\": \"IS impact\", \"label\": \"rel\", \"title\": \"rel\", \"to\": \"IS problem\"}, {\"arrows\": \"to\", \"from\": \"political theory\", \"label\": \"rel\", \"title\": \"rel\", \"to\": \"spiral of silence theory\"}, {\"arrows\": \"to\", \"from\": \"pulp and paper industry\", \"label\": \"rel\", \"title\": \"rel\", \"to\": \"printing industry\"}, {\"arrows\": \"to\", \"from\": \"IT workforce\", \"label\": \"rel\", \"title\": \"rel\", \"to\": \"job satisfaction\"}, {\"arrows\": \"to\", \"from\": \"IT supported collaboration\", \"label\": \"rel\", \"title\": \"rel\", \"to\": \"meeting support system\"}, {\"arrows\": \"to\", \"from\": \"IS topic\", \"label\": \"rel\", \"title\": \"rel\", \"to\": \"digital economy\"}, {\"arrows\": \"to\", \"from\": \"economic sector\", \"label\": \"rel\", \"title\": \"rel\", \"to\": \"energy industry\"}, {\"arrows\": \"to\", \"from\": \"research paradigm\", \"label\": \"rel\", \"title\": \"rel\", \"to\": \"anti positivism\"}, {\"arrows\": \"to\", \"from\": \"mathematical theory\", \"label\": \"rel\", \"title\": \"rel\", \"to\": \"general systems theory\"}, {\"arrows\": \"to\", \"from\": \"feminism theory\", \"label\": \"rel\", \"title\": \"rel\", \"to\": \"cyberfeminism\"}, {\"arrows\": \"to\", \"from\": \"IS success\", \"label\": \"rel\", \"title\": \"rel\", \"to\": \"organizational success\"}, {\"arrows\": \"to\", \"from\": \"enterprise resource planning\", \"label\": \"rel\", \"title\": \"rel\", \"to\": \"ERP software package\"}, {\"arrows\": \"to\", \"from\": \"ERP software package\", \"label\": \"rel\", \"title\": \"rel\", \"to\": \"Baan\"}, {\"arrows\": \"to\", \"from\": \"ERP software package\", \"label\": \"rel\", \"title\": \"rel\", \"to\": \"PeopleSoft\"}, {\"arrows\": \"to\", \"from\": \"software protection\", \"label\": \"rel\", \"title\": \"rel\", \"to\": \"software license\"}, {\"arrows\": \"to\", \"from\": \"enterprise information system\", \"label\": \"rel\", \"title\": \"rel\", \"to\": \"operational information system\"}, {\"arrows\": \"to\", \"from\": \"data quality\", \"label\": \"rel\", \"title\": \"rel\", \"to\": \"data integrity\"}, {\"arrows\": \"to\", \"from\": \"analytical information system\", \"label\": \"rel\", \"title\": \"rel\", \"to\": \"information reporting system\"}, {\"arrows\": \"to\", \"from\": \"systems development\", \"label\": \"rel\", \"title\": \"rel\", \"to\": \"system integration\"}, {\"arrows\": \"to\", \"from\": \"NLP tool\", \"label\": \"rel\", \"title\": \"rel\", \"to\": \"Flair\"}, {\"arrows\": \"to\", \"from\": \"social psychology theory\", \"label\": \"rel\", \"title\": \"rel\", \"to\": \"construal level theory\"}, {\"arrows\": \"to\", \"from\": \"natural hazard\", \"label\": \"rel\", \"title\": \"rel\", \"to\": \"pandemic\"}, {\"arrows\": \"to\", \"from\": \"food trade\", \"label\": \"rel\", \"title\": \"rel\", \"to\": \"food retailing\"}, {\"arrows\": \"to\", \"from\": \"crowdsourcing\", \"label\": \"rel\", \"title\": \"rel\", \"to\": \"crowdfunding\"}, {\"arrows\": \"to\", \"from\": \"experimental design\", \"label\": \"rel\", \"title\": \"rel\", \"to\": \"experimental task\"}, {\"arrows\": \"to\", \"from\": \"variable\", \"label\": \"rel\", \"title\": \"rel\", \"to\": \"moderating variable\"}, {\"arrows\": \"to\", \"from\": \"item scale\", \"label\": \"rel\", \"title\": \"rel\", \"to\": \"Likert scale\"}, {\"arrows\": \"to\", \"from\": \"factor analysis\", \"label\": \"rel\", \"title\": \"rel\", \"to\": \"confirmatory factor analysis\"}, {\"arrows\": \"to\", \"from\": \"construct validity\", \"label\": \"rel\", \"title\": \"rel\", \"to\": \"convergent validity\"}, {\"arrows\": \"to\", \"from\": \"construct validity\", \"label\": \"rel\", \"title\": \"rel\", \"to\": \"discriminant validity\"}, {\"arrows\": \"to\", \"from\": \"statistical significance result\", \"label\": \"rel\", \"title\": \"rel\", \"to\": \"significance level\"}, {\"arrows\": \"to\", \"from\": \"ease of use\", \"label\": \"rel\", \"title\": \"rel\", \"to\": \"user friendliness\"}, {\"arrows\": \"to\", \"from\": \"user interface\", \"label\": \"rel\", \"title\": \"rel\", \"to\": \"voice user interfaces\"}, {\"arrows\": \"to\", \"from\": \"information technology infrastructure\", \"label\": \"rel\", \"title\": \"rel\", \"to\": \"database system\"}, {\"arrows\": \"to\", \"from\": \"database system\", \"label\": \"rel\", \"title\": \"rel\", \"to\": \"database languages\"}, {\"arrows\": \"to\", \"from\": \"operational information system\", \"label\": \"rel\", \"title\": \"rel\", \"to\": \"manufacturing information system\"}, {\"arrows\": \"to\", \"from\": \"general-purpose programming language\", \"label\": \"rel\", \"title\": \"rel\", \"to\": \"LISP\"}, {\"arrows\": \"to\", \"from\": \"NLP application\", \"label\": \"rel\", \"title\": \"rel\", \"to\": \"question answering\"}, {\"arrows\": \"to\", \"from\": \"knowledge representation\", \"label\": \"rel\", \"title\": \"rel\", \"to\": \"semantic data model\"}, {\"arrows\": \"to\", \"from\": \"database modeling\", \"label\": \"rel\", \"title\": \"rel\", \"to\": \"entity relationship modeling\"}, {\"arrows\": \"to\", \"from\": \"systems development\", \"label\": \"rel\", \"title\": \"rel\", \"to\": \"computer aided software engineering\"}, {\"arrows\": \"to\", \"from\": \"quantitative observational study\", \"label\": \"rel\", \"title\": \"rel\", \"to\": \"quasi experiment\"}, {\"arrows\": \"to\", \"from\": \"path analysis\", \"label\": \"rel\", \"title\": \"rel\", \"to\": \"latent variable model\"}, {\"arrows\": \"to\", \"from\": \"variable\", \"label\": \"rel\", \"title\": \"rel\", \"to\": \"confounding variable\"}, {\"arrows\": \"to\", \"from\": \"personality theory\", \"label\": \"rel\", \"title\": \"rel\", \"to\": \"big five model\"}, {\"arrows\": \"to\", \"from\": \"electronic business\", \"label\": \"rel\", \"title\": \"rel\", \"to\": \"social commerce\"}, {\"arrows\": \"to\", \"from\": \"video game\", \"label\": \"rel\", \"title\": \"rel\", \"to\": \"video game console\"}, {\"arrows\": \"to\", \"from\": \"mobile system\", \"label\": \"rel\", \"title\": \"rel\", \"to\": \"tablet\"}, {\"arrows\": \"to\", \"from\": \"mathematical model\", \"label\": \"rel\", \"title\": \"rel\", \"to\": \"econometric model\"}, {\"arrows\": \"to\", \"from\": \"survival function\", \"label\": \"rel\", \"title\": \"rel\", \"to\": \"proportional hazards model\"}, {\"arrows\": \"to\", \"from\": \"empirical quantitative method\", \"label\": \"rel\", \"title\": \"rel\", \"to\": \"quantitative observational study\"}, {\"arrows\": \"to\", \"from\": \"NLP method\", \"label\": \"rel\", \"title\": \"rel\", \"to\": \"latent dirichlet allocation\"}, {\"arrows\": \"to\", \"from\": \"statistical distance\", \"label\": \"rel\", \"title\": \"rel\", \"to\": \"Kullback\\u2013Leibler divergence\"}, {\"arrows\": \"to\", \"from\": \"dimensionality reduction\", \"label\": \"rel\", \"title\": \"rel\", \"to\": \"factor analysis\"}, {\"arrows\": \"to\", \"from\": \"quantitative analysis\", \"label\": \"rel\", \"title\": \"rel\", \"to\": \"survival analysis\"}, {\"arrows\": \"to\", \"from\": \"research hypothesis\", \"label\": \"rel\", \"title\": \"rel\", \"to\": \"null hypothesis\"}, {\"arrows\": \"to\", \"from\": \"quantitative confidence value\", \"label\": \"rel\", \"title\": \"rel\", \"to\": \"confidence interval\"}, {\"arrows\": \"to\", \"from\": \"statistical metric\", \"label\": \"rel\", \"title\": \"rel\", \"to\": \"multicollinearity\"}, {\"arrows\": \"to\", \"from\": \"goodness of fit index\", \"label\": \"rel\", \"title\": \"rel\", \"to\": \"Akaike information criterion\"}, {\"arrows\": \"to\", \"from\": \"goodness of fit index\", \"label\": \"rel\", \"title\": \"rel\", \"to\": \"Bayesian information criterion\"}, {\"arrows\": \"to\", \"from\": \"non-parametric test\", \"label\": \"rel\", \"title\": \"rel\", \"to\": \"Mann Whitney U test\"}, {\"arrows\": \"to\", \"from\": \"trade-off analysis method\", \"label\": \"rel\", \"title\": \"rel\", \"to\": \"conjoint analysis\"}, {\"arrows\": \"to\", \"from\": \"propensity score method\", \"label\": \"rel\", \"title\": \"rel\", \"to\": \"propensity score matching\"}, {\"arrows\": \"to\", \"from\": \"survival function\", \"label\": \"rel\", \"title\": \"rel\", \"to\": \"accelerated failure time model\"}, {\"arrows\": \"to\", \"from\": \"theory\", \"label\": \"rel\", \"title\": \"rel\", \"to\": \"psychological theory\"}, {\"arrows\": \"to\", \"from\": \"digital economy\", \"label\": \"rel\", \"title\": \"rel\", \"to\": \"digital business\"}, {\"arrows\": \"to\", \"from\": \"theory\", \"label\": \"rel\", \"title\": \"rel\", \"to\": \"economic theory\"}, {\"arrows\": \"to\", \"from\": \"behavioral economics\", \"label\": \"rel\", \"title\": \"rel\", \"to\": \"prospect theory\"}, {\"arrows\": \"to\", \"from\": \"causality analysis\", \"label\": \"rel\", \"title\": \"rel\", \"to\": \"difference in differences\"}, {\"arrows\": \"to\", \"from\": \"quantitative analysis\", \"label\": \"rel\", \"title\": \"rel\", \"to\": \"causality analysis\"}, {\"arrows\": \"to\", \"from\": \"research model\", \"label\": \"rel\", \"title\": \"rel\", \"to\": \"causal model\"}, {\"arrows\": \"to\", \"from\": \"causality analysis\", \"label\": \"rel\", \"title\": \"rel\", \"to\": \"propensity score method\"}, {\"arrows\": \"to\", \"from\": \"financial archival database\", \"label\": \"rel\", \"title\": \"rel\", \"to\": \"LexisNexis\"}, {\"arrows\": \"to\", \"from\": \"financial archival database\", \"label\": \"rel\", \"title\": \"rel\", \"to\": \"Capital IQ\"}, {\"arrows\": \"to\", \"from\": \"variable\", \"label\": \"rel\", \"title\": \"rel\", \"to\": \"dummy variable\"}, {\"arrows\": \"to\", \"from\": \"deep learning\", \"label\": \"rel\", \"title\": \"rel\", \"to\": \"recurrent neural network\"}, {\"arrows\": \"to\", \"from\": \"task characteristic\", \"label\": \"rel\", \"title\": \"rel\", \"to\": \"task complexity\"}, {\"arrows\": \"to\", \"from\": \"IS problem\", \"label\": \"rel\", \"title\": \"rel\", \"to\": \"IS failure\"}, {\"arrows\": \"to\", \"from\": \"sociological theory\", \"label\": \"rel\", \"title\": \"rel\", \"to\": \"activity theory\"}, {\"arrows\": \"to\", \"from\": \"reliability coefficient\", \"label\": \"rel\", \"title\": \"rel\", \"to\": \"inter-rater reliability\"}, {\"arrows\": \"to\", \"from\": \"task complexity\", \"label\": \"rel\", \"title\": \"rel\", \"to\": \"task interdependence\"}, {\"arrows\": \"to\", \"from\": \"film industry\", \"label\": \"rel\", \"title\": \"rel\", \"to\": \"film production\"}, {\"arrows\": \"to\", \"from\": \"IS technology\", \"label\": \"rel\", \"title\": \"rel\", \"to\": \"digital media\"}, {\"arrows\": \"to\", \"from\": \"survey design\", \"label\": \"rel\", \"title\": \"rel\", \"to\": \"item scale\"}, {\"arrows\": \"to\", \"from\": \"general-purpose programming language\", \"label\": \"rel\", \"title\": \"rel\", \"to\": \"Python\"}, {\"arrows\": \"to\", \"from\": \"analytical information system\", \"label\": \"rel\", \"title\": \"rel\", \"to\": \"competitive intelligence\"}, {\"arrows\": \"to\", \"from\": \"music industry\", \"label\": \"rel\", \"title\": \"rel\", \"to\": \"music production\"}, {\"arrows\": \"to\", \"from\": \"model\", \"label\": \"rel\", \"title\": \"rel\", \"to\": \"nomological network\"}, {\"arrows\": \"to\", \"from\": \"media industry\", \"label\": \"rel\", \"title\": \"rel\", \"to\": \"publishing industry\"}, {\"arrows\": \"to\", \"from\": \"machinery industry and plant construction\", \"label\": \"rel\", \"title\": \"rel\", \"to\": \"mechanical engineering\"}, {\"arrows\": \"to\", \"from\": \"tablet\", \"label\": \"rel\", \"title\": \"rel\", \"to\": \"iPad\"}, {\"arrows\": \"to\", \"from\": \"literature database\", \"label\": \"rel\", \"title\": \"rel\", \"to\": \"Web of Science\"}, {\"arrows\": \"to\", \"from\": \"productivity\", \"label\": \"rel\", \"title\": \"rel\", \"to\": \"team productivity\"}, {\"arrows\": \"to\", \"from\": \"IS impact\", \"label\": \"rel\", \"title\": \"rel\", \"to\": \"team impact\"}, {\"arrows\": \"to\", \"from\": \"communication theory\", \"label\": \"rel\", \"title\": \"rel\", \"to\": \"media synchronicity theory\"}, {\"arrows\": \"to\", \"from\": \"system testing\", \"label\": \"rel\", \"title\": \"rel\", \"to\": \"debugging\"}, {\"arrows\": \"to\", \"from\": \"psychological theory\", \"label\": \"rel\", \"title\": \"rel\", \"to\": \"affordance theory\"}, {\"arrows\": \"to\", \"from\": \"ethnography\", \"label\": \"rel\", \"title\": \"rel\", \"to\": \"diary study\"}, {\"arrows\": \"to\", \"from\": \"optical storage device\", \"label\": \"rel\", \"title\": \"rel\", \"to\": \"CD-ROM\"}, {\"arrows\": \"to\", \"from\": \"variable\", \"label\": \"rel\", \"title\": \"rel\", \"to\": \"mediating variable\"}, {\"arrows\": \"to\", \"from\": \"retail trade\", \"label\": \"rel\", \"title\": \"rel\", \"to\": \"retail outlet\"}, {\"arrows\": \"to\", \"from\": \"literature study\", \"label\": \"rel\", \"title\": \"rel\", \"to\": \"meta analysis\"}, {\"arrows\": \"to\", \"from\": \"general-purpose programming language\", \"label\": \"rel\", \"title\": \"rel\", \"to\": \"JavaScript\"}, {\"arrows\": \"to\", \"from\": \"structural equation modeling\", \"label\": \"rel\", \"title\": \"rel\", \"to\": \"SEM tool\"}, {\"arrows\": \"to\", \"from\": \"model part\", \"label\": \"rel\", \"title\": \"rel\", \"to\": \"measurement model\"}, {\"arrows\": \"to\", \"from\": \"statistical metric\", \"label\": \"rel\", \"title\": \"rel\", \"to\": \"goodness of fit index\"}, {\"arrows\": \"to\", \"from\": \"goodness of fit index\", \"label\": \"rel\", \"title\": \"rel\", \"to\": \"adjusted goodness of fit index\"}, {\"arrows\": \"to\", \"from\": \"goodness of fit index\", \"label\": \"rel\", \"title\": \"rel\", \"to\": \"comparative fit index\"}, {\"arrows\": \"to\", \"from\": \"goodness of fit index\", \"label\": \"rel\", \"title\": \"rel\", \"to\": \"root mean square error of approximation\"}, {\"arrows\": \"to\", \"from\": \"quantitative analysis\", \"label\": \"rel\", \"title\": \"rel\", \"to\": \"analysis of covariance\"}, {\"arrows\": \"to\", \"from\": \"regression analysis method\", \"label\": \"rel\", \"title\": \"rel\", \"to\": \"multiple regression\"}, {\"arrows\": \"to\", \"from\": \"test validity\", \"label\": \"rel\", \"title\": \"rel\", \"to\": \"face validity\"}, {\"arrows\": \"to\", \"from\": \"social psychology theory\", \"label\": \"rel\", \"title\": \"rel\", \"to\": \"elaboration likelihood model\"}, {\"arrows\": \"to\", \"from\": \"quantitative analysis\", \"label\": \"rel\", \"title\": \"rel\", \"to\": \"path analysis\"}, {\"arrows\": \"to\", \"from\": \"operational information system\", \"label\": \"rel\", \"title\": \"rel\", \"to\": \"marketing information system\"}, {\"arrows\": \"to\", \"from\": \"statistical metric\", \"label\": \"rel\", \"title\": \"rel\", \"to\": \"factor loading\"}, {\"arrows\": \"to\", \"from\": \"IT investment\", \"label\": \"rel\", \"title\": \"rel\", \"to\": \"asset specificity\"}, {\"arrows\": \"to\", \"from\": \"biometric measurement\", \"label\": \"rel\", \"title\": \"rel\", \"to\": \"computed tomography\"}, {\"arrows\": \"to\", \"from\": \"human\\u2013computer interaction\", \"label\": \"rel\", \"title\": \"rel\", \"to\": \"ergonomics\"}, {\"arrows\": \"to\", \"from\": \"enabling capability\", \"label\": \"rel\", \"title\": \"rel\", \"to\": \"critical success factor\"}, {\"arrows\": \"to\", \"from\": \"qualitative interview\", \"label\": \"rel\", \"title\": \"rel\", \"to\": \"group interview\"}, {\"arrows\": \"to\", \"from\": \"task complexity\", \"label\": \"rel\", \"title\": \"rel\", \"to\": \"task structure\"}, {\"arrows\": \"to\", \"from\": \"research paradigm\", \"label\": \"rel\", \"title\": \"rel\", \"to\": \"pragmatism\"}, {\"arrows\": \"to\", \"from\": \"experimental design\", \"label\": \"rel\", \"title\": \"rel\", \"to\": \"within subject experiment\"}, {\"arrows\": \"to\", \"from\": \"IS evaluation criteria\", \"label\": \"rel\", \"title\": \"rel\", \"to\": \"system reliability\"}, {\"arrows\": \"to\", \"from\": \"goodness of fit index\", \"label\": \"rel\", \"title\": \"rel\", \"to\": \"root mean square error\"}, {\"arrows\": \"to\", \"from\": \"social media site\", \"label\": \"rel\", \"title\": \"rel\", \"to\": \"YouTube\"}, {\"arrows\": \"to\", \"from\": \"test score reliability coefficient\", \"label\": \"rel\", \"title\": \"rel\", \"to\": \"test-retest reliability\"}, {\"arrows\": \"to\", \"from\": \"effect size\", \"label\": \"rel\", \"title\": \"rel\", \"to\": \"Cohen\\u0027s d\"}, {\"arrows\": \"to\", \"from\": \"between group comparison statistical test\", \"label\": \"rel\", \"title\": \"rel\", \"to\": \"post-hoc analysis\"}, {\"arrows\": \"to\", \"from\": \"descriptive statistic score\", \"label\": \"rel\", \"title\": \"rel\", \"to\": \"statistical correlation\"}, {\"arrows\": \"to\", \"from\": \"regression analysis method\", \"label\": \"rel\", \"title\": \"rel\", \"to\": \"linear regression analysis\"}, {\"arrows\": \"to\", \"from\": \"linear regression analysis\", \"label\": \"rel\", \"title\": \"rel\", \"to\": \"simple linear regression\"}, {\"arrows\": \"to\", \"from\": \"economic theory\", \"label\": \"rel\", \"title\": \"rel\", \"to\": \"decision theory\"}, {\"arrows\": \"to\", \"from\": \"video streaming provider\", \"label\": \"rel\", \"title\": \"rel\", \"to\": \"Hulu\"}, {\"arrows\": \"to\", \"from\": \"psychological theory\", \"label\": \"rel\", \"title\": \"rel\", \"to\": \"behavioral theory\"}, {\"arrows\": \"to\", \"from\": \"streaming service\", \"label\": \"rel\", \"title\": \"rel\", \"to\": \"music streaming service\"}, {\"arrows\": \"to\", \"from\": \"intellectual property\", \"label\": \"rel\", \"title\": \"rel\", \"to\": \"digital piracy\"}, {\"arrows\": \"to\", \"from\": \"ANOVA\", \"label\": \"rel\", \"title\": \"rel\", \"to\": \"repeated measures ANOVA\"}, {\"arrows\": \"to\", \"from\": \"non-parametric test\", \"label\": \"rel\", \"title\": \"rel\", \"to\": \"Wilcoxon signed-rank test\"}, {\"arrows\": \"to\", \"from\": \"linear regression estimation method\", \"label\": \"rel\", \"title\": \"rel\", \"to\": \"generalized least square\"}, {\"arrows\": \"to\", \"from\": \"variable\", \"label\": \"rel\", \"title\": \"rel\", \"to\": \"latent variable\"}, {\"arrows\": \"to\", \"from\": \"quantitative analysis tool\", \"label\": \"rel\", \"title\": \"rel\", \"to\": \"Stata\"}, {\"arrows\": \"to\", \"from\": \"music streaming provider\", \"label\": \"rel\", \"title\": \"rel\", \"to\": \"Pandora\"}, {\"arrows\": \"to\", \"from\": \"music streaming provider\", \"label\": \"rel\", \"title\": \"rel\", \"to\": \"Spotify\"}, {\"arrows\": \"to\", \"from\": \"intellectual property\", \"label\": \"rel\", \"title\": \"rel\", \"to\": \"digital rights management\"}, {\"arrows\": \"to\", \"from\": \"optical storage device\", \"label\": \"rel\", \"title\": \"rel\", \"to\": \"DVD\"}, {\"arrows\": \"to\", \"from\": \"quantitative analysis\", \"label\": \"rel\", \"title\": \"rel\", \"to\": \"statistical power analysis\"}, {\"arrows\": \"to\", \"from\": \"cultural sector\", \"label\": \"rel\", \"title\": \"rel\", \"to\": \"music industry\"}, {\"arrows\": \"to\", \"from\": \"time series analysis\", \"label\": \"rel\", \"title\": \"rel\", \"to\": \"vector autoregression\"}, {\"arrows\": \"to\", \"from\": \"economic theory\", \"label\": \"rel\", \"title\": \"rel\", \"to\": \"macroeconomic theory\"}, {\"arrows\": \"to\", \"from\": \"expert system\", \"label\": \"rel\", \"title\": \"rel\", \"to\": \"knowledge base\"}, {\"arrows\": \"to\", \"from\": \"smartphone\", \"label\": \"rel\", \"title\": \"rel\", \"to\": \"Apple iPhone\"}, {\"arrows\": \"to\", \"from\": \"hand held computer\", \"label\": \"rel\", \"title\": \"rel\", \"to\": \"personal digital assistant\"}, {\"arrows\": \"to\", \"from\": \"non volatile memory\", \"label\": \"rel\", \"title\": \"rel\", \"to\": \"hard disk drive\"}, {\"arrows\": \"to\", \"from\": \"time series analysis\", \"label\": \"rel\", \"title\": \"rel\", \"to\": \"autoregressive model\"}, {\"arrows\": \"to\", \"from\": \"point estimation performance score\", \"label\": \"rel\", \"title\": \"rel\", \"to\": \"mean squared error\"}, {\"arrows\": \"to\", \"from\": \"causality analysis\", \"label\": \"rel\", \"title\": \"rel\", \"to\": \"Granger causality\"}, {\"arrows\": \"to\", \"from\": \"time series analysis\", \"label\": \"rel\", \"title\": \"rel\", \"to\": \"autocorrelation analysis\"}, {\"arrows\": \"to\", \"from\": \"time series analysis\", \"label\": \"rel\", \"title\": \"rel\", \"to\": \"autoregressive conditional heteroscedasticity model\"}, {\"arrows\": \"to\", \"from\": \"sequential analysis\", \"label\": \"rel\", \"title\": \"rel\", \"to\": \"cumulative sum control chart\"}, {\"arrows\": \"to\", \"from\": \"statistical hypothesis test\", \"label\": \"rel\", \"title\": \"rel\", \"to\": \"Wald test\"}, {\"arrows\": \"to\", \"from\": \"digital entertainment\", \"label\": \"rel\", \"title\": \"rel\", \"to\": \"video game\"}, {\"arrows\": \"to\", \"from\": \"time series analysis\", \"label\": \"rel\", \"title\": \"rel\", \"to\": \"autoregressive moving average model\"}, {\"arrows\": \"to\", \"from\": \"point estimation performance score\", \"label\": \"rel\", \"title\": \"rel\", \"to\": \"mean absolute error\"}, {\"arrows\": \"to\", \"from\": \"anthropogenic hazard\", \"label\": \"rel\", \"title\": \"rel\", \"to\": \"terrorist incident\"}, {\"arrows\": \"to\", \"from\": \"economic theory\", \"label\": \"rel\", \"title\": \"rel\", \"to\": \"auction theory\"}, {\"arrows\": \"to\", \"from\": \"operational information system\", \"label\": \"rel\", \"title\": \"rel\", \"to\": \"procurement information system\"}, {\"arrows\": \"to\", \"from\": \"artificial intelligence\", \"label\": \"rel\", \"title\": \"rel\", \"to\": \"software agent\"}, {\"arrows\": \"to\", \"from\": \"simulation\", \"label\": \"rel\", \"title\": \"rel\", \"to\": \"discrete event simulation\"}, {\"arrows\": \"to\", \"from\": \"economic sector\", \"label\": \"rel\", \"title\": \"rel\", \"to\": \"tourism industry\"}, {\"arrows\": \"to\", \"from\": \"IT security threat\", \"label\": \"rel\", \"title\": \"rel\", \"to\": \"data breach\"}, {\"arrows\": \"to\", \"from\": \"NLP application\", \"label\": \"rel\", \"title\": \"rel\", \"to\": \"information extraction\"}, {\"arrows\": \"to\", \"from\": \"trade sector\", \"label\": \"rel\", \"title\": \"rel\", \"to\": \"wholesale trade\"}, {\"arrows\": \"to\", \"from\": \"postal and courier service\", \"label\": \"rel\", \"title\": \"rel\", \"to\": \"universal service\"}, {\"arrows\": \"to\", \"from\": \"optimization model\", \"label\": \"rel\", \"title\": \"rel\", \"to\": \"linear optimization\"}, {\"arrows\": \"to\", \"from\": \"database modeling\", \"label\": \"rel\", \"title\": \"rel\", \"to\": \"multidimensional modeling\"}, {\"arrows\": \"to\", \"from\": \"analytical information system\", \"label\": \"rel\", \"title\": \"rel\", \"to\": \"online analytical processing\"}, {\"arrows\": \"to\", \"from\": \"film industry\", \"label\": \"rel\", \"title\": \"rel\", \"to\": \"movie theatre\"}, {\"arrows\": \"to\", \"from\": \"fifth-generation programming language\", \"label\": \"rel\", \"title\": \"rel\", \"to\": \"declarative language\"}, {\"arrows\": \"to\", \"from\": \"biometric measurement\", \"label\": \"rel\", \"title\": \"rel\", \"to\": \"oculometry\"}, {\"arrows\": \"to\", \"from\": \"causality analysis\", \"label\": \"rel\", \"title\": \"rel\", \"to\": \"instrumental variables estimation\"}, {\"arrows\": \"to\", \"from\": \"food industry\", \"label\": \"rel\", \"title\": \"rel\", \"to\": \"food market\"}, {\"arrows\": \"to\", \"from\": \"Monte Carlo simulation\", \"label\": \"rel\", \"title\": \"rel\", \"to\": \"Markov chain Monte Carlo\"}, {\"arrows\": \"to\", \"from\": \"latent variable model\", \"label\": \"rel\", \"title\": \"rel\", \"to\": \"structural equation modeling\"}, {\"arrows\": \"to\", \"from\": \"social network analysis\", \"label\": \"rel\", \"title\": \"rel\", \"to\": \"sociometry\"}, {\"arrows\": \"to\", \"from\": \"economic sector\", \"label\": \"rel\", \"title\": \"rel\", \"to\": \"bourses and securities trading\"}, {\"arrows\": \"to\", \"from\": \"general-purpose programming language\", \"label\": \"rel\", \"title\": \"rel\", \"to\": \"Perl\"}, {\"arrows\": \"to\", \"from\": \"legal context\", \"label\": \"rel\", \"title\": \"rel\", \"to\": \"accounting standard\"}, {\"arrows\": \"to\", \"from\": \"multicollinearity\", \"label\": \"rel\", \"title\": \"rel\", \"to\": \"variance inflation factor\"}, {\"arrows\": \"to\", \"from\": \"probabilistic sampling\", \"label\": \"rel\", \"title\": \"rel\", \"to\": \"bootstrap sampling\"}, {\"arrows\": \"to\", \"from\": \"financial sector\", \"label\": \"rel\", \"title\": \"rel\", \"to\": \"investment fund\"}, {\"arrows\": \"to\", \"from\": \"sampling\", \"label\": \"rel\", \"title\": \"rel\", \"to\": \"probabilistic sampling\"}, {\"arrows\": \"to\", \"from\": \"telecommunications industry\", \"label\": \"rel\", \"title\": \"rel\", \"to\": \"internet service provider\"}, {\"arrows\": \"to\", \"from\": \"anthropogenic hazard\", \"label\": \"rel\", \"title\": \"rel\", \"to\": \"criminality\"}, {\"arrows\": \"to\", \"from\": \"financial services information system\", \"label\": \"rel\", \"title\": \"rel\", \"to\": \"electronic finance\"}, {\"arrows\": \"to\", \"from\": \"computer system\", \"label\": \"rel\", \"title\": \"rel\", \"to\": \"home computer\"}, {\"arrows\": \"to\", \"from\": \"correlation direction\", \"label\": \"rel\", \"title\": \"rel\", \"to\": \"positive correlation\"}, {\"arrows\": \"to\", \"from\": \"retail trade\", \"label\": \"rel\", \"title\": \"rel\", \"to\": \"shopping center\"}, {\"arrows\": \"to\", \"from\": \"meso level\", \"label\": \"rel\", \"title\": \"rel\", \"to\": \"community level\"}, {\"arrows\": \"to\", \"from\": \"regression analysis method\", \"label\": \"rel\", \"title\": \"rel\", \"to\": \"probit regression\"}, {\"arrows\": \"to\", \"from\": \"machine learning application\", \"label\": \"rel\", \"title\": \"rel\", \"to\": \"image processing\"}, {\"arrows\": \"to\", \"from\": \"effect size\", \"label\": \"rel\", \"title\": \"rel\", \"to\": \"average treatment effect\"}, {\"arrows\": \"to\", \"from\": \"macro level\", \"label\": \"rel\", \"title\": \"rel\", \"to\": \"societal level\"}, {\"arrows\": \"to\", \"from\": \"quantitative observational study\", \"label\": \"rel\", \"title\": \"rel\", \"to\": \"self quantification\"}, {\"arrows\": \"to\", \"from\": \"mobile system\", \"label\": \"rel\", \"title\": \"rel\", \"to\": \"mobile platform\"}, {\"arrows\": \"to\", \"from\": \"research paradigm\", \"label\": \"rel\", \"title\": \"rel\", \"to\": \"critical rationalism\"}, {\"arrows\": \"to\", \"from\": \"theory\", \"label\": \"rel\", \"title\": \"rel\", \"to\": \"social sciences theory\"}, {\"arrows\": \"to\", \"from\": \"environmental sustainability\", \"label\": \"rel\", \"title\": \"rel\", \"to\": \"climate change\"}, {\"arrows\": \"to\", \"from\": \"technology adoption\", \"label\": \"rel\", \"title\": \"rel\", \"to\": \"user resistance\"}, {\"arrows\": \"to\", \"from\": \"social psychology theory\", \"label\": \"rel\", \"title\": \"rel\", \"to\": \"social contagion theory\"}, {\"arrows\": \"to\", \"from\": \"healthcare data\", \"label\": \"rel\", \"title\": \"rel\", \"to\": \"personal health record\"}, {\"arrows\": \"to\", \"from\": \"economic theory\", \"label\": \"rel\", \"title\": \"rel\", \"to\": \"game theory\"}, {\"arrows\": \"to\", \"from\": \"mathematical theory\", \"label\": \"rel\", \"title\": \"rel\", \"to\": \"graph theory\"}, {\"arrows\": \"to\", \"from\": \"data collection method\", \"label\": \"rel\", \"title\": \"rel\", \"to\": \"mixed method\"}, {\"arrows\": \"to\", \"from\": \"data collection method\", \"label\": \"rel\", \"title\": \"rel\", \"to\": \"empirical quantitative method\"}, {\"arrows\": \"to\", \"from\": \"online chat\", \"label\": \"rel\", \"title\": \"rel\", \"to\": \"chat room\"}, {\"arrows\": \"to\", \"from\": \"online game\", \"label\": \"rel\", \"title\": \"rel\", \"to\": \"massively multiplayer online game\"}, {\"arrows\": \"to\", \"from\": \"management theory\", \"label\": \"rel\", \"title\": \"rel\", \"to\": \"organizational theory\"}, {\"arrows\": \"to\", \"from\": \"information systems theory\", \"label\": \"rel\", \"title\": \"rel\", \"to\": \"technology acceptance theory\"}, {\"arrows\": \"to\", \"from\": \"survey design\", \"label\": \"rel\", \"title\": \"rel\", \"to\": \"psychometrics\"}, {\"arrows\": \"to\", \"from\": \"regression analysis method\", \"label\": \"rel\", \"title\": \"rel\", \"to\": \"partial least squares regression\"}, {\"arrows\": \"to\", \"from\": \"social cognitive theory\", \"label\": \"rel\", \"title\": \"rel\", \"to\": \"self efficacy theory\"}, {\"arrows\": \"to\", \"from\": \"attribution theory\", \"label\": \"rel\", \"title\": \"rel\", \"to\": \"self perception theory\"}, {\"arrows\": \"to\", \"from\": \"effect size\", \"label\": \"rel\", \"title\": \"rel\", \"to\": \"path coefficient\"}, {\"arrows\": \"to\", \"from\": \"validity\", \"label\": \"rel\", \"title\": \"rel\", \"to\": \"common-method variance\"}, {\"arrows\": \"to\", \"from\": \"IT supported collaboration\", \"label\": \"rel\", \"title\": \"rel\", \"to\": \"virtual world\"}, {\"arrows\": \"to\", \"from\": \"statistical metric\", \"label\": \"rel\", \"title\": \"rel\", \"to\": \"reliability coefficient\"}, {\"arrows\": \"to\", \"from\": \"IT service management\", \"label\": \"rel\", \"title\": \"rel\", \"to\": \"information technology operation\"}, {\"arrows\": \"to\", \"from\": \"user acceptance\", \"label\": \"rel\", \"title\": \"rel\", \"to\": \"user satisfaction\"}, {\"arrows\": \"to\", \"from\": \"computer system\", \"label\": \"rel\", \"title\": \"rel\", \"to\": \"mainframe\"}, {\"arrows\": \"to\", \"from\": \"high level language\", \"label\": \"rel\", \"title\": \"rel\", \"to\": \"object oriented programming language\"}, {\"arrows\": \"to\", \"from\": \"supply chain management system\", \"label\": \"rel\", \"title\": \"rel\", \"to\": \"inventory management system\"}, {\"arrows\": \"to\", \"from\": \"user requirement\", \"label\": \"rel\", \"title\": \"rel\", \"to\": \"user expectation\"}, {\"arrows\": \"to\", \"from\": \"theory\", \"label\": \"rel\", \"title\": \"rel\", \"to\": \"biological theory\"}, {\"arrows\": \"to\", \"from\": \"internet of things\", \"label\": \"rel\", \"title\": \"rel\", \"to\": \"radio frequency identification\"}, {\"arrows\": \"to\", \"from\": \"organizational theory\", \"label\": \"rel\", \"title\": \"rel\", \"to\": \"theory of change\"}, {\"arrows\": \"to\", \"from\": \"information systems theory\", \"label\": \"rel\", \"title\": \"rel\", \"to\": \"work systems theory\"}, {\"arrows\": \"to\", \"from\": \"criterion validity\", \"label\": \"rel\", \"title\": \"rel\", \"to\": \"predictive validity\"}, {\"arrows\": \"to\", \"from\": \"textile and clothing industry\", \"label\": \"rel\", \"title\": \"rel\", \"to\": \"footwear industry\"}, {\"arrows\": \"to\", \"from\": \"test validity\", \"label\": \"rel\", \"title\": \"rel\", \"to\": \"content validity\"}, {\"arrows\": \"to\", \"from\": \"goodness of fit index\", \"label\": \"rel\", \"title\": \"rel\", \"to\": \"root mean square residual\"}, {\"arrows\": \"to\", \"from\": \"social psychology theory\", \"label\": \"rel\", \"title\": \"rel\", \"to\": \"social learning theory\"}, {\"arrows\": \"to\", \"from\": \"operating system\", \"label\": \"rel\", \"title\": \"rel\", \"to\": \"PC DOS\"}, {\"arrows\": \"to\", \"from\": \"user interface\", \"label\": \"rel\", \"title\": \"rel\", \"to\": \"command line interface\"}, {\"arrows\": \"to\", \"from\": \"IS success\", \"label\": \"rel\", \"title\": \"rel\", \"to\": \"IS satisfaction\"}, {\"arrows\": \"to\", \"from\": \"business evaluation criteria\", \"label\": \"rel\", \"title\": \"rel\", \"to\": \"resistance to change\"}, {\"arrows\": \"to\", \"from\": \"accounting information system\", \"label\": \"rel\", \"title\": \"rel\", \"to\": \"financial information system\"}, {\"arrows\": \"to\", \"from\": \"business service sector\", \"label\": \"rel\", \"title\": \"rel\", \"to\": \"consultancy sector\"}, {\"arrows\": \"to\", \"from\": \"systems development\", \"label\": \"rel\", \"title\": \"rel\", \"to\": \"systems development effort\"}, {\"arrows\": \"to\", \"from\": \"modeling language\", \"label\": \"rel\", \"title\": \"rel\", \"to\": \"data-flow diagram\"}, {\"arrows\": \"to\", \"from\": \"inter-rater reliability\", \"label\": \"rel\", \"title\": \"rel\", \"to\": \"Cohen\\u0027s kappa coefficient\"}, {\"arrows\": \"to\", \"from\": \"ANOVA\", \"label\": \"rel\", \"title\": \"rel\", \"to\": \"two-way ANOVA\"}, {\"arrows\": \"to\", \"from\": \"organizational context\", \"label\": \"rel\", \"title\": \"rel\", \"to\": \"task characteristic\"}, {\"arrows\": \"to\", \"from\": \"statistical metric\", \"label\": \"rel\", \"title\": \"rel\", \"to\": \"sum of squares\"}, {\"arrows\": \"to\", \"from\": \"location based service\", \"label\": \"rel\", \"title\": \"rel\", \"to\": \"global navigation satellite system\"}, {\"arrows\": \"to\", \"from\": \"management theory\", \"label\": \"rel\", \"title\": \"rel\", \"to\": \"contingency theory\"}, {\"arrows\": \"to\", \"from\": \"Apple iPhone\", \"label\": \"rel\", \"title\": \"rel\", \"to\": \"iOS\"}, {\"arrows\": \"to\", \"from\": \"business evaluation criteria\", \"label\": \"rel\", \"title\": \"rel\", \"to\": \"real option\"}, {\"arrows\": \"to\", \"from\": \"operating system\", \"label\": \"rel\", \"title\": \"rel\", \"to\": \"Unix\"}, {\"arrows\": \"to\", \"from\": \"financial services information system\", \"label\": \"rel\", \"title\": \"rel\", \"to\": \"banking sytem\"}, {\"arrows\": \"to\", \"from\": \"usability testing\", \"label\": \"rel\", \"title\": \"rel\", \"to\": \"cognitive walkthrough\"}, {\"arrows\": \"to\", \"from\": \"IS evaluation\", \"label\": \"rel\", \"title\": \"rel\", \"to\": \"IS evaluation method\"}, {\"arrows\": \"to\", \"from\": \"IS impact\", \"label\": \"rel\", \"title\": \"rel\", \"to\": \"IS value\"}, {\"arrows\": \"to\", \"from\": \"electronic finance\", \"label\": \"rel\", \"title\": \"rel\", \"to\": \"electronic payment\"}, {\"arrows\": \"to\", \"from\": \"biometric measurement\", \"label\": \"rel\", \"title\": \"rel\", \"to\": \"neurophysiology\"}, {\"arrows\": \"to\", \"from\": \"social media\", \"label\": \"rel\", \"title\": \"rel\", \"to\": \"social media site\"}, {\"arrows\": \"to\", \"from\": \"IT centralization-decentralization\", \"label\": \"rel\", \"title\": \"rel\", \"to\": \"IT decentralization\"}, {\"arrows\": \"to\", \"from\": \"experimental validity\", \"label\": \"rel\", \"title\": \"rel\", \"to\": \"internal validity\"}, {\"arrows\": \"to\", \"from\": \"mobile system\", \"label\": \"rel\", \"title\": \"rel\", \"to\": \"location based service\"}, {\"arrows\": \"to\", \"from\": \"sociological theory\", \"label\": \"rel\", \"title\": \"rel\", \"to\": \"social capital theory\"}, {\"arrows\": \"to\", \"from\": \"economic theory\", \"label\": \"rel\", \"title\": \"rel\", \"to\": \"real options theory\"}, {\"arrows\": \"to\", \"from\": \"enterprise application integration\", \"label\": \"rel\", \"title\": \"rel\", \"to\": \"service oriented architecture\"}, {\"arrows\": \"to\", \"from\": \"literature database\", \"label\": \"rel\", \"title\": \"rel\", \"to\": \"Web of Science Core Collection\"}, {\"arrows\": \"to\", \"from\": \"company type\", \"label\": \"rel\", \"title\": \"rel\", \"to\": \"startup\"}, {\"arrows\": \"to\", \"from\": \"economic theory\", \"label\": \"rel\", \"title\": \"rel\", \"to\": \"signaling theory\"}, {\"arrows\": \"to\", \"from\": \"probabilistic sampling\", \"label\": \"rel\", \"title\": \"rel\", \"to\": \"stratified sampling\"}, {\"arrows\": \"to\", \"from\": \"linear regression estimation method\", \"label\": \"rel\", \"title\": \"rel\", \"to\": \"weighted least square\"}, {\"arrows\": \"to\", \"from\": \"statistical correlation\", \"label\": \"rel\", \"title\": \"rel\", \"to\": \"partial correlation\"}, {\"arrows\": \"to\", \"from\": \"specification error test\", \"label\": \"rel\", \"title\": \"rel\", \"to\": \"Ramsey RESET test\"}, {\"arrows\": \"to\", \"from\": \"ERP software package\", \"label\": \"rel\", \"title\": \"rel\", \"to\": \"Microsoft Dynamics\"}, {\"arrows\": \"to\", \"from\": \"psychological theory\", \"label\": \"rel\", \"title\": \"rel\", \"to\": \"attribution theory\"}, {\"arrows\": \"to\", \"from\": \"intellectual property\", \"label\": \"rel\", \"title\": \"rel\", \"to\": \"open access\"}, {\"arrows\": \"to\", \"from\": \"operational information system\", \"label\": \"rel\", \"title\": \"rel\", \"to\": \"customer relationship management system\"}, {\"arrows\": \"to\", \"from\": \"cloud computing\", \"label\": \"rel\", \"title\": \"rel\", \"to\": \"software as a service\"}, {\"arrows\": \"to\", \"from\": \"IS success\", \"label\": \"rel\", \"title\": \"rel\", \"to\": \"user success\"}, {\"arrows\": \"to\", \"from\": \"survey design\", \"label\": \"rel\", \"title\": \"rel\", \"to\": \"card sorting\"}, {\"arrows\": \"to\", \"from\": \"test score reliability coefficient\", \"label\": \"rel\", \"title\": \"rel\", \"to\": \"split-half reliability\"}, {\"arrows\": \"to\", \"from\": \"digital entertainment\", \"label\": \"rel\", \"title\": \"rel\", \"to\": \"streaming service\"}, {\"arrows\": \"to\", \"from\": \"malware\", \"label\": \"rel\", \"title\": \"rel\", \"to\": \"spyware\"}, {\"arrows\": \"to\", \"from\": \"automated reasoning\", \"label\": \"rel\", \"title\": \"rel\", \"to\": \"analogical reasoning\"}, {\"arrows\": \"to\", \"from\": \"group interview\", \"label\": \"rel\", \"title\": \"rel\", \"to\": \"expert panel\"}, {\"arrows\": \"to\", \"from\": \"survival analysis\", \"label\": \"rel\", \"title\": \"rel\", \"to\": \"hazard function\"}, {\"arrows\": \"to\", \"from\": \"natural hazard\", \"label\": \"rel\", \"title\": \"rel\", \"to\": \"earthquake\"}, {\"arrows\": \"to\", \"from\": \"mathematical model\", \"label\": \"rel\", \"title\": \"rel\", \"to\": \"stochastic model\"}, {\"arrows\": \"to\", \"from\": \"data transformation\", \"label\": \"rel\", \"title\": \"rel\", \"to\": \"dimensionality reduction\"}, {\"arrows\": \"to\", \"from\": \"dimensionality reduction\", \"label\": \"rel\", \"title\": \"rel\", \"to\": \"t-distributed stochastic neighbor embedding\"}, {\"arrows\": \"to\", \"from\": \"user evaluation criteria\", \"label\": \"rel\", \"title\": \"rel\", \"to\": \"technostress\"}, {\"arrows\": \"to\", \"from\": \"technostress\", \"label\": \"rel\", \"title\": \"rel\", \"to\": \"technophobia\"}, {\"arrows\": \"to\", \"from\": \"construct\", \"label\": \"rel\", \"title\": \"rel\", \"to\": \"construct definition\"}, {\"arrows\": \"to\", \"from\": \"user evaluation criteria\", \"label\": \"rel\", \"title\": \"rel\", \"to\": \"information technology addiction\"}, {\"arrows\": \"to\", \"from\": \"biometric measurement\", \"label\": \"rel\", \"title\": \"rel\", \"to\": \"electrocardiography\"}, {\"arrows\": \"to\", \"from\": \"theory\", \"label\": \"rel\", \"title\": \"rel\", \"to\": \"sociological theory\"}, {\"arrows\": \"to\", \"from\": \"sociological theory\", \"label\": \"rel\", \"title\": \"rel\", \"to\": \"role theory\"}, {\"arrows\": \"to\", \"from\": \"biometric measurement\", \"label\": \"rel\", \"title\": \"rel\", \"to\": \"endocrinology\"}, {\"arrows\": \"to\", \"from\": \"systems development\", \"label\": \"rel\", \"title\": \"rel\", \"to\": \"systems evaluation\"}, {\"arrows\": \"to\", \"from\": \"empirical quantitative method\", \"label\": \"rel\", \"title\": \"rel\", \"to\": \"biometric measurement\"}, {\"arrows\": \"to\", \"from\": \"survey\", \"label\": \"rel\", \"title\": \"rel\", \"to\": \"cross sectional survey\"}, {\"arrows\": \"to\", \"from\": \"crowdsourcing of participant\", \"label\": \"rel\", \"title\": \"rel\", \"to\": \"Amazon Mechanical Turk\"}, {\"arrows\": \"to\", \"from\": \"root mean square residual\", \"label\": \"rel\", \"title\": \"rel\", \"to\": \"standardized root mean square residual\"}, {\"arrows\": \"to\", \"from\": \"construct\", \"label\": \"rel\", \"title\": \"rel\", \"to\": \"formative construct\"}, {\"arrows\": \"to\", \"from\": \"construct\", \"label\": \"rel\", \"title\": \"rel\", \"to\": \"reflective construct\"}, {\"arrows\": \"to\", \"from\": \"quantitative analysis\", \"label\": \"rel\", \"title\": \"rel\", \"to\": \"multivariate analysis of variance\"}, {\"arrows\": \"to\", \"from\": \"information technology addiction\", \"label\": \"rel\", \"title\": \"rel\", \"to\": \"internet addiction\"}, {\"arrows\": \"to\", \"from\": \"user interface\", \"label\": \"rel\", \"title\": \"rel\", \"to\": \"graphical user interface\"}, {\"arrows\": \"to\", \"from\": \"systems implementation\", \"label\": \"rel\", \"title\": \"rel\", \"to\": \"user training\"}, {\"arrows\": \"to\", \"from\": \"quasi experiment\", \"label\": \"rel\", \"title\": \"rel\", \"to\": \"natural experiment\"}, {\"arrows\": \"to\", \"from\": \"optical storage device\", \"label\": \"rel\", \"title\": \"rel\", \"to\": \"Blu-ray disc\"}, {\"arrows\": \"to\", \"from\": \"digital entertainment\", \"label\": \"rel\", \"title\": \"rel\", \"to\": \"ebook\"}, {\"arrows\": \"to\", \"from\": \"news archival database\", \"label\": \"rel\", \"title\": \"rel\", \"to\": \"Google news\"}, {\"arrows\": \"to\", \"from\": \"experiment\", \"label\": \"rel\", \"title\": \"rel\", \"to\": \"discrete choice experiment\"}, {\"arrows\": \"to\", \"from\": \"technical IT security defense\", \"label\": \"rel\", \"title\": \"rel\", \"to\": \"copy protection\"}, {\"arrows\": \"to\", \"from\": \"stochastic simulation\", \"label\": \"rel\", \"title\": \"rel\", \"to\": \"Monte Carlo simulation\"}, {\"arrows\": \"to\", \"from\": \"partial least squares path modeling\", \"label\": \"rel\", \"title\": \"rel\", \"to\": \"PLS tool\"}, {\"arrows\": \"to\", \"from\": \"quantitative analysis tool\", \"label\": \"rel\", \"title\": \"rel\", \"to\": \"SAS\"}, {\"arrows\": \"to\", \"from\": \"correlation direction\", \"label\": \"rel\", \"title\": \"rel\", \"to\": \"no correlation\"}, {\"arrows\": \"to\", \"from\": \"latent variable model\", \"label\": \"rel\", \"title\": \"rel\", \"to\": \"partial least squares path modeling\"}, {\"arrows\": \"to\", \"from\": \"effect size\", \"label\": \"rel\", \"title\": \"rel\", \"to\": \"variance explained\"}, {\"arrows\": \"to\", \"from\": \"quantitative analysis tool\", \"label\": \"rel\", \"title\": \"rel\", \"to\": \"R project\"}, {\"arrows\": \"to\", \"from\": \"literature database\", \"label\": \"rel\", \"title\": \"rel\", \"to\": \"ResearchGate\"}, {\"arrows\": \"to\", \"from\": \"statistical metric\", \"label\": \"rel\", \"title\": \"rel\", \"to\": \"indicator loading\"}, {\"arrows\": \"to\", \"from\": \"systems development\", \"label\": \"rel\", \"title\": \"rel\", \"to\": \"end user computing\"}, {\"arrows\": \"to\", \"from\": \"statistical hypothesis test\", \"label\": \"rel\", \"title\": \"rel\", \"to\": \"goodness of fit statistical test\"}, {\"arrows\": \"to\", \"from\": \"quantitative analysis\", \"label\": \"rel\", \"title\": \"rel\", \"to\": \"multivariate analysis of covariance\"}, {\"arrows\": \"to\", \"from\": \"manufacturing industry\", \"label\": \"rel\", \"title\": \"rel\", \"to\": \"defence industry\"}, {\"arrows\": \"to\", \"from\": \"neurophysiology\", \"label\": \"rel\", \"title\": \"rel\", \"to\": \"functional neuroimaging\"}, {\"arrows\": \"to\", \"from\": \"biometric measurement\", \"label\": \"rel\", \"title\": \"rel\", \"to\": \"electrodermal activity\"}, {\"arrows\": \"to\", \"from\": \"magnetic resonance imaging\", \"label\": \"rel\", \"title\": \"rel\", \"to\": \"functional magnetic resonance imaging\"}, {\"arrows\": \"to\", \"from\": \"functional neuroimaging\", \"label\": \"rel\", \"title\": \"rel\", \"to\": \"electroencephalography\"}, {\"arrows\": \"to\", \"from\": \"oculometry\", \"label\": \"rel\", \"title\": \"rel\", \"to\": \"eye tracking tool\"}, {\"arrows\": \"to\", \"from\": \"correlation direction\", \"label\": \"rel\", \"title\": \"rel\", \"to\": \"negative correlation\"}, {\"arrows\": \"to\", \"from\": \"regression analysis method\", \"label\": \"rel\", \"title\": \"rel\", \"to\": \"Poisson regression\"}, {\"arrows\": \"to\", \"from\": \"experimental design\", \"label\": \"rel\", \"title\": \"rel\", \"to\": \"between subject experiment\"}, {\"arrows\": \"to\", \"from\": \"knowledge representation\", \"label\": \"rel\", \"title\": \"rel\", \"to\": \"fuzzy logic\"}, {\"arrows\": \"to\", \"from\": \"healthcare industry\", \"label\": \"rel\", \"title\": \"rel\", \"to\": \"national health service\"}, {\"arrows\": \"to\", \"from\": \"group interview\", \"label\": \"rel\", \"title\": \"rel\", \"to\": \"delphi study\"}, {\"arrows\": \"to\", \"from\": \"mobile system\", \"label\": \"rel\", \"title\": \"rel\", \"to\": \"mobile business\"}, {\"arrows\": \"to\", \"from\": \"communication service infrastructure\", \"label\": \"rel\", \"title\": \"rel\", \"to\": \"voice mail\"}, {\"arrows\": \"to\", \"from\": \"parallel computing\", \"label\": \"rel\", \"title\": \"rel\", \"to\": \"distributed computing\"}, {\"arrows\": \"to\", \"from\": \"group interview\", \"label\": \"rel\", \"title\": \"rel\", \"to\": \"focus group\"}, {\"arrows\": \"to\", \"from\": \"data transformation\", \"label\": \"rel\", \"title\": \"rel\", \"to\": \"data imputation\"}, {\"arrows\": \"to\", \"from\": \"statistical correlation\", \"label\": \"rel\", \"title\": \"rel\", \"to\": \"correlation coefficient\"}, {\"arrows\": \"to\", \"from\": \"enabling capability\", \"label\": \"rel\", \"title\": \"rel\", \"to\": \"organizational commitment\"}, {\"arrows\": \"to\", \"from\": \"economic sector\", \"label\": \"rel\", \"title\": \"rel\", \"to\": \"construction industry\"}, {\"arrows\": \"to\", \"from\": \"digital media\", \"label\": \"rel\", \"title\": \"rel\", \"to\": \"digital entertainment\"}, {\"arrows\": \"to\", \"from\": \"publishing industry\", \"label\": \"rel\", \"title\": \"rel\", \"to\": \"press publisher\"}, {\"arrows\": \"to\", \"from\": \"commercial broadcasting\", \"label\": \"rel\", \"title\": \"rel\", \"to\": \"commercial television\"}, {\"arrows\": \"to\", \"from\": \"privacy\", \"label\": \"rel\", \"title\": \"rel\", \"to\": \"information privacy law\"}, {\"arrows\": \"to\", \"from\": \"statistical hypothesis test\", \"label\": \"rel\", \"title\": \"rel\", \"to\": \"likelihood-ratio test\"}, {\"arrows\": \"to\", \"from\": \"sociological theory\", \"label\": \"rel\", \"title\": \"rel\", \"to\": \"institutional theory\"}, {\"arrows\": \"to\", \"from\": \"enterprise architecture framework\", \"label\": \"rel\", \"title\": \"rel\", \"to\": \"TOGAF\"}, {\"arrows\": \"to\", \"from\": \"survey design problem\", \"label\": \"rel\", \"title\": \"rel\", \"to\": \"leading question\"}, {\"arrows\": \"to\", \"from\": \"QDA software\", \"label\": \"rel\", \"title\": \"rel\", \"to\": \"QSR NVivo\"}, {\"arrows\": \"to\", \"from\": \"strategic management theory\", \"label\": \"rel\", \"title\": \"rel\", \"to\": \"dominant logic\"}, {\"arrows\": \"to\", \"from\": \"conceptual modelling\", \"label\": \"rel\", \"title\": \"rel\", \"to\": \"metamodel\"}, {\"arrows\": \"to\", \"from\": \"social subjectivist paradigm\", \"label\": \"rel\", \"title\": \"rel\", \"to\": \"hermeneutics\"}, {\"arrows\": \"to\", \"from\": \"IS evaluation criteria\", \"label\": \"rel\", \"title\": \"rel\", \"to\": \"IS maturity\"}, {\"arrows\": \"to\", \"from\": \"maturity model\", \"label\": \"rel\", \"title\": \"rel\", \"to\": \"capability maturity model\"}, {\"arrows\": \"to\", \"from\": \"system development method\", \"label\": \"rel\", \"title\": \"rel\", \"to\": \"structured systems analysis and design method\"}, {\"arrows\": \"to\", \"from\": \"system development method\", \"label\": \"rel\", \"title\": \"rel\", \"to\": \"Rational Unified Process\"}, {\"arrows\": \"to\", \"from\": \"ITSM standard\", \"label\": \"rel\", \"title\": \"rel\", \"to\": \"ITIL\"}, {\"arrows\": \"to\", \"from\": \"IT governance\", \"label\": \"rel\", \"title\": \"rel\", \"to\": \"COBIT\"}, {\"arrows\": \"to\", \"from\": \"behavioral economics\", \"label\": \"rel\", \"title\": \"rel\", \"to\": \"behavioral theory of the firm\"}, {\"arrows\": \"to\", \"from\": \"business topic\", \"label\": \"rel\", \"title\": \"rel\", \"to\": \"total quality management\"}, {\"arrows\": \"to\", \"from\": \"psychological theory\", \"label\": \"rel\", \"title\": \"rel\", \"to\": \"illusion of control\"}, {\"arrows\": \"to\", \"from\": \"literature database\", \"label\": \"rel\", \"title\": \"rel\", \"to\": \"ProQuest\"}, {\"arrows\": \"to\", \"from\": \"business topic\", \"label\": \"rel\", \"title\": \"rel\", \"to\": \"ISO 9000\"}, {\"arrows\": \"to\", \"from\": \"management theory\", \"label\": \"rel\", \"title\": \"rel\", \"to\": \"management fashion theory\"}, {\"arrows\": \"to\", \"from\": \"communication theory\", \"label\": \"rel\", \"title\": \"rel\", \"to\": \"media richness theory\"}, {\"arrows\": \"to\", \"from\": \"conceptual modelling\", \"label\": \"rel\", \"title\": \"rel\", \"to\": \"maturity model\"}, {\"arrows\": \"to\", \"from\": \"task complexity\", \"label\": \"rel\", \"title\": \"rel\", \"to\": \"task uncertainty\"}, {\"arrows\": \"to\", \"from\": \"organizational context\", \"label\": \"rel\", \"title\": \"rel\", \"to\": \"business topic\"}, {\"arrows\": \"to\", \"from\": \"mathematical model\", \"label\": \"rel\", \"title\": \"rel\", \"to\": \"economic model\"}, {\"arrows\": \"to\", \"from\": \"physical electronic authorization device\", \"label\": \"rel\", \"title\": \"rel\", \"to\": \"smart card\"}, {\"arrows\": \"to\", \"from\": \"strategic management theory\", \"label\": \"rel\", \"title\": \"rel\", \"to\": \"knowledge based theory of the firm\"}, {\"arrows\": \"to\", \"from\": \"academic journal list\", \"label\": \"rel\", \"title\": \"rel\", \"to\": \"AIS senior scholars\\u0027 basket of journals\"}, {\"arrows\": \"to\", \"from\": \"research method\", \"label\": \"rel\", \"title\": \"rel\", \"to\": \"conceptual method\"}, {\"arrows\": \"to\", \"from\": \"NLP method\", \"label\": \"rel\", \"title\": \"rel\", \"to\": \"latent semantic analysis\"}, {\"arrows\": \"to\", \"from\": \"information systems theory\", \"label\": \"rel\", \"title\": \"rel\", \"to\": \"theory of task technology fit\"}, {\"arrows\": \"to\", \"from\": \"noncooperative game theory\", \"label\": \"rel\", \"title\": \"rel\", \"to\": \"prisoner\\u0027s dilemma\"}, {\"arrows\": \"to\", \"from\": \"computer supported cooperative work\", \"label\": \"rel\", \"title\": \"rel\", \"to\": \"office automation\"}, {\"arrows\": \"to\", \"from\": \"relational database\", \"label\": \"rel\", \"title\": \"rel\", \"to\": \"MySQL\"}, {\"arrows\": \"to\", \"from\": \"content management system\", \"label\": \"rel\", \"title\": \"rel\", \"to\": \"digital asset management\"}, {\"arrows\": \"to\", \"from\": \"information systems theory\", \"label\": \"rel\", \"title\": \"rel\", \"to\": \"soft systems theory\"}, {\"arrows\": \"to\", \"from\": \"operational information system\", \"label\": \"rel\", \"title\": \"rel\", \"to\": \"legal information system\"}, {\"arrows\": \"to\", \"from\": \"software protection\", \"label\": \"rel\", \"title\": \"rel\", \"to\": \"software patent\"}, {\"arrows\": \"to\", \"from\": \"economic model\", \"label\": \"rel\", \"title\": \"rel\", \"to\": \"game theoretical model\"}, {\"arrows\": \"to\", \"from\": \"financial sector\", \"label\": \"rel\", \"title\": \"rel\", \"to\": \"financial advisor\"}, {\"arrows\": \"to\", \"from\": \"literature database\", \"label\": \"rel\", \"title\": \"rel\", \"to\": \"Science Direct\"}, {\"arrows\": \"to\", \"from\": \"literature database\", \"label\": \"rel\", \"title\": \"rel\", \"to\": \"EBSCO\"}, {\"arrows\": \"to\", \"from\": \"literature database\", \"label\": \"rel\", \"title\": \"rel\", \"to\": \"JSTOR\"}, {\"arrows\": \"to\", \"from\": \"literature database\", \"label\": \"rel\", \"title\": \"rel\", \"to\": \"ACM digital library\"}, {\"arrows\": \"to\", \"from\": \"strategic management theory\", \"label\": \"rel\", \"title\": \"rel\", \"to\": \"core competency theory\"}, {\"arrows\": \"to\", \"from\": \"ERP software package\", \"label\": \"rel\", \"title\": \"rel\", \"to\": \"SAP R/3\"}, {\"arrows\": \"to\", \"from\": \"communication theory\", \"label\": \"rel\", \"title\": \"rel\", \"to\": \"speech act theory\"}, {\"arrows\": \"to\", \"from\": \"social psychology theory\", \"label\": \"rel\", \"title\": \"rel\", \"to\": \"uncertainty reduction theory\"}, {\"arrows\": \"to\", \"from\": \"business evaluation criteria\", \"label\": \"rel\", \"title\": \"rel\", \"to\": \"decision quality\"}, {\"arrows\": \"to\", \"from\": \"non volatile memory\", \"label\": \"rel\", \"title\": \"rel\", \"to\": \"floppy disk\"}, {\"arrows\": \"to\", \"from\": \"path analysis\", \"label\": \"rel\", \"title\": \"rel\", \"to\": \"mediation analysis\"}, {\"arrows\": \"to\", \"from\": \"software agent\", \"label\": \"rel\", \"title\": \"rel\", \"to\": \"conversational agent\"}, {\"arrows\": \"to\", \"from\": \"economic theory\", \"label\": \"rel\", \"title\": \"rel\", \"to\": \"rational choice theory\"}, {\"arrows\": \"to\", \"from\": \"IT security theory\", \"label\": \"rel\", \"title\": \"rel\", \"to\": \"privacy calculus theory\"}, {\"arrows\": \"to\", \"from\": \"path analysis\", \"label\": \"rel\", \"title\": \"rel\", \"to\": \"moderation analysis\"}, {\"arrows\": \"to\", \"from\": \"video game\", \"label\": \"rel\", \"title\": \"rel\", \"to\": \"online game\"}, {\"arrows\": \"to\", \"from\": \"mobile application\", \"label\": \"rel\", \"title\": \"rel\", \"to\": \"mobile application market\"}, {\"arrows\": \"to\", \"from\": \"new institutional economics\", \"label\": \"rel\", \"title\": \"rel\", \"to\": \"agency theory\"}, {\"arrows\": \"to\", \"from\": \"symmetric-key encryption\", \"label\": \"rel\", \"title\": \"rel\", \"to\": \"Advanced Encryption Standard\"}, {\"arrows\": \"to\", \"from\": \"IT security threat\", \"label\": \"rel\", \"title\": \"rel\", \"to\": \"spamming\"}, {\"arrows\": \"to\", \"from\": \"external validity\", \"label\": \"rel\", \"title\": \"rel\", \"to\": \"ecological validity\"}, {\"arrows\": \"to\", \"from\": \"crowdsourcing of participant\", \"label\": \"rel\", \"title\": \"rel\", \"to\": \"Qualtrics\"}, {\"arrows\": \"to\", \"from\": \"health information system\", \"label\": \"rel\", \"title\": \"rel\", \"to\": \"mobile health\"}, {\"arrows\": \"to\", \"from\": \"privacy\", \"label\": \"rel\", \"title\": \"rel\", \"to\": \"data protection\"}, {\"arrows\": \"to\", \"from\": \"smart wearable device\", \"label\": \"rel\", \"title\": \"rel\", \"to\": \"fitness tracker\"}, {\"arrows\": \"to\", \"from\": \"NLP application\", \"label\": \"rel\", \"title\": \"rel\", \"to\": \"chatbot\"}, {\"arrows\": \"to\", \"from\": \"smart speaker\", \"label\": \"rel\", \"title\": \"rel\", \"to\": \"Amazon Echo\"}, {\"arrows\": \"to\", \"from\": \"psychological theory\", \"label\": \"rel\", \"title\": \"rel\", \"to\": \"information processing theory\"}, {\"arrows\": \"to\", \"from\": \"world wide web\", \"label\": \"rel\", \"title\": \"rel\", \"to\": \"web technology\"}, {\"arrows\": \"to\", \"from\": \"electronic finance\", \"label\": \"rel\", \"title\": \"rel\", \"to\": \"online banking\"}, {\"arrows\": \"to\", \"from\": \"survey design problem\", \"label\": \"rel\", \"title\": \"rel\", \"to\": \"ambiguous question\"}, {\"arrows\": \"to\", \"from\": \"non probabilistic sampling\", \"label\": \"rel\", \"title\": \"rel\", \"to\": \"convenience sampling\"}, {\"arrows\": \"to\", \"from\": \"IS topic\", \"label\": \"rel\", \"title\": \"rel\", \"to\": \"IS sourcing\"}, {\"arrows\": \"to\", \"from\": \"social media site\", \"label\": \"rel\", \"title\": \"rel\", \"to\": \"Instagram\"}, {\"arrows\": \"to\", \"from\": \"social media site\", \"label\": \"rel\", \"title\": \"rel\", \"to\": \"Facebook Messenger\"}, {\"arrows\": \"to\", \"from\": \"blockchain\", \"label\": \"rel\", \"title\": \"rel\", \"to\": \"cryptocurrency\"}, {\"arrows\": \"to\", \"from\": \"tourism industry\", \"label\": \"rel\", \"title\": \"rel\", \"to\": \"travel agency\"}, {\"arrows\": \"to\", \"from\": \"online advertising\", \"label\": \"rel\", \"title\": \"rel\", \"to\": \"banner advertising\"}, {\"arrows\": \"to\", \"from\": \"social media site\", \"label\": \"rel\", \"title\": \"rel\", \"to\": \"WeChat\"}, {\"arrows\": \"to\", \"from\": \"image processing\", \"label\": \"rel\", \"title\": \"rel\", \"to\": \"optical character recognition\"}, {\"arrows\": \"to\", \"from\": \"IS evaluation criteria\", \"label\": \"rel\", \"title\": \"rel\", \"to\": \"IT affordance\"}, {\"arrows\": \"to\", \"from\": \"cultural sector\", \"label\": \"rel\", \"title\": \"rel\", \"to\": \"museum\"}, {\"arrows\": \"to\", \"from\": \"economic sector\", \"label\": \"rel\", \"title\": \"rel\", \"to\": \"cultural sector\"}, {\"arrows\": \"to\", \"from\": \"motivation theory\", \"label\": \"rel\", \"title\": \"rel\", \"to\": \"self determination theory\"}, {\"arrows\": \"to\", \"from\": \"knowledge management\", \"label\": \"rel\", \"title\": \"rel\", \"to\": \"communities of practice\"}, {\"arrows\": \"to\", \"from\": \"non probabilistic sampling\", \"label\": \"rel\", \"title\": \"rel\", \"to\": \"snowball sampling\"}, {\"arrows\": \"to\", \"from\": \"social media\", \"label\": \"rel\", \"title\": \"rel\", \"to\": \"social bookmark\"}, {\"arrows\": \"to\", \"from\": \"enterprise information system\", \"label\": \"rel\", \"title\": \"rel\", \"to\": \"content management system\"}, {\"arrows\": \"to\", \"from\": \"ANOVA\", \"label\": \"rel\", \"title\": \"rel\", \"to\": \"one-way ANOVA\"}, {\"arrows\": \"to\", \"from\": \"media industry\", \"label\": \"rel\", \"title\": \"rel\", \"to\": \"broadcasting industry\"}, {\"arrows\": \"to\", \"from\": \"office information system\", \"label\": \"rel\", \"title\": \"rel\", \"to\": \"word processing\"}, {\"arrows\": \"to\", \"from\": \"theory\", \"label\": \"rel\", \"title\": \"rel\", \"to\": \"communication theory\"}, {\"arrows\": \"to\", \"from\": \"artificial intelligence\", \"label\": \"rel\", \"title\": \"rel\", \"to\": \"robotic\"}, {\"arrows\": \"to\", \"from\": \"fifth-generation programming language\", \"label\": \"rel\", \"title\": \"rel\", \"to\": \"logic programming language\"}, {\"arrows\": \"to\", \"from\": \"general-purpose programming language\", \"label\": \"rel\", \"title\": \"rel\", \"to\": \"Prolog\"}, {\"arrows\": \"to\", \"from\": \"types of work\", \"label\": \"rel\", \"title\": \"rel\", \"to\": \"knowledge work\"}, {\"arrows\": \"to\", \"from\": \"computer system\", \"label\": \"rel\", \"title\": \"rel\", \"to\": \"supercomputer\"}, {\"arrows\": \"to\", \"from\": \"knowledge representation\", \"label\": \"rel\", \"title\": \"rel\", \"to\": \"semantic network\"}, {\"arrows\": \"to\", \"from\": \"vehicular automation\", \"label\": \"rel\", \"title\": \"rel\", \"to\": \"autonomous driving system\"}, {\"arrows\": \"to\", \"from\": \"IS topic\", \"label\": \"rel\", \"title\": \"rel\", \"to\": \"IS evaluation\"}, {\"arrows\": \"to\", \"from\": \"IT productivity\", \"label\": \"rel\", \"title\": \"rel\", \"to\": \"IT productivity paradox\"}, {\"arrows\": \"to\", \"from\": \"ethnography\", \"label\": \"rel\", \"title\": \"rel\", \"to\": \"interpretative method\"}, {\"arrows\": \"to\", \"from\": \"systems development\", \"label\": \"rel\", \"title\": \"rel\", \"to\": \"rapid application development\"}, {\"arrows\": \"to\", \"from\": \"action research\", \"label\": \"rel\", \"title\": \"rel\", \"to\": \"participatory action research\"}, {\"arrows\": \"to\", \"from\": \"content management system\", \"label\": \"rel\", \"title\": \"rel\", \"to\": \"document management system\"}, {\"arrows\": \"to\", \"from\": \"information systems theory\", \"label\": \"rel\", \"title\": \"rel\", \"to\": \"technology threat avoidance theory\"}, {\"arrows\": \"to\", \"from\": \"IT security category\", \"label\": \"rel\", \"title\": \"rel\", \"to\": \"information security risk\"}, {\"arrows\": \"to\", \"from\": \"effect size\", \"label\": \"rel\", \"title\": \"rel\", \"to\": \"eta squared\"}, {\"arrows\": \"to\", \"from\": \"organizational IT security defense\", \"label\": \"rel\", \"title\": \"rel\", \"to\": \"information security management\"}, {\"arrows\": \"to\", \"from\": \"IS topic\", \"label\": \"rel\", \"title\": \"rel\", \"to\": \"gamification\"}, {\"arrows\": \"to\", \"from\": \"social network\", \"label\": \"rel\", \"title\": \"rel\", \"to\": \"enterprise social network\"}, {\"arrows\": \"to\", \"from\": \"social media\", \"label\": \"rel\", \"title\": \"rel\", \"to\": \"podcast\"}, {\"arrows\": \"to\", \"from\": \"validity\", \"label\": \"rel\", \"title\": \"rel\", \"to\": \"three validities\"}, {\"arrows\": \"to\", \"from\": \"test score reliability coefficient\", \"label\": \"rel\", \"title\": \"rel\", \"to\": \"internal consistency reliability\"}, {\"arrows\": \"to\", \"from\": \"EU data protection law\", \"label\": \"rel\", \"title\": \"rel\", \"to\": \"Data Protection Directive\"}, {\"arrows\": \"to\", \"from\": \"IT security\", \"label\": \"rel\", \"title\": \"rel\", \"to\": \"IT security defense\"}, {\"arrows\": \"to\", \"from\": \"data encryption\", \"label\": \"rel\", \"title\": \"rel\", \"to\": \"digital signature\"}, {\"arrows\": \"to\", \"from\": \"data encryption\", \"label\": \"rel\", \"title\": \"rel\", \"to\": \"public key encryption\"}, {\"arrows\": \"to\", \"from\": \"computer system\", \"label\": \"rel\", \"title\": \"rel\", \"to\": \"large-scale computer\"}, {\"arrows\": \"to\", \"from\": \"IT planning\", \"label\": \"rel\", \"title\": \"rel\", \"to\": \"business systems planning\"}, {\"arrows\": \"to\", \"from\": \"operational information system\", \"label\": \"rel\", \"title\": \"rel\", \"to\": \"accounting information system\"}, {\"arrows\": \"to\", \"from\": \"marketing information system\", \"label\": \"rel\", \"title\": \"rel\", \"to\": \"pricing information system\"}, {\"arrows\": \"to\", \"from\": \"access control\", \"label\": \"rel\", \"title\": \"rel\", \"to\": \"authorization\"}, {\"arrows\": \"to\", \"from\": \"terrorist incident\", \"label\": \"rel\", \"title\": \"rel\", \"to\": \"September 11 attack\"}, {\"arrows\": \"to\", \"from\": \"societal context\", \"label\": \"rel\", \"title\": \"rel\", \"to\": \"emergency management\"}, {\"arrows\": \"to\", \"from\": \"non probabilistic sampling\", \"label\": \"rel\", \"title\": \"rel\", \"to\": \"purposive sampling\"}, {\"arrows\": \"to\", \"from\": \"intermediation\", \"label\": \"rel\", \"title\": \"rel\", \"to\": \"information intermediary\"}, {\"arrows\": \"to\", \"from\": \"event industry\", \"label\": \"rel\", \"title\": \"rel\", \"to\": \"sport event\"}, {\"arrows\": \"to\", \"from\": \"malware\", \"label\": \"rel\", \"title\": \"rel\", \"to\": \"trojan horse\"}, {\"arrows\": \"to\", \"from\": \"IT security category\", \"label\": \"rel\", \"title\": \"rel\", \"to\": \"computer crime\"}, {\"arrows\": \"to\", \"from\": \"web search engine\", \"label\": \"rel\", \"title\": \"rel\", \"to\": \"MetaCrawler\"}, {\"arrows\": \"to\", \"from\": \"consumer electronics industry\", \"label\": \"rel\", \"title\": \"rel\", \"to\": \"video game industry\"}, {\"arrows\": \"to\", \"from\": \"information systems theory\", \"label\": \"rel\", \"title\": \"rel\", \"to\": \"technological frames of reference\"}, {\"arrows\": \"to\", \"from\": \"management theory\", \"label\": \"rel\", \"title\": \"rel\", \"to\": \"innovation theory\"}, {\"arrows\": \"to\", \"from\": \"information systems theory\", \"label\": \"rel\", \"title\": \"rel\", \"to\": \"social shaping of technology\"}, {\"arrows\": \"to\", \"from\": \"domain specific entity\", \"label\": \"rel\", \"title\": \"rel\", \"to\": \"economic sector\"}, {\"arrows\": \"to\", \"from\": \"operating system\", \"label\": \"rel\", \"title\": \"rel\", \"to\": \"Microsoft Windows\"}, {\"arrows\": \"to\", \"from\": \"electronics industry\", \"label\": \"rel\", \"title\": \"rel\", \"to\": \"consumer electronics industry\"}, {\"arrows\": \"to\", \"from\": \"hardware\", \"label\": \"rel\", \"title\": \"rel\", \"to\": \"computer graphic\"}, {\"arrows\": \"to\", \"from\": \"simulation\", \"label\": \"rel\", \"title\": \"rel\", \"to\": \"agent based simulation\"}, {\"arrows\": \"to\", \"from\": \"food industry\", \"label\": \"rel\", \"title\": \"rel\", \"to\": \"fishing industry\"}, {\"arrows\": \"to\", \"from\": \"IT supported collaboration\", \"label\": \"rel\", \"title\": \"rel\", \"to\": \"IT enabled teamwork\"}, {\"arrows\": \"to\", \"from\": \"sociological theory\", \"label\": \"rel\", \"title\": \"rel\", \"to\": \"social impact theory\"}, {\"arrows\": \"to\", \"from\": \"operational information system\", \"label\": \"rel\", \"title\": \"rel\", \"to\": \"supply chain management system\"}, {\"arrows\": \"to\", \"from\": \"non probabilistic sampling\", \"label\": \"rel\", \"title\": \"rel\", \"to\": \"criterion sampling\"}, {\"arrows\": \"to\", \"from\": \"general-purpose programming language\", \"label\": \"rel\", \"title\": \"rel\", \"to\": \"PHP\"}, {\"arrows\": \"to\", \"from\": \"ICT industry\", \"label\": \"rel\", \"title\": \"rel\", \"to\": \"computer industry\"}, {\"arrows\": \"to\", \"from\": \"retail trade\", \"label\": \"rel\", \"title\": \"rel\", \"to\": \"department store\"}, {\"arrows\": \"to\", \"from\": \"IS technology\", \"label\": \"rel\", \"title\": \"rel\", \"to\": \"ubiquitous computing\"}, {\"arrows\": \"to\", \"from\": \"pricing information system\", \"label\": \"rel\", \"title\": \"rel\", \"to\": \"dynamic pricing\"}, {\"arrows\": \"to\", \"from\": \"Wolfram Research\", \"label\": \"rel\", \"title\": \"rel\", \"to\": \"Mathematica\"}, {\"arrows\": \"to\", \"from\": \"statistical metric\", \"label\": \"rel\", \"title\": \"rel\", \"to\": \"heteroscedasticity\"}, {\"arrows\": \"to\", \"from\": \"computer graphic\", \"label\": \"rel\", \"title\": \"rel\", \"to\": \"3-D graphic\"}, {\"arrows\": \"to\", \"from\": \"software protection\", \"label\": \"rel\", \"title\": \"rel\", \"to\": \"software copyright\"}, {\"arrows\": \"to\", \"from\": \"technical IT security defense\", \"label\": \"rel\", \"title\": \"rel\", \"to\": \"firewall\"}, {\"arrows\": \"to\", \"from\": \"programming language\", \"label\": \"rel\", \"title\": \"rel\", \"to\": \"domain-specific language\"}, {\"arrows\": \"to\", \"from\": \"data quality\", \"label\": \"rel\", \"title\": \"rel\", \"to\": \"data accuracy\"}, {\"arrows\": \"to\", \"from\": \"digital product\", \"label\": \"rel\", \"title\": \"rel\", \"to\": \"information business\"}, {\"arrows\": \"to\", \"from\": \"manufacturing information system\", \"label\": \"rel\", \"title\": \"rel\", \"to\": \"computer aided design\"}, {\"arrows\": \"to\", \"from\": \"economic theory\", \"label\": \"rel\", \"title\": \"rel\", \"to\": \"microeconomic theory\"}, {\"arrows\": \"to\", \"from\": \"information systems theory\", \"label\": \"rel\", \"title\": \"rel\", \"to\": \"information systems success model\"}, {\"arrows\": \"to\", \"from\": \"requirements analysis\", \"label\": \"rel\", \"title\": \"rel\", \"to\": \"use case modeling\"}, {\"arrows\": \"to\", \"from\": \"management theory\", \"label\": \"rel\", \"title\": \"rel\", \"to\": \"SERVQUAL\"}, {\"arrows\": \"to\", \"from\": \"unified modeling language\", \"label\": \"rel\", \"title\": \"rel\", \"to\": \"class diagram\"}, {\"arrows\": \"to\", \"from\": \"organizational theory\", \"label\": \"rel\", \"title\": \"rel\", \"to\": \"sociotechnical systems theory\"}, {\"arrows\": \"to\", \"from\": \"organizational theory\", \"label\": \"rel\", \"title\": \"rel\", \"to\": \"organizational routines theory\"}, {\"arrows\": \"to\", \"from\": \"conceptual modelling\", \"label\": \"rel\", \"title\": \"rel\", \"to\": \"modeling language\"}, {\"arrows\": \"to\", \"from\": \"business process modeling language\", \"label\": \"rel\", \"title\": \"rel\", \"to\": \"business process model and notation\"}, {\"arrows\": \"to\", \"from\": \"unified modeling language\", \"label\": \"rel\", \"title\": \"rel\", \"to\": \"activity diagram\"}, {\"arrows\": \"to\", \"from\": \"information systems theory\", \"label\": \"rel\", \"title\": \"rel\", \"to\": \"theory of workarounds\"}, {\"arrows\": \"to\", \"from\": \"sociological theory\", \"label\": \"rel\", \"title\": \"rel\", \"to\": \"practice theory\"}, {\"arrows\": \"to\", \"from\": \"biological theory\", \"label\": \"rel\", \"title\": \"rel\", \"to\": \"evolutionary theory\"}, {\"arrows\": \"to\", \"from\": \"sociological theory\", \"label\": \"rel\", \"title\": \"rel\", \"to\": \"feminism theory\"}, {\"arrows\": \"to\", \"from\": \"human centered design\", \"label\": \"rel\", \"title\": \"rel\", \"to\": \"design thinking\"}, {\"arrows\": \"to\", \"from\": \"business process management\", \"label\": \"rel\", \"title\": \"rel\", \"to\": \"process mining\"}, {\"arrows\": \"to\", \"from\": \"design science\", \"label\": \"rel\", \"title\": \"rel\", \"to\": \"design pattern\"}, {\"arrows\": \"to\", \"from\": \"computer supported cooperative work\", \"label\": \"rel\", \"title\": \"rel\", \"to\": \"business process management system\"}, {\"arrows\": \"to\", \"from\": \"airline information system\", \"label\": \"rel\", \"title\": \"rel\", \"to\": \"airline reservation system\"}, {\"arrows\": \"to\", \"from\": \"information technology infrastructure\", \"label\": \"rel\", \"title\": \"rel\", \"to\": \"distributed system\"}, {\"arrows\": \"to\", \"from\": \"dominant logic\", \"label\": \"rel\", \"title\": \"rel\", \"to\": \"service-dominant logic\"}, {\"arrows\": \"to\", \"from\": \"conversational agent\", \"label\": \"rel\", \"title\": \"rel\", \"to\": \"Apple Siri\"}, {\"arrows\": \"to\", \"from\": \"trade sector\", \"label\": \"rel\", \"title\": \"rel\", \"to\": \"food trade\"}, {\"arrows\": \"to\", \"from\": \"beverage industry\", \"label\": \"rel\", \"title\": \"rel\", \"to\": \"brewery\"}, {\"arrows\": \"to\", \"from\": \"customer relationship management system\", \"label\": \"rel\", \"title\": \"rel\", \"to\": \"sales information system\"}, {\"arrows\": \"to\", \"from\": \"technology acceptance theory\", \"label\": \"rel\", \"title\": \"rel\", \"to\": \"TAM3\"}, {\"arrows\": \"to\", \"from\": \"innovation theory\", \"label\": \"rel\", \"title\": \"rel\", \"to\": \"disruptive innovation theory\"}, {\"arrows\": \"to\", \"from\": \"general-purpose programming language\", \"label\": \"rel\", \"title\": \"rel\", \"to\": \"Pascal\"}, {\"arrows\": \"to\", \"from\": \"quantitative analysis\", \"label\": \"rel\", \"title\": \"rel\", \"to\": \"post analysis\"}, {\"arrows\": \"to\", \"from\": \"operational information system\", \"label\": \"rel\", \"title\": \"rel\", \"to\": \"electronic human resource management\"}, {\"arrows\": \"to\", \"from\": \"economic sector\", \"label\": \"rel\", \"title\": \"rel\", \"to\": \"real estate industry\"}, {\"arrows\": \"to\", \"from\": \"goodness of fit statistical test\", \"label\": \"rel\", \"title\": \"rel\", \"to\": \"F-test\"}, {\"arrows\": \"to\", \"from\": \"economic sector\", \"label\": \"rel\", \"title\": \"rel\", \"to\": \"agriculture\"}, {\"arrows\": \"to\", \"from\": \"extended reality\", \"label\": \"rel\", \"title\": \"rel\", \"to\": \"virtual reality\"}, {\"arrows\": \"to\", \"from\": \"social media site\", \"label\": \"rel\", \"title\": \"rel\", \"to\": \"ICQ\"}, {\"arrows\": \"to\", \"from\": \"search engine\", \"label\": \"rel\", \"title\": \"rel\", \"to\": \"filter bubble\"}, {\"arrows\": \"to\", \"from\": \"quantitative analysis\", \"label\": \"rel\", \"title\": \"rel\", \"to\": \"data transformation\"}, {\"arrows\": \"to\", \"from\": \"machine learning method\", \"label\": \"rel\", \"title\": \"rel\", \"to\": \"reinforcement learning\"}, {\"arrows\": \"to\", \"from\": \"banking industry\", \"label\": \"rel\", \"title\": \"rel\", \"to\": \"regional bank\"}, {\"arrows\": \"to\", \"from\": \"IT investment\", \"label\": \"rel\", \"title\": \"rel\", \"to\": \"IS downsizing\"}, {\"arrows\": \"to\", \"from\": \"vehicle industry\", \"label\": \"rel\", \"title\": \"rel\", \"to\": \"aerospace industry\"}, {\"arrows\": \"to\", \"from\": \"textile and clothing industry\", \"label\": \"rel\", \"title\": \"rel\", \"to\": \"clothing industry\"}, {\"arrows\": \"to\", \"from\": \"electronics and computer industry\", \"label\": \"rel\", \"title\": \"rel\", \"to\": \"electronics industry\"}, {\"arrows\": \"to\", \"from\": \"IS evaluation method\", \"label\": \"rel\", \"title\": \"rel\", \"to\": \"software metric\"}, {\"arrows\": \"to\", \"from\": \"user evaluation criteria\", \"label\": \"rel\", \"title\": \"rel\", \"to\": \"ease of learning\"}, {\"arrows\": \"to\", \"from\": \"social media site\", \"label\": \"rel\", \"title\": \"rel\", \"to\": \"Orkut\"}, {\"arrows\": \"to\", \"from\": \"social media site\", \"label\": \"rel\", \"title\": \"rel\", \"to\": \"Flickr\"}, {\"arrows\": \"to\", \"from\": \"media industry\", \"label\": \"rel\", \"title\": \"rel\", \"to\": \"news agency\"}, {\"arrows\": \"to\", \"from\": \"digital subscriber line\", \"label\": \"rel\", \"title\": \"rel\", \"to\": \"asymmetric digital subscriber line\"}, {\"arrows\": \"to\", \"from\": \"social psychology theory\", \"label\": \"rel\", \"title\": \"rel\", \"to\": \"social comparison theory\"}, {\"arrows\": \"to\", \"from\": \"causality analysis\", \"label\": \"rel\", \"title\": \"rel\", \"to\": \"regression discontinuity design\"}, {\"arrows\": \"to\", \"from\": \"general systems theory\", \"label\": \"rel\", \"title\": \"rel\", \"to\": \"control theory\"}, {\"arrows\": \"to\", \"from\": \"multiple criteria decision making\", \"label\": \"rel\", \"title\": \"rel\", \"to\": \"data envelopment analysis\"}, {\"arrows\": \"to\", \"from\": \"theory of work design\", \"label\": \"rel\", \"title\": \"rel\", \"to\": \"job characteristics theory\"}, {\"arrows\": \"to\", \"from\": \"qualitative interview\", \"label\": \"rel\", \"title\": \"rel\", \"to\": \"repertory grid technique\"}, {\"arrows\": \"to\", \"from\": \"quantitative analysis\", \"label\": \"rel\", \"title\": \"rel\", \"to\": \"spatial analysis\"}, {\"arrows\": \"to\", \"from\": \"sociological theory\", \"label\": \"rel\", \"title\": \"rel\", \"to\": \"social identity theory\"}, {\"arrows\": \"to\", \"from\": \"qualitative content analysis\", \"label\": \"rel\", \"title\": \"rel\", \"to\": \"protocol analysis\"}, {\"arrows\": \"to\", \"from\": \"goal theory\", \"label\": \"rel\", \"title\": \"rel\", \"to\": \"goal setting theory\"}, {\"arrows\": \"to\", \"from\": \"wired network technology\", \"label\": \"rel\", \"title\": \"rel\", \"to\": \"wide area network\"}, {\"arrows\": \"to\", \"from\": \"test validity\", \"label\": \"rel\", \"title\": \"rel\", \"to\": \"criterion validity\"}, {\"arrows\": \"to\", \"from\": \"information technology infrastructure\", \"label\": \"rel\", \"title\": \"rel\", \"to\": \"blockchain\"}, {\"arrows\": \"to\", \"from\": \"cryptocurrency\", \"label\": \"rel\", \"title\": \"rel\", \"to\": \"Bitcoin\"}, {\"arrows\": \"to\", \"from\": \"blockchain\", \"label\": \"rel\", \"title\": \"rel\", \"to\": \"distributed ledger technology\"}, {\"arrows\": \"to\", \"from\": \"distributed ledger technology\", \"label\": \"rel\", \"title\": \"rel\", \"to\": \"Hyperledger\"}, {\"arrows\": \"to\", \"from\": \"NLP method\", \"label\": \"rel\", \"title\": \"rel\", \"to\": \"topic model\"}, {\"arrows\": \"to\", \"from\": \"meso level\", \"label\": \"rel\", \"title\": \"rel\", \"to\": \"practice level\"}, {\"arrows\": \"to\", \"from\": \"blockchain\", \"label\": \"rel\", \"title\": \"rel\", \"to\": \"smart contract\"}, {\"arrows\": \"to\", \"from\": \"computer system\", \"label\": \"rel\", \"title\": \"rel\", \"to\": \"minicomputer\"}, {\"arrows\": \"to\", \"from\": \"mobile system\", \"label\": \"rel\", \"title\": \"rel\", \"to\": \"portable computer\"}, {\"arrows\": \"to\", \"from\": \"communication service infrastructure\", \"label\": \"rel\", \"title\": \"rel\", \"to\": \"videotex\"}, {\"arrows\": \"to\", \"from\": \"postal and courier service\", \"label\": \"rel\", \"title\": \"rel\", \"to\": \"postal sector\"}, {\"arrows\": \"to\", \"from\": \"business process management system\", \"label\": \"rel\", \"title\": \"rel\", \"to\": \"process automation system\"}, {\"arrows\": \"to\", \"from\": \"communication theory\", \"label\": \"rel\", \"title\": \"rel\", \"to\": \"language action perspective\"}, {\"arrows\": \"to\", \"from\": \"analysis of conditional distribution\", \"label\": \"rel\", \"title\": \"rel\", \"to\": \"correlation analysis\"}, {\"arrows\": \"to\", \"from\": \"neurophysiology\", \"label\": \"rel\", \"title\": \"rel\", \"to\": \"NeuroIS\"}, {\"arrows\": \"to\", \"from\": \"IT security category\", \"label\": \"rel\", \"title\": \"rel\", \"to\": \"cybersecurity behavior\"}, {\"arrows\": \"to\", \"from\": \"cybersecurity behavior\", \"label\": \"rel\", \"title\": \"rel\", \"to\": \"information security policy compliance\"}, {\"arrows\": \"to\", \"from\": \"cybersecurity behavior\", \"label\": \"rel\", \"title\": \"rel\", \"to\": \"information security policy violation\"}, {\"arrows\": \"to\", \"from\": \"smart device\", \"label\": \"rel\", \"title\": \"rel\", \"to\": \"smart wearable device\"}, {\"arrows\": \"to\", \"from\": \"electrodermal activity\", \"label\": \"rel\", \"title\": \"rel\", \"to\": \"facial electromyography\"}, {\"arrows\": \"to\", \"from\": \"functional neuroimaging\", \"label\": \"rel\", \"title\": \"rel\", \"to\": \"functional near infrared spectroscopy\"}, {\"arrows\": \"to\", \"from\": \"latent variable model\", \"label\": \"rel\", \"title\": \"rel\", \"to\": \"latent growth curve modeling\"}, {\"arrows\": \"to\", \"from\": \"functional neuroimaging\", \"label\": \"rel\", \"title\": \"rel\", \"to\": \"magnetic resonance imaging\"}, {\"arrows\": \"to\", \"from\": \"functional neuroimaging\", \"label\": \"rel\", \"title\": \"rel\", \"to\": \"positron emission tomography\"}, {\"arrows\": \"to\", \"from\": \"functional neuroimaging\", \"label\": \"rel\", \"title\": \"rel\", \"to\": \"magnetoencephalography\"}, {\"arrows\": \"to\", \"from\": \"brain stimulation\", \"label\": \"rel\", \"title\": \"rel\", \"to\": \"transcranial magnetic stimulation\"}, {\"arrows\": \"to\", \"from\": \"psychological theory\", \"label\": \"rel\", \"title\": \"rel\", \"to\": \"dual process theory\"}, {\"arrows\": \"to\", \"from\": \"regression analysis method\", \"label\": \"rel\", \"title\": \"rel\", \"to\": \"general multivariate regression model\"}, {\"arrows\": \"to\", \"from\": \"pandemic\", \"label\": \"rel\", \"title\": \"rel\", \"to\": \"HIV/AIDS\"}, {\"arrows\": \"to\", \"from\": \"management theory\", \"label\": \"rel\", \"title\": \"rel\", \"to\": \"expectancy theory of motivation\"}, {\"arrows\": \"to\", \"from\": \"cybersecurity behavior\", \"label\": \"rel\", \"title\": \"rel\", \"to\": \"privacy behavior\"}, {\"arrows\": \"to\", \"from\": \"information privacy law\", \"label\": \"rel\", \"title\": \"rel\", \"to\": \"health insurance portability and accountability act\"}, {\"arrows\": \"to\", \"from\": \"malware\", \"label\": \"rel\", \"title\": \"rel\", \"to\": \"ransomware\"}, {\"arrows\": \"to\", \"from\": \"information systems theory\", \"label\": \"rel\", \"title\": \"rel\", \"to\": \"general deterrence theory\"}, {\"arrows\": \"to\", \"from\": \"malware\", \"label\": \"rel\", \"title\": \"rel\", \"to\": \"computer virus\"}, {\"arrows\": \"to\", \"from\": \"optimization model\", \"label\": \"rel\", \"title\": \"rel\", \"to\": \"multiple criteria decision making\"}, {\"arrows\": \"to\", \"from\": \"domain specific entity\", \"label\": \"rel\", \"title\": \"rel\", \"to\": \"IS topic\"}, {\"arrows\": \"to\", \"from\": \"knowledge management\", \"label\": \"rel\", \"title\": \"rel\", \"to\": \"knowledge spillover\"}, {\"arrows\": \"to\", \"from\": \"financial archival database\", \"label\": \"rel\", \"title\": \"rel\", \"to\": \"SDC Platinum\"}, {\"arrows\": \"to\", \"from\": \"normalization data transformation\", \"label\": \"rel\", \"title\": \"rel\", \"to\": \"logarithmic transformation\"}, {\"arrows\": \"to\", \"from\": \"sociological theory\", \"label\": \"rel\", \"title\": \"rel\", \"to\": \"resource dependency theory\"}, {\"arrows\": \"to\", \"from\": \"retail trade\", \"label\": \"rel\", \"title\": \"rel\", \"to\": \"discounters\"}, {\"arrows\": \"to\", \"from\": \"broadcasting industry\", \"label\": \"rel\", \"title\": \"rel\", \"to\": \"radio industry\"}, {\"arrows\": \"to\", \"from\": \"extended reality\", \"label\": \"rel\", \"title\": \"rel\", \"to\": \"augmented reality\"}, {\"arrows\": \"to\", \"from\": \"social media site\", \"label\": \"rel\", \"title\": \"rel\", \"to\": \"WhatsApp\"}, {\"arrows\": \"to\", \"from\": \"social media site\", \"label\": \"rel\", \"title\": \"rel\", \"to\": \"Pinterest\"}, {\"arrows\": \"to\", \"from\": \"general-purpose programming language\", \"label\": \"rel\", \"title\": \"rel\", \"to\": \"Ruby\"}, {\"arrows\": \"to\", \"from\": \"biometric measurement\", \"label\": \"rel\", \"title\": \"rel\", \"to\": \"electromyography\"}, {\"arrows\": \"to\", \"from\": \"ethnography\", \"label\": \"rel\", \"title\": \"rel\", \"to\": \"phenomenological method\"}, {\"arrows\": \"to\", \"from\": \"banking industry\", \"label\": \"rel\", \"title\": \"rel\", \"to\": \"savings bank\"}, {\"arrows\": \"to\", \"from\": \"postal and courier service\", \"label\": \"rel\", \"title\": \"rel\", \"to\": \"courier service\"}, {\"arrows\": \"to\", \"from\": \"manufacturing information system\", \"label\": \"rel\", \"title\": \"rel\", \"to\": \"industry 4.0\"}, {\"arrows\": \"to\", \"from\": \"IS sourcing\", \"label\": \"rel\", \"title\": \"rel\", \"to\": \"insourcing\"}, {\"arrows\": \"to\", \"from\": \"internet technology\", \"label\": \"rel\", \"title\": \"rel\", \"to\": \"information superhighway\"}, {\"arrows\": \"to\", \"from\": \"types of work\", \"label\": \"rel\", \"title\": \"rel\", \"to\": \"collaborative work\"}, {\"arrows\": \"to\", \"from\": \"bourses and securities trading\", \"label\": \"rel\", \"title\": \"rel\", \"to\": \"stockbroker\"}, {\"arrows\": \"to\", \"from\": \"system development method\", \"label\": \"rel\", \"title\": \"rel\", \"to\": \"waterfall model\"}, {\"arrows\": \"to\", \"from\": \"Student\\u0027s t-test\", \"label\": \"rel\", \"title\": \"rel\", \"to\": \"two sample t-test with equal variance\"}, {\"arrows\": \"to\", \"from\": \"IT planning\", \"label\": \"rel\", \"title\": \"rel\", \"to\": \"IT strategic planning\"}, {\"arrows\": \"to\", \"from\": \"insurance industry\", \"label\": \"rel\", \"title\": \"rel\", \"to\": \"insurance intermediation\"}, {\"arrows\": \"to\", \"from\": \"business topic\", \"label\": \"rel\", \"title\": \"rel\", \"to\": \"production method\"}, {\"arrows\": \"to\", \"from\": \"massively multiplayer online game\", \"label\": \"rel\", \"title\": \"rel\", \"to\": \"World of Warcraft\"}, {\"arrows\": \"to\", \"from\": \"natural hazard\", \"label\": \"rel\", \"title\": \"rel\", \"to\": \"tornado\"}, {\"arrows\": \"to\", \"from\": \"spatial analysis\", \"label\": \"rel\", \"title\": \"rel\", \"to\": \"spatial econometric\"}, {\"arrows\": \"to\", \"from\": \"social media site\", \"label\": \"rel\", \"title\": \"rel\", \"to\": \"Xing\"}, {\"arrows\": \"to\", \"from\": \"social media site\", \"label\": \"rel\", \"title\": \"rel\", \"to\": \"Friendster\"}, {\"arrows\": \"to\", \"from\": \"computer supported cooperative work\", \"label\": \"rel\", \"title\": \"rel\", \"to\": \"collaborative authoring\"}, {\"arrows\": \"to\", \"from\": \"partitional clustering\", \"label\": \"rel\", \"title\": \"rel\", \"to\": \"k-means clustering\"}, {\"arrows\": \"to\", \"from\": \"psychological theory\", \"label\": \"rel\", \"title\": \"rel\", \"to\": \"regulatory focus theory\"}, {\"arrows\": \"to\", \"from\": \"psychological theory\", \"label\": \"rel\", \"title\": \"rel\", \"to\": \"cognitive theory\"}, {\"arrows\": \"to\", \"from\": \"information retrieval\", \"label\": \"rel\", \"title\": \"rel\", \"to\": \"information retrieval system\"}, {\"arrows\": \"to\", \"from\": \"design science\", \"label\": \"rel\", \"title\": \"rel\", \"to\": \"meta design\"}, {\"arrows\": \"to\", \"from\": \"data transformation\", \"label\": \"rel\", \"title\": \"rel\", \"to\": \"multidimensional scaling\"}, {\"arrows\": \"to\", \"from\": \"NLP tool\", \"label\": \"rel\", \"title\": \"rel\", \"to\": \"NLTK\"}, {\"arrows\": \"to\", \"from\": \"video streaming provider\", \"label\": \"rel\", \"title\": \"rel\", \"to\": \"Disney+\"}, {\"arrows\": \"to\", \"from\": \"psychological theory\", \"label\": \"rel\", \"title\": \"rel\", \"to\": \"motivation theory\"}, {\"arrows\": \"to\", \"from\": \"augmented reality\", \"label\": \"rel\", \"title\": \"rel\", \"to\": \"smart glass\"}, {\"arrows\": \"to\", \"from\": \"digital media\", \"label\": \"rel\", \"title\": \"rel\", \"to\": \"extended reality\"}, {\"arrows\": \"to\", \"from\": \"IT centralization-decentralization\", \"label\": \"rel\", \"title\": \"rel\", \"to\": \"IT centralization\"}, {\"arrows\": \"to\", \"from\": \"social media\", \"label\": \"rel\", \"title\": \"rel\", \"to\": \"enterprise social media\"}, {\"arrows\": \"to\", \"from\": \"meso level\", \"label\": \"rel\", \"title\": \"rel\", \"to\": \"business unit level\"}, {\"arrows\": \"to\", \"from\": \"quantitative analysis\", \"label\": \"rel\", \"title\": \"rel\", \"to\": \"canonical correlation analysis\"}, {\"arrows\": \"to\", \"from\": \"high level language\", \"label\": \"rel\", \"title\": \"rel\", \"to\": \"fourth-generation programming language\"}, {\"arrows\": \"to\", \"from\": \"nosql database\", \"label\": \"rel\", \"title\": \"rel\", \"to\": \"object-oriented database\"}, {\"arrows\": \"to\", \"from\": \"literature study\", \"label\": \"rel\", \"title\": \"rel\", \"to\": \"bibliometric analysis\"}, {\"arrows\": \"to\", \"from\": \"electronics and computer industry\", \"label\": \"rel\", \"title\": \"rel\", \"to\": \"ICT industry\"}, {\"arrows\": \"to\", \"from\": \"management theory\", \"label\": \"rel\", \"title\": \"rel\", \"to\": \"absorptive capacity theory\"}, {\"arrows\": \"to\", \"from\": \"model element\", \"label\": \"rel\", \"title\": \"rel\", \"to\": \"model link\"}, {\"arrows\": \"to\", \"from\": \"strategy performance management\", \"label\": \"rel\", \"title\": \"rel\", \"to\": \"balanced scorecard\"}, {\"arrows\": \"to\", \"from\": \"item scale\", \"label\": \"rel\", \"title\": \"rel\", \"to\": \"Guttman scale\"}, {\"arrows\": \"to\", \"from\": \"descriptive statistic score\", \"label\": \"rel\", \"title\": \"rel\", \"to\": \"contingency table\"}, {\"arrows\": \"to\", \"from\": \"literature sample\", \"label\": \"rel\", \"title\": \"rel\", \"to\": \"literature filtering\"}, {\"arrows\": \"to\", \"from\": \"information systems theory\", \"label\": \"rel\", \"title\": \"rel\", \"to\": \"emergent knowledge processes design theory\"}, {\"arrows\": \"to\", \"from\": \"qualitativ observational study\", \"label\": \"rel\", \"title\": \"rel\", \"to\": \"non participant observation\"}, {\"arrows\": \"to\", \"from\": \"homoskedasticity test\", \"label\": \"rel\", \"title\": \"rel\", \"to\": \"Breusch-Pagan test\"}, {\"arrows\": \"to\", \"from\": \"between group comparison statistical test\", \"label\": \"rel\", \"title\": \"rel\", \"to\": \"Z-test\"}, {\"arrows\": \"to\", \"from\": \"optimization model\", \"label\": \"rel\", \"title\": \"rel\", \"to\": \"dynamic programming\"}, {\"arrows\": \"to\", \"from\": \"forest industry\", \"label\": \"rel\", \"title\": \"rel\", \"to\": \"pulp and paper industry\"}, {\"arrows\": \"to\", \"from\": \"production method\", \"label\": \"rel\", \"title\": \"rel\", \"to\": \"lean manufacturing\"}, {\"arrows\": \"to\", \"from\": \"ubiquitous computing\", \"label\": \"rel\", \"title\": \"rel\", \"to\": \"smart device\"}, {\"arrows\": \"to\", \"from\": \"organizational theory\", \"label\": \"rel\", \"title\": \"rel\", \"to\": \"organizational discontinuity theory\"}, {\"arrows\": \"to\", \"from\": \"co-located work\", \"label\": \"rel\", \"title\": \"rel\", \"to\": \"co-located \\u00a7teams\"}, {\"arrows\": \"to\", \"from\": \"small and mid-size enterprise\", \"label\": \"rel\", \"title\": \"rel\", \"to\": \"microenterprise\"}, {\"arrows\": \"to\", \"from\": \"operational information system\", \"label\": \"rel\", \"title\": \"rel\", \"to\": \"point of sale system\"}, {\"arrows\": \"to\", \"from\": \"consumer products distribution\", \"label\": \"rel\", \"title\": \"rel\", \"to\": \"book trade\"}, {\"arrows\": \"to\", \"from\": \"economic utility theory\", \"label\": \"rel\", \"title\": \"rel\", \"to\": \"expected utility theory\"}, {\"arrows\": \"to\", \"from\": \"prospect theory\", \"label\": \"rel\", \"title\": \"rel\", \"to\": \"loss aversion\"}, {\"arrows\": \"to\", \"from\": \"psychological theory\", \"label\": \"rel\", \"title\": \"rel\", \"to\": \"flow theory\"}, {\"arrows\": \"to\", \"from\": \"digital media\", \"label\": \"rel\", \"title\": \"rel\", \"to\": \"digital distribution\"}, {\"arrows\": \"to\", \"from\": \"general-purpose programming language\", \"label\": \"rel\", \"title\": \"rel\", \"to\": \"Erlang\"}, {\"arrows\": \"to\", \"from\": \"financial sector\", \"label\": \"rel\", \"title\": \"rel\", \"to\": \"financial intermediation\"}, {\"arrows\": \"to\", \"from\": \"societal context\", \"label\": \"rel\", \"title\": \"rel\", \"to\": \"societal challenge\"}, {\"arrows\": \"to\", \"from\": \"IT skill\", \"label\": \"rel\", \"title\": \"rel\", \"to\": \"soft skill\"}, {\"arrows\": \"to\", \"from\": \"banking industry\", \"label\": \"rel\", \"title\": \"rel\", \"to\": \"building society\"}, {\"arrows\": \"to\", \"from\": \"construction industry\", \"label\": \"rel\", \"title\": \"rel\", \"to\": \"structural engineering\"}, {\"arrows\": \"to\", \"from\": \"unified modeling language\", \"label\": \"rel\", \"title\": \"rel\", \"to\": \"use case diagram\"}, {\"arrows\": \"to\", \"from\": \"electronic payment\", \"label\": \"rel\", \"title\": \"rel\", \"to\": \"electronic bill payment\"}, {\"arrows\": \"to\", \"from\": \"point estimation performance score\", \"label\": \"rel\", \"title\": \"rel\", \"to\": \"minimum mean square error\"}, {\"arrows\": \"to\", \"from\": \"service oriented architecture\", \"label\": \"rel\", \"title\": \"rel\", \"to\": \"Simple Object Access Protocol\"}, {\"arrows\": \"to\", \"from\": \"information sharing protocol\", \"label\": \"rel\", \"title\": \"rel\", \"to\": \"web services description language\"}, {\"arrows\": \"to\", \"from\": \"electronics and computer industry\", \"label\": \"rel\", \"title\": \"rel\", \"to\": \"semiconductor industry\"}, {\"arrows\": \"to\", \"from\": \"Web of Science Core Collection\", \"label\": \"rel\", \"title\": \"rel\", \"to\": \"Social Science \\u0026 Humanities\"}, {\"arrows\": \"to\", \"from\": \"organizational theory\", \"label\": \"rel\", \"title\": \"rel\", \"to\": \"ambidexterity theory\"}, {\"arrows\": \"to\", \"from\": \"hardware\", \"label\": \"rel\", \"title\": \"rel\", \"to\": \"computer architecture\"}, {\"arrows\": \"to\", \"from\": \"probabilistic sampling\", \"label\": \"rel\", \"title\": \"rel\", \"to\": \"systematic sampling\"}, {\"arrows\": \"to\", \"from\": \"ERP software package\", \"label\": \"rel\", \"title\": \"rel\", \"to\": \"SAP Business ByDesign\"}, {\"arrows\": \"to\", \"from\": \"IT security threat\", \"label\": \"rel\", \"title\": \"rel\", \"to\": \"SQL injection\"}, {\"arrows\": \"to\", \"from\": \"malware\", \"label\": \"rel\", \"title\": \"rel\", \"to\": \"computer worm\"}, {\"arrows\": \"to\", \"from\": \"ERP software package\", \"label\": \"rel\", \"title\": \"rel\", \"to\": \"SAP Business One\"}, {\"arrows\": \"to\", \"from\": \"relational database\", \"label\": \"rel\", \"title\": \"rel\", \"to\": \"Oracle database\"}, {\"arrows\": \"to\", \"from\": \"enterprise information system\", \"label\": \"rel\", \"title\": \"rel\", \"to\": \"enterprise application integration\"}, {\"arrows\": \"to\", \"from\": \"relational database\", \"label\": \"rel\", \"title\": \"rel\", \"to\": \"PostgreSQL\"}, {\"arrows\": \"to\", \"from\": \"technical IT security defense\", \"label\": \"rel\", \"title\": \"rel\", \"to\": \"intrusion detection system\"}, {\"arrows\": \"to\", \"from\": \"IT security category\", \"label\": \"rel\", \"title\": \"rel\", \"to\": \"information security practice\"}, {\"arrows\": \"to\", \"from\": \"system development method\", \"label\": \"rel\", \"title\": \"rel\", \"to\": \"spiral development model\"}, {\"arrows\": \"to\", \"from\": \"knowledge management\", \"label\": \"rel\", \"title\": \"rel\", \"to\": \"knowledge type\"}, {\"arrows\": \"to\", \"from\": \"nonlinear regression analysis\", \"label\": \"rel\", \"title\": \"rel\", \"to\": \"polynomial regression\"}, {\"arrows\": \"to\", \"from\": \"business model\", \"label\": \"rel\", \"title\": \"rel\", \"to\": \"digital business model\"}, {\"arrows\": \"to\", \"from\": \"sociological theory\", \"label\": \"rel\", \"title\": \"rel\", \"to\": \"action theory\"}, {\"arrows\": \"to\", \"from\": \"sports industry\", \"label\": \"rel\", \"title\": \"rel\", \"to\": \"sports competition\"}, {\"arrows\": \"to\", \"from\": \"broadcasting industry\", \"label\": \"rel\", \"title\": \"rel\", \"to\": \"television industry\"}, {\"arrows\": \"to\", \"from\": \"non volatile memory\", \"label\": \"rel\", \"title\": \"rel\", \"to\": \"read-only memory\"}, {\"arrows\": \"to\", \"from\": \"mathematical model\", \"label\": \"rel\", \"title\": \"rel\", \"to\": \"theorem proofing\"}, {\"arrows\": \"to\", \"from\": \"forest industry\", \"label\": \"rel\", \"title\": \"rel\", \"to\": \"furniture industry\"}, {\"arrows\": \"to\", \"from\": \"research paradigm\", \"label\": \"rel\", \"title\": \"rel\", \"to\": \"constructivism\"}, {\"arrows\": \"to\", \"from\": \"social subjectivist paradigm\", \"label\": \"rel\", \"title\": \"rel\", \"to\": \"postmodernism\"}, {\"arrows\": \"to\", \"from\": \"theory\", \"label\": \"rel\", \"title\": \"rel\", \"to\": \"political theory\"}, {\"arrows\": \"to\", \"from\": \"organizational theory\", \"label\": \"rel\", \"title\": \"rel\", \"to\": \"organizational knowledge creation\"}, {\"arrows\": \"to\", \"from\": \"economic theory\", \"label\": \"rel\", \"title\": \"rel\", \"to\": \"theory of collective action\"}, {\"arrows\": \"to\", \"from\": \"vehicle industry\", \"label\": \"rel\", \"title\": \"rel\", \"to\": \"shipbuilding industry\"}, {\"arrows\": \"to\", \"from\": \"agriculture\", \"label\": \"rel\", \"title\": \"rel\", \"to\": \"drugs economy\"}, {\"arrows\": \"to\", \"from\": \"communication theory\", \"label\": \"rel\", \"title\": \"rel\", \"to\": \"theory of communicative action\"}, {\"arrows\": \"to\", \"from\": \"industry specific information system\", \"label\": \"rel\", \"title\": \"rel\", \"to\": \"financial services information system\"}, {\"arrows\": \"to\", \"from\": \"retail trade\", \"label\": \"rel\", \"title\": \"rel\", \"to\": \"retail chain\"}, {\"arrows\": \"to\", \"from\": \"consumer products distribution\", \"label\": \"rel\", \"title\": \"rel\", \"to\": \"automotive service industry\"}, {\"arrows\": \"to\", \"from\": \"management theory\", \"label\": \"rel\", \"title\": \"rel\", \"to\": \"stakeholder theory\"}, {\"arrows\": \"to\", \"from\": \"IS evaluation method\", \"label\": \"rel\", \"title\": \"rel\", \"to\": \"function point analysis\"}, {\"arrows\": \"to\", \"from\": \"qualitative interview\", \"label\": \"rel\", \"title\": \"rel\", \"to\": \"historical review\"}, {\"arrows\": \"to\", \"from\": \"social media site\", \"label\": \"rel\", \"title\": \"rel\", \"to\": \"Second Life\"}, {\"arrows\": \"to\", \"from\": \"IT workforce\", \"label\": \"rel\", \"title\": \"rel\", \"to\": \"IT recruiting\"}, {\"arrows\": \"to\", \"from\": \"human centered design\", \"label\": \"rel\", \"title\": \"rel\", \"to\": \"user centered design\"}, {\"arrows\": \"to\", \"from\": \"distributed computing\", \"label\": \"rel\", \"title\": \"rel\", \"to\": \"grid computing\"}, {\"arrows\": \"to\", \"from\": \"survey\", \"label\": \"rel\", \"title\": \"rel\", \"to\": \"pilot survey\"}, {\"arrows\": \"to\", \"from\": \"IS topic\", \"label\": \"rel\", \"title\": \"rel\", \"to\": \"green IS\"}, {\"arrows\": \"to\", \"from\": \"construction industry\", \"label\": \"rel\", \"title\": \"rel\", \"to\": \"building construction\"}, {\"arrows\": \"to\", \"from\": \"operational information system\", \"label\": \"rel\", \"title\": \"rel\", \"to\": \"laboratory information management system\"}, {\"arrows\": \"to\", \"from\": \"unsupervised learning\", \"label\": \"rel\", \"title\": \"rel\", \"to\": \"anomaly detection\"}, {\"arrows\": \"to\", \"from\": \"health information system\", \"label\": \"rel\", \"title\": \"rel\", \"to\": \"healthcare analytics\"}, {\"arrows\": \"to\", \"from\": \"statistical dispersion\", \"label\": \"rel\", \"title\": \"rel\", \"to\": \"interquartile range\"}, {\"arrows\": \"to\", \"from\": \"supply chain management system\", \"label\": \"rel\", \"title\": \"rel\", \"to\": \"logistics information system\"}, {\"arrows\": \"to\", \"from\": \"manufacturing information system\", \"label\": \"rel\", \"title\": \"rel\", \"to\": \"product lifecycle management\"}, {\"arrows\": \"to\", \"from\": \"biographical database\", \"label\": \"rel\", \"title\": \"rel\", \"to\": \"Marquis Who\\u0027s Who\"}, {\"arrows\": \"to\", \"from\": \"electronic business\", \"label\": \"rel\", \"title\": \"rel\", \"to\": \"online booking system\"}, {\"arrows\": \"to\", \"from\": \"structural break test\", \"label\": \"rel\", \"title\": \"rel\", \"to\": \"Chow test\"}, {\"arrows\": \"to\", \"from\": \"process trace data\", \"label\": \"rel\", \"title\": \"rel\", \"to\": \"event log\"}, {\"arrows\": \"to\", \"from\": \"mechanical engineering\", \"label\": \"rel\", \"title\": \"rel\", \"to\": \"vehicle technology\"}, {\"arrows\": \"to\", \"from\": \"design process\", \"label\": \"rel\", \"title\": \"rel\", \"to\": \"framework for evaluation in design science\"}, {\"arrows\": \"to\", \"from\": \"platform work\", \"label\": \"rel\", \"title\": \"rel\", \"to\": \"platform worker\"}, {\"arrows\": \"to\", \"from\": \"ridesharing company\", \"label\": \"rel\", \"title\": \"rel\", \"to\": \"Lyft\"}, {\"arrows\": \"to\", \"from\": \"accounting standard\", \"label\": \"rel\", \"title\": \"rel\", \"to\": \"Sarbanes\\u2013Oxley Act\"}, {\"arrows\": \"to\", \"from\": \"organizational IT security defense\", \"label\": \"rel\", \"title\": \"rel\", \"to\": \"business continuity planning\"}, {\"arrows\": \"to\", \"from\": \"pandemic\", \"label\": \"rel\", \"title\": \"rel\", \"to\": \"covid-19\"}, {\"arrows\": \"to\", \"from\": \"pandemic\", \"label\": \"rel\", \"title\": \"rel\", \"to\": \"H1N1 flu\"}, {\"arrows\": \"to\", \"from\": \"machinery industry and plant construction\", \"label\": \"rel\", \"title\": \"rel\", \"to\": \"plant construction\"}, {\"arrows\": \"to\", \"from\": \"literature database\", \"label\": \"rel\", \"title\": \"rel\", \"to\": \"Scopus database\"}, {\"arrows\": \"to\", \"from\": \"agile software development\", \"label\": \"rel\", \"title\": \"rel\", \"to\": \"scaled agile framework\"}, {\"arrows\": \"to\", \"from\": \"IS topic\", \"label\": \"rel\", \"title\": \"rel\", \"to\": \"IT service management\"}, {\"arrows\": \"to\", \"from\": \"IS agility\", \"label\": \"rel\", \"title\": \"rel\", \"to\": \"IS development agility\"}, {\"arrows\": \"to\", \"from\": \"system testing\", \"label\": \"rel\", \"title\": \"rel\", \"to\": \"unit testing\"}, {\"arrows\": \"to\", \"from\": \"agile software development\", \"label\": \"rel\", \"title\": \"rel\", \"to\": \"test-driven development\"}, {\"arrows\": \"to\", \"from\": \"business process modeling language\", \"label\": \"rel\", \"title\": \"rel\", \"to\": \"event-driven process chain\"}, {\"arrows\": \"to\", \"from\": \"process automation system\", \"label\": \"rel\", \"title\": \"rel\", \"to\": \"business process execution language\"}, {\"arrows\": \"to\", \"from\": \"transformer model\", \"label\": \"rel\", \"title\": \"rel\", \"to\": \"BERT\"}, {\"arrows\": \"to\", \"from\": \"Markov model\", \"label\": \"rel\", \"title\": \"rel\", \"to\": \"Markov decision process\"}, {\"arrows\": \"to\", \"from\": \"Markov model\", \"label\": \"rel\", \"title\": \"rel\", \"to\": \"Markov chain\"}, {\"arrows\": \"to\", \"from\": \"organizational theory\", \"label\": \"rel\", \"title\": \"rel\", \"to\": \"organizational learning theory\"}, {\"arrows\": \"to\", \"from\": \"digital business\", \"label\": \"rel\", \"title\": \"rel\", \"to\": \"digital business strategy\"}, {\"arrows\": \"to\", \"from\": \"intelligent maintenance system\", \"label\": \"rel\", \"title\": \"rel\", \"to\": \"predictive maintenance\"}, {\"arrows\": \"to\", \"from\": \"digital transformation\", \"label\": \"rel\", \"title\": \"rel\", \"to\": \"digital disruption\"}, {\"arrows\": \"to\", \"from\": \"sampling\", \"label\": \"rel\", \"title\": \"rel\", \"to\": \"non probabilistic sampling\"}, {\"arrows\": \"to\", \"from\": \"service quality\", \"label\": \"rel\", \"title\": \"rel\", \"to\": \"IS service quality\"}, {\"arrows\": \"to\", \"from\": \"IS evaluation criteria\", \"label\": \"rel\", \"title\": \"rel\", \"to\": \"system efficiency\"}, {\"arrows\": \"to\", \"from\": \"research stage\", \"label\": \"rel\", \"title\": \"rel\", \"to\": \"replication study\"}, {\"arrows\": \"to\", \"from\": \"statistical test assumption\", \"label\": \"rel\", \"title\": \"rel\", \"to\": \"nonparametric test\"}, {\"arrows\": \"to\", \"from\": \"management theory\", \"label\": \"rel\", \"title\": \"rel\", \"to\": \"expectation confirmation theory\"}, {\"arrows\": \"to\", \"from\": \"level of analysis\", \"label\": \"rel\", \"title\": \"rel\", \"to\": \"meso level\"}, {\"arrows\": \"to\", \"from\": \"one validity\", \"label\": \"rel\", \"title\": \"rel\", \"to\": \"design validity\"}, {\"arrows\": \"to\", \"from\": \"ERP software package\", \"label\": \"rel\", \"title\": \"rel\", \"to\": \"Oracle E-Business\"}, {\"arrows\": \"to\", \"from\": \"chemical industry\", \"label\": \"rel\", \"title\": \"rel\", \"to\": \"biotechnology industry\"}, {\"arrows\": \"to\", \"from\": \"electronic authentication\", \"label\": \"rel\", \"title\": \"rel\", \"to\": \"single sign on\"}, {\"arrows\": \"to\", \"from\": \"ERP software package\", \"label\": \"rel\", \"title\": \"rel\", \"to\": \"SAP ERP\"}, {\"arrows\": \"to\", \"from\": \"optimization model\", \"label\": \"rel\", \"title\": \"rel\", \"to\": \"genetic optimization\"}, {\"arrows\": \"to\", \"from\": \"BASIC\", \"label\": \"rel\", \"title\": \"rel\", \"to\": \"Visual Basic\"}, {\"arrows\": \"to\", \"from\": \"banking industry\", \"label\": \"rel\", \"title\": \"rel\", \"to\": \"mortgage bank\"}, {\"arrows\": \"to\", \"from\": \"cluster analysis\", \"label\": \"rel\", \"title\": \"rel\", \"to\": \"hierarchical clustering\"}, {\"arrows\": \"to\", \"from\": \"literature database\", \"label\": \"rel\", \"title\": \"rel\", \"to\": \"Journal Citation Reports\"}, {\"arrows\": \"to\", \"from\": \"archival research\", \"label\": \"rel\", \"title\": \"rel\", \"to\": \"government statistic\"}, {\"arrows\": \"to\", \"from\": \"database system\", \"label\": \"rel\", \"title\": \"rel\", \"to\": \"distributed database\"}, {\"arrows\": \"to\", \"from\": \"industry specific information system\", \"label\": \"rel\", \"title\": \"rel\", \"to\": \"energy information system\"}, {\"arrows\": \"to\", \"from\": \"case study\", \"label\": \"rel\", \"title\": \"rel\", \"to\": \"pilot case study\"}, {\"arrows\": \"to\", \"from\": \"enterprise architecture\", \"label\": \"rel\", \"title\": \"rel\", \"to\": \"enterprise modelling\"}, {\"arrows\": \"to\", \"from\": \"search engine\", \"label\": \"rel\", \"title\": \"rel\", \"to\": \"search engine results page\"}, {\"arrows\": \"to\", \"from\": \"product lifecycle management\", \"label\": \"rel\", \"title\": \"rel\", \"to\": \"product data management\"}]);\n",
              "\n",
              "        // adding nodes and edges to the graph\n",
              "        data = {nodes: nodes, edges: edges};\n",
              "\n",
              "        var options = {\n",
              "    \"configure\": {\n",
              "        \"enabled\": false\n",
              "    },\n",
              "    \"edges\": {\n",
              "        \"color\": {\n",
              "            \"inherit\": true\n",
              "        },\n",
              "        \"smooth\": {\n",
              "            \"enabled\": true,\n",
              "            \"type\": \"dynamic\"\n",
              "        }\n",
              "    },\n",
              "    \"interaction\": {\n",
              "        \"dragNodes\": true,\n",
              "        \"hideEdgesOnDrag\": false,\n",
              "        \"hideNodesOnDrag\": false\n",
              "    },\n",
              "    \"physics\": {\n",
              "        \"enabled\": true,\n",
              "        \"repulsion\": {\n",
              "            \"centralGravity\": 0.2,\n",
              "            \"damping\": 0.09,\n",
              "            \"nodeDistance\": 200,\n",
              "            \"springConstant\": 0.05,\n",
              "            \"springLength\": 200\n",
              "        },\n",
              "        \"solver\": \"repulsion\",\n",
              "        \"stabilization\": {\n",
              "            \"enabled\": true,\n",
              "            \"fit\": true,\n",
              "            \"iterations\": 1000,\n",
              "            \"onlyDynamicEdges\": false,\n",
              "            \"updateInterval\": 50\n",
              "        }\n",
              "    }\n",
              "};\n",
              "        \n",
              "        \n",
              "\n",
              "        \n",
              "\n",
              "        network = new vis.Network(container, data, options);\n",
              "\t \n",
              "        \n",
              "\n",
              "\n",
              "        \n",
              "        network.on(\"stabilizationProgress\", function(params) {\n",
              "      \t\tdocument.getElementById('loadingBar').removeAttribute(\"style\");\n",
              "\t        var maxWidth = 496;\n",
              "\t        var minWidth = 20;\n",
              "\t        var widthFactor = params.iterations/params.total;\n",
              "\t        var width = Math.max(minWidth,maxWidth * widthFactor);\n",
              "\n",
              "\t        document.getElementById('bar').style.width = width + 'px';\n",
              "\t        document.getElementById('text').innerHTML = Math.round(widthFactor*100) + '%';\n",
              "\t    });\n",
              "\t    network.once(\"stabilizationIterationsDone\", function() {\n",
              "\t        document.getElementById('text').innerHTML = '100%';\n",
              "\t        document.getElementById('bar').style.width = '496px';\n",
              "\t        document.getElementById('loadingBar').style.opacity = 0;\n",
              "\t        // really clean the dom element\n",
              "\t        setTimeout(function () {document.getElementById('loadingBar').style.display = 'none';}, 500);\n",
              "\t    });\n",
              "        \n",
              "\n",
              "        return network;\n",
              "\n",
              "    }\n",
              "\n",
              "    drawGraph();\n",
              "\n",
              "</script>\n",
              "</body>\n",
              "</html>"
            ]
          },
          "metadata": {},
          "execution_count": 91
        }
      ]
    },
    {
      "cell_type": "markdown",
      "source": [
        "# Exploration"
      ],
      "metadata": {
        "id": "CGMYGV0Mup-c"
      }
    },
    {
      "cell_type": "markdown",
      "source": [
        "### Histplots"
      ],
      "metadata": {
        "id": "Qmw_4jVxUSxk"
      }
    },
    {
      "cell_type": "code",
      "source": [
        "level_count = []\n",
        "y = [u'Level_1', u'Level_2', u'Level_3', u'Level_4', u'Level_5', u'Level_6', u'Level_7', u'Level_8', u'Level_9', u'Level_10']\n",
        "\n",
        "for x in ent_new:\n",
        "  x = ent_new[x].nunique()\n",
        "  level_count.append(x)"
      ],
      "metadata": {
        "id": "Vrj03CUa5NE5"
      },
      "execution_count": 37,
      "outputs": []
    },
    {
      "cell_type": "code",
      "source": [
        "level_count = level_count[:10]"
      ],
      "metadata": {
        "id": "yPqo8mkJ69SP"
      },
      "execution_count": 38,
      "outputs": []
    },
    {
      "cell_type": "code",
      "source": [
        "#How many unique ontologies are represented for each ontology level?\n",
        "fig, ax = plt.subplots(figsize = (10,5))\n",
        "ax.bar(y,level_count,width=0.4)\n",
        "\n",
        "for index,data in enumerate(level_count):\n",
        "    plt.text(x=index , y =data+1 , s=f\"{data}\" , fontdict=dict(fontsize=20))\n",
        "plt.tight_layout()\n",
        "plt.show()"
      ],
      "metadata": {
        "colab": {
          "base_uri": "https://localhost:8080/",
          "height": 367
        },
        "id": "EFq3vNpyAqBi",
        "outputId": "7b225335-8e4a-4c04-94d9-e6cf4417f93b"
      },
      "execution_count": 39,
      "outputs": [
        {
          "output_type": "display_data",
          "data": {
            "text/plain": [
              "<Figure size 720x360 with 1 Axes>"
            ],
            "image/png": "[encoded data removed]"
          },
          "metadata": {
            "needs_background": "light"
          }
        }
      ]
    },
    {
      "cell_type": "code",
      "source": [
        "ent_new['level_1'].value_counts()"
      ],
      "metadata": {
        "colab": {
          "base_uri": "https://localhost:8080/"
        },
        "id": "MP61OiWEu2K8",
        "outputId": "a7e7f2dd-80ad-4774-98f9-d5ac436702fe"
      },
      "execution_count": 40,
      "outputs": [
        {
          "output_type": "execute_result",
          "data": {
            "text/plain": [
              "domain specific entity    1088329\n",
              "methodological entity      427000\n",
              "theoretical entity         282411\n",
              "Name: level_1, dtype: int64"
            ]
          },
          "metadata": {},
          "execution_count": 40
        }
      ]
    },
    {
      "cell_type": "code",
      "source": [
        "big_plotter(ent_new, ent_new['level_1'])"
      ],
      "metadata": {
        "colab": {
          "base_uri": "https://localhost:8080/",
          "height": 338
        },
        "id": "2kgYIv9guuwk",
        "outputId": "50df0b1b-768b-4d87-943e-8b2d97fe3c9a"
      },
      "execution_count": 41,
      "outputs": [
        {
          "output_type": "display_data",
          "data": {
            "text/plain": [
              "<Figure size 1440x216 with 1 Axes>"
            ],
            "image/png": "[encoded data removed]"
          },
          "metadata": {
            "needs_background": "light"
          }
        }
      ]
    },
    {
      "cell_type": "code",
      "source": [
        "ent_new['level_2'].value_counts()"
      ],
      "metadata": {
        "colab": {
          "base_uri": "https://localhost:8080/"
        },
        "id": "OPt1iXGbu39h",
        "outputId": "6f32bbe0-f042-43a7-a765-ad0cb0fdfb44"
      },
      "execution_count": 42,
      "outputs": [
        {
          "output_type": "execute_result",
          "data": {
            "text/plain": [
              "IS technology           463211\n",
              "IS topic                461262\n",
              "research method         257820\n",
              "model                   196827\n",
              "economic sector         102057\n",
              "statistical metric       78673\n",
              "data analysis method     73002\n",
              "study object             61799\n",
              "theory                   60091\n",
              "research paradigm        13429\n",
              "level of analysis        12064\n",
              "validity                 11357\n",
              "sampling                  6148\n",
              "Name: level_2, dtype: int64"
            ]
          },
          "metadata": {},
          "execution_count": 42
        }
      ]
    },
    {
      "cell_type": "code",
      "source": [
        "big_plotter(ent_new, ent_new['level_2'])"
      ],
      "metadata": {
        "colab": {
          "base_uri": "https://localhost:8080/",
          "height": 324
        },
        "id": "KxGFQnHIu4ll",
        "outputId": "8cf2e56b-80a7-4ffc-9c98-34289b57cd28"
      },
      "execution_count": 43,
      "outputs": [
        {
          "output_type": "display_data",
          "data": {
            "text/plain": [
              "<Figure size 1440x216 with 1 Axes>"
            ],
            "image/png": "[encoded data removed]"
          },
          "metadata": {
            "needs_background": "light"
          }
        }
      ]
    },
    {
      "cell_type": "code",
      "source": [
        "ent_new['level_3'].value_counts().head(30)"
      ],
      "metadata": {
        "colab": {
          "base_uri": "https://localhost:8080/"
        },
        "id": "B_5SN3QJu89z",
        "outputId": "e8a828ce-fa3e-4bf9-bde5-a6882ea4e20b"
      },
      "execution_count": 44,
      "outputs": [
        {
          "output_type": "execute_result",
          "data": {
            "text/plain": [
              "data collection method                   183914\n",
              "model element                            154082\n",
              "information technology infrastructure    123673\n",
              "IS evaluation                            115117\n",
              "enterprise information system             92651\n",
              "conceptual method                         73906\n",
              "quantitative analysis                     59648\n",
              "digital media                             56110\n",
              "IT security                               54552\n",
              "participant                               51625\n",
              "systems development                       51181\n",
              "IT workforce                              39817\n",
              "electronic business                       38219\n",
              "societal context                          37919\n",
              "IS sourcing                               34428\n",
              "information systems strategy              30188\n",
              "mobile system                             27041\n",
              "framework                                 25946\n",
              "knowledge management                      24979\n",
              "quantitative confidence value             24302\n",
              "digital economy                           23892\n",
              "service industry                          23186\n",
              "government                                18399\n",
              "financial sector                          15519\n",
              "business process management               14611\n",
              "goodness of fit index                     11897\n",
              "information systems theory                11893\n",
              "manufacturing industry                    10952\n",
              "IT project                                10750\n",
              "research model                            10698\n",
              "Name: level_3, dtype: int64"
            ]
          },
          "metadata": {},
          "execution_count": 44
        }
      ]
    },
    {
      "cell_type": "code",
      "source": [
        "big_plotter(ent_new, ent_new['level_3'])"
      ],
      "metadata": {
        "colab": {
          "base_uri": "https://localhost:8080/",
          "height": 404
        },
        "id": "NtHKpOJVu_i_",
        "outputId": "14884f8c-38b6-47db-a8f2-f5b84628767f"
      },
      "execution_count": 45,
      "outputs": [
        {
          "output_type": "display_data",
          "data": {
            "text/plain": [
              "<Figure size 1440x216 with 1 Axes>"
            ],
            "image/png": "[encoded data removed]"
          },
          "metadata": {
            "needs_background": "light"
          }
        }
      ]
    },
    {
      "cell_type": "code",
      "source": [
        "ent_new['level_4'].value_counts().head(30)"
      ],
      "metadata": {
        "colab": {
          "base_uri": "https://localhost:8080/"
        },
        "id": "Sm3tStX2vCOA",
        "outputId": "d2264af7-51c6-465e-83c4-42ece8fea846"
      },
      "execution_count": 46,
      "outputs": [
        {
          "output_type": "execute_result",
          "data": {
            "text/plain": [
              "evaluation criteria                     114108\n",
              "model link                               67695\n",
              "empirical quantitative method            66805\n",
              "empirical qualitative method             66270\n",
              "communication service infrastructure     64744\n",
              "social media                             48002\n",
              "construct                                45879\n",
              "organizational context                   29764\n",
              "variable                                 27557\n",
              "individual participant                   25631\n",
              "privacy                                  25532\n",
              "outsourcing                              25072\n",
              "operational information system           24336\n",
              "design science                           23892\n",
              "analytical information system            23542\n",
              "p-value                                  23301\n",
              "digital business                         21383\n",
              "research stage                           21023\n",
              "electronic commerce                      20720\n",
              "industry specific information system     19964\n",
              "conceptual modelling                     19342\n",
              "healthcare industry                      19033\n",
              "computer supported cooperative work      18866\n",
              "IT job category                          15420\n",
              "information exchange                     14802\n",
              "machine learning                         13430\n",
              "organizational participant               13393\n",
              "mobile application                       13383\n",
              "IT investment                            12879\n",
              "banking industry                         12114\n",
              "Name: level_4, dtype: int64"
            ]
          },
          "metadata": {},
          "execution_count": 46
        }
      ]
    },
    {
      "cell_type": "code",
      "source": [
        "ent_new['level_5'].value_counts().head(30)"
      ],
      "metadata": {
        "colab": {
          "base_uri": "https://localhost:8080/"
        },
        "id": "NPJ8Xmb1vC8S",
        "outputId": "568f1c6a-7d31-4c74-fe54-324506a5657c"
      },
      "execution_count": 47,
      "outputs": [
        {
          "output_type": "execute_result",
          "data": {
            "text/plain": [
              "IS evaluation criteria               104182\n",
              "research hypothesis                   65270\n",
              "internet technology                   42675\n",
              "survey                                37390\n",
              "qualitative interview                 30097\n",
              "experiment                            23052\n",
              "future research                       17439\n",
              "social media site                     17401\n",
              "case study                            15093\n",
              "enterprise resource planning          13400\n",
              "design artifact                       12963\n",
              "IT supported collaboration            12798\n",
              "electronic mail                       12371\n",
              "IT manager                            11306\n",
              "digital platform                      11225\n",
              "health information system             10665\n",
              "dependent variable                    10659\n",
              "types of work                         10141\n",
              "artificial intelligence                9765\n",
              "business evaluation criteria           9473\n",
              "technical IT security defense          7960\n",
              "social network                         7940\n",
              "machine learning method                7911\n",
              "enabling capability                    7851\n",
              "electronic data interchange            7313\n",
              "electronics and computer industry      7239\n",
              "qualitativ observational study         6916\n",
              "business topic                         6303\n",
              "digital innovation                     6259\n",
              "offshoring                             6072\n",
              "Name: level_5, dtype: int64"
            ]
          },
          "metadata": {},
          "execution_count": 47
        }
      ]
    },
    {
      "cell_type": "code",
      "source": [
        "ent_new['level_6'].value_counts().head(30)"
      ],
      "metadata": {
        "colab": {
          "base_uri": "https://localhost:8080/"
        },
        "id": "3crNujLGvHs-",
        "outputId": "eb5c4034-aaab-434e-bb09-e079f3ac7b51"
      },
      "execution_count": 48,
      "outputs": [
        {
          "output_type": "execute_result",
          "data": {
            "text/plain": [
              "user evaluation criteria             52941\n",
              "numbered hypothesis                  46195\n",
              "productivity                         24092\n",
              "world wide web                       23351\n",
              "IS impact                            18290\n",
              "remote work                           7708\n",
              "survey design                         7703\n",
              "ICT industry                          6901\n",
              "group support system                  6438\n",
              "ethnography                           6174\n",
              "Chief Information Officer             5569\n",
              "business model                        5531\n",
              "participatory design                  5455\n",
              "Facebook                              5401\n",
              "information technology capability     5299\n",
              "Twitter                               5272\n",
              "experimental design                   5202\n",
              "access control                        5009\n",
              "network effect                        4687\n",
              "open source                           4461\n",
              "structural equation modeling          4005\n",
              "data quality                          4005\n",
              "factor analysis                       3965\n",
              "healthcare data                       3912\n",
              "supervised learning                   3898\n",
              "electronic finance                    3882\n",
              "literature sample                     3702\n",
              "online review                         3474\n",
              "expert system                         3284\n",
              "service quality                       3276\n",
              "Name: level_6, dtype: int64"
            ]
          },
          "metadata": {},
          "execution_count": 48
        }
      ]
    },
    {
      "cell_type": "code",
      "source": [
        "print(ent_new['level_7'].value_counts().sum())\n",
        "ent_new['level_7'].value_counts().head(30)"
      ],
      "metadata": {
        "colab": {
          "base_uri": "https://localhost:8080/"
        },
        "id": "YG5URaiCvIdv",
        "outputId": "57ce86f7-ea7b-4b4f-df47-ddf7c906e4b5"
      },
      "execution_count": 49,
      "outputs": [
        {
          "output_type": "stream",
          "name": "stdout",
          "text": [
            "181694\n"
          ]
        },
        {
          "output_type": "execute_result",
          "data": {
            "text/plain": [
              "information system use            38308\n",
              "website                           22747\n",
              "organizational impact              9658\n",
              "organizational productivity        8592\n",
              "ease of use                        7407\n",
              "item scale                         4717\n",
              "virtual teamwork                   4614\n",
              "telecommunications industry        4113\n",
              "electronic authentication          4046\n",
              "classification method              3761\n",
              "information systems usefulness     3662\n",
              "field study                        3347\n",
              "experimental group                 3288\n",
              "technostress                       2985\n",
              "cluster analysis                   2892\n",
              "task productivity                  2681\n",
              "IS success                         2494\n",
              "software industry                  2090\n",
              "IS value                           2023\n",
              "knowledge base                     1832\n",
              "focus group                        1697\n",
              "Wikipedia                          1631\n",
              "team productivity                  1562\n",
              "ride sharing platform              1331\n",
              "SEM tool                           1268\n",
              "IT productivity                    1266\n",
              "project productivity               1218\n",
              "IS problem                         1147\n",
              "electronic trading                 1079\n",
              "electronic health record           1047\n",
              "Name: level_7, dtype: int64"
            ]
          },
          "metadata": {},
          "execution_count": 49
        }
      ]
    },
    {
      "cell_type": "code",
      "source": [
        "ent_new['level_8'].value_counts().head(30)"
      ],
      "metadata": {
        "colab": {
          "base_uri": "https://localhost:8080/"
        },
        "id": "XkgcXYtwvKHO",
        "outputId": "e22af5b6-dfdf-4aa7-87c5-ba89db16f4ca"
      },
      "execution_count": 50,
      "outputs": [
        {
          "output_type": "execute_result",
          "data": {
            "text/plain": [
              "technology adoption                         11031\n",
              "competitive advantage                        5498\n",
              "perceived usefulness                         3600\n",
              "organizational value                         3287\n",
              "usage intention                              3259\n",
              "usability                                    2581\n",
              "web page                                     2517\n",
              "Likert scale                                 2337\n",
              "password                                     2296\n",
              "perceived ease of use                        2174\n",
              "financial performance                        1063\n",
              "artificial neural network                    1011\n",
              "decision tree classification                 1006\n",
              "ridesharing company                           976\n",
              "NLP application                               960\n",
              "information overload                          906\n",
              "support vector machine                        863\n",
              "mobile payment                                765\n",
              "IS failure                                    736\n",
              "DVD                                           640\n",
              "magnetic resonance imaging                    568\n",
              "telephone service provider                    513\n",
              "Compustat                                     508\n",
              "website design                                472\n",
              "frequency of use                              432\n",
              "physical electronic authorization device      407\n",
              "organizational success                        380\n",
              "Wi-Fi                                         367\n",
              "biometric                                     362\n",
              "electroencephalography                        343\n",
              "Name: level_8, dtype: int64"
            ]
          },
          "metadata": {},
          "execution_count": 50
        }
      ]
    },
    {
      "cell_type": "code",
      "source": [
        "ent_new['level_9'].value_counts().head(30)"
      ],
      "metadata": {
        "colab": {
          "base_uri": "https://localhost:8080/"
        },
        "id": "4BePbA-avMy1",
        "outputId": "3bd534b9-9c35-48eb-fdfd-4756712a1cc3"
      },
      "execution_count": 51,
      "outputs": [
        {
          "output_type": "execute_result",
          "data": {
            "text/plain": [
              "user acceptance                          4167\n",
              "Uber                                      905\n",
              "user resistance                           791\n",
              "sentiment analysis                        524\n",
              "smart card                                407\n",
              "functional magnetic resonance imaging     321\n",
              "hypertext                                 242\n",
              "chatbot                                   222\n",
              "bagging method                            173\n",
              "boosting method                           113\n",
              "k-means clustering                        100\n",
              "event log                                  95\n",
              "information extraction                     82\n",
              "Lyft                                       69\n",
              "question answering                         53\n",
              "machine translation                        26\n",
              "part of speech tagging                     23\n",
              "agglomerative hierarchical clustering      20\n",
              "social media addiction                     10\n",
              "named entity recognition                    9\n",
              "one-time password                           7\n",
              "document generation                         6\n",
              "divisive hierarchical clustering            6\n",
              "process log                                 6\n",
              "document summarization                      4\n",
              "natural language generation                 3\n",
              "travelling salesman problem                 3\n",
              "DBSCAN                                      2\n",
              "expectation maximization clustering         1\n",
              "k-medians clustering                        1\n",
              "Name: level_9, dtype: int64"
            ]
          },
          "metadata": {},
          "execution_count": 51
        }
      ]
    },
    {
      "cell_type": "code",
      "source": [
        "ent_new['level_10'].value_counts().head(30)"
      ],
      "metadata": {
        "colab": {
          "base_uri": "https://localhost:8080/"
        },
        "id": "4V4xsFl5vQj-",
        "outputId": "faa2025c-5866-4382-f5c2-7508ef129f1c"
      },
      "execution_count": 52,
      "outputs": [
        {
          "output_type": "execute_result",
          "data": {
            "text/plain": [
              "user satisfaction                  3243\n",
              "random forest classification        165\n",
              "gradient boosting                    96\n",
              "SIM card                             50\n",
              "aspect-based sentiment analysis      27\n",
              "AdaBoost                             16\n",
              "Name: level_10, dtype: int64"
            ]
          },
          "metadata": {},
          "execution_count": 52
        }
      ]
    },
    {
      "cell_type": "markdown",
      "source": [
        "## Check Data Quality & Metrics"
      ],
      "metadata": {
        "id": "vDVrtUjxOvhh"
      }
    },
    {
      "cell_type": "code",
      "source": [
        "# How many strings are concatinated?\n",
        "len(df_final['group'].iloc[1])"
      ],
      "metadata": {
        "colab": {
          "base_uri": "https://localhost:8080/"
        },
        "id": "RBy6K22lP-rV",
        "outputId": "153606ef-dffb-40dc-d3d9-bad25d26054a"
      },
      "execution_count": 53,
      "outputs": [
        {
          "output_type": "execute_result",
          "data": {
            "text/plain": [
              "5886"
            ]
          },
          "metadata": {},
          "execution_count": 53
        }
      ]
    },
    {
      "cell_type": "markdown",
      "source": [
        "# Citation Plot"
      ],
      "metadata": {
        "id": "8W2GN67WO7Jz"
      }
    },
    {
      "cell_type": "code",
      "source": [
        "part_cite = citings.head(1000)"
      ],
      "metadata": {
        "id": "d2jvsfaWPA6f"
      },
      "execution_count": 54,
      "outputs": []
    },
    {
      "cell_type": "code",
      "source": [
        "part_cite.head(1)"
      ],
      "metadata": {
        "colab": {
          "base_uri": "https://localhost:8080/",
          "height": 162
        },
        "id": "P9leipRVnaW4",
        "outputId": "4363db88-f297-4393-a127-35791d8337b9"
      },
      "execution_count": 55,
      "outputs": [
        {
          "output_type": "execute_result",
          "data": {
            "text/plain": [
              "   article_id sentence_id para_id  section_nr section_title subsection_title  \\\n",
              "0           1   1_322_354     1_3           1  Introduction              NaN   \n",
              "\n",
              "                                                                                                            reference_citekey  \\\n",
              "0  nambisan_s_designing_virtual_customer_environments_for_new_product_development_toward_a_theory_acad_2002_management_review   \n",
              "\n",
              "      journal_latest  \\\n",
              "0  management review   \n",
              "\n",
              "                                                                                                                                                                                     paper_citekey  \n",
              "0  (kevin)_yan_j_examining_interdependence_between_product_users_and_employees_in_online_user_communities_the_role_of_employee_generated_content_2021_the_journal_of_strategic_information_systems  "
            ],
            "text/html": [
              "\n",
              "  <div id=\"df-89979112-18b4-4213-99ff-d171ec6c240c\">\n",
              "    <div class=\"colab-df-container\">\n",
              "      <div>\n",
              "<style scoped>\n",
              "    .dataframe tbody tr th:only-of-type {\n",
              "        vertical-align: middle;\n",
              "    }\n",
              "\n",
              "    .dataframe tbody tr th {\n",
              "        vertical-align: top;\n",
              "    }\n",
              "\n",
              "    .dataframe thead th {\n",
              "        text-align: right;\n",
              "    }\n",
              "</style>\n",
              "<table border=\"1\" class=\"dataframe\">\n",
              "  <thead>\n",
              "    <tr style=\"text-align: right;\">\n",
              "      <th></th>\n",
              "      <th>article_id</th>\n",
              "      <th>sentence_id</th>\n",
              "      <th>para_id</th>\n",
              "      <th>section_nr</th>\n",
              "      <th>section_title</th>\n",
              "      <th>subsection_title</th>\n",
              "      <th>reference_citekey</th>\n",
              "      <th>journal_latest</th>\n",
              "      <th>paper_citekey</th>\n",
              "    </tr>\n",
              "  </thead>\n",
              "  <tbody>\n",
              "    <tr>\n",
              "      <th>0</th>\n",
              "      <td>1</td>\n",
              "      <td>1_322_354</td>\n",
              "      <td>1_3</td>\n",
              "      <td>1</td>\n",
              "      <td>Introduction</td>\n",
              "      <td>NaN</td>\n",
              "      <td>nambisan_s_designing_virtual_customer_environments_for_new_product_development_toward_a_theory_acad_2002_management_review</td>\n",
              "      <td>management review</td>\n",
              "      <td>(kevin)_yan_j_examining_interdependence_between_product_users_and_employees_in_online_user_communities_the_role_of_employee_generated_content_2021_the_journal_of_strategic_information_systems</td>\n",
              "    </tr>\n",
              "  </tbody>\n",
              "</table>\n",
              "</div>\n",
              "      <button class=\"colab-df-convert\" onclick=\"convertToInteractive('df-89979112-18b4-4213-99ff-d171ec6c240c')\"\n",
              "              title=\"Convert this dataframe to an interactive table.\"\n",
              "              style=\"display:none;\">\n",
              "        \n",
              "  <svg xmlns=\"http://www.w3.org/2000/svg\" height=\"24px\"viewBox=\"0 0 24 24\"\n",
              "       width=\"24px\">\n",
              "    <path d=\"M0 0h24v24H0V0z\" fill=\"none\"/>\n",
              "    <path d=\"M18.56 5.44l.94 2.06.94-2.06 2.06-.94-2.06-.94-.94-2.06-.94 2.06-2.06.94zm-11 1L8.5 8.5l.94-2.06 2.06-.94-2.06-.94L8.5 2.5l-.94 2.06-2.06.94zm10 10l.94 2.06.94-2.06 2.06-.94-2.06-.94-.94-2.06-.94 2.06-2.06.94z\"/><path d=\"M17.41 7.96l-1.37-1.37c-.4-.4-.92-.59-1.43-.59-.52 0-1.04.2-1.43.59L10.3 9.45l-7.72 7.72c-.78.78-.78 2.05 0 2.83L4 21.41c.39.39.9.59 1.41.59.51 0 1.02-.2 1.41-.59l7.78-7.78 2.81-2.81c.8-.78.8-2.07 0-2.86zM5.41 20L4 18.59l7.72-7.72 1.47 1.35L5.41 20z\"/>\n",
              "  </svg>\n",
              "      </button>\n",
              "      \n",
              "  <style>\n",
              "    .colab-df-container {\n",
              "      display:flex;\n",
              "      flex-wrap:wrap;\n",
              "      gap: 12px;\n",
              "    }\n",
              "\n",
              "    .colab-df-convert {\n",
              "      background-color: #E8F0FE;\n",
              "      border: none;\n",
              "      border-radius: 50%;\n",
              "      cursor: pointer;\n",
              "      display: none;\n",
              "      fill: #1967D2;\n",
              "      height: 32px;\n",
              "      padding: 0 0 0 0;\n",
              "      width: 32px;\n",
              "    }\n",
              "\n",
              "    .colab-df-convert:hover {\n",
              "      background-color: #E2EBFA;\n",
              "      box-shadow: 0px 1px 2px rgba(60, 64, 67, 0.3), 0px 1px 3px 1px rgba(60, 64, 67, 0.15);\n",
              "      fill: #174EA6;\n",
              "    }\n",
              "\n",
              "    [theme=dark] .colab-df-convert {\n",
              "      background-color: #3B4455;\n",
              "      fill: #D2E3FC;\n",
              "    }\n",
              "\n",
              "    [theme=dark] .colab-df-convert:hover {\n",
              "      background-color: #434B5C;\n",
              "      box-shadow: 0px 1px 3px 1px rgba(0, 0, 0, 0.15);\n",
              "      filter: drop-shadow(0px 1px 2px rgba(0, 0, 0, 0.3));\n",
              "      fill: #FFFFFF;\n",
              "    }\n",
              "  </style>\n",
              "\n",
              "      <script>\n",
              "        const buttonEl =\n",
              "          document.querySelector('#df-89979112-18b4-4213-99ff-d171ec6c240c button.colab-df-convert');\n",
              "        buttonEl.style.display =\n",
              "          google.colab.kernel.accessAllowed ? 'block' : 'none';\n",
              "\n",
              "        async function convertToInteractive(key) {\n",
              "          const element = document.querySelector('#df-89979112-18b4-4213-99ff-d171ec6c240c');\n",
              "          const dataTable =\n",
              "            await google.colab.kernel.invokeFunction('convertToInteractive',\n",
              "                                                     [key], {});\n",
              "          if (!dataTable) return;\n",
              "\n",
              "          const docLinkHtml = 'Like what you see? Visit the ' +\n",
              "            '<a target=\"_blank\" href=https://colab.research.google.com/notebooks/data_table.ipynb>data table notebook</a>'\n",
              "            + ' to learn more about interactive tables.';\n",
              "          element.innerHTML = '';\n",
              "          dataTable['output_type'] = 'display_data';\n",
              "          await google.colab.output.renderOutput(dataTable, element);\n",
              "          const docLink = document.createElement('div');\n",
              "          docLink.innerHTML = docLinkHtml;\n",
              "          element.appendChild(docLink);\n",
              "        }\n",
              "      </script>\n",
              "    </div>\n",
              "  </div>\n",
              "  "
            ]
          },
          "metadata": {},
          "execution_count": 55
        }
      ]
    },
    {
      "cell_type": "code",
      "source": [
        "count_cite = part_cite.groupby(\"article_id\", dropna=True).sum()"
      ],
      "metadata": {
        "id": "tuARqwxHnJmD"
      },
      "execution_count": 56,
      "outputs": []
    },
    {
      "cell_type": "code",
      "source": [
        "count_cite = count_cite.reset_index()"
      ],
      "metadata": {
        "id": "s5bJ-SE7p1H-"
      },
      "execution_count": 57,
      "outputs": []
    },
    {
      "cell_type": "code",
      "source": [
        "count_cite.head(1)"
      ],
      "metadata": {
        "colab": {
          "base_uri": "https://localhost:8080/",
          "height": 81
        },
        "id": "mRubrf7CpCZA",
        "outputId": "6f67b817-0bc9-4654-c1c8-25bd92478988"
      },
      "execution_count": 58,
      "outputs": [
        {
          "output_type": "execute_result",
          "data": {
            "text/plain": [
              "   article_id  section_nr\n",
              "0           1         957"
            ],
            "text/html": [
              "\n",
              "  <div id=\"df-58c2e80a-aa84-496a-8c42-1bff590d5651\">\n",
              "    <div class=\"colab-df-container\">\n",
              "      <div>\n",
              "<style scoped>\n",
              "    .dataframe tbody tr th:only-of-type {\n",
              "        vertical-align: middle;\n",
              "    }\n",
              "\n",
              "    .dataframe tbody tr th {\n",
              "        vertical-align: top;\n",
              "    }\n",
              "\n",
              "    .dataframe thead th {\n",
              "        text-align: right;\n",
              "    }\n",
              "</style>\n",
              "<table border=\"1\" class=\"dataframe\">\n",
              "  <thead>\n",
              "    <tr style=\"text-align: right;\">\n",
              "      <th></th>\n",
              "      <th>article_id</th>\n",
              "      <th>section_nr</th>\n",
              "    </tr>\n",
              "  </thead>\n",
              "  <tbody>\n",
              "    <tr>\n",
              "      <th>0</th>\n",
              "      <td>1</td>\n",
              "      <td>957</td>\n",
              "    </tr>\n",
              "  </tbody>\n",
              "</table>\n",
              "</div>\n",
              "      <button class=\"colab-df-convert\" onclick=\"convertToInteractive('df-58c2e80a-aa84-496a-8c42-1bff590d5651')\"\n",
              "              title=\"Convert this dataframe to an interactive table.\"\n",
              "              style=\"display:none;\">\n",
              "        \n",
              "  <svg xmlns=\"http://www.w3.org/2000/svg\" height=\"24px\"viewBox=\"0 0 24 24\"\n",
              "       width=\"24px\">\n",
              "    <path d=\"M0 0h24v24H0V0z\" fill=\"none\"/>\n",
              "    <path d=\"M18.56 5.44l.94 2.06.94-2.06 2.06-.94-2.06-.94-.94-2.06-.94 2.06-2.06.94zm-11 1L8.5 8.5l.94-2.06 2.06-.94-2.06-.94L8.5 2.5l-.94 2.06-2.06.94zm10 10l.94 2.06.94-2.06 2.06-.94-2.06-.94-.94-2.06-.94 2.06-2.06.94z\"/><path d=\"M17.41 7.96l-1.37-1.37c-.4-.4-.92-.59-1.43-.59-.52 0-1.04.2-1.43.59L10.3 9.45l-7.72 7.72c-.78.78-.78 2.05 0 2.83L4 21.41c.39.39.9.59 1.41.59.51 0 1.02-.2 1.41-.59l7.78-7.78 2.81-2.81c.8-.78.8-2.07 0-2.86zM5.41 20L4 18.59l7.72-7.72 1.47 1.35L5.41 20z\"/>\n",
              "  </svg>\n",
              "      </button>\n",
              "      \n",
              "  <style>\n",
              "    .colab-df-container {\n",
              "      display:flex;\n",
              "      flex-wrap:wrap;\n",
              "      gap: 12px;\n",
              "    }\n",
              "\n",
              "    .colab-df-convert {\n",
              "      background-color: #E8F0FE;\n",
              "      border: none;\n",
              "      border-radius: 50%;\n",
              "      cursor: pointer;\n",
              "      display: none;\n",
              "      fill: #1967D2;\n",
              "      height: 32px;\n",
              "      padding: 0 0 0 0;\n",
              "      width: 32px;\n",
              "    }\n",
              "\n",
              "    .colab-df-convert:hover {\n",
              "      background-color: #E2EBFA;\n",
              "      box-shadow: 0px 1px 2px rgba(60, 64, 67, 0.3), 0px 1px 3px 1px rgba(60, 64, 67, 0.15);\n",
              "      fill: #174EA6;\n",
              "    }\n",
              "\n",
              "    [theme=dark] .colab-df-convert {\n",
              "      background-color: #3B4455;\n",
              "      fill: #D2E3FC;\n",
              "    }\n",
              "\n",
              "    [theme=dark] .colab-df-convert:hover {\n",
              "      background-color: #434B5C;\n",
              "      box-shadow: 0px 1px 3px 1px rgba(0, 0, 0, 0.15);\n",
              "      filter: drop-shadow(0px 1px 2px rgba(0, 0, 0, 0.3));\n",
              "      fill: #FFFFFF;\n",
              "    }\n",
              "  </style>\n",
              "\n",
              "      <script>\n",
              "        const buttonEl =\n",
              "          document.querySelector('#df-58c2e80a-aa84-496a-8c42-1bff590d5651 button.colab-df-convert');\n",
              "        buttonEl.style.display =\n",
              "          google.colab.kernel.accessAllowed ? 'block' : 'none';\n",
              "\n",
              "        async function convertToInteractive(key) {\n",
              "          const element = document.querySelector('#df-58c2e80a-aa84-496a-8c42-1bff590d5651');\n",
              "          const dataTable =\n",
              "            await google.colab.kernel.invokeFunction('convertToInteractive',\n",
              "                                                     [key], {});\n",
              "          if (!dataTable) return;\n",
              "\n",
              "          const docLinkHtml = 'Like what you see? Visit the ' +\n",
              "            '<a target=\"_blank\" href=https://colab.research.google.com/notebooks/data_table.ipynb>data table notebook</a>'\n",
              "            + ' to learn more about interactive tables.';\n",
              "          element.innerHTML = '';\n",
              "          dataTable['output_type'] = 'display_data';\n",
              "          await google.colab.output.renderOutput(dataTable, element);\n",
              "          const docLink = document.createElement('div');\n",
              "          docLink.innerHTML = docLinkHtml;\n",
              "          element.appendChild(docLink);\n",
              "        }\n",
              "      </script>\n",
              "    </div>\n",
              "  </div>\n",
              "  "
            ]
          },
          "metadata": {},
          "execution_count": 58
        }
      ]
    },
    {
      "cell_type": "code",
      "source": [
        "# use the scatterplot function to build the bubble map\n",
        "sns.scatterplot(data=part_cite, x=\"section_nr\", y=\"section_nr\", size=\"section_nr\", legend=False, sizes=(20, 2000))\n",
        "\n",
        "# show the graph\n",
        "plt.show()"
      ],
      "metadata": {
        "colab": {
          "base_uri": "https://localhost:8080/",
          "height": 280
        },
        "id": "cgZ_5L0hn250",
        "outputId": "ac2d4c97-515e-421c-983f-510b84dea57d"
      },
      "execution_count": 59,
      "outputs": [
        {
          "output_type": "display_data",
          "data": {
            "text/plain": [
              "<Figure size 432x288 with 1 Axes>"
            ],
            "image/png": "[encoded data removed]"
          },
          "metadata": {
            "needs_background": "light"
          }
        }
      ]
    },
    {
      "cell_type": "markdown",
      "source": [
        "### Chart Function"
      ],
      "metadata": {
        "id": "OapitM7H4xAd"
      }
    },
    {
      "cell_type": "code",
      "source": [
        "#!pip install d3graph"
      ],
      "metadata": {
        "id": "UBre6xwGBEMw"
      },
      "execution_count": 60,
      "outputs": []
    },
    {
      "cell_type": "code",
      "source": [
        "ent_final.head(2)"
      ],
      "metadata": {
        "colab": {
          "base_uri": "https://localhost:8080/",
          "height": 436
        },
        "id": "C2FqxfRLBat5",
        "outputId": "ac672994-7ea7-4874-bfa5-d7e8ddc5b446"
      },
      "execution_count": 61,
      "outputs": [
        {
          "output_type": "execute_result",
          "data": {
            "text/plain": [
              "   article_id para_id sentence_id  label                ent_id  \\\n",
              "0           1     1_3   1_322_354  TOPIC  knowledge repository   \n",
              "1           1     1_3   1_467_502  TOPIC      digital platform   \n",
              "\n",
              "                  level_1   level_2               level_3  \\\n",
              "0  domain specific entity  IS topic  knowledge management   \n",
              "1  domain specific entity  IS topic       digital economy   \n",
              "\n",
              "                level_4           level_5 level_6 level_7 level_8 level_9  \\\n",
              "0  knowledge repository               NaN     NaN     NaN     NaN     NaN   \n",
              "1      digital business  digital platform     NaN     NaN     NaN     NaN   \n",
              "\n",
              "  level_10  \\\n",
              "0      NaN   \n",
              "1      NaN   \n",
              "\n",
              "                                                                                   group  \\\n",
              "0           domain specific entity, IS topic, knowledge management, knowledge repository   \n",
              "1  domain specific entity, IS topic, digital economy, digital business, digital platform   \n",
              "\n",
              "  journal_akronym  \n",
              "0            JSIS  \n",
              "1            JSIS  "
            ],
            "text/html": [
              "\n",
              "  <div id=\"df-b8f7252d-38d2-4b58-9b01-e5f64fc1e034\">\n",
              "    <div class=\"colab-df-container\">\n",
              "      <div>\n",
              "<style scoped>\n",
              "    .dataframe tbody tr th:only-of-type {\n",
              "        vertical-align: middle;\n",
              "    }\n",
              "\n",
              "    .dataframe tbody tr th {\n",
              "        vertical-align: top;\n",
              "    }\n",
              "\n",
              "    .dataframe thead th {\n",
              "        text-align: right;\n",
              "    }\n",
              "</style>\n",
              "<table border=\"1\" class=\"dataframe\">\n",
              "  <thead>\n",
              "    <tr style=\"text-align: right;\">\n",
              "      <th></th>\n",
              "      <th>article_id</th>\n",
              "      <th>para_id</th>\n",
              "      <th>sentence_id</th>\n",
              "      <th>label</th>\n",
              "      <th>ent_id</th>\n",
              "      <th>level_1</th>\n",
              "      <th>level_2</th>\n",
              "      <th>level_3</th>\n",
              "      <th>level_4</th>\n",
              "      <th>level_5</th>\n",
              "      <th>level_6</th>\n",
              "      <th>level_7</th>\n",
              "      <th>level_8</th>\n",
              "      <th>level_9</th>\n",
              "      <th>level_10</th>\n",
              "      <th>group</th>\n",
              "      <th>journal_akronym</th>\n",
              "    </tr>\n",
              "  </thead>\n",
              "  <tbody>\n",
              "    <tr>\n",
              "      <th>0</th>\n",
              "      <td>1</td>\n",
              "      <td>1_3</td>\n",
              "      <td>1_322_354</td>\n",
              "      <td>TOPIC</td>\n",
              "      <td>knowledge repository</td>\n",
              "      <td>domain specific entity</td>\n",
              "      <td>IS topic</td>\n",
              "      <td>knowledge management</td>\n",
              "      <td>knowledge repository</td>\n",
              "      <td>NaN</td>\n",
              "      <td>NaN</td>\n",
              "      <td>NaN</td>\n",
              "      <td>NaN</td>\n",
              "      <td>NaN</td>\n",
              "      <td>NaN</td>\n",
              "      <td>domain specific entity, IS topic, knowledge management, knowledge repository</td>\n",
              "      <td>JSIS</td>\n",
              "    </tr>\n",
              "    <tr>\n",
              "      <th>1</th>\n",
              "      <td>1</td>\n",
              "      <td>1_3</td>\n",
              "      <td>1_467_502</td>\n",
              "      <td>TOPIC</td>\n",
              "      <td>digital platform</td>\n",
              "      <td>domain specific entity</td>\n",
              "      <td>IS topic</td>\n",
              "      <td>digital economy</td>\n",
              "      <td>digital business</td>\n",
              "      <td>digital platform</td>\n",
              "      <td>NaN</td>\n",
              "      <td>NaN</td>\n",
              "      <td>NaN</td>\n",
              "      <td>NaN</td>\n",
              "      <td>NaN</td>\n",
              "      <td>domain specific entity, IS topic, digital economy, digital business, digital platform</td>\n",
              "      <td>JSIS</td>\n",
              "    </tr>\n",
              "  </tbody>\n",
              "</table>\n",
              "</div>\n",
              "      <button class=\"colab-df-convert\" onclick=\"convertToInteractive('df-b8f7252d-38d2-4b58-9b01-e5f64fc1e034')\"\n",
              "              title=\"Convert this dataframe to an interactive table.\"\n",
              "              style=\"display:none;\">\n",
              "        \n",
              "  <svg xmlns=\"http://www.w3.org/2000/svg\" height=\"24px\"viewBox=\"0 0 24 24\"\n",
              "       width=\"24px\">\n",
              "    <path d=\"M0 0h24v24H0V0z\" fill=\"none\"/>\n",
              "    <path d=\"M18.56 5.44l.94 2.06.94-2.06 2.06-.94-2.06-.94-.94-2.06-.94 2.06-2.06.94zm-11 1L8.5 8.5l.94-2.06 2.06-.94-2.06-.94L8.5 2.5l-.94 2.06-2.06.94zm10 10l.94 2.06.94-2.06 2.06-.94-2.06-.94-.94-2.06-.94 2.06-2.06.94z\"/><path d=\"M17.41 7.96l-1.37-1.37c-.4-.4-.92-.59-1.43-.59-.52 0-1.04.2-1.43.59L10.3 9.45l-7.72 7.72c-.78.78-.78 2.05 0 2.83L4 21.41c.39.39.9.59 1.41.59.51 0 1.02-.2 1.41-.59l7.78-7.78 2.81-2.81c.8-.78.8-2.07 0-2.86zM5.41 20L4 18.59l7.72-7.72 1.47 1.35L5.41 20z\"/>\n",
              "  </svg>\n",
              "      </button>\n",
              "      \n",
              "  <style>\n",
              "    .colab-df-container {\n",
              "      display:flex;\n",
              "      flex-wrap:wrap;\n",
              "      gap: 12px;\n",
              "    }\n",
              "\n",
              "    .colab-df-convert {\n",
              "      background-color: #E8F0FE;\n",
              "      border: none;\n",
              "      border-radius: 50%;\n",
              "      cursor: pointer;\n",
              "      display: none;\n",
              "      fill: #1967D2;\n",
              "      height: 32px;\n",
              "      padding: 0 0 0 0;\n",
              "      width: 32px;\n",
              "    }\n",
              "\n",
              "    .colab-df-convert:hover {\n",
              "      background-color: #E2EBFA;\n",
              "      box-shadow: 0px 1px 2px rgba(60, 64, 67, 0.3), 0px 1px 3px 1px rgba(60, 64, 67, 0.15);\n",
              "      fill: #174EA6;\n",
              "    }\n",
              "\n",
              "    [theme=dark] .colab-df-convert {\n",
              "      background-color: #3B4455;\n",
              "      fill: #D2E3FC;\n",
              "    }\n",
              "\n",
              "    [theme=dark] .colab-df-convert:hover {\n",
              "      background-color: #434B5C;\n",
              "      box-shadow: 0px 1px 3px 1px rgba(0, 0, 0, 0.15);\n",
              "      filter: drop-shadow(0px 1px 2px rgba(0, 0, 0, 0.3));\n",
              "      fill: #FFFFFF;\n",
              "    }\n",
              "  </style>\n",
              "\n",
              "      <script>\n",
              "        const buttonEl =\n",
              "          document.querySelector('#df-b8f7252d-38d2-4b58-9b01-e5f64fc1e034 button.colab-df-convert');\n",
              "        buttonEl.style.display =\n",
              "          google.colab.kernel.accessAllowed ? 'block' : 'none';\n",
              "\n",
              "        async function convertToInteractive(key) {\n",
              "          const element = document.querySelector('#df-b8f7252d-38d2-4b58-9b01-e5f64fc1e034');\n",
              "          const dataTable =\n",
              "            await google.colab.kernel.invokeFunction('convertToInteractive',\n",
              "                                                     [key], {});\n",
              "          if (!dataTable) return;\n",
              "\n",
              "          const docLinkHtml = 'Like what you see? Visit the ' +\n",
              "            '<a target=\"_blank\" href=https://colab.research.google.com/notebooks/data_table.ipynb>data table notebook</a>'\n",
              "            + ' to learn more about interactive tables.';\n",
              "          element.innerHTML = '';\n",
              "          dataTable['output_type'] = 'display_data';\n",
              "          await google.colab.output.renderOutput(dataTable, element);\n",
              "          const docLink = document.createElement('div');\n",
              "          docLink.innerHTML = docLinkHtml;\n",
              "          element.appendChild(docLink);\n",
              "        }\n",
              "      </script>\n",
              "    </div>\n",
              "  </div>\n",
              "  "
            ]
          },
          "metadata": {},
          "execution_count": 61
        }
      ]
    },
    {
      "cell_type": "code",
      "source": [
        "ent_final.iloc[:,[0,4,5,6,7,8,9,10,11,12,13,14]]"
      ],
      "metadata": {
        "colab": {
          "base_uri": "https://localhost:8080/",
          "height": 728
        },
        "id": "Vrun_UwtB-X8",
        "outputId": "dc83e32e-3cf2-449d-c759-14fba32ce6d7"
      },
      "execution_count": 62,
      "outputs": [
        {
          "output_type": "execute_result",
          "data": {
            "text/plain": [
              "         article_id                     ent_id                 level_1  \\\n",
              "0                 1       knowledge repository  domain specific entity   \n",
              "1                 1           digital platform  domain specific entity   \n",
              "2                 1             Salesforce.com  domain specific entity   \n",
              "3                 1       participatory design  domain specific entity   \n",
              "4                 1          group participant  domain specific entity   \n",
              "...             ...                        ...                     ...   \n",
              "1797735        6831          literature sample   methodological entity   \n",
              "1797736        6831        internet technology  domain specific entity   \n",
              "1797737        6831                 government  domain specific entity   \n",
              "1797738        6831  health information system  domain specific entity   \n",
              "1797739        6831                 government  domain specific entity   \n",
              "\n",
              "                 level_2                                level_3  \\\n",
              "0               IS topic                   knowledge management   \n",
              "1               IS topic                        digital economy   \n",
              "2          IS technology          enterprise information system   \n",
              "3               IS topic                    systems development   \n",
              "4           study object                            participant   \n",
              "...                  ...                                    ...   \n",
              "1797735  research method                      conceptual method   \n",
              "1797736    IS technology  information technology infrastructure   \n",
              "1797737  economic sector                             government   \n",
              "1797738    IS technology          enterprise information system   \n",
              "1797739  economic sector                             government   \n",
              "\n",
              "                                      level_4                         level_5  \\\n",
              "0                        knowledge repository                             NaN   \n",
              "1                            digital business                digital platform   \n",
              "2              operational information system    enterprise resource planning   \n",
              "3                   system development method           human centered design   \n",
              "4                           group participant                             NaN   \n",
              "...                                       ...                             ...   \n",
              "1797735                      literature study  structured literature research   \n",
              "1797736  communication service infrastructure             internet technology   \n",
              "1797737                                   NaN                             NaN   \n",
              "1797738  industry specific information system       health information system   \n",
              "1797739                                   NaN                             NaN   \n",
              "\n",
              "                      level_6         level_7 level_8 level_9 level_10  \n",
              "0                         NaN             NaN     NaN     NaN      NaN  \n",
              "1                         NaN             NaN     NaN     NaN      NaN  \n",
              "2        ERP software package  Salesforce.com     NaN     NaN      NaN  \n",
              "3        participatory design             NaN     NaN     NaN      NaN  \n",
              "4                         NaN             NaN     NaN     NaN      NaN  \n",
              "...                       ...             ...     ...     ...      ...  \n",
              "1797735     literature sample             NaN     NaN     NaN      NaN  \n",
              "1797736                   NaN             NaN     NaN     NaN      NaN  \n",
              "1797737                   NaN             NaN     NaN     NaN      NaN  \n",
              "1797738                   NaN             NaN     NaN     NaN      NaN  \n",
              "1797739                   NaN             NaN     NaN     NaN      NaN  \n",
              "\n",
              "[1797740 rows x 12 columns]"
            ],
            "text/html": [
              "\n",
              "  <div id=\"df-3397cd57-83fc-49ec-a1eb-fca0446a4102\">\n",
              "    <div class=\"colab-df-container\">\n",
              "      <div>\n",
              "<style scoped>\n",
              "    .dataframe tbody tr th:only-of-type {\n",
              "        vertical-align: middle;\n",
              "    }\n",
              "\n",
              "    .dataframe tbody tr th {\n",
              "        vertical-align: top;\n",
              "    }\n",
              "\n",
              "    .dataframe thead th {\n",
              "        text-align: right;\n",
              "    }\n",
              "</style>\n",
              "<table border=\"1\" class=\"dataframe\">\n",
              "  <thead>\n",
              "    <tr style=\"text-align: right;\">\n",
              "      <th></th>\n",
              "      <th>article_id</th>\n",
              "      <th>ent_id</th>\n",
              "      <th>level_1</th>\n",
              "      <th>level_2</th>\n",
              "      <th>level_3</th>\n",
              "      <th>level_4</th>\n",
              "      <th>level_5</th>\n",
              "      <th>level_6</th>\n",
              "      <th>level_7</th>\n",
              "      <th>level_8</th>\n",
              "      <th>level_9</th>\n",
              "      <th>level_10</th>\n",
              "    </tr>\n",
              "  </thead>\n",
              "  <tbody>\n",
              "    <tr>\n",
              "      <th>0</th>\n",
              "      <td>1</td>\n",
              "      <td>knowledge repository</td>\n",
              "      <td>domain specific entity</td>\n",
              "      <td>IS topic</td>\n",
              "      <td>knowledge management</td>\n",
              "      <td>knowledge repository</td>\n",
              "      <td>NaN</td>\n",
              "      <td>NaN</td>\n",
              "      <td>NaN</td>\n",
              "      <td>NaN</td>\n",
              "      <td>NaN</td>\n",
              "      <td>NaN</td>\n",
              "    </tr>\n",
              "    <tr>\n",
              "      <th>1</th>\n",
              "      <td>1</td>\n",
              "      <td>digital platform</td>\n",
              "      <td>domain specific entity</td>\n",
              "      <td>IS topic</td>\n",
              "      <td>digital economy</td>\n",
              "      <td>digital business</td>\n",
              "      <td>digital platform</td>\n",
              "      <td>NaN</td>\n",
              "      <td>NaN</td>\n",
              "      <td>NaN</td>\n",
              "      <td>NaN</td>\n",
              "      <td>NaN</td>\n",
              "    </tr>\n",
              "    <tr>\n",
              "      <th>2</th>\n",
              "      <td>1</td>\n",
              "      <td>Salesforce.com</td>\n",
              "      <td>domain specific entity</td>\n",
              "      <td>IS technology</td>\n",
              "      <td>enterprise information system</td>\n",
              "      <td>operational information system</td>\n",
              "      <td>enterprise resource planning</td>\n",
              "      <td>ERP software package</td>\n",
              "      <td>Salesforce.com</td>\n",
              "      <td>NaN</td>\n",
              "      <td>NaN</td>\n",
              "      <td>NaN</td>\n",
              "    </tr>\n",
              "    <tr>\n",
              "      <th>3</th>\n",
              "      <td>1</td>\n",
              "      <td>participatory design</td>\n",
              "      <td>domain specific entity</td>\n",
              "      <td>IS topic</td>\n",
              "      <td>systems development</td>\n",
              "      <td>system development method</td>\n",
              "      <td>human centered design</td>\n",
              "      <td>participatory design</td>\n",
              "      <td>NaN</td>\n",
              "      <td>NaN</td>\n",
              "      <td>NaN</td>\n",
              "      <td>NaN</td>\n",
              "    </tr>\n",
              "    <tr>\n",
              "      <th>4</th>\n",
              "      <td>1</td>\n",
              "      <td>group participant</td>\n",
              "      <td>domain specific entity</td>\n",
              "      <td>study object</td>\n",
              "      <td>participant</td>\n",
              "      <td>group participant</td>\n",
              "      <td>NaN</td>\n",
              "      <td>NaN</td>\n",
              "      <td>NaN</td>\n",
              "      <td>NaN</td>\n",
              "      <td>NaN</td>\n",
              "      <td>NaN</td>\n",
              "    </tr>\n",
              "    <tr>\n",
              "      <th>...</th>\n",
              "      <td>...</td>\n",
              "      <td>...</td>\n",
              "      <td>...</td>\n",
              "      <td>...</td>\n",
              "      <td>...</td>\n",
              "      <td>...</td>\n",
              "      <td>...</td>\n",
              "      <td>...</td>\n",
              "      <td>...</td>\n",
              "      <td>...</td>\n",
              "      <td>...</td>\n",
              "      <td>...</td>\n",
              "    </tr>\n",
              "    <tr>\n",
              "      <th>1797735</th>\n",
              "      <td>6831</td>\n",
              "      <td>literature sample</td>\n",
              "      <td>methodological entity</td>\n",
              "      <td>research method</td>\n",
              "      <td>conceptual method</td>\n",
              "      <td>literature study</td>\n",
              "      <td>structured literature research</td>\n",
              "      <td>literature sample</td>\n",
              "      <td>NaN</td>\n",
              "      <td>NaN</td>\n",
              "      <td>NaN</td>\n",
              "      <td>NaN</td>\n",
              "    </tr>\n",
              "    <tr>\n",
              "      <th>1797736</th>\n",
              "      <td>6831</td>\n",
              "      <td>internet technology</td>\n",
              "      <td>domain specific entity</td>\n",
              "      <td>IS technology</td>\n",
              "      <td>information technology infrastructure</td>\n",
              "      <td>communication service infrastructure</td>\n",
              "      <td>internet technology</td>\n",
              "      <td>NaN</td>\n",
              "      <td>NaN</td>\n",
              "      <td>NaN</td>\n",
              "      <td>NaN</td>\n",
              "      <td>NaN</td>\n",
              "    </tr>\n",
              "    <tr>\n",
              "      <th>1797737</th>\n",
              "      <td>6831</td>\n",
              "      <td>government</td>\n",
              "      <td>domain specific entity</td>\n",
              "      <td>economic sector</td>\n",
              "      <td>government</td>\n",
              "      <td>NaN</td>\n",
              "      <td>NaN</td>\n",
              "      <td>NaN</td>\n",
              "      <td>NaN</td>\n",
              "      <td>NaN</td>\n",
              "      <td>NaN</td>\n",
              "      <td>NaN</td>\n",
              "    </tr>\n",
              "    <tr>\n",
              "      <th>1797738</th>\n",
              "      <td>6831</td>\n",
              "      <td>health information system</td>\n",
              "      <td>domain specific entity</td>\n",
              "      <td>IS technology</td>\n",
              "      <td>enterprise information system</td>\n",
              "      <td>industry specific information system</td>\n",
              "      <td>health information system</td>\n",
              "      <td>NaN</td>\n",
              "      <td>NaN</td>\n",
              "      <td>NaN</td>\n",
              "      <td>NaN</td>\n",
              "      <td>NaN</td>\n",
              "    </tr>\n",
              "    <tr>\n",
              "      <th>1797739</th>\n",
              "      <td>6831</td>\n",
              "      <td>government</td>\n",
              "      <td>domain specific entity</td>\n",
              "      <td>economic sector</td>\n",
              "      <td>government</td>\n",
              "      <td>NaN</td>\n",
              "      <td>NaN</td>\n",
              "      <td>NaN</td>\n",
              "      <td>NaN</td>\n",
              "      <td>NaN</td>\n",
              "      <td>NaN</td>\n",
              "      <td>NaN</td>\n",
              "    </tr>\n",
              "  </tbody>\n",
              "</table>\n",
              "<p>1797740 rows × 12 columns</p>\n",
              "</div>\n",
              "      <button class=\"colab-df-convert\" onclick=\"convertToInteractive('df-3397cd57-83fc-49ec-a1eb-fca0446a4102')\"\n",
              "              title=\"Convert this dataframe to an interactive table.\"\n",
              "              style=\"display:none;\">\n",
              "        \n",
              "  <svg xmlns=\"http://www.w3.org/2000/svg\" height=\"24px\"viewBox=\"0 0 24 24\"\n",
              "       width=\"24px\">\n",
              "    <path d=\"M0 0h24v24H0V0z\" fill=\"none\"/>\n",
              "    <path d=\"M18.56 5.44l.94 2.06.94-2.06 2.06-.94-2.06-.94-.94-2.06-.94 2.06-2.06.94zm-11 1L8.5 8.5l.94-2.06 2.06-.94-2.06-.94L8.5 2.5l-.94 2.06-2.06.94zm10 10l.94 2.06.94-2.06 2.06-.94-2.06-.94-.94-2.06-.94 2.06-2.06.94z\"/><path d=\"M17.41 7.96l-1.37-1.37c-.4-.4-.92-.59-1.43-.59-.52 0-1.04.2-1.43.59L10.3 9.45l-7.72 7.72c-.78.78-.78 2.05 0 2.83L4 21.41c.39.39.9.59 1.41.59.51 0 1.02-.2 1.41-.59l7.78-7.78 2.81-2.81c.8-.78.8-2.07 0-2.86zM5.41 20L4 18.59l7.72-7.72 1.47 1.35L5.41 20z\"/>\n",
              "  </svg>\n",
              "      </button>\n",
              "      \n",
              "  <style>\n",
              "    .colab-df-container {\n",
              "      display:flex;\n",
              "      flex-wrap:wrap;\n",
              "      gap: 12px;\n",
              "    }\n",
              "\n",
              "    .colab-df-convert {\n",
              "      background-color: #E8F0FE;\n",
              "      border: none;\n",
              "      border-radius: 50%;\n",
              "      cursor: pointer;\n",
              "      display: none;\n",
              "      fill: #1967D2;\n",
              "      height: 32px;\n",
              "      padding: 0 0 0 0;\n",
              "      width: 32px;\n",
              "    }\n",
              "\n",
              "    .colab-df-convert:hover {\n",
              "      background-color: #E2EBFA;\n",
              "      box-shadow: 0px 1px 2px rgba(60, 64, 67, 0.3), 0px 1px 3px 1px rgba(60, 64, 67, 0.15);\n",
              "      fill: #174EA6;\n",
              "    }\n",
              "\n",
              "    [theme=dark] .colab-df-convert {\n",
              "      background-color: #3B4455;\n",
              "      fill: #D2E3FC;\n",
              "    }\n",
              "\n",
              "    [theme=dark] .colab-df-convert:hover {\n",
              "      background-color: #434B5C;\n",
              "      box-shadow: 0px 1px 3px 1px rgba(0, 0, 0, 0.15);\n",
              "      filter: drop-shadow(0px 1px 2px rgba(0, 0, 0, 0.3));\n",
              "      fill: #FFFFFF;\n",
              "    }\n",
              "  </style>\n",
              "\n",
              "      <script>\n",
              "        const buttonEl =\n",
              "          document.querySelector('#df-3397cd57-83fc-49ec-a1eb-fca0446a4102 button.colab-df-convert');\n",
              "        buttonEl.style.display =\n",
              "          google.colab.kernel.accessAllowed ? 'block' : 'none';\n",
              "\n",
              "        async function convertToInteractive(key) {\n",
              "          const element = document.querySelector('#df-3397cd57-83fc-49ec-a1eb-fca0446a4102');\n",
              "          const dataTable =\n",
              "            await google.colab.kernel.invokeFunction('convertToInteractive',\n",
              "                                                     [key], {});\n",
              "          if (!dataTable) return;\n",
              "\n",
              "          const docLinkHtml = 'Like what you see? Visit the ' +\n",
              "            '<a target=\"_blank\" href=https://colab.research.google.com/notebooks/data_table.ipynb>data table notebook</a>'\n",
              "            + ' to learn more about interactive tables.';\n",
              "          element.innerHTML = '';\n",
              "          dataTable['output_type'] = 'display_data';\n",
              "          await google.colab.output.renderOutput(dataTable, element);\n",
              "          const docLink = document.createElement('div');\n",
              "          docLink.innerHTML = docLinkHtml;\n",
              "          element.appendChild(docLink);\n",
              "        }\n",
              "      </script>\n",
              "    </div>\n",
              "  </div>\n",
              "  "
            ]
          },
          "metadata": {},
          "execution_count": 62
        }
      ]
    },
    {
      "cell_type": "code",
      "source": [
        "dt = pd.read_json(r'/content/drive/MyDrive/TWSM_Visual/isontology.json')"
      ],
      "metadata": {
        "id": "hKil2eHOI-e7"
      },
      "execution_count": 63,
      "outputs": []
    },
    {
      "cell_type": "code",
      "source": [
        ""
      ],
      "metadata": {
        "id": "wLJ3Vi9vJ0mo"
      },
      "execution_count": 63,
      "outputs": []
    },
    {
      "cell_type": "markdown",
      "source": [
        "## Network Graph"
      ],
      "metadata": {
        "id": "TPb7szyMJMyk"
      }
    },
    {
      "cell_type": "code",
      "source": [
        "ent_new['level_1'].unique()"
      ],
      "metadata": {
        "colab": {
          "base_uri": "https://localhost:8080/"
        },
        "id": "WyBDIGRHLTbS",
        "outputId": "7c688618-1d6d-48bd-fd32-e4785de6fb36"
      },
      "execution_count": 64,
      "outputs": [
        {
          "output_type": "execute_result",
          "data": {
            "text/plain": [
              "array(['domain specific entity', 'theoretical entity',\n",
              "       'methodological entity'], dtype=object)"
            ]
          },
          "metadata": {},
          "execution_count": 64
        }
      ]
    },
    {
      "cell_type": "code",
      "source": [
        "ent_new.head()"
      ],
      "metadata": {
        "colab": {
          "base_uri": "https://localhost:8080/",
          "height": 441
        },
        "id": "KXWJqpewNBpd",
        "outputId": "426011b1-7004-4c54-9820-d03e9e0ad8f1"
      },
      "execution_count": 65,
      "outputs": [
        {
          "output_type": "execute_result",
          "data": {
            "text/plain": [
              "                  level_1        level_2                        level_3  \\\n",
              "0  domain specific entity       IS topic           knowledge management   \n",
              "1  domain specific entity       IS topic                digital economy   \n",
              "2  domain specific entity  IS technology  enterprise information system   \n",
              "3  domain specific entity       IS topic            systems development   \n",
              "4  domain specific entity   study object                    participant   \n",
              "\n",
              "                          level_4                       level_5  \\\n",
              "0            knowledge repository                           NaN   \n",
              "1                digital business              digital platform   \n",
              "2  operational information system  enterprise resource planning   \n",
              "3       system development method         human centered design   \n",
              "4               group participant                           NaN   \n",
              "\n",
              "                level_6         level_7 level_8 level_9 level_10  \\\n",
              "0                   NaN             NaN     NaN     NaN      NaN   \n",
              "1                   NaN             NaN     NaN     NaN      NaN   \n",
              "2  ERP software package  Salesforce.com     NaN     NaN      NaN   \n",
              "3  participatory design             NaN     NaN     NaN      NaN   \n",
              "4                   NaN             NaN     NaN     NaN      NaN   \n",
              "\n",
              "                                                                                                                                                                      group  \n",
              "0                                                                                              domain specific entity, IS topic, knowledge management, knowledge repository  \n",
              "1                                                                                     domain specific entity, IS topic, digital economy, digital business, digital platform  \n",
              "2  domain specific entity, IS technology, enterprise information system, operational information system, enterprise resource planning, ERP software package, Salesforce.com  \n",
              "3                                             domain specific entity, IS topic, systems development, system development method, human centered design, participatory design  \n",
              "4                                                                                                      domain specific entity, study object, participant, group participant  "
            ],
            "text/html": [
              "\n",
              "  <div id=\"df-fc57aa3c-39c1-41f2-91e6-7ac2c0859f43\">\n",
              "    <div class=\"colab-df-container\">\n",
              "      <div>\n",
              "<style scoped>\n",
              "    .dataframe tbody tr th:only-of-type {\n",
              "        vertical-align: middle;\n",
              "    }\n",
              "\n",
              "    .dataframe tbody tr th {\n",
              "        vertical-align: top;\n",
              "    }\n",
              "\n",
              "    .dataframe thead th {\n",
              "        text-align: right;\n",
              "    }\n",
              "</style>\n",
              "<table border=\"1\" class=\"dataframe\">\n",
              "  <thead>\n",
              "    <tr style=\"text-align: right;\">\n",
              "      <th></th>\n",
              "      <th>level_1</th>\n",
              "      <th>level_2</th>\n",
              "      <th>level_3</th>\n",
              "      <th>level_4</th>\n",
              "      <th>level_5</th>\n",
              "      <th>level_6</th>\n",
              "      <th>level_7</th>\n",
              "      <th>level_8</th>\n",
              "      <th>level_9</th>\n",
              "      <th>level_10</th>\n",
              "      <th>group</th>\n",
              "    </tr>\n",
              "  </thead>\n",
              "  <tbody>\n",
              "    <tr>\n",
              "      <th>0</th>\n",
              "      <td>domain specific entity</td>\n",
              "      <td>IS topic</td>\n",
              "      <td>knowledge management</td>\n",
              "      <td>knowledge repository</td>\n",
              "      <td>NaN</td>\n",
              "      <td>NaN</td>\n",
              "      <td>NaN</td>\n",
              "      <td>NaN</td>\n",
              "      <td>NaN</td>\n",
              "      <td>NaN</td>\n",
              "      <td>domain specific entity, IS topic, knowledge management, knowledge repository</td>\n",
              "    </tr>\n",
              "    <tr>\n",
              "      <th>1</th>\n",
              "      <td>domain specific entity</td>\n",
              "      <td>IS topic</td>\n",
              "      <td>digital economy</td>\n",
              "      <td>digital business</td>\n",
              "      <td>digital platform</td>\n",
              "      <td>NaN</td>\n",
              "      <td>NaN</td>\n",
              "      <td>NaN</td>\n",
              "      <td>NaN</td>\n",
              "      <td>NaN</td>\n",
              "      <td>domain specific entity, IS topic, digital economy, digital business, digital platform</td>\n",
              "    </tr>\n",
              "    <tr>\n",
              "      <th>2</th>\n",
              "      <td>domain specific entity</td>\n",
              "      <td>IS technology</td>\n",
              "      <td>enterprise information system</td>\n",
              "      <td>operational information system</td>\n",
              "      <td>enterprise resource planning</td>\n",
              "      <td>ERP software package</td>\n",
              "      <td>Salesforce.com</td>\n",
              "      <td>NaN</td>\n",
              "      <td>NaN</td>\n",
              "      <td>NaN</td>\n",
              "      <td>domain specific entity, IS technology, enterprise information system, operational information system, enterprise resource planning, ERP software package, Salesforce.com</td>\n",
              "    </tr>\n",
              "    <tr>\n",
              "      <th>3</th>\n",
              "      <td>domain specific entity</td>\n",
              "      <td>IS topic</td>\n",
              "      <td>systems development</td>\n",
              "      <td>system development method</td>\n",
              "      <td>human centered design</td>\n",
              "      <td>participatory design</td>\n",
              "      <td>NaN</td>\n",
              "      <td>NaN</td>\n",
              "      <td>NaN</td>\n",
              "      <td>NaN</td>\n",
              "      <td>domain specific entity, IS topic, systems development, system development method, human centered design, participatory design</td>\n",
              "    </tr>\n",
              "    <tr>\n",
              "      <th>4</th>\n",
              "      <td>domain specific entity</td>\n",
              "      <td>study object</td>\n",
              "      <td>participant</td>\n",
              "      <td>group participant</td>\n",
              "      <td>NaN</td>\n",
              "      <td>NaN</td>\n",
              "      <td>NaN</td>\n",
              "      <td>NaN</td>\n",
              "      <td>NaN</td>\n",
              "      <td>NaN</td>\n",
              "      <td>domain specific entity, study object, participant, group participant</td>\n",
              "    </tr>\n",
              "  </tbody>\n",
              "</table>\n",
              "</div>\n",
              "      <button class=\"colab-df-convert\" onclick=\"convertToInteractive('df-fc57aa3c-39c1-41f2-91e6-7ac2c0859f43')\"\n",
              "              title=\"Convert this dataframe to an interactive table.\"\n",
              "              style=\"display:none;\">\n",
              "        \n",
              "  <svg xmlns=\"http://www.w3.org/2000/svg\" height=\"24px\"viewBox=\"0 0 24 24\"\n",
              "       width=\"24px\">\n",
              "    <path d=\"M0 0h24v24H0V0z\" fill=\"none\"/>\n",
              "    <path d=\"M18.56 5.44l.94 2.06.94-2.06 2.06-.94-2.06-.94-.94-2.06-.94 2.06-2.06.94zm-11 1L8.5 8.5l.94-2.06 2.06-.94-2.06-.94L8.5 2.5l-.94 2.06-2.06.94zm10 10l.94 2.06.94-2.06 2.06-.94-2.06-.94-.94-2.06-.94 2.06-2.06.94z\"/><path d=\"M17.41 7.96l-1.37-1.37c-.4-.4-.92-.59-1.43-.59-.52 0-1.04.2-1.43.59L10.3 9.45l-7.72 7.72c-.78.78-.78 2.05 0 2.83L4 21.41c.39.39.9.59 1.41.59.51 0 1.02-.2 1.41-.59l7.78-7.78 2.81-2.81c.8-.78.8-2.07 0-2.86zM5.41 20L4 18.59l7.72-7.72 1.47 1.35L5.41 20z\"/>\n",
              "  </svg>\n",
              "      </button>\n",
              "      \n",
              "  <style>\n",
              "    .colab-df-container {\n",
              "      display:flex;\n",
              "      flex-wrap:wrap;\n",
              "      gap: 12px;\n",
              "    }\n",
              "\n",
              "    .colab-df-convert {\n",
              "      background-color: #E8F0FE;\n",
              "      border: none;\n",
              "      border-radius: 50%;\n",
              "      cursor: pointer;\n",
              "      display: none;\n",
              "      fill: #1967D2;\n",
              "      height: 32px;\n",
              "      padding: 0 0 0 0;\n",
              "      width: 32px;\n",
              "    }\n",
              "\n",
              "    .colab-df-convert:hover {\n",
              "      background-color: #E2EBFA;\n",
              "      box-shadow: 0px 1px 2px rgba(60, 64, 67, 0.3), 0px 1px 3px 1px rgba(60, 64, 67, 0.15);\n",
              "      fill: #174EA6;\n",
              "    }\n",
              "\n",
              "    [theme=dark] .colab-df-convert {\n",
              "      background-color: #3B4455;\n",
              "      fill: #D2E3FC;\n",
              "    }\n",
              "\n",
              "    [theme=dark] .colab-df-convert:hover {\n",
              "      background-color: #434B5C;\n",
              "      box-shadow: 0px 1px 3px 1px rgba(0, 0, 0, 0.15);\n",
              "      filter: drop-shadow(0px 1px 2px rgba(0, 0, 0, 0.3));\n",
              "      fill: #FFFFFF;\n",
              "    }\n",
              "  </style>\n",
              "\n",
              "      <script>\n",
              "        const buttonEl =\n",
              "          document.querySelector('#df-fc57aa3c-39c1-41f2-91e6-7ac2c0859f43 button.colab-df-convert');\n",
              "        buttonEl.style.display =\n",
              "          google.colab.kernel.accessAllowed ? 'block' : 'none';\n",
              "\n",
              "        async function convertToInteractive(key) {\n",
              "          const element = document.querySelector('#df-fc57aa3c-39c1-41f2-91e6-7ac2c0859f43');\n",
              "          const dataTable =\n",
              "            await google.colab.kernel.invokeFunction('convertToInteractive',\n",
              "                                                     [key], {});\n",
              "          if (!dataTable) return;\n",
              "\n",
              "          const docLinkHtml = 'Like what you see? Visit the ' +\n",
              "            '<a target=\"_blank\" href=https://colab.research.google.com/notebooks/data_table.ipynb>data table notebook</a>'\n",
              "            + ' to learn more about interactive tables.';\n",
              "          element.innerHTML = '';\n",
              "          dataTable['output_type'] = 'display_data';\n",
              "          await google.colab.output.renderOutput(dataTable, element);\n",
              "          const docLink = document.createElement('div');\n",
              "          docLink.innerHTML = docLinkHtml;\n",
              "          element.appendChild(docLink);\n",
              "        }\n",
              "      </script>\n",
              "    </div>\n",
              "  </div>\n",
              "  "
            ]
          },
          "metadata": {},
          "execution_count": 65
        }
      ]
    },
    {
      "cell_type": "code",
      "source": [
        "import plotly.graph_objects as go\n",
        "\n",
        "import networkx as nx\n",
        "G = nx.Graph()\n",
        "\n",
        "F = [G.add_node(ent) for ent in ent_new['level_1'].unique()]"
      ],
      "metadata": {
        "id": "6NtGbepHJUz2"
      },
      "execution_count": 66,
      "outputs": []
    },
    {
      "cell_type": "code",
      "source": [
        "entity = ent_final.head(1)"
      ],
      "metadata": {
        "id": "SINcGdETPHQa"
      },
      "execution_count": 67,
      "outputs": []
    },
    {
      "cell_type": "code",
      "source": [
        "G.nodes"
      ],
      "metadata": {
        "colab": {
          "base_uri": "https://localhost:8080/"
        },
        "id": "AVXK_PqmOFNQ",
        "outputId": "6d5dcff0-1a5a-462e-97fe-83704658056d"
      },
      "execution_count": 68,
      "outputs": [
        {
          "output_type": "execute_result",
          "data": {
            "text/plain": [
              "NodeView(('domain specific entity', 'theoretical entity', 'methodological entity'))"
            ]
          },
          "metadata": {},
          "execution_count": 68
        }
      ]
    },
    {
      "cell_type": "markdown",
      "source": [
        "## Knowledge Graph (First Try)"
      ],
      "metadata": {
        "id": "S8kjOkkAO4CB"
      }
    },
    {
      "cell_type": "code",
      "source": [
        "def get_entities(sent):\n",
        "  ## chunk 1\n",
        "  ent1 = \"\"\n",
        "  ent2 = \"\"\n",
        "  ent3 = \"\"\n",
        "  ent4 = \"\"\n",
        "  ent5 = \"\"\n",
        "  ent6 = \"\"\n",
        "  ent7 = \"\"\n",
        "  ent8 = \"\"\n",
        "  ent9 = \"\"\n",
        "  ent10 = \"\"\n",
        "\n",
        "  prv_tok_dep = \"\"    # dependency tag of previous token in the sentence\n",
        "  prv_tok_text = \"\"   # previous token in the sentence\n",
        "\n",
        "  prefix = \"\"\n",
        "  modifier = \"\"\n",
        "\n",
        "  #############################################################\n",
        "  \n",
        "  for tok in nlp(sent):\n",
        "    ## chunk 2\n",
        "    # if token is a punctuation mark then move on to the next token\n",
        "    if tok.dep_ != \"punct\":\n",
        "      # check: token is a compound word or not\n",
        "      if tok.dep_ == \"compound\":\n",
        "        prefix = tok.text\n",
        "        # if the previous word was also a 'compound' then add the current word to it\n",
        "        if prv_tok_dep == \"compound\":\n",
        "          prefix = prv_tok_text + \" \"+ tok.text\n",
        "      \n",
        "      # check: token is a modifier or not\n",
        "      if tok.dep_.endswith(\"mod\") == True:\n",
        "        modifier = tok.text\n",
        "        # if the previous word was also a 'compound' then add the current word to it\n",
        "        if prv_tok_dep == \"compound\":\n",
        "          modifier = prv_tok_text + \" \"+ tok.text\n",
        "      \n",
        "      ## chunk 3\n",
        "      if tok.dep_.find(\"subj\") == True:\n",
        "        ent1 = modifier +\" \"+ prefix + \" \"+ tok.text\n",
        "        prefix = \"\"\n",
        "        modifier = \"\"\n",
        "        prv_tok_dep = \"\"\n",
        "        prv_tok_text = \"\"      \n",
        "\n",
        "      ## chunk 4\n",
        "      if tok.dep_.find(\"obj\") == True:\n",
        "        ent2 = modifier +\" \"+ prefix +\" \"+ tok.text\n",
        "        \n",
        "      ## chunk 5  \n",
        "      # update variables\n",
        "      prv_tok_dep = tok.dep_\n",
        "      prv_tok_text = tok.text\n",
        "  #############################################################\n",
        "\n",
        "  return [ent1.strip(), ent2.strip()]"
      ],
      "metadata": {
        "id": "yaJso-bO2Lgf"
      },
      "execution_count": 78,
      "outputs": []
    },
    {
      "cell_type": "code",
      "source": [
        "df_final_1 = df_final.head(250)"
      ],
      "metadata": {
        "id": "gT7uxLWV10ly"
      },
      "execution_count": 103,
      "outputs": []
    },
    {
      "cell_type": "code",
      "source": [
        "entity_pairs = []\n",
        "\n",
        "for i in tqdm(df_final_1[\"group\"]):\n",
        "  entity_pairs.append(get_entities(i))"
      ],
      "metadata": {
        "id": "kz9zdeWK1oy-",
        "colab": {
          "base_uri": "https://localhost:8080/"
        },
        "outputId": "e8918aa5-5570-41f3-9845-bcffe81ba788"
      },
      "execution_count": 105,
      "outputs": [
        {
          "output_type": "stream",
          "name": "stderr",
          "text": [
            "\n",
            "\n",
            "  0%|          | 0/250 [00:00<?, ?it/s]\u001b[A\u001b[A\n",
            "\n",
            "  0%|          | 1/250 [00:00<00:56,  4.41it/s]\u001b[A\u001b[A\n",
            "\n",
            "  1%|          | 2/250 [00:00<00:43,  5.76it/s]\u001b[A\u001b[A\n",
            "\n",
            "  1%|          | 3/250 [00:00<00:59,  4.17it/s]\u001b[A\u001b[A\n",
            "\n",
            "  2%|▏         | 4/250 [00:01<01:20,  3.05it/s]\u001b[A\u001b[A\n",
            "\n",
            "  2%|▏         | 5/250 [00:01<01:21,  3.00it/s]\u001b[A\u001b[A\n",
            "\n",
            "  2%|▏         | 6/250 [00:02<01:38,  2.49it/s]\u001b[A\u001b[A\n",
            "\n",
            "  3%|▎         | 7/250 [00:02<01:36,  2.52it/s]\u001b[A\u001b[A\n",
            "\n",
            "  3%|▎         | 8/250 [00:03<02:28,  1.63it/s]\u001b[A\u001b[A\n",
            "\n",
            "  4%|▎         | 9/250 [00:04<02:22,  1.69it/s]\u001b[A\u001b[A\n",
            "\n",
            "  4%|▍         | 10/250 [00:05<03:13,  1.24it/s]\u001b[A\u001b[A\n",
            "\n",
            "  4%|▍         | 11/250 [00:05<02:56,  1.35it/s]\u001b[A\u001b[A\n",
            "\n",
            "  5%|▍         | 12/250 [00:07<03:49,  1.04it/s]\u001b[A\u001b[A\n",
            "\n",
            "  5%|▌         | 13/250 [00:08<04:10,  1.05s/it]\u001b[A\u001b[A\n",
            "\n",
            "  6%|▌         | 14/250 [00:10<04:55,  1.25s/it]\u001b[A\u001b[A\n",
            "\n",
            "  6%|▌         | 15/250 [00:10<04:08,  1.06s/it]\u001b[A\u001b[A\n",
            "\n",
            "  6%|▋         | 16/250 [00:11<03:23,  1.15it/s]\u001b[A\u001b[A\n",
            "\n",
            "  7%|▋         | 17/250 [00:11<02:35,  1.50it/s]\u001b[A\u001b[A\n",
            "\n",
            "  7%|▋         | 18/250 [00:12<02:45,  1.40it/s]\u001b[A\u001b[A\n",
            "\n",
            "  8%|▊         | 19/250 [00:12<02:27,  1.56it/s]\u001b[A\u001b[A\n",
            "\n",
            "  8%|▊         | 20/250 [00:13<02:20,  1.64it/s]\u001b[A\u001b[A\n",
            "\n",
            "  8%|▊         | 21/250 [00:13<01:49,  2.09it/s]\u001b[A\u001b[A\n",
            "\n",
            "  9%|▉         | 22/250 [00:14<01:59,  1.90it/s]\u001b[A\u001b[A\n",
            "\n",
            "  9%|▉         | 23/250 [00:15<02:17,  1.65it/s]\u001b[A\u001b[A\n",
            "\n",
            " 10%|▉         | 24/250 [00:15<01:56,  1.94it/s]\u001b[A\u001b[A\n",
            "\n",
            " 10%|█         | 25/250 [00:15<01:29,  2.51it/s]\u001b[A\u001b[A\n",
            "\n",
            " 11%|█         | 27/250 [00:15<00:54,  4.08it/s]\u001b[A\u001b[A\n",
            "\n",
            " 11%|█         | 28/250 [00:16<01:12,  3.07it/s]\u001b[A\u001b[A\n",
            "\n",
            " 12%|█▏        | 29/250 [00:16<01:11,  3.09it/s]\u001b[A\u001b[A\n",
            "\n",
            " 12%|█▏        | 30/250 [00:16<01:06,  3.32it/s]\u001b[A\u001b[A\n",
            "\n",
            " 12%|█▏        | 31/250 [00:17<01:27,  2.50it/s]\u001b[A\u001b[A\n",
            "\n",
            " 13%|█▎        | 32/250 [00:18<02:09,  1.68it/s]\u001b[A\u001b[A\n",
            "\n",
            " 14%|█▎        | 34/250 [00:19<01:45,  2.04it/s]\u001b[A\u001b[A\n",
            "\n",
            " 14%|█▍        | 35/250 [00:19<01:52,  1.91it/s]\u001b[A\u001b[A\n",
            "\n",
            " 14%|█▍        | 36/250 [00:20<01:42,  2.10it/s]\u001b[A\u001b[A\n",
            "\n",
            " 15%|█▍        | 37/250 [00:20<01:47,  1.98it/s]\u001b[A\u001b[A\n",
            "\n",
            " 15%|█▌        | 38/250 [00:20<01:32,  2.30it/s]\u001b[A\u001b[A\n",
            "\n",
            " 16%|█▌        | 39/250 [00:21<01:46,  1.99it/s]\u001b[A\u001b[A\n",
            "\n",
            " 16%|█▌        | 40/250 [00:22<01:52,  1.87it/s]\u001b[A\u001b[A\n",
            "\n",
            " 16%|█▋        | 41/250 [00:22<01:40,  2.08it/s]\u001b[A\u001b[A\n",
            "\n",
            " 17%|█▋        | 42/250 [00:23<01:45,  1.97it/s]\u001b[A\u001b[A\n",
            "\n",
            " 17%|█▋        | 43/250 [00:23<01:34,  2.19it/s]\u001b[A\u001b[A\n",
            "\n",
            " 18%|█▊        | 44/250 [00:23<01:14,  2.75it/s]\u001b[A\u001b[A\n",
            "\n",
            " 18%|█▊        | 45/250 [00:23<01:03,  3.24it/s]\u001b[A\u001b[A\n",
            "\n",
            " 19%|█▉        | 47/250 [00:24<00:51,  3.96it/s]\u001b[A\u001b[A\n",
            "\n",
            " 19%|█▉        | 48/250 [00:24<00:59,  3.37it/s]\u001b[A\u001b[A\n",
            "\n",
            " 20%|█▉        | 49/250 [00:24<00:55,  3.62it/s]\u001b[A\u001b[A\n",
            "\n",
            " 20%|██        | 50/250 [00:25<00:54,  3.64it/s]\u001b[A\u001b[A\n",
            "\n",
            " 20%|██        | 51/250 [00:25<01:12,  2.73it/s]\u001b[A\u001b[A\n",
            "\n",
            " 21%|██        | 52/250 [00:25<01:05,  3.04it/s]\u001b[A\u001b[A\n",
            "\n",
            " 21%|██        | 53/250 [00:26<01:06,  2.96it/s]\u001b[A\u001b[A\n",
            "\n",
            " 22%|██▏       | 54/250 [00:26<01:04,  3.02it/s]\u001b[A\u001b[A\n",
            "\n",
            " 22%|██▏       | 55/250 [00:27<01:35,  2.05it/s]\u001b[A\u001b[A\n",
            "\n",
            " 22%|██▏       | 56/250 [00:27<01:28,  2.18it/s]\u001b[A\u001b[A\n",
            "\n",
            " 23%|██▎       | 57/250 [00:28<01:19,  2.43it/s]\u001b[A\u001b[A\n",
            "\n",
            " 23%|██▎       | 58/250 [00:28<01:22,  2.33it/s]\u001b[A\u001b[A\n",
            "\n",
            " 24%|██▎       | 59/250 [00:29<01:19,  2.39it/s]\u001b[A\u001b[A\n",
            "\n",
            " 24%|██▍       | 60/250 [00:29<01:14,  2.55it/s]\u001b[A\u001b[A\n",
            "\n",
            " 24%|██▍       | 61/250 [00:29<01:03,  2.97it/s]\u001b[A\u001b[A\n",
            "\n",
            " 25%|██▍       | 62/250 [00:30<01:44,  1.80it/s]\u001b[A\u001b[A\n",
            "\n",
            " 26%|██▌       | 64/250 [00:30<01:02,  2.99it/s]\u001b[A\u001b[A\n",
            "\n",
            " 26%|██▌       | 65/250 [00:30<00:52,  3.51it/s]\u001b[A\u001b[A\n",
            "\n",
            " 27%|██▋       | 67/250 [00:31<00:37,  4.89it/s]\u001b[A\u001b[A\n",
            "\n",
            " 28%|██▊       | 70/250 [00:31<00:22,  8.07it/s]\u001b[A\u001b[A\n",
            "\n",
            " 29%|██▉       | 72/250 [00:31<00:30,  5.91it/s]\u001b[A\u001b[A\n",
            "\n",
            " 30%|██▉       | 74/250 [00:33<00:54,  3.26it/s]\u001b[A\u001b[A\n",
            "\n",
            " 30%|███       | 75/250 [00:33<00:57,  3.02it/s]\u001b[A\u001b[A\n",
            "\n",
            " 30%|███       | 76/250 [00:35<01:43,  1.68it/s]\u001b[A\u001b[A\n",
            "\n",
            " 31%|███       | 77/250 [00:36<02:13,  1.29it/s]\u001b[A\u001b[A\n",
            "\n",
            " 31%|███       | 78/250 [00:36<01:45,  1.63it/s]\u001b[A\u001b[A\n",
            "\n",
            " 32%|███▏      | 79/250 [00:37<01:42,  1.66it/s]\u001b[A\u001b[A\n",
            "\n",
            " 32%|███▏      | 80/250 [00:38<02:02,  1.39it/s]\u001b[A\u001b[A\n",
            "\n",
            " 32%|███▏      | 81/250 [00:38<01:40,  1.69it/s]\u001b[A\u001b[A\n",
            "\n",
            " 33%|███▎      | 82/250 [00:38<01:34,  1.77it/s]\u001b[A\u001b[A\n",
            "\n",
            " 33%|███▎      | 83/250 [00:39<01:27,  1.92it/s]\u001b[A\u001b[A\n",
            "\n",
            " 34%|███▎      | 84/250 [00:39<01:19,  2.10it/s]\u001b[A\u001b[A\n",
            "\n",
            " 34%|███▍      | 85/250 [00:40<01:18,  2.10it/s]\u001b[A\u001b[A\n",
            "\n",
            " 34%|███▍      | 86/250 [00:41<01:38,  1.67it/s]\u001b[A\u001b[A\n",
            "\n",
            " 35%|███▍      | 87/250 [00:41<01:48,  1.50it/s]\u001b[A\u001b[A\n",
            "\n",
            " 35%|███▌      | 88/250 [00:43<02:09,  1.25it/s]\u001b[A\u001b[A\n",
            "\n",
            " 36%|███▌      | 89/250 [00:43<01:52,  1.43it/s]\u001b[A\u001b[A\n",
            "\n",
            " 36%|███▌      | 90/250 [00:43<01:37,  1.63it/s]\u001b[A\u001b[A\n",
            "\n",
            " 36%|███▋      | 91/250 [00:44<01:38,  1.61it/s]\u001b[A\u001b[A\n",
            "\n",
            " 37%|███▋      | 92/250 [00:45<01:44,  1.51it/s]\u001b[A\u001b[A\n",
            "\n",
            " 37%|███▋      | 93/250 [00:45<01:23,  1.87it/s]\u001b[A\u001b[A\n",
            "\n",
            " 38%|███▊      | 94/250 [00:45<01:13,  2.12it/s]\u001b[A\u001b[A\n",
            "\n",
            " 38%|███▊      | 95/250 [00:46<01:16,  2.04it/s]\u001b[A\u001b[A\n",
            "\n",
            " 38%|███▊      | 96/250 [00:46<01:14,  2.08it/s]\u001b[A\u001b[A\n",
            "\n",
            " 39%|███▉      | 97/250 [00:47<01:15,  2.03it/s]\u001b[A\u001b[A\n",
            "\n",
            " 39%|███▉      | 98/250 [00:47<01:13,  2.05it/s]\u001b[A\u001b[A\n",
            "\n",
            " 40%|███▉      | 99/250 [00:48<01:12,  2.09it/s]\u001b[A\u001b[A\n",
            "\n",
            " 40%|████      | 100/250 [00:50<02:07,  1.17it/s]\u001b[A\u001b[A\n",
            "\n",
            " 40%|████      | 101/250 [00:50<01:54,  1.30it/s]\u001b[A\u001b[A\n",
            "\n",
            " 41%|████      | 102/250 [00:50<01:34,  1.56it/s]\u001b[A\u001b[A\n",
            "\n",
            " 41%|████      | 103/250 [00:51<01:32,  1.58it/s]\u001b[A\u001b[A\n",
            "\n",
            " 42%|████▏     | 104/250 [00:51<01:19,  1.83it/s]\u001b[A\u001b[A\n",
            "\n",
            " 42%|████▏     | 105/250 [00:52<01:24,  1.73it/s]\u001b[A\u001b[A\n",
            "\n",
            " 42%|████▏     | 106/250 [00:52<01:09,  2.06it/s]\u001b[A\u001b[A\n",
            "\n",
            " 43%|████▎     | 107/250 [00:53<01:07,  2.12it/s]\u001b[A\u001b[A\n",
            "\n",
            " 43%|████▎     | 108/250 [00:53<00:53,  2.66it/s]\u001b[A\u001b[A\n",
            "\n",
            " 44%|████▎     | 109/250 [00:53<00:51,  2.74it/s]\u001b[A\u001b[A\n",
            "\n",
            " 44%|████▍     | 110/250 [00:53<00:45,  3.07it/s]\u001b[A\u001b[A\n",
            "\n",
            " 44%|████▍     | 111/250 [00:54<00:49,  2.81it/s]\u001b[A\u001b[A\n",
            "\n",
            " 45%|████▌     | 113/250 [00:54<00:32,  4.25it/s]\u001b[A\u001b[A\n",
            "\n",
            " 46%|████▌     | 114/250 [00:54<00:27,  4.89it/s]\u001b[A\u001b[A\n",
            "\n",
            " 46%|████▌     | 115/250 [00:54<00:25,  5.25it/s]\u001b[A\u001b[A\n",
            "\n",
            " 47%|████▋     | 118/250 [00:55<00:15,  8.75it/s]\u001b[A\u001b[A\n",
            "\n",
            " 49%|████▉     | 122/250 [00:55<00:21,  6.05it/s]\u001b[A\u001b[A\n",
            "\n",
            " 49%|████▉     | 123/250 [00:56<00:34,  3.65it/s]\u001b[A\u001b[A\n",
            "\n",
            " 50%|████▉     | 124/250 [00:56<00:32,  3.93it/s]\u001b[A\u001b[A\n",
            "\n",
            " 50%|█████     | 125/250 [00:57<00:30,  4.05it/s]\u001b[A\u001b[A\n",
            "\n",
            " 50%|█████     | 126/250 [00:57<00:28,  4.38it/s]\u001b[A\u001b[A\n",
            "\n",
            " 51%|█████     | 127/250 [00:57<00:30,  4.04it/s]\u001b[A\u001b[A\n",
            "\n",
            " 51%|█████     | 128/250 [00:57<00:34,  3.57it/s]\u001b[A\u001b[A\n",
            "\n",
            " 52%|█████▏    | 129/250 [00:58<00:39,  3.03it/s]\u001b[A\u001b[A\n",
            "\n",
            " 52%|█████▏    | 130/250 [00:58<00:40,  2.93it/s]\u001b[A\u001b[A\n",
            "\n",
            " 52%|█████▏    | 131/250 [00:59<00:38,  3.11it/s]\u001b[A\u001b[A\n",
            "\n",
            " 53%|█████▎    | 132/250 [00:59<00:55,  2.13it/s]\u001b[A\u001b[A\n",
            "\n",
            " 53%|█████▎    | 133/250 [01:00<00:46,  2.50it/s]\u001b[A\u001b[A\n",
            "\n",
            " 54%|█████▍    | 135/250 [01:00<00:32,  3.54it/s]\u001b[A\u001b[A\n",
            "\n",
            " 54%|█████▍    | 136/250 [01:00<00:37,  3.07it/s]\u001b[A\u001b[A\n",
            "\n",
            " 55%|█████▍    | 137/250 [01:01<00:51,  2.20it/s]\u001b[A\u001b[A\n",
            "\n",
            " 55%|█████▌    | 138/250 [01:01<00:43,  2.57it/s]\u001b[A\u001b[A\n",
            "\n",
            " 56%|█████▌    | 139/250 [01:02<00:48,  2.27it/s]\u001b[A\u001b[A\n",
            "\n",
            " 56%|█████▋    | 141/250 [01:02<00:34,  3.17it/s]\u001b[A\u001b[A\n",
            "\n",
            " 57%|█████▋    | 142/250 [01:02<00:28,  3.77it/s]\u001b[A\u001b[A\n",
            "\n",
            " 57%|█████▋    | 143/250 [01:03<00:30,  3.52it/s]\u001b[A\u001b[A\n",
            "\n",
            " 58%|█████▊    | 144/250 [01:04<00:46,  2.26it/s]\u001b[A\u001b[A\n",
            "\n",
            " 58%|█████▊    | 145/250 [01:05<01:02,  1.69it/s]\u001b[A\u001b[A\n",
            "\n",
            " 58%|█████▊    | 146/250 [01:05<00:55,  1.88it/s]\u001b[A\u001b[A\n",
            "\n",
            " 59%|█████▉    | 147/250 [01:06<00:56,  1.82it/s]\u001b[A\u001b[A\n",
            "\n",
            " 59%|█████▉    | 148/250 [01:06<00:52,  1.93it/s]\u001b[A\u001b[A\n",
            "\n",
            " 60%|█████▉    | 149/250 [01:06<00:47,  2.12it/s]\u001b[A\u001b[A\n",
            "\n",
            " 60%|██████    | 150/250 [01:07<00:40,  2.45it/s]\u001b[A\u001b[A\n",
            "\n",
            " 60%|██████    | 151/250 [01:08<00:57,  1.71it/s]\u001b[A\u001b[A\n",
            "\n",
            " 61%|██████    | 152/250 [01:08<01:00,  1.61it/s]\u001b[A\u001b[A\n",
            "\n",
            " 61%|██████    | 153/250 [01:08<00:45,  2.13it/s]\u001b[A\u001b[A\n",
            "\n",
            " 62%|██████▏   | 154/250 [01:09<00:40,  2.35it/s]\u001b[A\u001b[A\n",
            "\n",
            " 62%|██████▏   | 155/250 [01:09<00:33,  2.85it/s]\u001b[A\u001b[A\n",
            "\n",
            " 62%|██████▏   | 156/250 [01:10<00:39,  2.40it/s]\u001b[A\u001b[A\n",
            "\n",
            " 63%|██████▎   | 157/250 [01:10<00:44,  2.09it/s]\u001b[A\u001b[A\n",
            "\n",
            " 63%|██████▎   | 158/250 [01:10<00:35,  2.59it/s]\u001b[A\u001b[A\n",
            "\n",
            " 64%|██████▎   | 159/250 [01:11<00:45,  1.98it/s]\u001b[A\u001b[A\n",
            "\n",
            " 64%|██████▍   | 160/250 [01:12<00:51,  1.75it/s]\u001b[A\u001b[A\n",
            "\n",
            " 64%|██████▍   | 161/250 [01:12<00:47,  1.88it/s]\u001b[A\u001b[A\n",
            "\n",
            " 65%|██████▍   | 162/250 [01:13<00:42,  2.06it/s]\u001b[A\u001b[A\n",
            "\n",
            " 65%|██████▌   | 163/250 [01:14<00:53,  1.63it/s]\u001b[A\u001b[A\n",
            "\n",
            " 66%|██████▌   | 164/250 [01:14<00:43,  1.99it/s]\u001b[A\u001b[A\n",
            "\n",
            " 66%|██████▌   | 165/250 [01:15<00:49,  1.72it/s]\u001b[A\u001b[A\n",
            "\n",
            " 66%|██████▋   | 166/250 [01:16<00:59,  1.41it/s]\u001b[A\u001b[A\n",
            "\n",
            " 67%|██████▋   | 167/250 [01:17<01:10,  1.18it/s]\u001b[A\u001b[A\n",
            "\n",
            " 67%|██████▋   | 168/250 [01:17<01:05,  1.25it/s]\u001b[A\u001b[A\n",
            "\n",
            " 68%|██████▊   | 169/250 [01:18<00:48,  1.66it/s]\u001b[A\u001b[A\n",
            "\n",
            " 68%|██████▊   | 170/250 [01:19<00:56,  1.41it/s]\u001b[A\u001b[A\n",
            "\n",
            " 68%|██████▊   | 171/250 [01:20<01:09,  1.14it/s]\u001b[A\u001b[A\n",
            "\n",
            " 69%|██████▉   | 172/250 [01:21<01:08,  1.15it/s]\u001b[A\u001b[A\n",
            "\n",
            " 69%|██████▉   | 173/250 [01:22<01:07,  1.15it/s]\u001b[A\u001b[A\n",
            "\n",
            " 70%|██████▉   | 174/250 [01:22<01:03,  1.20it/s]\u001b[A\u001b[A\n",
            "\n",
            " 70%|███████   | 175/250 [01:23<00:58,  1.29it/s]\u001b[A\u001b[A\n",
            "\n",
            " 70%|███████   | 176/250 [01:23<00:48,  1.53it/s]\u001b[A\u001b[A\n",
            "\n",
            " 71%|███████   | 177/250 [01:24<00:43,  1.67it/s]\u001b[A\u001b[A\n",
            "\n",
            " 71%|███████   | 178/250 [01:24<00:42,  1.70it/s]\u001b[A\u001b[A\n",
            "\n",
            " 72%|███████▏  | 179/250 [01:25<00:41,  1.71it/s]\u001b[A\u001b[A\n",
            "\n",
            " 72%|███████▏  | 180/250 [01:25<00:36,  1.90it/s]\u001b[A\u001b[A\n",
            "\n",
            " 72%|███████▏  | 181/250 [01:26<00:33,  2.08it/s]\u001b[A\u001b[A\n",
            "\n",
            " 73%|███████▎  | 182/250 [01:26<00:37,  1.81it/s]\u001b[A\u001b[A\n",
            "\n",
            " 73%|███████▎  | 183/250 [01:27<00:30,  2.22it/s]\u001b[A\u001b[A\n",
            "\n",
            " 74%|███████▎  | 184/250 [01:27<00:32,  2.04it/s]\u001b[A\u001b[A\n",
            "\n",
            " 74%|███████▍  | 185/250 [01:28<00:28,  2.26it/s]\u001b[A\u001b[A\n",
            "\n",
            " 74%|███████▍  | 186/250 [01:28<00:29,  2.14it/s]\u001b[A\u001b[A\n",
            "\n",
            " 75%|███████▍  | 187/250 [01:29<00:30,  2.07it/s]\u001b[A\u001b[A\n",
            "\n",
            " 76%|███████▌  | 189/250 [01:29<00:24,  2.50it/s]\u001b[A\u001b[A\n",
            "\n",
            " 76%|███████▌  | 190/250 [01:29<00:21,  2.76it/s]\u001b[A\u001b[A\n",
            "\n",
            " 76%|███████▋  | 191/250 [01:30<00:23,  2.56it/s]\u001b[A\u001b[A\n",
            "\n",
            " 77%|███████▋  | 192/250 [01:30<00:23,  2.45it/s]\u001b[A\u001b[A\n",
            "\n",
            " 77%|███████▋  | 193/250 [01:31<00:25,  2.22it/s]\u001b[A\u001b[A\n",
            "\n",
            " 78%|███████▊  | 194/250 [01:32<00:27,  2.04it/s]\u001b[A\u001b[A\n",
            "\n",
            " 78%|███████▊  | 195/250 [01:32<00:22,  2.47it/s]\u001b[A\u001b[A\n",
            "\n",
            " 78%|███████▊  | 196/250 [01:32<00:19,  2.77it/s]\u001b[A\u001b[A\n",
            "\n",
            " 79%|███████▉  | 197/250 [01:32<00:21,  2.49it/s]\u001b[A\u001b[A\n",
            "\n",
            " 79%|███████▉  | 198/250 [01:33<00:21,  2.40it/s]\u001b[A\u001b[A\n",
            "\n",
            " 80%|███████▉  | 199/250 [01:33<00:23,  2.16it/s]\u001b[A\u001b[A\n",
            "\n",
            " 80%|████████  | 200/250 [01:34<00:30,  1.63it/s]\u001b[A\u001b[A\n",
            "\n",
            " 80%|████████  | 201/250 [01:35<00:31,  1.56it/s]\u001b[A\u001b[A\n",
            "\n",
            " 81%|████████  | 202/250 [01:36<00:34,  1.39it/s]\u001b[A\u001b[A\n",
            "\n",
            " 81%|████████  | 203/250 [01:37<00:32,  1.46it/s]\u001b[A\u001b[A\n",
            "\n",
            " 82%|████████▏ | 204/250 [01:37<00:33,  1.39it/s]\u001b[A\u001b[A\n",
            "\n",
            " 82%|████████▏ | 205/250 [01:38<00:27,  1.64it/s]\u001b[A\u001b[A\n",
            "\n",
            " 82%|████████▏ | 206/250 [01:38<00:24,  1.80it/s]\u001b[A\u001b[A\n",
            "\n",
            " 83%|████████▎ | 207/250 [01:39<00:27,  1.58it/s]\u001b[A\u001b[A\n",
            "\n",
            " 83%|████████▎ | 208/250 [01:40<00:32,  1.31it/s]\u001b[A\u001b[A\n",
            "\n",
            " 84%|████████▎ | 209/250 [01:41<00:32,  1.25it/s]\u001b[A\u001b[A\n",
            "\n",
            " 84%|████████▍ | 210/250 [01:42<00:31,  1.26it/s]\u001b[A\u001b[A\n",
            "\n",
            " 84%|████████▍ | 211/250 [01:42<00:28,  1.38it/s]\u001b[A\u001b[A\n",
            "\n",
            " 85%|████████▍ | 212/250 [01:43<00:26,  1.41it/s]\u001b[A\u001b[A\n",
            "\n",
            " 85%|████████▌ | 213/250 [01:44<00:27,  1.34it/s]\u001b[A\u001b[A\n",
            "\n",
            " 86%|████████▌ | 214/250 [01:44<00:23,  1.53it/s]\u001b[A\u001b[A\n",
            "\n",
            " 86%|████████▌ | 215/250 [01:45<00:19,  1.80it/s]\u001b[A\u001b[A\n",
            "\n",
            " 86%|████████▋ | 216/250 [01:45<00:14,  2.32it/s]\u001b[A\u001b[A\n",
            "\n",
            " 87%|████████▋ | 217/250 [01:45<00:12,  2.67it/s]\u001b[A\u001b[A\n",
            "\n",
            " 87%|████████▋ | 218/250 [01:45<00:09,  3.40it/s]\u001b[A\u001b[A\n",
            "\n",
            " 88%|████████▊ | 219/250 [01:46<00:10,  2.86it/s]\u001b[A\u001b[A\n",
            "\n",
            " 88%|████████▊ | 220/250 [01:46<00:13,  2.18it/s]\u001b[A\u001b[A\n",
            "\n",
            " 88%|████████▊ | 221/250 [01:47<00:14,  2.06it/s]\u001b[A\u001b[A\n",
            "\n",
            " 89%|████████▉ | 222/250 [01:47<00:11,  2.44it/s]\u001b[A\u001b[A\n",
            "\n",
            " 89%|████████▉ | 223/250 [01:47<00:10,  2.48it/s]\u001b[A\u001b[A\n",
            "\n",
            " 90%|████████▉ | 224/250 [01:48<00:11,  2.26it/s]\u001b[A\u001b[A\n",
            "\n",
            " 90%|█████████ | 225/250 [01:48<00:11,  2.23it/s]\u001b[A\u001b[A\n",
            "\n",
            " 90%|█████████ | 226/250 [01:49<00:11,  2.04it/s]\u001b[A\u001b[A\n",
            "\n",
            " 91%|█████████ | 227/250 [01:50<00:12,  1.88it/s]\u001b[A\u001b[A\n",
            "\n",
            " 91%|█████████ | 228/250 [01:50<00:11,  1.86it/s]\u001b[A\u001b[A\n",
            "\n",
            " 92%|█████████▏| 229/250 [01:51<00:14,  1.45it/s]\u001b[A\u001b[A\n",
            "\n",
            " 92%|█████████▏| 230/250 [01:52<00:14,  1.34it/s]\u001b[A\u001b[A\n",
            "\n",
            " 92%|█████████▏| 231/250 [01:53<00:12,  1.50it/s]\u001b[A\u001b[A\n",
            "\n",
            " 93%|█████████▎| 233/250 [01:53<00:08,  2.08it/s]\u001b[A\u001b[A\n",
            "\n",
            " 94%|█████████▎| 234/250 [01:54<00:07,  2.11it/s]\u001b[A\u001b[A\n",
            "\n",
            " 94%|█████████▍| 235/250 [01:55<00:11,  1.32it/s]\u001b[A\u001b[A\n",
            "\n",
            " 94%|█████████▍| 236/250 [01:56<00:12,  1.13it/s]\u001b[A\u001b[A\n",
            "\n",
            " 95%|█████████▍| 237/250 [01:57<00:09,  1.39it/s]\u001b[A\u001b[A\n",
            "\n",
            " 95%|█████████▌| 238/250 [01:57<00:06,  1.73it/s]\u001b[A\u001b[A\n",
            "\n",
            " 96%|█████████▌| 239/250 [01:57<00:05,  2.09it/s]\u001b[A\u001b[A\n",
            "\n",
            " 96%|█████████▌| 240/250 [01:58<00:05,  1.98it/s]\u001b[A\u001b[A\n",
            "\n",
            " 96%|█████████▋| 241/250 [01:58<00:04,  2.05it/s]\u001b[A\u001b[A\n",
            "\n",
            " 97%|█████████▋| 242/250 [01:59<00:03,  2.16it/s]\u001b[A\u001b[A\n",
            "\n",
            " 97%|█████████▋| 243/250 [01:59<00:03,  2.22it/s]\u001b[A\u001b[A\n",
            "\n",
            " 98%|█████████▊| 244/250 [01:59<00:02,  2.82it/s]\u001b[A\u001b[A\n",
            "\n",
            " 98%|█████████▊| 245/250 [02:00<00:01,  2.75it/s]\u001b[A\u001b[A\n",
            "\n",
            " 98%|█████████▊| 246/250 [02:00<00:01,  2.66it/s]\u001b[A\u001b[A\n",
            "\n",
            " 99%|█████████▉| 247/250 [02:00<00:01,  2.73it/s]\u001b[A\u001b[A\n",
            "\n",
            " 99%|█████████▉| 248/250 [02:01<00:00,  2.42it/s]\u001b[A\u001b[A\n",
            "\n",
            "100%|█████████▉| 249/250 [02:01<00:00,  2.47it/s]\u001b[A\u001b[A\n",
            "\n",
            "100%|██████████| 250/250 [02:01<00:00,  2.05it/s]\n"
          ]
        }
      ]
    },
    {
      "cell_type": "code",
      "source": [
        "entity_pairs[10:20]"
      ],
      "metadata": {
        "id": "r3MHnTxm2w8S",
        "colab": {
          "base_uri": "https://localhost:8080/"
        },
        "outputId": "a13ed38e-b924-435d-ed6b-43db8315ec08"
      },
      "execution_count": 99,
      "outputs": [
        {
          "output_type": "execute_result",
          "data": {
            "text/plain": [
              "[['social media site', 'specific confusion entity'],\n",
              " ['specific information entity', 'theoretical entity analysis'],\n",
              " ['phishing', 'phishing IT security website'],\n",
              " ['theoretical link research hypothesis', 'hypothesis'],\n",
              " ['topic', 'sector government sector domain'],\n",
              " ['theoretical model model element', 'qualitative entity research interview'],\n",
              " ['specific  entity', 'conceptual simulation system dynamics'],\n",
              " ['distributed system peer', 'distributed peer model'],\n",
              " ['specific resource management entity', 'IT workforce'],\n",
              " ['theoretical model model element', 'specific  entity']]"
            ]
          },
          "metadata": {},
          "execution_count": 99
        }
      ]
    },
    {
      "cell_type": "code",
      "source": [
        "def get_relation(sent):\n",
        "\n",
        "  doc = nlp(sent)\n",
        "\n",
        "  # Matcher class object \n",
        "  matcher = Matcher(nlp.vocab)\n",
        "\n",
        "  #define the pattern \n",
        "  pattern = [{'DEP':'ROOT'}, \n",
        "            {'DEP':'prep','OP':\"?\"},\n",
        "            {'DEP':'agent','OP':\"?\"},  \n",
        "            {'POS':'ADJ','OP':\"?\"}] \n",
        "\n",
        "  matcher.add(\"matching_1\", None, pattern) \n",
        "\n",
        "  matches = matcher(doc)\n",
        "  k = len(matches) - 1\n",
        "\n",
        "  span = doc[matches[k][1]:matches[k][2]] \n",
        "\n",
        "  return(span.text)"
      ],
      "metadata": {
        "id": "p37d3aKO3BLo"
      },
      "execution_count": 92,
      "outputs": []
    },
    {
      "cell_type": "code",
      "source": [
        "df_final_1[\"group\"][0]"
      ],
      "metadata": {
        "colab": {
          "base_uri": "https://localhost:8080/",
          "height": 143
        },
        "id": "5QZJyjz2irpf",
        "outputId": "75cd3941-c629-48a3-98a8-a753b5854282"
      },
      "execution_count": 106,
      "outputs": [
        {
          "output_type": "execute_result",
          "data": {
            "text/plain": [
              "' domain specific entity IS topic knowledge management knowledge repository domain specific entity IS topic digital economy digital business digital platform domain specific entity IS technology enterprise information system operational information system enterprise resource planning ERP software package Salesforce com domain specific entity IS topic systems development system development method human centered design participatory design domain specific entity study object participant group participant domain specific entity IS topic systems development system development method human centered design participatory design domain specific entity IS technology digital media social media blog domain specific entity IS technology digital media social media blog domain specific entity IS technology digital media social media online community domain specific entity IS technology digital media social media social media site Reddit domain specific entity IS technology digital media social media online community theoretical entity model model element model link research hypothesis theoretical entity theory economic theory social exchange theory theoretical entity model model element model link research hypothesis domain specific entity study object participant group participant domain specific entity study object participant individual participant domain specific entity study object participant individual participant methodological entity research method conceptual method literature study theoretical entity theory economic theory social exchange theory theoretical entity theory economic theory social exchange theory theoretical entity theory economic theory social exchange theory domain specific entity IS technology digital media social media online community domain specific entity IS topic intellectual property software protection software license open source domain specific entity study object participant individual participant domain specific entity IS technology digital media social media online community theoretical entity model model element model link research hypothesis theoretical entity theory economic theory social exchange theory methodological entity research method conceptual method conceptual modelling theoretical entity theory economic theory social exchange theory domain specific entity IS topic knowledge management knowledge type explicit knowledge domain specific entity IS topic knowledge management knowledge sharing theoretical entity theory economic theory social exchange theory domain specific entity IS topic knowledge management knowledge sharing methodological entity research method conceptual method literature study domain specific entity IS technology digital media social media blog domain specific entity IS topic knowledge management knowledge acquisition domain specific entity IS topic knowledge management knowledge sharing theoretical entity model model element model link research hypothesis theoretical entity model model element model link research hypothesis numbered hypothesis domain specific entity IS technology digital media social media blog theoretical entity theory economic theory social exchange theory domain specific entity IS topic knowledge management knowledge sharing domain specific entity IS technology electronic business online marketing online word of mouth online review theoretical entity model model element model link research hypothesis theoretical entity model model element model link research hypothesis numbered hypothesis methodological entity research method data collection method domain specific entity IS topic IS evaluation evaluation criteria IS evaluation criteria IS impact organizational impact competitive advantage domain specific entity study object participant individual participant domain specific entity IS technology digital media social media online community methodological entity research method data collection method empirical qualitative method qualitative interview domain specific entity IS topic IS evaluation evaluation criteria IS evaluation criteria productivity methodological entity research method data collection method methodological entity research method data collection method domain specific entity study object participant individual participant domain specific entity study object participant individual participant methodological entity data analysis method quantitative analysis quantitative analysis tool SPSS methodological entity research method data collection method theoretical entity model model element variable independent variable theoretical entity model model element variable dependent variable methodological entity statistical metric descriptive statistic score measure of central tendency mean value theoretical entity model model element variable control variable theoretical entity model model element variable control variable theoretical entity model model element variable control variable theoretical entity model model element variable control variable theoretical entity model model element variable control variable domain specific entity IS topic knowledge management boundary spanning theoretical entity model model element variable control variable methodological entity research method data collection method time horizon of research longitudinal research methodological entity research method data collection method time horizon of research longitudinal research methodological entity research method data collection method time horizon of research longitudinal research methodological entity data analysis method quantitative analysis statistical hypothesis test theoretical entity model model element variable dependent variable theoretical entity model model element variable control variable theoretical entity model model element variable dependent variable theoretical entity model model element variable control variable theoretical entity model model element variable control variable theoretical entity model model element variable dependent variable theoretical entity model model element variable dependent variable domain specific entity IS technology digital media social media online community domain specific entity study object participant group participant domain specific entity study object participant group participant theoretical entity model framework theoretical entity model framework domain specific entity study object participant methodological entity statistical metric quantitative confidence value p value methodological entity statistical metric quantitative confidence value p value methodological entity statistical metric quantitative confidence value p value methodological entity data analysis method quantitative analysis descriptive statistic methodological entity statistical metric quantitative confidence value p value methodological entity statistical metric standardized regression coefficient methodological entity statistical metric quantitative confidence value p value methodological entity data analysis method quantitative analysis machine learning machine learning application natural language processing NLP tool NLP application document generation methodological entity statistical metric quantitative confidence value p value methodological entity data analysis method quantitative analysis machine learning machine learning application natural language processing NLP tool NLP application document generation theoretical entity model model element model link research hypothesis numbered hypothesis theoretical entity model model element variable control variable methodological entity statistical metric standardized regression coefficient methodological entity statistical metric quantitative confidence value p value theoretical entity model model element model link research hypothesis numbered hypothesis methodological entity statistical metric quantitative confidence value p value methodological entity statistical metric quantitative confidence value p value methodological entity research method data collection method research stage future research domain specific entity IS technology information technology infrastructure programming language source code domain specific entity IS technology information technology infrastructure programming language source code domain specific entity IS topic intellectual property software protection software license open source domain specific entity IS topic societal context organizational context business topic business model domain specific entity IS topic knowledge management knowledge creation methodological entity research method data collection method research stage future research domain specific entity IS topic knowledge management knowledge sharing domain specific entity IS technology enterprise information system operational information system enterprise resource planning ERP software package Salesforce com methodological entity research method conceptual method conceptual modelling methodological entity statistical metric quantitative confidence value p value methodological entity statistical metric quantitative confidence value p value methodological entity statistical metric quantitative confidence value p value domain specific entity IS technology digital media social media online community domain specific entity IS technology enterprise information system operational information system enterprise resource planning ERP software package Salesforce com domain specific entity IS technology digital media social media blog domain specific entity study object participant domain specific entity IS topic digital economy digital business digital product methodological entity data analysis method quantitative analysis descriptive statistic domain specific entity study object participant theoretical entity model model element research question domain specific entity IS technology enterprise information system analytical information system theoretical entity model framework domain specific entity IS technology domain specific entity IS topic systems development system development method human centered design participatory design domain specific entity IS technology enterprise information system knowledge management system domain specific entity IS technology domain specific entity IS technology enterprise information system knowledge management system '"
            ],
            "application/vnd.google.colaboratory.intrinsic+json": {
              "type": "string"
            }
          },
          "metadata": {},
          "execution_count": 106
        }
      ]
    },
    {
      "cell_type": "code",
      "source": [
        "relations = [get_relation(i) for i in tqdm(df_final_1[\"group\"])]"
      ],
      "metadata": {
        "id": "IUO0pQMd3Crn",
        "colab": {
          "base_uri": "https://localhost:8080/",
          "height": 264
        },
        "outputId": "5db0b9ec-68a5-436d-b5c0-36ea824225e3"
      },
      "execution_count": 95,
      "outputs": [
        {
          "output_type": "stream",
          "name": "stderr",
          "text": [
            "\n",
            "  0%|          | 0/200 [00:00<?, ?it/s]\u001b[A"
          ]
        },
        {
          "output_type": "error",
          "ename": "TypeError",
          "evalue": "ignored",
          "traceback": [
            "\u001b[0;31m---------------------------------------------------------------------------\u001b[0m",
            "\u001b[0;31mTypeError\u001b[0m                                 Traceback (most recent call last)",
            "\u001b[0;32m<ipython-input-95-b32e5b8dc496>\u001b[0m in \u001b[0;36m<module>\u001b[0;34m()\u001b[0m\n\u001b[0;32m----> 1\u001b[0;31m \u001b[0mrelations\u001b[0m \u001b[0;34m=\u001b[0m \u001b[0;34m[\u001b[0m\u001b[0mget_relation\u001b[0m\u001b[0;34m(\u001b[0m\u001b[0mi\u001b[0m\u001b[0;34m)\u001b[0m \u001b[0;32mfor\u001b[0m \u001b[0mi\u001b[0m \u001b[0;32min\u001b[0m \u001b[0mtqdm\u001b[0m\u001b[0;34m(\u001b[0m\u001b[0mdf_final_1\u001b[0m\u001b[0;34m[\u001b[0m\u001b[0;34m\"group\"\u001b[0m\u001b[0;34m]\u001b[0m\u001b[0;34m)\u001b[0m\u001b[0;34m]\u001b[0m\u001b[0;34m\u001b[0m\u001b[0;34m\u001b[0m\u001b[0m\n\u001b[0m",
            "\u001b[0;32m<ipython-input-95-b32e5b8dc496>\u001b[0m in \u001b[0;36m<listcomp>\u001b[0;34m(.0)\u001b[0m\n\u001b[0;32m----> 1\u001b[0;31m \u001b[0mrelations\u001b[0m \u001b[0;34m=\u001b[0m \u001b[0;34m[\u001b[0m\u001b[0mget_relation\u001b[0m\u001b[0;34m(\u001b[0m\u001b[0mi\u001b[0m\u001b[0;34m)\u001b[0m \u001b[0;32mfor\u001b[0m \u001b[0mi\u001b[0m \u001b[0;32min\u001b[0m \u001b[0mtqdm\u001b[0m\u001b[0;34m(\u001b[0m\u001b[0mdf_final_1\u001b[0m\u001b[0;34m[\u001b[0m\u001b[0;34m\"group\"\u001b[0m\u001b[0;34m]\u001b[0m\u001b[0;34m)\u001b[0m\u001b[0;34m]\u001b[0m\u001b[0;34m\u001b[0m\u001b[0;34m\u001b[0m\u001b[0m\n\u001b[0m",
            "\u001b[0;32m<ipython-input-92-8a93c4d2954e>\u001b[0m in \u001b[0;36mget_relation\u001b[0;34m(sent)\u001b[0m\n\u001b[1;32m     12\u001b[0m             {'POS':'ADJ','OP':\"?\"}] \n\u001b[1;32m     13\u001b[0m \u001b[0;34m\u001b[0m\u001b[0m\n\u001b[0;32m---> 14\u001b[0;31m   \u001b[0mmatcher\u001b[0m\u001b[0;34m.\u001b[0m\u001b[0madd\u001b[0m\u001b[0;34m(\u001b[0m\u001b[0;34m\"matching_1\"\u001b[0m\u001b[0;34m,\u001b[0m \u001b[0;32mNone\u001b[0m\u001b[0;34m,\u001b[0m \u001b[0mpattern\u001b[0m\u001b[0;34m)\u001b[0m\u001b[0;34m\u001b[0m\u001b[0;34m\u001b[0m\u001b[0m\n\u001b[0m\u001b[1;32m     15\u001b[0m \u001b[0;34m\u001b[0m\u001b[0m\n\u001b[1;32m     16\u001b[0m   \u001b[0mmatches\u001b[0m \u001b[0;34m=\u001b[0m \u001b[0mmatcher\u001b[0m\u001b[0;34m(\u001b[0m\u001b[0mdoc\u001b[0m\u001b[0;34m)\u001b[0m\u001b[0;34m\u001b[0m\u001b[0;34m\u001b[0m\u001b[0m\n",
            "\u001b[0;32m/usr/local/lib/python3.7/dist-packages/spacy/matcher/matcher.pyx\u001b[0m in \u001b[0;36mspacy.matcher.matcher.Matcher.add\u001b[0;34m()\u001b[0m\n",
            "\u001b[0;31mTypeError\u001b[0m: add() takes exactly 2 positional arguments (3 given)"
          ]
        }
      ]
    },
    {
      "cell_type": "code",
      "source": [
        "pd.Series(relations).value_counts()[:50]"
      ],
      "metadata": {
        "id": "UMnFODkj4dJd",
        "colab": {
          "base_uri": "https://localhost:8080/",
          "height": 169
        },
        "outputId": "cd4a75c7-0be5-4eec-fa96-20815443a146"
      },
      "execution_count": 83,
      "outputs": [
        {
          "output_type": "error",
          "ename": "NameError",
          "evalue": "ignored",
          "traceback": [
            "\u001b[0;31m---------------------------------------------------------------------------\u001b[0m",
            "\u001b[0;31mNameError\u001b[0m                                 Traceback (most recent call last)",
            "\u001b[0;32m<ipython-input-83-f205dc213a71>\u001b[0m in \u001b[0;36m<module>\u001b[0;34m()\u001b[0m\n\u001b[0;32m----> 1\u001b[0;31m \u001b[0mpd\u001b[0m\u001b[0;34m.\u001b[0m\u001b[0mSeries\u001b[0m\u001b[0;34m(\u001b[0m\u001b[0mrelations\u001b[0m\u001b[0;34m)\u001b[0m\u001b[0;34m.\u001b[0m\u001b[0mvalue_counts\u001b[0m\u001b[0;34m(\u001b[0m\u001b[0;34m)\u001b[0m\u001b[0;34m[\u001b[0m\u001b[0;34m:\u001b[0m\u001b[0;36m50\u001b[0m\u001b[0;34m]\u001b[0m\u001b[0;34m\u001b[0m\u001b[0;34m\u001b[0m\u001b[0m\n\u001b[0m",
            "\u001b[0;31mNameError\u001b[0m: name 'relations' is not defined"
          ]
        }
      ]
    },
    {
      "cell_type": "code",
      "source": [
        "# extract subject\n",
        "source = [i[0] for i in entity_pairs]\n",
        "\n",
        "# extract object\n",
        "target = [i[1] for i in entity_pairs]\n",
        "\n",
        "kg_df = pd.DataFrame({'source':source, 'target':target, 'edge':relations})"
      ],
      "metadata": {
        "id": "yE3gJpZp3dzD",
        "colab": {
          "base_uri": "https://localhost:8080/",
          "height": 204
        },
        "outputId": "df256c92-6363-4a6c-b7ba-0e378fdcec21"
      },
      "execution_count": 89,
      "outputs": [
        {
          "output_type": "error",
          "ename": "NameError",
          "evalue": "ignored",
          "traceback": [
            "\u001b[0;31m---------------------------------------------------------------------------\u001b[0m",
            "\u001b[0;31mNameError\u001b[0m                                 Traceback (most recent call last)",
            "\u001b[0;32m<ipython-input-89-acabd7bd602f>\u001b[0m in \u001b[0;36m<module>\u001b[0;34m()\u001b[0m\n\u001b[1;32m      5\u001b[0m \u001b[0mtarget\u001b[0m \u001b[0;34m=\u001b[0m \u001b[0;34m[\u001b[0m\u001b[0mi\u001b[0m\u001b[0;34m[\u001b[0m\u001b[0;36m1\u001b[0m\u001b[0;34m]\u001b[0m \u001b[0;32mfor\u001b[0m \u001b[0mi\u001b[0m \u001b[0;32min\u001b[0m \u001b[0mentity_pairs\u001b[0m\u001b[0;34m]\u001b[0m\u001b[0;34m\u001b[0m\u001b[0;34m\u001b[0m\u001b[0m\n\u001b[1;32m      6\u001b[0m \u001b[0;34m\u001b[0m\u001b[0m\n\u001b[0;32m----> 7\u001b[0;31m \u001b[0mkg_df\u001b[0m \u001b[0;34m=\u001b[0m \u001b[0mpd\u001b[0m\u001b[0;34m.\u001b[0m\u001b[0mDataFrame\u001b[0m\u001b[0;34m(\u001b[0m\u001b[0;34m{\u001b[0m\u001b[0;34m'source'\u001b[0m\u001b[0;34m:\u001b[0m\u001b[0msource\u001b[0m\u001b[0;34m,\u001b[0m \u001b[0;34m'target'\u001b[0m\u001b[0;34m:\u001b[0m\u001b[0mtarget\u001b[0m\u001b[0;34m,\u001b[0m \u001b[0;34m'edge'\u001b[0m\u001b[0;34m:\u001b[0m\u001b[0mrelations\u001b[0m\u001b[0;34m}\u001b[0m\u001b[0;34m)\u001b[0m\u001b[0;34m\u001b[0m\u001b[0;34m\u001b[0m\u001b[0m\n\u001b[0m",
            "\u001b[0;31mNameError\u001b[0m: name 'relations' is not defined"
          ]
        }
      ]
    },
    {
      "cell_type": "code",
      "source": [
        "# create a directed-graph from a dataframe\n",
        "G=nx.from_pandas_edgelist(kg_df, \"source\", \"target\", \n",
        "                          edge_attr=True, create_using=nx.MultiDiGraph())"
      ],
      "metadata": {
        "id": "cP3GgoMQ3jNr"
      },
      "execution_count": null,
      "outputs": []
    },
    {
      "cell_type": "code",
      "source": [
        "plt.figure(figsize=(12,12))\n",
        "\n",
        "pos = nx.spring_layout(G)\n",
        "nx.draw(G, with_labels=True, node_color='skyblue', edge_cmap=plt.cm.Blues, pos = pos)\n",
        "plt.show()"
      ],
      "metadata": {
        "id": "_FRDLpGk3lOC"
      },
      "execution_count": null,
      "outputs": []
    },
    {
      "cell_type": "code",
      "source": [
        "G=nx.from_pandas_edgelist(kg_df[kg_df['edge']==\"IS topic\"], \"source\", \"target\", \n",
        "                          edge_attr=True, create_using=nx.MultiDiGraph())\n",
        "\n",
        "plt.figure(figsize=(12,12))\n",
        "pos = nx.spring_layout(G, k = 0.2) # k regulates the distance between nodes\n",
        "nx.draw(G, with_labels=True, node_color='skyblue', node_size=1500, edge_cmap=plt.cm.Blues, pos = pos)\n",
        "plt.show()"
      ],
      "metadata": {
        "id": "7_9MSAj73tju"
      },
      "execution_count": null,
      "outputs": []
    },
    {
      "cell_type": "code",
      "source": [
        "G=nx.from_pandas_edgelist(kg_df[kg_df['edge']==\"numbered\"], \"source\", \"target\", \n",
        "                          edge_attr=True, create_using=nx.MultiDiGraph())\n",
        "\n",
        "plt.figure(figsize=(12,12))\n",
        "pos = nx.spring_layout(G, k = 0.2) # k regulates the distance between nodes\n",
        "nx.draw(G, with_labels=True, node_color='skyblue', node_size=1500, edge_cmap=plt.cm.Blues, pos = pos)\n",
        "plt.show()"
      ],
      "metadata": {
        "id": "zHrI2OBkIPKe"
      },
      "execution_count": null,
      "outputs": []
    }
  ]
}