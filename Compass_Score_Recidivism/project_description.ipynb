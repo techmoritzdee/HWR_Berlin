{
 "cells": [
  {
   "cell_type": "markdown",
   "metadata": {
    "jp-MarkdownHeadingCollapsed": true,
    "tags": []
   },
   "source": [
    "# Project, Data Science 2021\n",
    "\n",
    "## Overview\n",
    "\n",
    "The goal of this project is to take your first dive into **interpretable ML**.\n",
    "As would be the case for most industrial projects with companies, your expertise at this point is not quite sufficient and part of your job is to get up to speed with new concepts and code.\n",
    "So, as a first step I recommend the following \n",
    "\n",
    "* Understand the basic idea of L1/L2 regression, boosting and random forests: read chapters 6.2 and 8.2.1-8.2.3 in our ISLR text book.\n",
    "* Imbibe the basic tools of model interpretation such as partial dependence plots, permutation importance and SHAP values: read 5.1, 5.5, 5.9-5.10 in the [Interpretable ML Book](https://christophm.github.io/interpretable-ml-book/).\n",
    "\n",
    "The data set I want you to tackle comes from this [ProPublica repository](https://github.com/propublica/compas-analysis), so please read the accompanying [article](https://www.propublica.org/article/how-we-analyzed-the-compas-recidivism-algorithm) and explore the notebook (even though parts of it are in R). \n",
    "\n",
    "I want you to focus only on the following models \n",
    "\n",
    "* (regularized or not) linear models \n",
    "* boosting\n",
    "* random forests\n",
    "\n",
    "Note that the focus is not just prediction. \n",
    "You will be graded on 4 aspects of the \"modeling journey\", all of which are typically equally valuable when you deliver a data science task to a company:\n",
    "\n",
    "1. **Modeling Diligence**: this includes data preprocessing, dealing with mising values and categorial variables, feature engineering, choosing appropriate tools (e.g. cross validation), general creativity, ...\n",
    "2. **Performance**: using an appropriate loss function on a test set defined below. Note that -given similar performance- \"less complex\" models (either in number of features or tree depth or ...) are judged to be more interpretable.\n",
    "3. **Explaining predictions**, both globally (e.g. permutation importance) and case-by-case via SHAP values.\n",
    "4. **Story Telling** via compelling graphs (e.g. PDPs or interaction SHAP plots) and \"cherry picked\" examples of e.g. local explanations which either make perfect sense or might violate intuition.\n",
    "\n",
    "You can choose from one or more of four (2 times 2) prediction tasks:  direct and indirect modelling of recidivism, distinguishing between recidivism and violent recidivism.\n",
    "\n",
    "* classification task\n",
    "    * predict recidivism\n",
    "    * predict violent recidivism\n",
    "* regression task\n",
    "    * predict COMPAS scores for recidivism\n",
    "    * predict COMPAS scores for violent recidivism\n",
    "\n",
    "\n",
    "As I do not want to stifle your creativity and leave you lots of room for your own ideas, I am not going to specify the deliverables much more than the following:\n",
    "\n",
    "- You will have to present your findings as a group sometime early February.\n",
    "- In addition you need to prepare a report which could be just a Jupyter notebook with a sufficient amount of text.\n",
    "\n",
    "At the very least, I would like you to (i) reproduce some of the original claims from the ProPublica article as well the Washington Post 1 article below, (ii) find a tree based model with equal or better performance to the linear regression and (iii) explore the connections between the local and global \"explanations\" from the machine learning model with the multiple linear regression. \n",
    "\n",
    "For inspiration and guidance,you might want to read the following stories/analysis:\n",
    "\n",
    "* [Washington Post 1](https://www.washingtonpost.com/news/monkey-cage/wp/2016/10/17/can-an-algorithm-be-racist-our-analysis-is-more-cautious-than-propublicas/)\n",
    "* [Washington Post 2](https://www.washingtonpost.com/politics/2020/03/02/us-criminal-justice-system-algorithms-do-help-officials-make-better-decisions-our-research-finds/)\n",
    "* [XAI Stories](https://pbiecek.github.io/xai_stories/story-compas.html)\n",
    "* [fivethirtyeight](https://fivethirtyeight.com/features/prison-reform-risk-assessment/)\n",
    "\n",
    "Note: The last article is VERY long and less directly relevant, but interesting nevertheless.\n",
    "\n",
    "\n",
    "Also: if you have *computational resources issues*, i.e. if kaggle notebooks or google colab or MS azure turn out to be too slow or too buggy, we will attempt to give you access to our university server zeno.\n",
    "\n"
   ]
  },
  {
   "cell_type": "markdown",
   "metadata": {},
   "source": [
    "## Overfitting\n",
    "\n",
    "Make sure that you explicitly avoid overfitting your models by adapting strategies from class (e.g. cross validation)."
   ]
  },
  {
   "cell_type": "markdown",
   "metadata": {},
   "source": [
    "## Team Work guidelines\n",
    "\n",
    "* Make sure each team member is contributing, both in terms of quality and quantity of contribution\n",
    "* You are to complete the assignment as a team. All team members are expected to contribute equally to the completion of this assignment and team evaluations will be given at its completion - anyone judged to not have sufficient contributed to the final product will have their grade penalized. While different teams members may have different backgrounds and abilities, it is the responsibility of every team member to understand how and why all code and approaches in the assignment works.\n",
    "\n",
    "* Team peer evaluation: You will be asked to fill out a survey where you rate the contribution and teamwork of each team member out of 10 points. You will additionally report a contribution percentage for each team member. Filling out the survey is a prerequisite for getting credit on the team member evaluation.If you are suggesting that an individual did less than $1/K$ (K= group size) of the work, please provide some explanation. If any individual gets an average peer score indicating that they did less than 10% of the work, this person will receive half the grade of the rest of the group.\n"
   ]
  },
  {
   "cell_type": "markdown",
   "metadata": {},
   "source": [
    "## Grading\n",
    "\n",
    "There is a document on moodle (Assessment-Scheme-for-Group-Presentations_Projects.pdf) which explains the evaluation metric in detail. (Note that some of the finer presentation points might not be applicable to online presentations.)"
   ]
  },
  {
   "cell_type": "code",
   "execution_count": null,
   "metadata": {},
   "outputs": [],
   "source": []
  }
 ],
 "metadata": {
  "kernelspec": {
   "display_name": "Python 3 (ipykernel)",
   "language": "python",
   "name": "python3"
  },
  "language_info": {
   "codemirror_mode": {
    "name": "ipython",
    "version": 3
   },
   "file_extension": ".py",
   "mimetype": "text/x-python",
   "name": "python",
   "nbconvert_exporter": "python",
   "pygments_lexer": "ipython3",
   "version": "3.8.12"
  }
 },
 "nbformat": 4,
 "nbformat_minor": 4
}
